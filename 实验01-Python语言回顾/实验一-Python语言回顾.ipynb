{
 "cells": [
  {
   "cell_type": "markdown",
   "metadata": {},
   "source": [
    "# 实验一：Python语言回顾"
   ]
  },
  {
   "cell_type": "markdown",
   "metadata": {},
   "source": [
    "<table style=\"margin: 0 auto; width: 30%; border-collapse: collapse; border: 1px solid black;\" data-id=\"student-info\">  \n",
    "    <colgroup>  \n",
    "        <col style=\"width: 35%;\">  \n",
    "        <col style=\"width: 65%;\">  \n",
    "    </colgroup>  \n",
    "    <tr>  \n",
    "        <td style=\"border: 1px solid black;\">班级</td> <td style=\"border: 1px solid black;\">24智能</td>  \n",
    "    </tr>  \n",
    "    <tr>  \n",
    "        <td style=\"border: 1px solid black;\">学号</td> <td style=\"border: 1px solid black;\">未填写</td>  \n",
    "    </tr>  \n",
    "    <tr>  \n",
    "        <td style=\"border: 1px solid black;\">姓名</td> <td style=\"border: 1px solid black;\">未填写</td>  \n",
    "    </tr>  \n",
    "    <tr>  \n",
    "        <td style=\"border: 1px solid black;\">Email</td> <td style=\"border: 1px solid black;\">未填写</td>  \n",
    "    </tr>  \n",
    "</table>"
   ]
  },
  {
   "cell_type": "markdown",
   "metadata": {},
   "source": [
    "## 实验目的"
   ]
  },
  {
   "cell_type": "markdown",
   "metadata": {},
   "source": [
    "本次实验主要学习和掌握下列内容"
   ]
  },
  {
   "cell_type": "markdown",
   "metadata": {},
   "source": [
    "- Python简单变量类型: 字符串, 整数, 浮点数, 布尔值\n",
    "- Python数据结构: list, tuple, dict\n",
    "- 函数与函数式编程"
   ]
  },
  {
   "cell_type": "markdown",
   "metadata": {},
   "source": [
    "## 实验准备"
   ]
  },
  {
   "cell_type": "markdown",
   "metadata": {},
   "source": [
    "首先，让我们运行下面的单元格来导入您在此作业中需要的所有包, 并且为实验的代码的测试做准备。"
   ]
  },
  {
   "cell_type": "code",
   "execution_count": null,
   "metadata": {},
   "outputs": [],
   "source": [
    "# 导入需要的Python包\n",
    "from pathlib import Path\n",
    "import sys\n",
    "from IPython.display import display, Image\n",
    "\n",
    "# 获取项目根目录\n",
    "project_root = Path().resolve().parent\n",
    "sys.path.append(str(project_root / 'tests'))\n",
    "sys.path.append(str(project_root / 'util'))\n",
    "\n",
    "# 导入测试套件和其他工具\n",
    "from test_suite1 import TestSuite1\n",
    "from lr_utils import load_dataset\n",
    "from notebook2pdf import convert_notebook_to_webpdf\n",
    "from notebook_info_extractor import extract_from_ipynb\n",
    "from IPython import get_ipython\n",
    "\n",
    "testsuite1 = TestSuite1()\n",
    "\n",
    "ip = get_ipython()\n",
    "notebook_file = None\n",
    "if '__vsc_ipynb_file__' in ip.user_ns:\n",
    "    notebook_file = ip.user_ns['__vsc_ipynb_file__']\n",
    "\n",
    "stu_info = extract_from_ipynb(notebook_file)\n",
    "\n",
    "print(f\"stu_info: {stu_info}\")"
   ]
  },
  {
   "cell_type": "markdown",
   "metadata": {},
   "source": [
    "## 实验注意事项"
   ]
  },
  {
   "cell_type": "markdown",
   "metadata": {},
   "source": [
    "1. 请在指定的地方按照实验指导要求来编写代码。\n",
    "2. 请按照实验指导要求使用指定的变量名或函数名，不要使用其他的名字。\n",
    "3. 不要添加任何额外的语句。\n",
    "4. 不要添加任何额外的代码单元格。\n",
    "5. 不要在不需要的地方修改作业代码，比如创建额外的变量，修改测试文件中的代码。\n",
    "6. 实验指导中的`...`表示需要你补充代码的部分，其他部分的代码不用修改。\n",
    "7. 代码提示中会给出估计的代码行数，例如大约1行代码，估计的代码行数只是一个参考值，实际编写时可能会有出入，请根据实际情况来编写。\n",
    "8. 请独立完成作业，禁止抄袭，发现抄袭行为成绩记零分"
   ]
  },
  {
   "cell_type": "markdown",
   "metadata": {},
   "source": [
    "## Python变量"
   ]
  },
  {
   "cell_type": "markdown",
   "metadata": {
    "slideshow": {
     "slide_type": "slide"
    }
   },
   "source": [
    "Python变量不用指定类型，解释器会自动推断变量的数据类型"
   ]
  },
  {
   "cell_type": "code",
   "execution_count": null,
   "metadata": {},
   "outputs": [],
   "source": [
    "# Python最常用的8种数据类型：\n",
    "# 基本类型：字符串(str), 整数(int), 布尔(bool), 浮点数(float)\n",
    "message = 'Hello World!'\n",
    "numbers = 100\n",
    "is_true = True\n",
    "pi = 3.14\n",
    "\n",
    "# 容器类型： 元组(tuple), 列表(list), 字典(dict), 集合(set)\n",
    "dimensions = (1920, 1080)\n",
    "lst = [1, 2, 3, 4, 5]\n",
    "car = {'brand': 'Honda', 'model': 'Civic'}\n",
    "letters = {'a', 'b', 'c', 'd', 'e'}"
   ]
  },
  {
   "cell_type": "markdown",
   "metadata": {},
   "source": [
    "Python不是强类型语言，变量随时可以再被赋予任意类型的值："
   ]
  },
  {
   "cell_type": "code",
   "execution_count": null,
   "metadata": {},
   "outputs": [],
   "source": [
    "message = 3.14\n",
    "numbers = 'Hello World!'"
   ]
  },
  {
   "cell_type": "markdown",
   "metadata": {},
   "source": [
    "**变量不是盒子，而是标签**"
   ]
  },
  {
   "cell_type": "code",
   "execution_count": null,
   "metadata": {},
   "outputs": [],
   "source": [
    "display(Image(\"./img/2023-08-23-08-33-57.png\", width=800, height=600))"
   ]
  },
  {
   "cell_type": "markdown",
   "metadata": {},
   "source": [
    "\n",
    "盒子和标签关键区别：\n",
    "\n",
    "1. 变量只是对象的引用（类似于C语言中的指针），而不是存储对象的容器\n",
    "2. 赋值操作是把标签贴到对象上，而不是把值复制到盒子里\n",
    "3. 多个变量可以引用同一个对象\n",
    "4. 对象的生命周期由引用计数决定，而不是作用域\n"
   ]
  },
  {
   "cell_type": "code",
   "execution_count": null,
   "metadata": {},
   "outputs": [],
   "source": [
    "a = 10     # 变量a是一个标签，贴在整数对象10上\n",
    "b = a      # 创建变量b，也贴在和变量a一样指向的整数对象10上\n",
    "a = 20     # a贴到整数对象20上，b仍然贴在10上，变量不是盒子，而是标签\n",
    "print(\"a =\", a)   # 输出20\n",
    "print(\"b =\", b)   # 输出10"
   ]
  },
  {
   "cell_type": "markdown",
   "metadata": {},
   "source": [
    "变量命名规则：\n",
    "- 使用英语单词(蛇形命名法)： my_message,  first_name\n",
    "- 变量名称由数字、字母(包括大写字母和小写字母)、下划线组成。\n",
    "- 变量名不能以数字开头\n",
    "- 变量名不能用python关键字和内置函数的名字（见下图）\n",
    "- 变量命名严格区分大小写"
   ]
  },
  {
   "cell_type": "code",
   "execution_count": null,
   "metadata": {},
   "outputs": [],
   "source": [
    "display(Image(\"./img/2024-12-25-11-28-51.png\", width=800, height=600))"
   ]
  },
  {
   "cell_type": "markdown",
   "metadata": {},
   "source": [
    "## 字符串"
   ]
  },
  {
   "cell_type": "markdown",
   "metadata": {},
   "source": [
    "字符串就是一系列字符，使用单引号或者双引号扩起来"
   ]
  },
  {
   "cell_type": "code",
   "execution_count": null,
   "metadata": {},
   "outputs": [],
   "source": [
    "message = 'hello'\n",
    "name = \"ada lovelace\""
   ]
  },
  {
   "cell_type": "markdown",
   "metadata": {},
   "source": [
    "Python语言中没有区分字符（char）和字符串（str），字符就是长度为1的字符串"
   ]
  },
  {
   "cell_type": "markdown",
   "metadata": {},
   "source": [
    "字符串的常见方法：\n",
    "- title方法：将单词的首字母大写\n",
    "- 将字符串改为全部大写或者小写: upper(), lower()\n",
    "- format方法或者f字符串：字符串的格式化\n",
    "- 字符串中的转义字符：制表符'\\t', 换行'\\n'\n",
    "- 删除空白: rstrip(), lstrip(), strip()"
   ]
  },
  {
   "cell_type": "markdown",
   "metadata": {},
   "source": [
    "f 字符串(Python 3.6+)\n",
    "- 可以引用 {变量}  "
   ]
  },
  {
   "cell_type": "code",
   "execution_count": null,
   "metadata": {},
   "outputs": [],
   "source": [
    "first_name = 'ada'\n",
    "last_name = 'lovelace'\n",
    "full_name = f'The first programmer is {first_name.title()} {last_name.title()}'    # f-->format\n",
    "print(full_name)"
   ]
  },
  {
   "cell_type": "markdown",
   "metadata": {},
   "source": [
    "format方法"
   ]
  },
  {
   "cell_type": "code",
   "execution_count": null,
   "metadata": {},
   "outputs": [],
   "source": [
    "full_name = '{} {}'.format(first_name, last_name)\n",
    "print(full_name)"
   ]
  },
  {
   "cell_type": "markdown",
   "metadata": {},
   "source": [
    "连接字符串，使用`+`可以连接字符串。"
   ]
  },
  {
   "cell_type": "code",
   "execution_count": null,
   "metadata": {},
   "outputs": [],
   "source": [
    "first_name = \"James\"\n",
    "last_name = \"Bond\"\n",
    "full_name = first_name + \" \" + last_name\n",
    "print(full_name)"
   ]
  },
  {
   "cell_type": "markdown",
   "metadata": {},
   "source": [
    "重复字符串， 使用`*`可以重复字符串任意次数"
   ]
  },
  {
   "cell_type": "code",
   "execution_count": null,
   "metadata": {},
   "outputs": [],
   "source": [
    "msg =  \"MayDay!\"\n",
    "msg * 10"
   ]
  },
  {
   "cell_type": "markdown",
   "metadata": {},
   "source": [
    "字符查找和替换"
   ]
  },
  {
   "cell_type": "code",
   "execution_count": null,
   "metadata": {},
   "outputs": [],
   "source": [
    "text = \"Hello World Python\"\n",
    "\n",
    "# 查找\n",
    "print(text.find(\"Woooorld\"))     # 6 (返回索引，找不到返回-1)\n",
    "print(text.index(\"World\"))    # 6 (找不到会抛异常)\n",
    "print(text.count(\"o\"))        # 3 (计数)\n",
    "\n",
    "# 判断\n",
    "print(text.startswith(\"Hello\"))  # True\n",
    "print(text.endswith(\"Python\"))   # True\n",
    "print(\"World\" in text)           # True\n",
    "\n",
    "# 替换\n",
    "replaced_txt = text.replace(\"World\", \"Python\")  # \"Hello Python Python\"\n",
    "print(replaced_txt)"
   ]
  },
  {
   "cell_type": "markdown",
   "metadata": {},
   "source": [
    "分割和连接字符串"
   ]
  },
  {
   "cell_type": "code",
   "execution_count": null,
   "metadata": {},
   "outputs": [],
   "source": [
    "# split() 将字符串分割成列表\n",
    "\n",
    "# 例1：用空格分割\n",
    "text = \"apple banana cherry\"\n",
    "fruits = text.split()  # 默认按空格分割\n",
    "print(fruits)  # ['apple', 'banana', 'cherry']\n",
    "\n",
    "# 例2：用逗号分割\n",
    "data = \"张三,25,北京\"\n",
    "info = data.split(',')\n",
    "print(info)  # ['张三', '25', '北京']\n",
    "\n",
    "# 例3：用其他分隔符\n",
    "email = \"user@example.com\"\n",
    "parts = email.split('@')\n",
    "print(parts)  # ['user', 'example.com']"
   ]
  },
  {
   "cell_type": "code",
   "execution_count": null,
   "metadata": {},
   "outputs": [],
   "source": [
    "# join() 将列表元素连接成字符串\n",
    "\n",
    "# 例1：用空格连接\n",
    "words = ['Hello', 'world', '!']\n",
    "sentence = ' '.join(words)\n",
    "print(sentence)  # \"Hello world !\"\n",
    "\n",
    "# 例2：用逗号连接\n",
    "names = ['张三', '李四', '王五']\n",
    "name_list = ', '.join(names)\n",
    "print(name_list)  # \"张三, 李四, 王五\""
   ]
  },
  {
   "cell_type": "markdown",
   "metadata": {},
   "source": [
    "## 习题一"
   ]
  },
  {
   "cell_type": "markdown",
   "metadata": {},
   "source": [
    "习题1：用户信息格式化，编写函数 format_user_info(user_data)，处理输入的用户数据。\n",
    "\n",
    "- 输入: \"first_name,  last_name,email,age\" 格式的字符串\n",
    "- 输出: 三个值 - formatted_info, email_domain, initials\n",
    "\n",
    "- 输出格式:\n",
    "    - formatted_info: \"Name: [First] [Last], Age: [age], Email: [email]\"\n",
    "    - email_domain: 邮箱@后面的域名部分\n",
    "    - initials: \"[F].[L].\" 格式的姓名缩写\n",
    "\n",
    "示例:\n",
    "- 输入: \"john, doe , John.Doe@Gmail.COM, 25\"\n",
    "- 输出:\n",
    "\"Name: John Doe, Age: 25, Email: john.doe@gmail.com\",\n",
    "\"gmail.com\" , \"J.D.\"\n",
    "- 请注意上面字符串内的逗号和冒号后面都有空格"
   ]
  },
  {
   "cell_type": "code",
   "execution_count": null,
   "metadata": {},
   "outputs": [],
   "source": [
    "# UNQ_C1 (UNIQUE CELL IDENTIFIER, DO NOT EDIT)\n",
    "# GRADED FUNCTION: format_user_info\n",
    "def format_user_info(user_data):\n",
    "    \"\"\"\n",
    "    格式化用户信息字符串\n",
    "\n",
    "    参数:\n",
    "    user_data: 字符串，格式为 \" first_name ,  last_name  ,  email@abc.com ,  age\"\n",
    "    , 注意字符串开始结束以及逗号的前后有可能有空格, 请注意使用strip()函数去掉空格\n",
    "\n",
    "    返回:\n",
    "    formatted_info: 格式化后的用户信息字符串\n",
    "    email_domain: 邮箱域名部分\n",
    "    initials: 用户姓名首字母缩写 (如: \"J.D.\")\n",
    "    \"\"\"\n",
    "\n",
    "\n",
    "    # 大约需要10-12行代码，主要使用字符串方法：split(), strip(), title(), lower(), upper(), replace(), join()等\n",
    "\n",
    "    # 你编写的代码从这里开始\n",
    "    # 解析用户数据\n",
    "    parts = ...           # 使用split()分割字符串\n",
    "\n",
    "    # 提取各个字段并处理\n",
    "    first_name = ...      # 提取名字并转换为标题格式\n",
    "    last_name = ...       # 提取姓氏并转换为标题格式\n",
    "    email = ...           # 提取邮箱并转换为小写\n",
    "    age = ...             # 提取年龄并转换为整数\n",
    "\n",
    "    # 格式化输出\n",
    "    formatted_info = ...  # 使用f-string创建格式化信息\n",
    "    email_domain = ...    # 提取邮箱域名部分（@后面的部分）\n",
    "    initials = ...        # 创建姓名首字母缩写，格式：F.L.\n",
    "\n",
    "    # 你编写的代码到这里结束\n",
    "\n",
    "    return formatted_info, email_domain, initials"
   ]
  },
  {
   "cell_type": "code",
   "execution_count": null,
   "metadata": {},
   "outputs": [],
   "source": [
    "# 测试习题1\n",
    "testsuite1.test_format_user_info(format_user_info)"
   ]
  },
  {
   "cell_type": "markdown",
   "metadata": {},
   "source": [
    "## 数与数学运算"
   ]
  },
  {
   "cell_type": "markdown",
   "metadata": {},
   "source": [
    "\n",
    "- 整数（`int`）： 没有区分长度（没有int32， int64，long），从Python 3.8开始没有最大值的限制\n",
    "- 浮点数(`float`): 没有区分单精度和双精度\n",
    "- `int`和`float`的实际长度会根据机器平台来决定，绝大多数情况下为64位，8个字节\n",
    "- 这里讲解的所有的运算都可以使用整数和浮点数来进行"
   ]
  },
  {
   "cell_type": "markdown",
   "metadata": {},
   "source": [
    "基本运算\n",
    "\n",
    "- 基本运算加减乘除所使用的运算符： +, -, *, /\n",
    "- 乘方运算: **"
   ]
  },
  {
   "cell_type": "code",
   "execution_count": null,
   "metadata": {},
   "outputs": [],
   "source": [
    "3 ** 3"
   ]
  },
  {
   "cell_type": "code",
   "execution_count": null,
   "metadata": {},
   "outputs": [],
   "source": [
    "2.25 ** .5  # 指数也可以是小数，指数0.5表示开平方"
   ]
  },
  {
   "cell_type": "code",
   "execution_count": null,
   "metadata": {},
   "outputs": [],
   "source": [
    "0 ** 0  # 比较特殊的运算结果：0的0次方是1"
   ]
  },
  {
   "cell_type": "markdown",
   "metadata": {},
   "source": [
    "模运算： % （得到余数）"
   ]
  },
  {
   "cell_type": "code",
   "execution_count": null,
   "metadata": {},
   "outputs": [],
   "source": [
    "5 % 3"
   ]
  },
  {
   "cell_type": "markdown",
   "metadata": {},
   "source": [
    "`%1` 可以获取一个浮点数的小数部分"
   ]
  },
  {
   "cell_type": "code",
   "execution_count": null,
   "metadata": {},
   "outputs": [],
   "source": [
    "67.14 % 1  # 浮点数的运算不是完全精确的"
   ]
  },
  {
   "cell_type": "code",
   "execution_count": null,
   "metadata": {},
   "outputs": [],
   "source": [
    "3.14159 % .1"
   ]
  },
  {
   "cell_type": "markdown",
   "metadata": {},
   "source": [
    "除法求整数商: `//`"
   ]
  },
  {
   "cell_type": "code",
   "execution_count": null,
   "metadata": {},
   "outputs": [],
   "source": [
    "8 // 3"
   ]
  },
  {
   "cell_type": "markdown",
   "metadata": {},
   "source": [
    "`// 1`可以去掉一个浮点数的小数部分"
   ]
  },
  {
   "cell_type": "code",
   "execution_count": null,
   "metadata": {},
   "outputs": [],
   "source": [
    "5.25 // 1"
   ]
  },
  {
   "cell_type": "markdown",
   "metadata": {},
   "source": [
    "求商和余数： `divmod`函数"
   ]
  },
  {
   "cell_type": "code",
   "execution_count": null,
   "metadata": {},
   "outputs": [],
   "source": [
    "divmod(20, 3)"
   ]
  },
  {
   "cell_type": "markdown",
   "metadata": {},
   "source": [
    "`round`函数: 浮点数四舍五入"
   ]
  },
  {
   "cell_type": "code",
   "execution_count": null,
   "metadata": {},
   "outputs": [],
   "source": [
    "round(.6666)"
   ]
  },
  {
   "cell_type": "code",
   "execution_count": null,
   "metadata": {},
   "outputs": [],
   "source": [
    "round(1.2)"
   ]
  },
  {
   "cell_type": "code",
   "execution_count": null,
   "metadata": {},
   "outputs": [],
   "source": [
    "# round(0.5)得到0\n",
    "round(.50000)"
   ]
  },
  {
   "cell_type": "markdown",
   "metadata": {},
   "source": [
    "为什么浮点数运算不精确相等，例如0.3+0.1+0.2不等于0.6？\n",
    "\n",
    "因为所有的浮点数（十进制）在计算机中都是以二进制的形式存储的，而二进制浮点数无法精确表示大部分的十进制小数，例如0.1在二进制中是一个无限循环小数，所以在计算机中0.1的存储是一个近似值。"
   ]
  },
  {
   "cell_type": "code",
   "execution_count": null,
   "metadata": {},
   "outputs": [],
   "source": [
    ".3 + .1 + .2 == .6"
   ]
  },
  {
   "cell_type": "markdown",
   "metadata": {},
   "source": [
    "打印0.3，0.2，0.1 的近似值，精确到小数点后20位。"
   ]
  },
  {
   "cell_type": "code",
   "execution_count": null,
   "metadata": {},
   "outputs": [],
   "source": [
    "print(f'{.3:.20f}')\n",
    "print(f'{.2:.20f}')\n",
    "print(f'{.1:.20f}')\n",
    "print(f'{.6:.20f}')"
   ]
  },
  {
   "cell_type": "markdown",
   "metadata": {},
   "source": [
    "## 习题二"
   ]
  },
  {
   "cell_type": "markdown",
   "metadata": {},
   "source": [
    "求离整数n最近的平方数\n",
    "\n",
    "例如，如果n=111，那么nearest_sq(n)等于121，因为111比100（10的平方）更接近121（11的平方）。\n",
    "\n",
    "如果n已经是完全平方（例如n=144，n=81，等等），你需要直接返回n。"
   ]
  },
  {
   "cell_type": "code",
   "execution_count": null,
   "metadata": {},
   "outputs": [],
   "source": [
    "# UNQ_C2 (UNIQUE CELL IDENTIFIER, DO NOT EDIT)\n",
    "# GRADED FUNCTION: nearest_sq\n",
    "def nearest_sq(n):\n",
    "    # 大约1到2行代码, 不能超过2行代码\n",
    "    # 你编写的代码从这里开始\n",
    "    result = ...\n",
    "\n",
    "    # 你编写的代码到这里结束\n",
    "    return result"
   ]
  },
  {
   "cell_type": "code",
   "execution_count": null,
   "metadata": {},
   "outputs": [],
   "source": [
    "# 测试习题2\n",
    "testsuite1.test_nearest_sq(nearest_sq)"
   ]
  },
  {
   "cell_type": "markdown",
   "metadata": {},
   "source": [
    "## 简单变量类型"
   ]
  },
  {
   "cell_type": "markdown",
   "metadata": {},
   "source": [
    "### 字符串和数字之间的转化"
   ]
  },
  {
   "cell_type": "markdown",
   "metadata": {},
   "source": [
    "- str()函数：将其他数据转化为字符串\n",
    "- int()函数：将其他数据转化为整数\n",
    "- float()函数：将其他数据转化为浮点数"
   ]
  },
  {
   "cell_type": "code",
   "execution_count": null,
   "metadata": {},
   "outputs": [],
   "source": [
    "str1 = str(123)\n",
    "str1"
   ]
  },
  {
   "cell_type": "code",
   "execution_count": null,
   "metadata": {},
   "outputs": [],
   "source": [
    "int1 = int('123')\n",
    "int1"
   ]
  },
  {
   "cell_type": "code",
   "execution_count": null,
   "metadata": {},
   "outputs": [],
   "source": [
    "# 下面的代码会出错，因为'123.4'不是一个整数\n",
    "# int2 = int('123.4')\n",
    "# int2"
   ]
  },
  {
   "cell_type": "code",
   "execution_count": null,
   "metadata": {},
   "outputs": [],
   "source": [
    "f1 = float('123.4')\n",
    "f1"
   ]
  },
  {
   "cell_type": "code",
   "execution_count": null,
   "metadata": {},
   "outputs": [],
   "source": [
    "f2 = float('123')\n",
    "f2"
   ]
  },
  {
   "cell_type": "markdown",
   "metadata": {},
   "source": [
    "三个关于变量的函数\n",
    "- type函数: 返回该变量的类型\n",
    "- id函数： 返回该变量的id，这是一个int类型的值\n",
    "- isinstance函数：如果该变量是某类型的实例，返回True，否则返回False"
   ]
  },
  {
   "cell_type": "code",
   "execution_count": null,
   "metadata": {},
   "outputs": [],
   "source": [
    "message = \"Hello\"\n",
    "number = 42\n",
    "pi = 3.14159"
   ]
  },
  {
   "cell_type": "code",
   "execution_count": null,
   "metadata": {},
   "outputs": [],
   "source": [
    "print(id(message), id(number), id(pi), sep=\", \")"
   ]
  },
  {
   "cell_type": "code",
   "execution_count": null,
   "metadata": {},
   "outputs": [],
   "source": [
    "print(type(message), type(number), type(pi), sep=', ')"
   ]
  },
  {
   "cell_type": "code",
   "execution_count": null,
   "metadata": {},
   "outputs": [],
   "source": [
    "print(isinstance(message, str), isinstance(number, int), isinstance(pi, float),sep=', ')"
   ]
  },
  {
   "cell_type": "markdown",
   "metadata": {},
   "source": [
    "### 简单变量的值是不可变的"
   ]
  },
  {
   "cell_type": "markdown",
   "metadata": {},
   "source": [
    "简单类型变量的值（str,int,float, bool）都是不可变的，如果进行改变简单变量的操作，实际上是创建了新的变量（变量不是盒子，而是标签）"
   ]
  },
  {
   "cell_type": "code",
   "execution_count": null,
   "metadata": {},
   "outputs": [],
   "source": [
    "number = 42\n",
    "print(id(number))\n",
    "number = 100\n",
    "print(id(number))"
   ]
  },
  {
   "cell_type": "markdown",
   "metadata": {},
   "source": [
    "数字`42`这个值在内存堆中是不能被改变的，它的id可以看作是保存值的内存的地址，如果没有变量引用这个id的值，内存堆中的值将被垃圾回收。"
   ]
  },
  {
   "cell_type": "markdown",
   "metadata": {},
   "source": [
    "### `is` 和 `==`"
   ]
  },
  {
   "cell_type": "markdown",
   "metadata": {},
   "source": [
    "`is` 和 `==`的区别：\n",
    "\n",
    "- `is`比较的是两个变量的id是否相等\n",
    "- `==`比较的是两个变量的值是否相等"
   ]
  },
  {
   "cell_type": "markdown",
   "metadata": {},
   "source": [
    "运行下面的代码，思考为什么会这样？总结一下在哪些情况下两个不同的变量会有相同的id？"
   ]
  },
  {
   "cell_type": "code",
   "execution_count": null,
   "metadata": {},
   "outputs": [],
   "source": [
    "a = 256\n",
    "b = 256\n",
    "print(id(a), id(b))\n",
    "print(a is b)"
   ]
  },
  {
   "cell_type": "code",
   "execution_count": null,
   "metadata": {},
   "outputs": [],
   "source": [
    "a = 257\n",
    "b = 257\n",
    "print(id(a), id(b))\n",
    "print(a is b)"
   ]
  },
  {
   "cell_type": "code",
   "execution_count": null,
   "metadata": {},
   "outputs": [],
   "source": [
    "a = -5\n",
    "b = -5\n",
    "print(id(a), id(b))\n",
    "print(a is b)"
   ]
  },
  {
   "cell_type": "code",
   "execution_count": null,
   "metadata": {},
   "outputs": [],
   "source": [
    "a = -6\n",
    "b = -6\n",
    "print(id(a), id(b))\n",
    "print(a is b)"
   ]
  },
  {
   "cell_type": "markdown",
   "metadata": {},
   "source": [
    "从-5到256的整数字面量(literal)作为被常用的整数会被缓存起来，这些整数的id总是相同的"
   ]
  },
  {
   "cell_type": "code",
   "execution_count": null,
   "metadata": {},
   "outputs": [],
   "source": [
    "# 简单字符的字符串也会被缓存\n",
    "a = 'helloworld123'\n",
    "b = 'helloworld123'\n",
    "print(id(a), id(b))\n",
    "print(a is b)"
   ]
  },
  {
   "cell_type": "code",
   "execution_count": null,
   "metadata": {},
   "outputs": [],
   "source": [
    "# 因为字符串中有空格，这不是一个简单字符串，不会被缓存\n",
    "a = 'hello world'\n",
    "b = 'hello world'\n",
    "print(id(a), id(b))\n",
    "print(a is b)"
   ]
  },
  {
   "cell_type": "code",
   "execution_count": null,
   "metadata": {},
   "outputs": [],
   "source": [
    "a = 'hello'\n",
    "b = 'he'\n",
    "b += 'llo'\n",
    "print(id(a), id(b))\n",
    "print(a is b)"
   ]
  },
  {
   "cell_type": "code",
   "execution_count": null,
   "metadata": {},
   "outputs": [],
   "source": [
    "a = tuple()\n",
    "b = tuple()\n",
    "print(id(a), id(b))\n",
    "print(a is b)"
   ]
  },
  {
   "cell_type": "markdown",
   "metadata": {},
   "source": [
    "## 列表(list)"
   ]
  },
  {
   "cell_type": "markdown",
   "metadata": {},
   "source": [
    "- 列表由一系列特定顺序(sequence)排列的元素组成。\n",
    "- 在Python中，用方括号[ ] 表示列表，用逗号分隔其中的元素。\n",
    "- 有索引： 从0开始\n",
    "- 最后一个元素后面的逗号会被忽略。 "
   ]
  },
  {
   "cell_type": "markdown",
   "metadata": {},
   "source": [
    "与简单变量(str,int,float)不同：\n",
    "\n",
    "- 列表是可变的\n",
    "- 可以修改列表中的元素\n",
    "- 可以添加和删除列表中的元素。"
   ]
  },
  {
   "cell_type": "markdown",
   "metadata": {},
   "source": [
    "通过索引查找或者修改元素，在Python中索引还可以是负数，-1表示最后一个元素，-2表示倒数第二个元素，以此类推。"
   ]
  },
  {
   "cell_type": "code",
   "execution_count": null,
   "metadata": {},
   "outputs": [],
   "source": [
    "motorcycles = ['honda', 'yamaha', 'suzuki', ]\n",
    "motorcycles[0] = 'ducati'\n",
    "print(motorcycles)\n",
    "print(motorcycles[-1])"
   ]
  },
  {
   "cell_type": "markdown",
   "metadata": {},
   "source": [
    "在末尾附加元素：append方法"
   ]
  },
  {
   "cell_type": "code",
   "execution_count": null,
   "metadata": {},
   "outputs": [],
   "source": [
    "motorcycles = ['honda', 'yamaha', 'suzuki', ]\n",
    "motorcycles.append('ducati')\n",
    "print(motorcycles)"
   ]
  },
  {
   "cell_type": "markdown",
   "metadata": {},
   "source": [
    "在列表中插入元素： insert方法"
   ]
  },
  {
   "cell_type": "code",
   "execution_count": null,
   "metadata": {},
   "outputs": [],
   "source": [
    "motorcycles = ['honda', 'yamaha', 'suzuki', ]\n",
    "motorcycles.insert(0, 'ducati')\n",
    "print(motorcycles)"
   ]
  },
  {
   "cell_type": "markdown",
   "metadata": {},
   "source": [
    "使用del语句删除元素"
   ]
  },
  {
   "cell_type": "code",
   "execution_count": null,
   "metadata": {},
   "outputs": [],
   "source": [
    "motorcycles = ['honda', 'yamaha', 'suzuki', ]\n",
    "del motorcycles[0]\n",
    "print(motorcycles)"
   ]
  },
  {
   "cell_type": "markdown",
   "metadata": {},
   "source": [
    "pop语句删除列表末尾的元素并返回元素值"
   ]
  },
  {
   "cell_type": "code",
   "execution_count": null,
   "metadata": {},
   "outputs": [],
   "source": [
    "motorcycles = ['honda', 'yamaha', 'suzuki', ]\n",
    "print(motorcycles)\n",
    "\n",
    "popped_motorcycle = motorcycles.pop()\n",
    "print(motorcycles)\n",
    "print(popped_motorcycle)"
   ]
  },
  {
   "cell_type": "markdown",
   "metadata": {},
   "source": [
    "remove方法根据值删除列表中的元素"
   ]
  },
  {
   "cell_type": "code",
   "execution_count": null,
   "metadata": {},
   "outputs": [],
   "source": [
    "motorcycles = ['honda', 'yamaha', 'suzuki', 'ducati']\n",
    "print(motorcycles)\n",
    "motorcycles.remove('ducati')\n",
    "print(motorcycles)"
   ]
  },
  {
   "cell_type": "markdown",
   "metadata": {},
   "source": [
    "使用sort()方法对列表进行永久性(in place)排序"
   ]
  },
  {
   "cell_type": "code",
   "execution_count": null,
   "metadata": {},
   "outputs": [],
   "source": [
    "cars = ['bmw', 'audi', 'toyota', 'subaru', ]\n",
    "cars.sort()\n",
    "print(cars)"
   ]
  },
  {
   "cell_type": "code",
   "execution_count": null,
   "metadata": {},
   "outputs": [],
   "source": [
    "cars.sort(reverse=True)\n",
    "print(cars)"
   ]
  },
  {
   "cell_type": "markdown",
   "metadata": {},
   "source": [
    "使用sorted()函数对列表进行临时排序"
   ]
  },
  {
   "cell_type": "code",
   "execution_count": null,
   "metadata": {},
   "outputs": [],
   "source": [
    "cars = ['bmw', 'audi', 'toyota', 'subaru', ]\n",
    "print(f\"The original list:\\n {cars}\\n\")\n",
    "print(f\"The sorted list:\\n {sorted(cars)}\\n\")\n",
    "print(f\"The original list:\\n {cars}\\n\")"
   ]
  },
  {
   "cell_type": "markdown",
   "metadata": {},
   "source": [
    "倒着打印列表：使用reverse()方法"
   ]
  },
  {
   "cell_type": "code",
   "execution_count": null,
   "metadata": {},
   "outputs": [],
   "source": [
    "cars = ['bmw', 'audi', 'toyota', 'subaru', ]\n",
    "print(cars)\n",
    "cars.reverse()\n",
    "print(cars)"
   ]
  },
  {
   "cell_type": "markdown",
   "metadata": {},
   "source": [
    "确定列表的长度： 使用len()函数"
   ]
  },
  {
   "cell_type": "code",
   "execution_count": null,
   "metadata": {},
   "outputs": [],
   "source": [
    "len(cars)"
   ]
  },
  {
   "cell_type": "markdown",
   "metadata": {},
   "source": [
    "利用`range`函数创建数字列表"
   ]
  },
  {
   "cell_type": "code",
   "execution_count": null,
   "metadata": {},
   "outputs": [],
   "source": [
    "numbers = list(range(1, 6))\n",
    "print(numbers)"
   ]
  },
  {
   "cell_type": "markdown",
   "metadata": {},
   "source": [
    "对数字列表进行统计计算"
   ]
  },
  {
   "cell_type": "code",
   "execution_count": null,
   "metadata": {},
   "outputs": [],
   "source": [
    "digits = [1, 2, 3, 4, 5, 6, 7, 8, 9, 0, ]\n",
    "min(digits)"
   ]
  },
  {
   "cell_type": "code",
   "execution_count": null,
   "metadata": {},
   "outputs": [],
   "source": [
    "max(digits)"
   ]
  },
  {
   "cell_type": "code",
   "execution_count": null,
   "metadata": {},
   "outputs": [],
   "source": [
    "sum(digits)"
   ]
  },
  {
   "cell_type": "code",
   "execution_count": null,
   "metadata": {},
   "outputs": [],
   "source": [
    "#列表推导格式：[ 变量表达式  for  变量  in  列表       ]                                    ]\n",
    "squares =    [ value**2  for  value  in range(1, 11)]\n",
    "print(squares)"
   ]
  },
  {
   "cell_type": "code",
   "execution_count": null,
   "metadata": {},
   "outputs": [],
   "source": [
    "# 列表连接\n",
    "[1, 2, 3] + [4, 5, 6]"
   ]
  },
  {
   "cell_type": "code",
   "execution_count": null,
   "metadata": {},
   "outputs": [],
   "source": [
    "# 列表复制\n",
    "[1, 2, 3] * 3"
   ]
  },
  {
   "cell_type": "markdown",
   "metadata": {},
   "source": [
    "## 切片（Slice）"
   ]
  },
  {
   "cell_type": "markdown",
   "metadata": {},
   "source": [
    "切片的语法适用于所有的有索引的数据类型，如列表、元组、字符串、Numpy数列等，还包括自己定义的类型。这里以列表为例来介绍切片的使用。\n",
    "\n",
    "打印列表的前三个元素，使用切片从0开始，到索引3（不包括索引3）结束"
   ]
  },
  {
   "cell_type": "code",
   "execution_count": null,
   "metadata": {},
   "outputs": [],
   "source": [
    "players = ['charles', 'martina', 'michael', 'florence', 'eli', ]\n",
    "print(players[0:3])  # 切片的长度等于3-0=3"
   ]
  },
  {
   "cell_type": "code",
   "execution_count": null,
   "metadata": {},
   "outputs": [],
   "source": [
    "print(players[1:4])"
   ]
  },
  {
   "cell_type": "markdown",
   "metadata": {},
   "source": [
    "切片从索引0开始的时候，可以省略第一个索引"
   ]
  },
  {
   "cell_type": "code",
   "execution_count": null,
   "metadata": {},
   "outputs": [],
   "source": [
    "print(players[:4])"
   ]
  },
  {
   "cell_type": "markdown",
   "metadata": {},
   "source": [
    "切片到列表末尾的时候，可以省略第二个索引"
   ]
  },
  {
   "cell_type": "code",
   "execution_count": null,
   "metadata": {},
   "outputs": [],
   "source": [
    "print(players[2:])"
   ]
  },
  {
   "cell_type": "markdown",
   "metadata": {},
   "source": [
    "切片的开始索引和结束索引都可以是负数，`players[-3:]`表示最后三个元素"
   ]
  },
  {
   "cell_type": "code",
   "execution_count": null,
   "metadata": {},
   "outputs": [],
   "source": [
    "print(players[-3:])"
   ]
  },
  {
   "cell_type": "markdown",
   "metadata": {},
   "source": [
    "切片第二个冒号的后面是步长，当没有使用步长时，步长默认是1"
   ]
  },
  {
   "cell_type": "code",
   "execution_count": null,
   "metadata": {},
   "outputs": [],
   "source": [
    "numbers = list(range(1, 11))\n",
    "print(numbers[1:10:2])"
   ]
  },
  {
   "cell_type": "markdown",
   "metadata": {},
   "source": [
    "步长可以为负数，负数步长可以用来倒着打印列表"
   ]
  },
  {
   "cell_type": "code",
   "execution_count": null,
   "metadata": {},
   "outputs": [],
   "source": [
    "print(numbers[9:0:-2])"
   ]
  },
  {
   "cell_type": "code",
   "execution_count": null,
   "metadata": {},
   "outputs": [],
   "source": [
    "print(numbers[-1:-10:-2])"
   ]
  },
  {
   "cell_type": "markdown",
   "metadata": {},
   "source": [
    "## 习题三"
   ]
  },
  {
   "cell_type": "markdown",
   "metadata": {},
   "source": [
    "完成下面的函数，分析班级学生的考试成绩。函数接收一个包含学生分数的列表，你需要提取关键信息帮助了解班级表现。\n",
    "\n",
    "输入参数：\n",
    "\n",
    "- scores：学生分数列表（整数），如 [85, 92, 78, 96, 88, 73, 90]\n",
    "- 返回值：\n",
    "    - high_scores：90分以上的分数列表（使用列表推导式）\n",
    "    - top_half：分数列表的前一半学生成绩\n",
    "    - last_three：最后3个学生的成绩（从最后一个到倒数第3个的排列顺序）\n",
    "    - pass_count：及格学生人数（分数≥60）"
   ]
  },
  {
   "cell_type": "code",
   "execution_count": null,
   "metadata": {},
   "outputs": [],
   "source": [
    "# UNQ_C3 (UNIQUE CELL IDENTIFIER, DO NOT EDIT)\n",
    "# GRADED FUNCTION: analyze_scores\n",
    "def analyze_scores(scores):\n",
    "    \"\"\"\n",
    "    分析学生成绩数据\n",
    "\n",
    "    参数:\n",
    "    scores: 学生分数列表\n",
    "\n",
    "    返回:\n",
    "    元组包含: (high_scores, top_half, last_three, pass_count)\n",
    "    \"\"\"\n",
    "\n",
    "\n",
    "    # 你编写的代码从这里开始\n",
    "    # 1. 找出90分以上的成绩（使用列表推导式）\n",
    "    high_scores = ...\n",
    "\n",
    "    # 2. 获取前一半学生的成绩（使用切片）\n",
    "    top_half = ...\n",
    "\n",
    "    # 3. 获取最后3个学生成绩（使用切片）\n",
    "    last_three = ...\n",
    "\n",
    "    # 4. 统计及格人数（分数≥60）\n",
    "    pass_count = ...\n",
    "\n",
    "    # 你编写的代码到这里结束\n",
    "\n",
    "    return high_scores, top_half, last_three, pass_count"
   ]
  },
  {
   "cell_type": "code",
   "execution_count": null,
   "metadata": {},
   "outputs": [],
   "source": [
    "# 测试示例\n",
    "result = analyze_scores([85, 92, 78, 96, 88, 73, 90])\n",
    "print(\"优秀成绩(90+):\", result[0])    # [92, 96, 90]\n",
    "print(\"前一半学生:\", result[1])       # [85, 92, 78, 96]\n",
    "print(\"最后3人倒序:\", result[2])      # [90, 73, 88]\n",
    "print(\"及格人数:\", result[3])         # 7"
   ]
  },
  {
   "cell_type": "code",
   "execution_count": null,
   "metadata": {},
   "outputs": [],
   "source": [
    "# 测试习题3\n",
    "testsuite1.test_analyze_scores(analyze_scores)"
   ]
  },
  {
   "cell_type": "markdown",
   "metadata": {},
   "source": [
    "## 元组（Tuple）"
   ]
  },
  {
   "cell_type": "markdown",
   "metadata": {},
   "source": [
    "使用圆括号来表示元组，圆括号中元组的元素之间用逗号分隔"
   ]
  },
  {
   "cell_type": "code",
   "execution_count": null,
   "metadata": {},
   "outputs": [],
   "source": [
    "dimensions = (200, 50)\n",
    "print(dimensions[0])\n",
    "print(dimensions[1])"
   ]
  },
  {
   "cell_type": "markdown",
   "metadata": {},
   "source": [
    "遍历元组：元组和列表一样可以使用索引来遍历"
   ]
  },
  {
   "cell_type": "code",
   "execution_count": null,
   "metadata": {},
   "outputs": [],
   "source": [
    "for dimension in dimensions:\n",
    "    print(dimension)"
   ]
  },
  {
   "cell_type": "markdown",
   "metadata": {},
   "source": [
    "元组中数据是不可以修改的"
   ]
  },
  {
   "cell_type": "code",
   "execution_count": null,
   "metadata": {},
   "outputs": [],
   "source": [
    "# dimensions[0] = 250"
   ]
  },
  {
   "cell_type": "markdown",
   "metadata": {},
   "source": [
    "只包含一个元素的元组，必须在元素后面加上逗号"
   ]
  },
  {
   "cell_type": "code",
   "execution_count": null,
   "metadata": {},
   "outputs": [],
   "source": [
    "m_t = (3, )\n",
    "m_t"
   ]
  },
  {
   "cell_type": "markdown",
   "metadata": {},
   "source": [
    "元组的不可修改是相对的，如果元组包含了列表元素，该列表元素是可以被修改的，因此不要把可变对象(例如：list)保存到元组中."
   ]
  },
  {
   "cell_type": "code",
   "execution_count": null,
   "metadata": {},
   "outputs": [],
   "source": [
    "my_tuple = (1, 2, [10, 20, 30])\n",
    "print(my_tuple)\n",
    "\n",
    "my_tuple[2].append(40)\n",
    "print(my_tuple)\n",
    "\n",
    "my_tuple[2].extend([50, 60])\n",
    "print(my_tuple)"
   ]
  },
  {
   "cell_type": "markdown",
   "metadata": {},
   "source": [
    "分解元组（unpack）\n",
    "\n",
    "注意：很多可迭代的对象都可以进行分解(unpack),例如：list, string, set, dict等。\n"
   ]
  },
  {
   "cell_type": "code",
   "execution_count": null,
   "metadata": {},
   "outputs": [],
   "source": [
    "tup1 = (1, 2, 3)\n",
    "x, y, z = tup1\n",
    "print(x, y, z)"
   ]
  },
  {
   "cell_type": "markdown",
   "metadata": {},
   "source": [
    "利用元组分解交换变量的值"
   ]
  },
  {
   "cell_type": "code",
   "execution_count": null,
   "metadata": {},
   "outputs": [],
   "source": [
    "x, y = y, x\n",
    "print(x, y, z)"
   ]
  },
  {
   "cell_type": "markdown",
   "metadata": {},
   "source": [
    "## 字典(dict)"
   ]
  },
  {
   "cell_type": "code",
   "execution_count": null,
   "metadata": {},
   "outputs": [],
   "source": [
    "# 创建字典\n",
    "alien_0 = {'color': 'green', 'points': 5}\n",
    "\n",
    "# 读取字典中的值\n",
    "print(alien_0['color'])\n",
    "print(alien_0['points'])"
   ]
  },
  {
   "cell_type": "markdown",
   "metadata": {},
   "source": [
    "添加键值对"
   ]
  },
  {
   "cell_type": "code",
   "execution_count": null,
   "metadata": {},
   "outputs": [],
   "source": [
    "alien_0['x_position'] = 0\n",
    "alien_0['y_position'] = 25\n",
    "print(alien_0)"
   ]
  },
  {
   "cell_type": "markdown",
   "metadata": {},
   "source": [
    "创建空字典"
   ]
  },
  {
   "cell_type": "code",
   "execution_count": null,
   "metadata": {},
   "outputs": [],
   "source": [
    "alien_0 = {}\n",
    "print(alien_0)\n",
    "alien_0['color'] = 'green'\n",
    "alien_0['points'] = 5\n",
    "print(alien_0)"
   ]
  },
  {
   "cell_type": "markdown",
   "metadata": {},
   "source": [
    "修改字典中的值"
   ]
  },
  {
   "cell_type": "code",
   "execution_count": null,
   "metadata": {},
   "outputs": [],
   "source": [
    "alien_0['color'] = 'yellow'\n",
    "print(f\"The alien is now {alien_0['color']}.\")"
   ]
  },
  {
   "cell_type": "markdown",
   "metadata": {},
   "source": [
    "删除键值对"
   ]
  },
  {
   "cell_type": "code",
   "execution_count": null,
   "metadata": {},
   "outputs": [],
   "source": [
    "del alien_0['points']\n",
    "print(alien_0)"
   ]
  },
  {
   "cell_type": "code",
   "execution_count": null,
   "metadata": {},
   "outputs": [],
   "source": [
    "favorite_languages = {\n",
    "    'jen': 'python',\n",
    "    'sarah': 'c',\n",
    "    'edward': 'ruby',\n",
    "    'phil': 'python',\n",
    "}\n",
    "\n",
    "language = favorite_languages['sarah'].title()\n",
    "print(f\"Sarah's favorite language is {language}.\")"
   ]
  },
  {
   "cell_type": "markdown",
   "metadata": {},
   "source": [
    "如果键不存在，使用字典的[]语法会报错，这时应该使用get()方法来返回，如果键存在将返回键所对应的值，如果键不存在则返回一个默认值。"
   ]
  },
  {
   "cell_type": "code",
   "execution_count": null,
   "metadata": {},
   "outputs": [],
   "source": [
    "alien_0 = {'color': 'green', 'speed': 'slow'}\n",
    "# print(alien_0['points'])"
   ]
  },
  {
   "cell_type": "code",
   "execution_count": null,
   "metadata": {},
   "outputs": [],
   "source": [
    "print(alien_0.get('points', 'No point value assigned.'))"
   ]
  },
  {
   "cell_type": "markdown",
   "metadata": {},
   "source": [
    "遍历字典\n",
    "- 同时遍历键值对: `items()`方法\n",
    "- 遍历键: `keys()`方法\n",
    "- 遍历值: `values()`方法"
   ]
  },
  {
   "cell_type": "code",
   "execution_count": null,
   "metadata": {},
   "outputs": [],
   "source": [
    "for name, language in favorite_languages.items():\n",
    "    print(f\"{name.title()}'s favorite language is {language.title()}.\")"
   ]
  },
  {
   "cell_type": "code",
   "execution_count": null,
   "metadata": {},
   "outputs": [],
   "source": [
    "for name in favorite_languages.keys():\n",
    "    print(name.title())"
   ]
  },
  {
   "cell_type": "markdown",
   "metadata": {},
   "source": [
    "对字典的键进行排序"
   ]
  },
  {
   "cell_type": "code",
   "execution_count": null,
   "metadata": {},
   "outputs": [],
   "source": [
    "print(sorted(favorite_languages.keys()))"
   ]
  },
  {
   "cell_type": "markdown",
   "metadata": {},
   "source": [
    "遍历字典中的值"
   ]
  },
  {
   "cell_type": "code",
   "execution_count": null,
   "metadata": {},
   "outputs": [],
   "source": [
    "for language in favorite_languages.values():\n",
    "    print(language.title())"
   ]
  },
  {
   "cell_type": "markdown",
   "metadata": {},
   "source": [
    "使用set()函数剔除重复项"
   ]
  },
  {
   "cell_type": "code",
   "execution_count": null,
   "metadata": {},
   "outputs": [],
   "source": [
    "print(set(favorite_languages.values()))"
   ]
  },
  {
   "cell_type": "markdown",
   "metadata": {},
   "source": [
    "嵌套的数据结构： 字典列表"
   ]
  },
  {
   "cell_type": "code",
   "execution_count": null,
   "metadata": {},
   "outputs": [],
   "source": [
    "alien_0 = {'color': 'green', 'points': 5}\n",
    "alien_1 = {'color': 'yellow', 'points': 10}\n",
    "alien_2 = {'color': 'red', 'points': 15}\n",
    "\n",
    "aliens = [alien_0, alien_1, alien_2]\n",
    "aliens"
   ]
  },
  {
   "cell_type": "markdown",
   "metadata": {},
   "source": [
    "在字典中存储列表"
   ]
  },
  {
   "cell_type": "code",
   "execution_count": null,
   "metadata": {},
   "outputs": [],
   "source": [
    "favorite_languages = {\n",
    "    'jen': ['python', 'ruby'],\n",
    "    'sarah': ['c'],\n",
    "    'edward': ['ruby', 'go'],\n",
    "    'phil': ['python', 'haskell'],\n",
    "}\n",
    "\n",
    "print(favorite_languages)"
   ]
  },
  {
   "cell_type": "markdown",
   "metadata": {},
   "source": [
    "在字典中嵌套字典"
   ]
  },
  {
   "cell_type": "code",
   "execution_count": null,
   "metadata": {},
   "outputs": [],
   "source": [
    "users = {\n",
    "    'aeinstein': {\n",
    "        'first': 'albert',\n",
    "        'last': 'einstein',\n",
    "        'location': 'princeton',\n",
    "        },\n",
    "    'mcurie': {\n",
    "        'first': 'marie',\n",
    "        'last': 'curie',\n",
    "        'location': 'paris',\n",
    "        },\n",
    "}\n",
    "\n",
    "print(users)"
   ]
  },
  {
   "cell_type": "markdown",
   "metadata": {},
   "source": [
    "- 从其他序列数据创建字典\n",
    "- 读取字典和写字典时的默认值"
   ]
  },
  {
   "cell_type": "code",
   "execution_count": null,
   "metadata": {},
   "outputs": [],
   "source": [
    "# Creating a dictionary from a list of tuples（length is 2）\n",
    "pairs = [(\"a\", 1), (\"b\", 2), (\"c\", 3)]\n",
    "dictionary = dict(pairs)\n",
    "print(dictionary)  # Output: {'a': 1, 'b': 2, 'c': 3}"
   ]
  },
  {
   "cell_type": "code",
   "execution_count": null,
   "metadata": {},
   "outputs": [],
   "source": [
    "# Creating a dictionary from two sequences\n",
    "keys = [\"name\", \"age\", \"city\"]\n",
    "values = [\"John Doe\", 25, \"New York\"]\n",
    "\n",
    "dictionary = dict(zip(keys, values))\n",
    "print(dictionary)"
   ]
  },
  {
   "cell_type": "markdown",
   "metadata": {},
   "source": [
    "合并字典： `|`"
   ]
  },
  {
   "cell_type": "code",
   "execution_count": null,
   "metadata": {},
   "outputs": [],
   "source": [
    "d1 = {'a': 1, 'b': 2}\n",
    "d2 = {'c': 3, 'd': 4}\n",
    "d1 | d2"
   ]
  },
  {
   "cell_type": "code",
   "execution_count": null,
   "metadata": {},
   "outputs": [],
   "source": [
    "d1 = {'a': 1, 'b': 2}\n",
    "d2 = {'a':2, 'c': 3, 'd': 4}\n",
    "d1 |= d2\n",
    "d1"
   ]
  },
  {
   "cell_type": "markdown",
   "metadata": {},
   "source": [
    "读取字典时的默认值： `dict.get(key, default=None)`"
   ]
  },
  {
   "cell_type": "code",
   "execution_count": null,
   "metadata": {},
   "outputs": [],
   "source": [
    "alien_0 = {'color': 'green', 'speed': 'slow'}\n",
    "# print(alien_0['points'])\n",
    "print(alien_0.get('points', 'No point value assigned.'))"
   ]
  },
  {
   "cell_type": "markdown",
   "metadata": {},
   "source": [
    "写字典时的默认值： `dict.setdefault()`"
   ]
  },
  {
   "cell_type": "code",
   "execution_count": null,
   "metadata": {},
   "outputs": [],
   "source": [
    "# 不使用setdefault方法\n",
    "\n",
    "words = [\"apple\", \"bat\", \"bar\", \"atom\", \"book\"]\n",
    "by_letter = {}\n",
    "for word in words:\n",
    "    letter = word[0]\n",
    "    if letter not in by_letter:\n",
    "        # 该word的首字母不在字典的keys中\n",
    "        by_letter[letter] = [word]\n",
    "    else:\n",
    "        # 字典已经包含该word首字母的key\n",
    "        by_letter[letter].append(word)\n",
    "print(by_letter)"
   ]
  },
  {
   "cell_type": "code",
   "execution_count": null,
   "metadata": {},
   "outputs": [],
   "source": [
    "words = [\"apple\", \"bat\", \"bar\", \"atom\", \"book\"]\n",
    "by_letter = {}\n",
    "for word in words:\n",
    "    letter = word[0]\n",
    "    print(letter, by_letter.setdefault(letter, []))\n",
    "    by_letter.setdefault(letter, []).append(word)\n",
    "\n",
    "print(by_letter)"
   ]
  },
  {
   "cell_type": "markdown",
   "metadata": {},
   "source": [
    "字典也可以像列表一样使用推导，不同之处在于：\n",
    "- 使用`{}`\n",
    "- 键和值之间用`:`分隔，需要两个表达式\n",
    "\n",
    "`dict_comp = {键的表达式: 值的表达式 for 变量 in 集合 if condition}`"
   ]
  },
  {
   "cell_type": "code",
   "execution_count": null,
   "metadata": {},
   "outputs": [],
   "source": [
    "numbers = {\"one\": 1, \"two\": 2, \"three\": 3, \"four\": 4, \"five\": 5}\n",
    "\n",
    "even_numbers = {key: value\n",
    "                    for key, value in numbers.items()\n",
    "                    if value % 2 == 0}\n",
    "print(even_numbers)"
   ]
  },
  {
   "cell_type": "markdown",
   "metadata": {},
   "source": [
    "## 习题四"
   ]
  },
  {
   "cell_type": "markdown",
   "metadata": {},
   "source": [
    "从两个列表来创建字典：\n",
    "有两个列表，可能有不同的长度。第一个由 keys 组成，第二个由 values 组成。\n",
    "\n",
    "写一个函数 createDict(keys, values) ，返回由 keys 和 values 创建的 dictionary。如果没有足够的值，其余的键应该有一个 None 值。如果没有足够的键，就忽略其余的值。要求使用字典推导来完成该习题。\n",
    "\n",
    "Examples:\n",
    "```python\n",
    "keys = ['a', 'b', 'c', 'd']\n",
    "values = [1, 2, 3]\n",
    "createDict(keys, values) # {'a': 1, 'b': 2, 'c': 3, 'd': None}\n",
    "\n",
    "keys = ['a', 'b', 'c']\n",
    "values = [1, 2, 3, 4]\n",
    "createDic(keys, values) # {'a': 1, 'b': 2, 'c': 3}\n",
    "```"
   ]
  },
  {
   "cell_type": "code",
   "execution_count": null,
   "metadata": {},
   "outputs": [],
   "source": [
    "# UNQ_C4 (UNIQUE CELL IDENTIFIER, DO NOT EDIT)\n",
    "# GRADED FUNCTION: createDict\n",
    "def createDict(keys, values):\n",
    "    \"\"\"\n",
    "    从两个列表创建字典, 要求使用字典推导来完成\n",
    "\n",
    "    参数:\n",
    "    keys: 键的列表\n",
    "    values: 值的列表\n",
    "\n",
    "    返回:\n",
    "    字典: keys为键, values为值, 长度以keys为准\n",
    "    \"\"\"\n",
    "    # 大约需要1-6行代码\n",
    "    # 你编写的代码从这里开始\n",
    "\n",
    "    # 你编写的代码到这里结束\n",
    "    return result"
   ]
  },
  {
   "cell_type": "code",
   "execution_count": null,
   "metadata": {},
   "outputs": [],
   "source": [
    "# 测试示例\n",
    "print(createDict(['a', 'b', 'c', 'd'], [1, 2, 3]))\n",
    "# 输出: {'a': 1, 'b': 2, 'c': 3, 'd': None}\n",
    "\n",
    "print(createDict(['a', 'b', 'c'], [1, 2, 3, 4]))\n",
    "# 输出: {'a': 1, 'b': 2, 'c': 3}"
   ]
  },
  {
   "cell_type": "code",
   "execution_count": null,
   "metadata": {},
   "outputs": [],
   "source": [
    "# 测试习题4\n",
    "testsuite1.test_createDict(createDict)"
   ]
  },
  {
   "cell_type": "markdown",
   "metadata": {},
   "source": [
    "## 集合(set)"
   ]
  },
  {
   "cell_type": "markdown",
   "metadata": {},
   "source": [
    "- 集合是没有顺序（索引）的没有重复元素的数据集。\n",
    "- 例如字典所有的键可以构成一个集合。\n",
    "- 集合的元素放在花括号`{ }`中表示集合。\n",
    "- 集合是可迭代的（iterative）的对象。\n",
    "  - 可以使用 `for x in my_set:` 的语法"
   ]
  },
  {
   "cell_type": "code",
   "execution_count": null,
   "metadata": {},
   "outputs": [],
   "source": [
    "set([2, 2, 2, 3, 3, 1, 3])"
   ]
  },
  {
   "cell_type": "markdown",
   "metadata": {},
   "source": [
    "空的集合： `set()` 不能用{  }"
   ]
  },
  {
   "cell_type": "code",
   "execution_count": null,
   "metadata": {},
   "outputs": [],
   "source": [
    "print(set())\n",
    "print(type({})) # {} is a empty dict"
   ]
  },
  {
   "cell_type": "markdown",
   "metadata": {},
   "source": [
    "集合的操作和方法"
   ]
  },
  {
   "cell_type": "code",
   "execution_count": null,
   "metadata": {},
   "outputs": [],
   "source": [
    "a = {1, 2, 3, 4, 5}\n",
    "b = {3, 4, 5, 6, 7, 8}\n",
    "print(a | b)"
   ]
  },
  {
   "cell_type": "code",
   "execution_count": null,
   "metadata": {},
   "outputs": [],
   "source": [
    "print(a & b)"
   ]
  },
  {
   "cell_type": "markdown",
   "metadata": {},
   "source": [
    "## 函数"
   ]
  },
  {
   "cell_type": "markdown",
   "metadata": {},
   "source": [
    "函数是Python程序中最常见的代码单元，我们的要完成的实验以及实验的测试代码都是通过函数来实现的。"
   ]
  },
  {
   "cell_type": "code",
   "execution_count": null,
   "metadata": {},
   "outputs": [],
   "source": [
    "# 定义函数\n",
    "def greet_user():\n",
    "    \"\"\"Display a simple greeting.\"\"\"\n",
    "    print(\"Hello!\")\n",
    "    print(\"欢迎参加Python课程!\")"
   ]
  },
  {
   "cell_type": "code",
   "execution_count": null,
   "metadata": {},
   "outputs": [],
   "source": [
    "# 调用函数\n",
    "greet_user()"
   ]
  },
  {
   "cell_type": "markdown",
   "metadata": {},
   "source": [
    "- `def`表示要定义一个函数\n",
    "- `greet_user()`是定义的函数名，必须要有圆括号\n",
    "- 函数名同样要遵守Python变量的命名规则\n",
    "- 函数名后面的后面是冒号，表示函数代码块开始，代码块可以包含任意数量的代码行\n",
    "- 函数体的代码块每一行都必须有缩进\n",
    "- 按照代码规范，第一句是函数的文档注释(docstring), 用三引号括起来"
   ]
  },
  {
   "cell_type": "code",
   "execution_count": null,
   "metadata": {},
   "outputs": [],
   "source": [
    "# 定义一个带参数，有返回值的函数\n",
    "def subtract_and_multiply(x, y, z):\n",
    "    \"\"\"Return x - y.\"\"\"\n",
    "    result = (x - y) * z\n",
    "    return result\n",
    "\n",
    "# 使用位置参数调用函数, 参数顺序必须和定义的参数一致\n",
    "print(subtract_and_multiply(3, 2, 4))\n",
    "\n",
    "# 使用关键字参数调用函数， 关键字参数可以是任意的顺序\n",
    "print(subtract_and_multiply(y=2, x=3, z=4))\n",
    "\n",
    "# 关键字参数必须出现在位置参数的后面\n",
    "print(subtract_and_multiply(3, z=4, y=2))"
   ]
  },
  {
   "cell_type": "markdown",
   "metadata": {},
   "source": [
    "- 在`def subtract_x_and_y(x, y):`中，x和y是形参，函数定义时的参数\n",
    "- 在函数中使用`return`语句返回值\n",
    "- `subtract_x_and_y(3, 2)`调用函数时, 3是x的实参，2是y的实参，3和2被称为位置参数，位置参数的数量和顺序都不能错\n",
    "- `subtract_x_and_y(y=2, x=3)`调用函数时使用的是关键字参数，关键字参数的顺序可以任意的，但是关键字必须出现在位置参数之后"
   ]
  },
  {
   "cell_type": "code",
   "execution_count": null,
   "metadata": {},
   "outputs": [],
   "source": [
    "# 函数参数可以有默认值，默认值的参数必须放在普通位置参数的后面\n",
    "def subtract_and_multiply(x, y, z=1):\n",
    "    \"\"\"Return x - y.\"\"\"\n",
    "    result = (x - y) * z\n",
    "    return result\n",
    "\n",
    "# z的默认值为1\n",
    "print(subtract_and_multiply(5, 2))"
   ]
  },
  {
   "cell_type": "markdown",
   "metadata": {},
   "source": [
    "- 使用`*`号可以使用任意数量的位置实参\n",
    "- 任意数量的位置实参必须放到普通位置实参后面"
   ]
  },
  {
   "cell_type": "code",
   "execution_count": null,
   "metadata": {},
   "outputs": [],
   "source": [
    "def make_pizza(size, *toppings):\n",
    "    \"\"\"Describe the pizza\"\"\"\n",
    "    print(f\"\\nMaking a {size}-inch pizza with the following toppings:\")\n",
    "    for topping in toppings:\n",
    "        print(f\"- {topping}\")\n",
    "\n",
    "make_pizza(16, \"pepperoni\")\n",
    "make_pizza(12, \"mushroom\", \"green peppers\", \"extra cheese\")\n",
    "make_pizza(12, \"mushroom\", \"green peppers\", \"extra cheese\")"
   ]
  },
  {
   "cell_type": "markdown",
   "metadata": {},
   "source": [
    "- 任意数量的关键字参数： `**`  （kwargs： key word arguments）"
   ]
  },
  {
   "cell_type": "code",
   "execution_count": null,
   "metadata": {},
   "outputs": [],
   "source": [
    "def build_profile(first, last, **user_info):\n",
    "    \"\"\"Build a dictionary containing everything we know about a user.\"\"\"\n",
    "    user_info['first_name'] = first\n",
    "    user_info['last_name'] = last\n",
    "    return user_info\n",
    "\n",
    "user_profile = build_profile('albert', 'einstein',\n",
    "                            location='princeton',\n",
    "                            field='physics')\n",
    "print(user_profile)"
   ]
  },
  {
   "cell_type": "markdown",
   "metadata": {},
   "source": [
    "- `*` 操作符表示的是分解序列数据（例如列表、元组、字符串等）\n",
    "- `**` 操作符表示的是分解字典"
   ]
  },
  {
   "cell_type": "code",
   "execution_count": null,
   "metadata": {},
   "outputs": [],
   "source": [
    "numbers = [1, 2, 3, 4, 5]\n",
    "print(*numbers)  # 等价于 print(1, 2, 3, 4, 5)"
   ]
  },
  {
   "cell_type": "code",
   "execution_count": null,
   "metadata": {},
   "outputs": [],
   "source": [
    "def dump(**kwargs):\n",
    "    return kwargs\n",
    "\n",
    "# **user_profile 会分解字典得到：\n",
    "# location = 'princeton', field = 'physics',\n",
    "# first_name = 'albert', last_name = 'einstein'\n",
    "dump(**user_profile, b=2, **{'c': 3 , 'd' : 4})"
   ]
  },
  {
   "cell_type": "markdown",
   "metadata": {},
   "source": [
    "## 习题五"
   ]
  },
  {
   "cell_type": "markdown",
   "metadata": {},
   "source": [
    "你需要开发一个智能计算器函数，它能处理基本的数学运算，支持多种参数传递方式，并能记录计算历史和应用各种计算选项。\n",
    "\n",
    "函数原型：smart_calculator(operation, *numbers, precision=2, show_steps=False, **options)\n",
    "\n",
    "参数说明：\n",
    "\n",
    "- operation：运算类型，必需的位置参数 ('add', 'multiply', 'average')\n",
    "- *numbers：任意数量的数字，位置参数, 如果为空，则直接返回0\n",
    "- precision=2：结果保留小数位数，默认值参数\n",
    "- show_steps=False：是否显示计算步骤，默认值参数\n",
    "- **options：额外的计算选项，任意关键字参数\n",
    "\n",
    "返回值：\n",
    "\n",
    "- 根据operation类型计算结果，并根据参数调整输出格式\n",
    "\n",
    "支持的运算：\n",
    "\n",
    "- 'add'：求和\n",
    "- 'multiply'：求乘积\n",
    "\n",
    "支持的options：\n",
    "- 'unit'：结果单位（如 'kg', 'cm', '$'或者任意其他的单位）\n",
    "- 'name'：计算名称（用于显示）\n",
    "\n",
    "示例\n",
    "```python\n",
    "# 基本求和\n",
    "result = smart_calculator('add', 1, 2, 3, 4)\n",
    "# 返回: 10.0\n",
    "\n",
    "# 指定精度\n",
    "result = smart_calculator('average', 1, 2, 3, precision=1)  \n",
    "# 返回: 2.0\n",
    "\n",
    "# 显示步骤\n",
    "result = smart_calculator('multiply', 2, 3, 4, show_steps=True)\n",
    "# 返回: \"计算步骤: 2 * 3 * 4 = 24.0\"\n",
    "# 注意： 返回计算步骤时，所有的符号前后都有一个空格\n",
    "\n",
    "# 使用单位和名称\n",
    "result = smart_calculator('add', 10, 20, 30, precision=0, unit='kg', name='总重量')\n",
    "# 返回: \"总重量: 60kg\"\n",
    "# 注意： 冒号:后面有一个空格\n",
    "\n",
    "# 综合使用\n",
    "result = smart_calculator('add', 85, 92, 78, 96, precision=1, \n",
    "                         show_steps=True, name='总分', unit='分')\n",
    "# 返回: \"总分计算步骤: 85 + 92 + 78 + 96 = 378.0分\"\n",
    "```"
   ]
  },
  {
   "cell_type": "code",
   "execution_count": null,
   "metadata": {},
   "outputs": [],
   "source": [
    "# UNQ_C5 (UNIQUE CELL IDENTIFIER, DO NOT EDIT)\n",
    "# GRADED FUNCTION: smart_calculator\n",
    "def smart_calculator(operation, *numbers, precision=2, show_steps=False, **options):\n",
    "    \"\"\"\n",
    "    智能计算器函数\n",
    "\n",
    "    参数:\n",
    "    operation: 运算类型 ('add', 'multiply')\n",
    "    *numbers: 任意数量的数字, 如果为空, 返回0.0\n",
    "    precision: 结果精度, 默认2位小数\n",
    "    show_steps: 是否显示步骤, 默认False\n",
    "    **options: 额外选项 (unit, name等)\n",
    "\n",
    "    返回:\n",
    "    计算结果或格式化的字符串\n",
    "    \"\"\"\n",
    "    # 你编写的代码从这里开始(大约35至50行代码)\n",
    "\n",
    "    # 检查numbers数字列表参数是否为空，如果为空返回0.0\n",
    "    if not numbers:\n",
    "        ...\n",
    "\n",
    "\n",
    "    # 执行基本计算： 加法和乘法\n",
    "    if operation == 'add':\n",
    "        ...\n",
    "    elif operation == 'multiply':\n",
    "        ...\n",
    "    else:\n",
    "        ...\n",
    "\n",
    "    # 使用round函数应用精度\n",
    "    result = round(...)\n",
    "\n",
    "    # 获取可选参数\n",
    "    unit = ...\n",
    "    name = ...\n",
    "\n",
    "    # 判断是否显示步骤来进行格式化输出\n",
    "\n",
    "    # 情况1：需要显示步骤时\n",
    "    # - 根据operation类型构建步骤字符串\n",
    "    # - 加法： ' + '.join(...)\n",
    "    # - 乘法： ' * '.join(...)\n",
    "    # - 最终格式：\"{步骤} = {结果}\"\n",
    "    # - 如果有name，添加前缀\n",
    "    # - 如果有unit，替换结果中的数字部分\n",
    "\n",
    "    # 情况2：普通输出格式\n",
    "    # - 根据name和unit的组合返回不同格式\n",
    "    # - 都有：\"{name}: {result}{unit}\"\n",
    "    # - 只有unit：\"{result}{unit}\"\n",
    "    # - 只有name：\"{name}: {result}\"\n",
    "    # - 都没有：直接返回result数值\n",
    "\n",
    "    if show_steps:\n",
    "        if operation == 'add':\n",
    "            step = ' + '.join(...)\n",
    "            output = ...\n",
    "        elif operation == 'multiply':\n",
    "            step = ' * '.join(...)\n",
    "            output = ...\n",
    "        if name:\n",
    "            output = ...\n",
    "        if unit:\n",
    "            output = ...\n",
    "        return output\n",
    "    else:\n",
    "        ...\n",
    "        return output\n",
    "\n",
    "    # 你编写的代码到这里结束"
   ]
  },
  {
   "cell_type": "code",
   "execution_count": null,
   "metadata": {},
   "outputs": [],
   "source": [
    "# 测试习题5\n",
    "testsuite1.test_smart_calculator(smart_calculator)"
   ]
  },
  {
   "cell_type": "markdown",
   "metadata": {},
   "source": [
    "## 函数式编程"
   ]
  },
  {
   "cell_type": "markdown",
   "metadata": {},
   "source": [
    "函数式编程是一种编程范式，它将计算机运算视为数学函数的计算，并且避免使用程序状态以及易变对象。\n",
    "\n",
    "- 函数是头等对象，函数可以是：\n",
    "  - 变量\n",
    "  - 另一个函数的参数\n",
    "  - 另一个函数的返回值\n",
    "- 不可变性：不改变变量的值，而是创建新的变量\n",
    "- 函数是无副作用的（不要改变程序状态也就是变量的值）\n"
   ]
  },
  {
   "cell_type": "markdown",
   "metadata": {},
   "source": [
    "### lambda函数"
   ]
  },
  {
   "cell_type": "markdown",
   "metadata": {},
   "source": [
    "lambda是Python中的关键词，参数列表包括任意数量的参数，冒号之后是函数体，函数体返回一个值。\n",
    "\n",
    "语法：` lambda 参数1,参数2,参数3: 函数返回值`"
   ]
  },
  {
   "cell_type": "code",
   "execution_count": null,
   "metadata": {},
   "outputs": [],
   "source": [
    "# 定义一个lambda(匿名)函数，然后赋值给一个变量\n",
    "my_fun = lambda x: x * 2\n",
    "my_fun(10)"
   ]
  },
  {
   "cell_type": "markdown",
   "metadata": {},
   "source": [
    "### 高阶函数"
   ]
  },
  {
   "cell_type": "markdown",
   "metadata": {},
   "source": [
    "当一个函数\n",
    "- 函数参数是函数，\n",
    "- 函数返回值是函数，\n",
    "- 在函数内部定义的内部函数。\n",
    "我们称这种函数为高阶函数。Lambda函数经常被用在高阶函数中。"
   ]
  },
  {
   "cell_type": "markdown",
   "metadata": {},
   "source": [
    "list的sort方法的key参数，可以接收一个函数作为参数，这个函数的返回值将作为排序的依据。"
   ]
  },
  {
   "cell_type": "code",
   "execution_count": null,
   "metadata": {},
   "outputs": [],
   "source": [
    "cars = ['BMW', 'Ford', 'Tesla', 'Audi']\n",
    "\n",
    "# 默认按照字母顺序排序\n",
    "cars.sort()\n",
    "print(cars)\n",
    "\n",
    "# 根据元素的长度来排序\n",
    "cars.sort(key=lambda x: len(x))\n",
    "print(cars)"
   ]
  },
  {
   "cell_type": "markdown",
   "metadata": {},
   "source": [
    "首先按照成绩排序，然后按照科目排序"
   ]
  },
  {
   "cell_type": "code",
   "execution_count": null,
   "metadata": {},
   "outputs": [],
   "source": [
    "scores = [('English', 82), ('Science', 97), ('Maths', 97), ('Social sciences', 82)]\n",
    "scores.sort(key = lambda score: (score[1], score[0]))\n",
    "scores"
   ]
  },
  {
   "cell_type": "markdown",
   "metadata": {},
   "source": [
    "### Map函数"
   ]
  },
  {
   "cell_type": "markdown",
   "metadata": {},
   "source": [
    "这是最常用的高阶函数。\n",
    "\n",
    "- 函数原型：`map(function, iterable, ...)`\n",
    "- 第1个参数：一个函数（通常是lambda函数）\n",
    "- 第2个参数：一个或多个可迭代对象（例如list或者tuple）\n",
    "- 返回值：然后将这个函数依次作用在可迭代对象的每个元素上，最后返回一个新的可迭代对象。"
   ]
  },
  {
   "cell_type": "code",
   "execution_count": null,
   "metadata": {},
   "outputs": [],
   "source": [
    "nums = (1, 2, 3, 4)\n",
    "mapped = map(lambda x: x+x, nums)\n",
    "print(list(mapped))"
   ]
  },
  {
   "cell_type": "code",
   "execution_count": null,
   "metadata": {},
   "outputs": [],
   "source": [
    "odds = [1, 3, 5]\n",
    "evens = [2, 4, 6]\n",
    "mapped = map(lambda a,b:a*b, odds, evens)\n",
    "print(list(mapped))"
   ]
  },
  {
   "cell_type": "markdown",
   "metadata": {},
   "source": [
    "## 习题六"
   ]
  },
  {
   "cell_type": "markdown",
   "metadata": {},
   "source": [
    "完成下面的函数， 函数接收一个列表，包含了已注册参加您组织的下一个编程聚会的开发人员的数据。\n",
    "\n",
    "您的任务是返回一个序列，其中包括最年长的开发人员。如果有多个开发人员年龄相同，则将他们按照在原始输入数组中出现的顺序列出。\n",
    "\n",
    "例如，给定以下输入数组：\n",
    "\n",
    "```python\n",
    "programmers = [\n",
    "  { 'firstName': 'Gabriel', 'lastName': 'X.', 'country': 'Monaco', \n",
    "  'continent': 'Europe', 'age': 49, 'language': 'PHP' },\n",
    "\n",
    "  { 'firstName': 'Odval', 'lastName': 'F.', 'country': 'Mongolia', \n",
    "  'continent': 'Asia', 'age': 38, 'language': 'Python' },\n",
    "\n",
    "  { 'firstName': 'Emilija', 'lastName': 'S.', 'country': 'Lithuania', \n",
    "  'continent': 'Europe', 'age': 19, 'language': 'Python' },\n",
    "  \n",
    "  { 'firstName': 'Sou', 'lastName': 'B.', 'country': 'Japan', \n",
    "  'continent': 'Asia', 'age': 49, 'language': 'PHP' },\n",
    "]\n",
    "```\n",
    "\n",
    "您的程序应该返回如下结果：\n",
    "\n",
    "```python\n",
    "[\n",
    "  { 'firstName': 'Gabriel', 'lastName': 'X.', 'country': 'Monaco', 'continent': 'Europe', 'age': 49, 'language': 'PHP' },\n",
    "  \n",
    "  { 'firstName': 'Sou', 'lastName': 'B.', 'country': 'Japan', 'continent': 'Asia', 'age': 49, 'language': 'PHP' },\n",
    "]\n",
    "```\n",
    "\n",
    "注意：\n",
    "\n",
    "- 输入的列表永远都包含像示例中一样有效的正确格式的数据，而且永远不会为空。"
   ]
  },
  {
   "cell_type": "code",
   "execution_count": null,
   "metadata": {},
   "outputs": [],
   "source": [
    "# UNQ_C6 (UNIQUE CELL IDENTIFIER, DO NOT EDIT)\n",
    "# GRADED FUNCTION: find_senior\n",
    "\n",
    "def find_senior(lst):\n",
    "\n",
    "    # 你的代码从这里开始(≈ 2-7 行代码)\n",
    "    # 先找到年龄最大的\n",
    "    mage = ...\n",
    "\n",
    "    # 然后找到所有年龄等于年龄最大的\n",
    "    senior_list = ...\n",
    "\n",
    "    # 你的代码在这里结束\n",
    "    return senior_list"
   ]
  },
  {
   "cell_type": "code",
   "execution_count": null,
   "metadata": {},
   "outputs": [],
   "source": [
    "# 测试习题六\n",
    "testsuite1.test_find_senior(find_senior)"
   ]
  },
  {
   "cell_type": "markdown",
   "metadata": {},
   "source": [
    "## Python编程哲学"
   ]
  },
  {
   "cell_type": "code",
   "execution_count": null,
   "metadata": {
    "tags": []
   },
   "outputs": [],
   "source": [
    "# Python之禅\n",
    "import this"
   ]
  },
  {
   "cell_type": "markdown",
   "metadata": {},
   "source": [
    "As Abelson and Sussman wrote in the preface to Structure and Interpretation of Computer Programs (MIT Press, 1996),\n",
    "\n",
    "> Programs must be written for people to read, and only incidentally for machines to execute."
   ]
  },
  {
   "cell_type": "markdown",
   "metadata": {},
   "source": [
    "## 实验讨论"
   ]
  },
  {
   "cell_type": "markdown",
   "metadata": {},
   "source": [
    "请就下面的问题进行小组讨论，将讨论的内容记录下来。"
   ]
  },
  {
   "cell_type": "markdown",
   "metadata": {},
   "source": [
    "- 问题1： 总结一下Python中简单变量类型：整数，浮点数，布尔值和字符串的用法，特别是Python语言中特有的一些用法。\n",
    "- 问题2： 总结一下Python中数据结构：列表，元组，字典他们的特点以及用法，特别是Python语言中特有的一些用法。\n",
    "- 问题3： 什么是函数式编程？函数式编程的特点，以及在什么场景下使用函数式编程。"
   ]
  },
  {
   "cell_type": "markdown",
   "metadata": {},
   "source": [
    "## 生成实验报告"
   ]
  },
  {
   "cell_type": "markdown",
   "metadata": {},
   "source": [
    "将实验报告pdf文件提交到对应的班级和实验的腾讯文档收集表:[文档汇总地址](https://docs.qq.com/doc/DWUxJanVwYXFpZmF2)"
   ]
  },
  {
   "cell_type": "code",
   "execution_count": null,
   "metadata": {},
   "outputs": [],
   "source": [
    "stu_grade = testsuite1.grade_all_tests(notebook_file)\n",
    "pdf_file = f\"{stu_info['class_id']}-{stu_info['student_id']}-{stu_info['name']}-实验报告1-{stu_grade}.pdf\"\n",
    "convert_notebook_to_webpdf(notebook_file, pdf_file)"
   ]
  }
 ],
 "metadata": {
  "kernelspec": {
   "display_name": "base",
   "language": "python",
   "name": "python3"
  },
  "language_info": {
   "codemirror_mode": {
    "name": "ipython",
    "version": 3
   },
   "file_extension": ".py",
   "mimetype": "text/x-python",
   "name": "python",
   "nbconvert_exporter": "python",
   "pygments_lexer": "ipython3",
   "version": "3.12.3"
  }
 },
 "nbformat": 4,
 "nbformat_minor": 4
}
