{
 "cells": [
  {
   "cell_type": "markdown",
   "metadata": {},
   "source": [
    "# 实验二：列表元组字典"
   ]
  },
  {
   "cell_type": "markdown",
   "metadata": {},
   "source": [
    "请双击下面的单元格，填写你的姓名和学号："
   ]
  },
  {
   "cell_type": "markdown",
   "metadata": {},
   "source": [
    "<table style=\"margin: 0 auto; width: 30%; border-collapse: collapse; border: 1px solid black;\" data-id=\"student-info\">  \n",
    "    <colgroup>  \n",
    "        <col style=\"width: 35%;\">  \n",
    "        <col style=\"width: 65%;\">  \n",
    "    </colgroup>  \n",
    "    <tr>  \n",
    "        <td style=\"border: 1px solid black;\">班级</td> <td style=\"border: 1px solid black;\">24计科</td>  \n",
    "    </tr>  \n",
    "    <tr>  \n",
    "        <td style=\"border: 1px solid black;\">学号</td> <td style=\"border: 1px solid black;\">未填写</td>  \n",
    "    </tr>  \n",
    "    <tr>  \n",
    "        <td style=\"border: 1px solid black;\">姓名</td> <td style=\"border: 1px solid black;\">未填写</td>  \n",
    "    </tr>  \n",
    "    <tr>  \n",
    "        <td style=\"border: 1px solid black;\">Email</td> <td style=\"border: 1px solid black;\">未填写</td>  \n",
    "    </tr>  \n",
    "</table>"
   ]
  },
  {
   "cell_type": "markdown",
   "metadata": {},
   "source": [
    "## 实验目的"
   ]
  },
  {
   "cell_type": "markdown",
   "metadata": {},
   "source": [
    "学习掌握并理解下面的这些实验内容:\n",
    "\n",
    "- 列表（list）\n",
    "- 元组（tuple）\n",
    "- 条件控制语句\n",
    "- for循环语句\n",
    "- if语句\n",
    "- 字典(dict)\n",
    "- while循环语句"
   ]
  },
  {
   "cell_type": "markdown",
   "metadata": {},
   "source": [
    "## 实验注意事项"
   ]
  },
  {
   "cell_type": "markdown",
   "metadata": {},
   "source": [
    "1. 请在指定的地方按照实验指导要求来编写代码。\n",
    "2. 请按照实验指导要求使用指定的变量名或函数名，不要使用其他的名字。\n",
    "3. 不要添加任何额外的语句。\n",
    "4. 不要添加任何额外的代码单元格。\n",
    "5. 不要在不需要的地方修改作业代码，比如创建额外的变量，修改测试文件中的代码。\n",
    "6. 实验指导中的`...`表示需要你补充代码的部分，其他部分的代码不用修改。\n",
    "7. 代码提示中会给出估计的代码行数，例如大约1行代码，估计的代码行数只是一个参考值，实际编写时可能会有出入，请根据实际情况来编写。\n",
    "8. 请独立完成作业，禁止抄袭，发现抄袭行为成绩记零分"
   ]
  },
  {
   "cell_type": "code",
   "execution_count": 1,
   "metadata": {},
   "outputs": [],
   "source": [
    "%load_ext autoreload\n",
    "%autoreload 2"
   ]
  },
  {
   "cell_type": "markdown",
   "metadata": {},
   "source": [
    "## 实验步骤"
   ]
  },
  {
   "cell_type": "markdown",
   "metadata": {},
   "source": [
    "1. 打开Vscode,选择\"实验一-Python变量.ipynb\",在Vscode右上角点击Select Kernel, 然后选择base(Python 3.x.x)。\n",
    "2. 从上至下按照顺序执行该文件中的Python代码。\n",
    "3. 阅读实验给出的实验指导和代码范例。\n",
    "4. 按照实验指导完成实验习题。\n",
    "5. 在习题后面的单元格执行测试代码，对代码进行测试。\n",
    "6. 在实验总结部分，使用自己语言完成主观题目1和2的填写。\n",
    "7. 生成实验报告，并通过腾讯在线收集表提交。(注意所有的习题和习题的测试代码必须要运行一次, 否则无法生成实验报告)"
   ]
  },
  {
   "cell_type": "markdown",
   "metadata": {},
   "source": [
    "## 列表介绍"
   ]
  },
  {
   "cell_type": "markdown",
   "metadata": {},
   "source": [
    "- 列表由一系列特定顺序(sequence)排列的元素组成。\n",
    "- 在Python中，用方括号[ ] 表示列表，用逗号分隔其中的元素。\n",
    "- 有索引： 从0开始\n",
    "- 最后一个元素后面的逗号会被忽略。 "
   ]
  },
  {
   "cell_type": "code",
   "execution_count": null,
   "metadata": {},
   "outputs": [],
   "source": [
    "bicycles = ['trek', 'cannondale', 'redline', 'specialized',]\n",
    "print(bicycles)"
   ]
  },
  {
   "cell_type": "markdown",
   "metadata": {},
   "source": [
    "python列表没有类型限制，列表中可以存放任意类型的元素"
   ]
  },
  {
   "cell_type": "code",
   "execution_count": null,
   "metadata": {},
   "outputs": [],
   "source": [
    "elements = [3, 'hello', 2.5, True, 'world', ]\n",
    "print(elements)"
   ]
  },
  {
   "cell_type": "markdown",
   "metadata": {},
   "source": [
    "利用索引访问列表元素"
   ]
  },
  {
   "cell_type": "code",
   "execution_count": null,
   "metadata": {},
   "outputs": [],
   "source": [
    "numbers = [1, 2, 3, 4, 5]\n",
    "\n",
    "print(numbers[0])\n",
    "print(numbers[4])\n",
    "\n",
    "# 可以使用符数作为索引，-1表示最后一个元素\n",
    "print(numbers[-1])\n",
    "print(numbers[-5])"
   ]
  },
  {
   "cell_type": "markdown",
   "metadata": {},
   "source": [
    "## 习题一"
   ]
  },
  {
   "cell_type": "markdown",
   "metadata": {},
   "source": [
    "补全下面函数的代码，函数输入是一个列表(列表不会空)，函数返回列表的第一个元素和最后一个元素组成的列表"
   ]
  },
  {
   "cell_type": "code",
   "execution_count": null,
   "metadata": {},
   "outputs": [],
   "source": [
    "def get_first_last(lst):\n",
    "    \"\"\"回列表的第一个元素和最后一个元素组成的列表\"\"\"\n",
    "    # fist_elem = ...    # 获取列表的第一个元素\n",
    "    # last_elem = ...    # 获取列表的最后一个元素\n",
    "    # 大约2行代码\n",
    "    # 你编写的代码从这里开始\n",
    "    first_elem = ...    # 获取列表的第一个元素\n",
    "    last_elem = ...    # 获取列表的最后一个元素\n",
    "\n",
    "    # 你编写的代码到这里结束\n",
    "    return [first_elem,  last_elem]"
   ]
  },
  {
   "cell_type": "code",
   "execution_count": null,
   "metadata": {},
   "outputs": [],
   "source": [
    "from testset2 import *\n",
    "test_get_first_last(get_first_last)"
   ]
  },
  {
   "cell_type": "markdown",
   "metadata": {},
   "source": [
    "## 操作列表(一)"
   ]
  },
  {
   "cell_type": "markdown",
   "metadata": {},
   "source": [
    "与简单变量(str,int,float)不同：\n",
    "\n",
    "- 列表是可变的\n",
    "- 可以修改列表中的元素\n",
    "- 可以添加和删除列表中的元素。"
   ]
  },
  {
   "cell_type": "markdown",
   "metadata": {},
   "source": [
    "通过索引查找或者修改元素"
   ]
  },
  {
   "cell_type": "code",
   "execution_count": null,
   "metadata": {},
   "outputs": [],
   "source": [
    "motorcycles = ['honda', 'yamaha', 'suzuki', ]\n",
    "motorcycles[0] = 'ducati'\n",
    "print(motorcycles)"
   ]
  },
  {
   "cell_type": "markdown",
   "metadata": {},
   "source": [
    "在末尾附加元素：append方法"
   ]
  },
  {
   "cell_type": "code",
   "execution_count": null,
   "metadata": {},
   "outputs": [],
   "source": [
    "motorcycles = ['honda', 'yamaha', 'suzuki', ]\n",
    "motorcycles.append('ducati')\n",
    "print(motorcycles)"
   ]
  },
  {
   "cell_type": "markdown",
   "metadata": {},
   "source": [
    "在列表中插入元素： insert方法"
   ]
  },
  {
   "cell_type": "code",
   "execution_count": null,
   "metadata": {},
   "outputs": [],
   "source": [
    "motorcycles = ['honda', 'yamaha', 'suzuki', ]\n",
    "motorcycles.insert(0, 'ducati')\n",
    "print(motorcycles)"
   ]
  },
  {
   "cell_type": "markdown",
   "metadata": {},
   "source": [
    "使用del语句删除元素"
   ]
  },
  {
   "cell_type": "code",
   "execution_count": null,
   "metadata": {},
   "outputs": [],
   "source": [
    "motorcycles = ['honda', 'yamaha', 'suzuki', ]\n",
    "del motorcycles[0]\n",
    "print(motorcycles)"
   ]
  },
  {
   "cell_type": "markdown",
   "metadata": {},
   "source": [
    "pop语句删除列表末尾的元素并返回元素值"
   ]
  },
  {
   "cell_type": "code",
   "execution_count": null,
   "metadata": {},
   "outputs": [],
   "source": [
    "motorcycles = ['honda', 'yamaha', 'suzuki', ]\n",
    "print(motorcycles)\n",
    "\n",
    "popped_motorcycle = motorcycles.pop()\n",
    "print(motorcycles)\n",
    "print(popped_motorcycle)"
   ]
  },
  {
   "cell_type": "markdown",
   "metadata": {},
   "source": [
    "pop语句删除列表任意位置的元素"
   ]
  },
  {
   "cell_type": "code",
   "execution_count": null,
   "metadata": {},
   "outputs": [],
   "source": [
    "motorcycles = ['honda', 'yamaha', 'suzuki', ]\n",
    "first_owned = motorcycles.pop(0)\n",
    "print(f'The first motorcycle I owned was a {first_owned.title()}.')\n",
    "print(motorcycles)"
   ]
  },
  {
   "cell_type": "markdown",
   "metadata": {},
   "source": [
    "remove方法根据值删除列表中的元素"
   ]
  },
  {
   "cell_type": "code",
   "execution_count": null,
   "metadata": {},
   "outputs": [],
   "source": [
    "motorcycles = ['honda', 'yamaha', 'suzuki', 'ducati']\n",
    "print(motorcycles)\n",
    "motorcycles.remove('ducati')\n",
    "print(motorcycles)"
   ]
  },
  {
   "cell_type": "markdown",
   "metadata": {},
   "source": [
    "如果列表中有相同的值，remove方法删除第一个匹配的值"
   ]
  },
  {
   "cell_type": "code",
   "execution_count": null,
   "metadata": {},
   "outputs": [],
   "source": [
    "motorcycles = ['honda', 'yamaha', 'suzuki', 'honda']\n",
    "motorcycles.remove('honda')\n",
    "print(motorcycles)"
   ]
  },
  {
   "cell_type": "markdown",
   "metadata": {},
   "source": [
    "## 习题二"
   ]
  },
  {
   "cell_type": "markdown",
   "metadata": {},
   "source": [
    "补全下面函数的代码，函数输入是一个列表（不为空），函数返回删除列表中第一个元素，然后将删除的元素添加到列表的末尾"
   ]
  },
  {
   "cell_type": "code",
   "execution_count": null,
   "metadata": {},
   "outputs": [],
   "source": [
    "def pop_and_append(lst):\n",
    "    \"\"\"删除列表的第一个元素，并将其添加到列表的末尾\"\"\"\n",
    "    # first_elem = ...    # 删除列表的第一个元素\n",
    "    #                     # 添加删除的元素到列表的末尾\n",
    "    # 大约2行代码\n",
    "    # 你编写的代码从这里开始\n",
    "\n",
    "\n",
    "    # 你编写的代码到这里结束\n",
    "    return lst"
   ]
  },
  {
   "cell_type": "code",
   "execution_count": null,
   "metadata": {},
   "outputs": [],
   "source": [
    "test_pop_and_append(pop_and_append)"
   ]
  },
  {
   "cell_type": "markdown",
   "metadata": {},
   "source": [
    "## 操作列表(二)"
   ]
  },
  {
   "cell_type": "markdown",
   "metadata": {},
   "source": [
    "使用sort()方法对列表进行永久性(in place)排序"
   ]
  },
  {
   "cell_type": "code",
   "execution_count": null,
   "metadata": {},
   "outputs": [],
   "source": [
    "cars = ['bmw', 'audi', 'toyota', 'subaru', ]\n",
    "cars.sort()\n",
    "print(cars)"
   ]
  },
  {
   "cell_type": "code",
   "execution_count": null,
   "metadata": {},
   "outputs": [],
   "source": [
    "cars.sort(reverse=True)\n",
    "print(cars)"
   ]
  },
  {
   "cell_type": "markdown",
   "metadata": {},
   "source": [
    "使用sorted()函数对列表进行临时排序"
   ]
  },
  {
   "cell_type": "code",
   "execution_count": null,
   "metadata": {},
   "outputs": [],
   "source": [
    "cars = ['bmw', 'audi', 'toyota', 'subaru', ]\n",
    "print(f\"The original list:\\n {cars}\\n\")\n",
    "print(f\"The sorted list:\\n {sorted(cars)}\\n\")\n",
    "print(f\"The original list:\\n {cars}\\n\")"
   ]
  },
  {
   "cell_type": "markdown",
   "metadata": {},
   "source": [
    "倒着打印列表：使用reverse()方法"
   ]
  },
  {
   "cell_type": "code",
   "execution_count": null,
   "metadata": {},
   "outputs": [],
   "source": [
    "cars = ['bmw', 'audi', 'toyota', 'subaru', ]\n",
    "print(cars)\n",
    "cars.reverse()\n",
    "print(cars)"
   ]
  },
  {
   "cell_type": "markdown",
   "metadata": {},
   "source": [
    "确定列表的长度： 使用len()函数"
   ]
  },
  {
   "cell_type": "code",
   "execution_count": null,
   "metadata": {},
   "outputs": [],
   "source": [
    "len(cars)"
   ]
  },
  {
   "cell_type": "markdown",
   "metadata": {},
   "source": [
    "很多其他数据类型和数据结构都可以使用len()函数"
   ]
  },
  {
   "cell_type": "code",
   "execution_count": null,
   "metadata": {},
   "outputs": [],
   "source": [
    "len('hello world')"
   ]
  },
  {
   "cell_type": "markdown",
   "metadata": {},
   "source": [
    "使用`for`循环语句遍历整个列表"
   ]
  },
  {
   "cell_type": "code",
   "execution_count": null,
   "metadata": {},
   "outputs": [],
   "source": [
    "magicians = ['alice', 'david', 'carolina', ]\n",
    "for magician in magicians:\n",
    "    print(magician)"
   ]
  },
  {
   "cell_type": "markdown",
   "metadata": {},
   "source": [
    "在Python语言中，使用`:`和缩进表示代码块开始，没有缩进来表示代码块结束"
   ]
  },
  {
   "cell_type": "code",
   "execution_count": null,
   "metadata": {},
   "outputs": [],
   "source": [
    "magicians = ['alice', 'david', 'carolina', ]\n",
    "for magician in magicians:\n",
    "    print(f\"{magician.title()}, that was a great trick!\")\n",
    "    print(f\"I can't wait to see your next trick, {magician.title()}.\\n\")\n",
    "\n",
    "print(\"Thank you, everyone. That was a great magic show!\")"
   ]
  },
  {
   "cell_type": "markdown",
   "metadata": {},
   "source": [
    "使用`range()`函数创建数值列表"
   ]
  },
  {
   "cell_type": "code",
   "execution_count": null,
   "metadata": {},
   "outputs": [],
   "source": [
    "for value in range(1, 5):\n",
    "    print(value)"
   ]
  },
  {
   "cell_type": "markdown",
   "metadata": {},
   "source": [
    "使用range()函数产生1到10的偶数, range()函数的第三个参数表示步长"
   ]
  },
  {
   "cell_type": "code",
   "execution_count": null,
   "metadata": {},
   "outputs": [],
   "source": [
    "for value in range(2, 11, 2):\n",
    "    print(value)"
   ]
  },
  {
   "cell_type": "markdown",
   "metadata": {},
   "source": [
    "range()函数的步长可以是负数"
   ]
  },
  {
   "cell_type": "code",
   "execution_count": null,
   "metadata": {},
   "outputs": [],
   "source": [
    "for value in range(5, 0, -1):\n",
    "    print(value, end=' ')"
   ]
  },
  {
   "cell_type": "markdown",
   "metadata": {},
   "source": [
    "使用range()函数创建数字列表"
   ]
  },
  {
   "cell_type": "code",
   "execution_count": null,
   "metadata": {},
   "outputs": [],
   "source": [
    "numbers = list(range(1, 6))\n",
    "print(numbers)"
   ]
  },
  {
   "cell_type": "markdown",
   "metadata": {},
   "source": [
    "对数字列表进行统计计算"
   ]
  },
  {
   "cell_type": "code",
   "execution_count": null,
   "metadata": {},
   "outputs": [],
   "source": [
    "digits = [1, 2, 3, 4, 5, 6, 7, 8, 9, 0, ]\n",
    "min(digits)"
   ]
  },
  {
   "cell_type": "code",
   "execution_count": null,
   "metadata": {},
   "outputs": [],
   "source": [
    "max(digits)"
   ]
  },
  {
   "cell_type": "code",
   "execution_count": null,
   "metadata": {},
   "outputs": [],
   "source": [
    "sum(digits)"
   ]
  },
  {
   "cell_type": "markdown",
   "metadata": {},
   "source": [
    "## 列表推导（List Comprehension）"
   ]
  },
  {
   "cell_type": "code",
   "execution_count": null,
   "metadata": {},
   "outputs": [],
   "source": [
    "#列表推导格式：[ 变量表达式  for  变量  in  列表       ]                                    ]\n",
    "squares =    [ value**2  for  value  in range(1, 11)]\n",
    "print(squares)"
   ]
  },
  {
   "cell_type": "markdown",
   "metadata": {},
   "source": [
    "## 习题三"
   ]
  },
  {
   "cell_type": "markdown",
   "metadata": {},
   "source": [
    "立方推导式　使用列表推导式生成一个列表，其中包含前 n 个整数的立方。"
   ]
  },
  {
   "cell_type": "code",
   "execution_count": null,
   "metadata": {},
   "outputs": [],
   "source": [
    "def cubic_numbers(n):\n",
    "    \"\"\"返回1到n的立方数列表\"\"\"\n",
    "    # cubes = ...    # 1到n的立方数列表\n",
    "    # 大约1行代码\n",
    "    # 你编写的代码从这里开始\n",
    "    cubes = ...\n",
    "\n",
    "    # 你编写的代码到这里结束\n",
    "    return cubes"
   ]
  },
  {
   "cell_type": "code",
   "execution_count": null,
   "metadata": {},
   "outputs": [],
   "source": [
    "test_cubic_numbers(cubic_numbers)"
   ]
  },
  {
   "cell_type": "markdown",
   "metadata": {},
   "source": [
    "## 习题四"
   ]
  },
  {
   "cell_type": "markdown",
   "metadata": {},
   "source": [
    "使用列表推导将列表中的名字全部变成首字母大写\n",
    "```python\n",
    "scientists = ['albert einstein', 'marie curie', 'issac newton', 'charles darwin']\n",
    "# 期望结果： ['Albert Einstein', 'Marie Curie', 'Issac Newton', 'Charles Darwin']\n",
    "\n",
    "```"
   ]
  },
  {
   "cell_type": "code",
   "execution_count": null,
   "metadata": {},
   "outputs": [],
   "source": [
    "def get_titled_names(names):\n",
    "    \"\"\"返回首字母大写的名字列表\"\"\"\n",
    "    # titled_names = ...    # 首字母大写的名字列表\n",
    "    # 大约1行代码\n",
    "    # 你编写的代码从这里开始\n",
    "    titled_names = ...\n",
    "\n",
    "    # 你编写的代码到这里结束\n",
    "    return titled_names"
   ]
  },
  {
   "cell_type": "code",
   "execution_count": null,
   "metadata": {},
   "outputs": [],
   "source": [
    "test_get_titled_names(get_titled_names)"
   ]
  },
  {
   "cell_type": "markdown",
   "metadata": {},
   "source": [
    "## 列表切片（Slice）"
   ]
  },
  {
   "cell_type": "markdown",
   "metadata": {},
   "source": [
    "打印列表的前三个元素，使用切片从0开始，到索引3（不包括索引3）结束"
   ]
  },
  {
   "cell_type": "code",
   "execution_count": null,
   "metadata": {},
   "outputs": [],
   "source": [
    "players = ['charles', 'martina', 'michael', 'florence', 'eli', ]\n",
    "print(players[0:3])  # 切片的长度等于3-0=3"
   ]
  },
  {
   "cell_type": "code",
   "execution_count": null,
   "metadata": {},
   "outputs": [],
   "source": [
    "print(players[1:4])"
   ]
  },
  {
   "cell_type": "markdown",
   "metadata": {},
   "source": [
    "切片从索引0开始的时候，可以省略第一个索引"
   ]
  },
  {
   "cell_type": "code",
   "execution_count": null,
   "metadata": {},
   "outputs": [],
   "source": [
    "print(players[:4])"
   ]
  },
  {
   "cell_type": "markdown",
   "metadata": {},
   "source": [
    "切片到列表末尾的时候，可以省略第二个索引"
   ]
  },
  {
   "cell_type": "code",
   "execution_count": null,
   "metadata": {},
   "outputs": [],
   "source": [
    "print(players[2:])"
   ]
  },
  {
   "cell_type": "markdown",
   "metadata": {},
   "source": [
    "切片的开始索引和结束索引都可以是负数，`players[-3:]`表示最后三个元素"
   ]
  },
  {
   "cell_type": "code",
   "execution_count": null,
   "metadata": {},
   "outputs": [],
   "source": [
    "print(players[-3:])"
   ]
  },
  {
   "cell_type": "markdown",
   "metadata": {},
   "source": [
    "切片第二个冒号的后面是步长，当没有使用步长时，步长默认是1"
   ]
  },
  {
   "cell_type": "code",
   "execution_count": null,
   "metadata": {},
   "outputs": [],
   "source": [
    "numbers = list(range(1, 11))\n",
    "print(numbers[1:10:2])"
   ]
  },
  {
   "cell_type": "markdown",
   "metadata": {},
   "source": [
    "步长可以为负数，负数步长可以用来倒着打印列表"
   ]
  },
  {
   "cell_type": "code",
   "execution_count": null,
   "metadata": {},
   "outputs": [],
   "source": [
    "print(numbers[9:0:-2])"
   ]
  },
  {
   "cell_type": "code",
   "execution_count": null,
   "metadata": {},
   "outputs": [],
   "source": [
    "print(numbers[-1:-10:-2])"
   ]
  },
  {
   "cell_type": "markdown",
   "metadata": {},
   "source": [
    "切片的语法可以使用到很多顺序结构的数据上"
   ]
  },
  {
   "cell_type": "code",
   "execution_count": null,
   "metadata": {},
   "outputs": [],
   "source": [
    "message = \"Hello World!\"\n",
    "print(message[:5])"
   ]
  },
  {
   "cell_type": "markdown",
   "metadata": {},
   "source": [
    "## 复制列表"
   ]
  },
  {
   "cell_type": "markdown",
   "metadata": {},
   "source": [
    "- 列表变量和简单变量一样，都不是盒子，都是标签\n",
    "- 列表变量不存储列表的值，而是存储列表的地址\n",
    "- 两个列表变量可以指向同一个列表\n",
    "- 和简单变量不同，列表变量是可变的，列表中存储的值可以改变\n",
    "- 当两个列表变量指向同一个列表时，一个列表变量的改变会影响另一个列表变量"
   ]
  },
  {
   "cell_type": "code",
   "execution_count": null,
   "metadata": {},
   "outputs": [],
   "source": [
    "my_food = ['pizza', 'falafel', 'carrot cake', ]\n",
    "friend_food = my_food  # 两个列表指向同一个列表\n",
    "\n",
    "# 两个列表变量的值会同时改变\n",
    "friend_food.append('cannoli')\n",
    "my_food.append('ice cream')\n",
    "\n",
    "print(my_food)\n",
    "print(friend_food)\n",
    "print(id(my_food))\n",
    "print(id(friend_food))"
   ]
  },
  {
   "cell_type": "code",
   "execution_count": null,
   "metadata": {},
   "outputs": [],
   "source": [
    "my_food = ['pizza', 'falafel', 'carrot cake', ]\n",
    "\n",
    "friend_food = my_food[:]   # 复制并创建一个新的列表\n",
    "\n",
    "friend_food.append('cannoli')  # 只有friend_food列表的值会改变\n",
    "my_food.append('ice cream')   # 只有my_food列表的值会改变\n",
    "\n",
    "print(my_food)\n",
    "print(friend_food)\n",
    "print(id(my_food))\n",
    "print(id(friend_food))"
   ]
  },
  {
   "cell_type": "markdown",
   "metadata": {},
   "source": [
    "使用extend方法扩展列表,也可以使用`+`连接两个列表"
   ]
  },
  {
   "cell_type": "code",
   "execution_count": null,
   "metadata": {},
   "outputs": [],
   "source": [
    "numbers = list(range(1, 11))\n",
    "\n",
    "# extend方法扩展了原有列表\n",
    "numbers.extend([11, 12, 13])\n",
    "print(numbers)\n",
    "\n",
    "# 使用加号连接两个列表，然后创建了新的列表连接\n",
    "numbers = numbers + [14, 15]\n",
    "\n",
    "print(numbers)"
   ]
  },
  {
   "cell_type": "markdown",
   "metadata": {},
   "source": [
    "## 习题五"
   ]
  },
  {
   "cell_type": "markdown",
   "metadata": {},
   "source": [
    "函数的输入是一个姓名列表，请复制这个列表，将列表中的姓名首字母大写，然后对姓名列表进行排序，最后返回排序后的列表"
   ]
  },
  {
   "cell_type": "code",
   "execution_count": null,
   "metadata": {},
   "outputs": [],
   "source": [
    "def sort_capitalized_names(names):\n",
    "    \"\"\"返回首字母大写的名字列表，按字母顺序排序\"\"\"\n",
    "    # sorted_names = ...    # 首字母大写的名字列表，按字母顺序排序\n",
    "    # 大约1-2行代码\n",
    "    # 你编写的代码从这里开始\n",
    "    sorted_names = ...\n",
    "\n",
    "    # 你编写的代码到这里结束\n",
    "    return sorted_names"
   ]
  },
  {
   "cell_type": "code",
   "execution_count": null,
   "metadata": {},
   "outputs": [],
   "source": [
    "test_sort_capitalized_names(sort_capitalized_names)"
   ]
  },
  {
   "cell_type": "markdown",
   "metadata": {},
   "source": [
    "## 元组（Tuple）"
   ]
  },
  {
   "cell_type": "markdown",
   "metadata": {},
   "source": [
    "使用圆括号来表示元组，圆括号中元组的元素之间用逗号分隔"
   ]
  },
  {
   "cell_type": "code",
   "execution_count": null,
   "metadata": {},
   "outputs": [],
   "source": [
    "dimensions = (200, 50)\n",
    "print(dimensions[0])\n",
    "print(dimensions[1])"
   ]
  },
  {
   "cell_type": "markdown",
   "metadata": {},
   "source": [
    "遍历元组：元组和列表一样可以使用索引来遍历"
   ]
  },
  {
   "cell_type": "code",
   "execution_count": null,
   "metadata": {},
   "outputs": [],
   "source": [
    "for dimension in dimensions:\n",
    "    print(dimension)"
   ]
  },
  {
   "cell_type": "markdown",
   "metadata": {},
   "source": [
    "元组中数据是不可以修改的"
   ]
  },
  {
   "cell_type": "code",
   "execution_count": null,
   "metadata": {},
   "outputs": [],
   "source": [
    "# dimensions[0] = 250"
   ]
  },
  {
   "cell_type": "markdown",
   "metadata": {},
   "source": [
    "只包含一个元素的元组，必须在元素后面加上逗号"
   ]
  },
  {
   "cell_type": "code",
   "execution_count": null,
   "metadata": {},
   "outputs": [],
   "source": [
    "m_t = (3, )\n",
    "m_t"
   ]
  },
  {
   "cell_type": "markdown",
   "metadata": {},
   "source": [
    "元组的不可修改是相对的，如果元组包含了列表元素，该列表元素是可以被修改的，因此不要把可变对象(例如：list)保存到元组中."
   ]
  },
  {
   "cell_type": "code",
   "execution_count": null,
   "metadata": {},
   "outputs": [],
   "source": [
    "my_tuple = (1, 2, [10, 20, 30])\n",
    "print(my_tuple)\n",
    "\n",
    "my_tuple[2].append(40)\n",
    "print(my_tuple)\n",
    "\n",
    "my_tuple[2].extend([50, 60])\n",
    "print(my_tuple)"
   ]
  },
  {
   "cell_type": "markdown",
   "metadata": {},
   "source": [
    "## if语句"
   ]
  },
  {
   "cell_type": "markdown",
   "metadata": {},
   "source": [
    "cars = ['audi', 'bmw', 'subaru', 'toyota']\n",
    "for car in cars:\n",
    "    if car == 'bmw':\n",
    "        print(car.upper())\n",
    "    else:\n",
    "        print(car.title())"
   ]
  },
  {
   "cell_type": "markdown",
   "metadata": {},
   "source": [
    "### 条件测试\n",
    "if语句的核心是一个值为`True`或`False`的表达式\n",
    "- `==` 和 `is` 操作符的区别\n",
    "- 检测是否不相等\n",
    "- 大于、小于\n",
    "- 使用and检查多个条件\n",
    "- 使用or检查多个条件\n",
    "- 检查是否在列表中： in 操作符\n",
    "- 检查某个数是不是为0，不为0表示True，0表示False"
   ]
  },
  {
   "cell_type": "code",
   "execution_count": null,
   "metadata": {},
   "outputs": [],
   "source": [
    "car = 'bmw'\n",
    "car == 'bmw'"
   ]
  },
  {
   "cell_type": "markdown",
   "metadata": {},
   "source": [
    "`==`操作符比较两个变量的值是否相等"
   ]
  },
  {
   "cell_type": "code",
   "execution_count": null,
   "metadata": {},
   "outputs": [],
   "source": [
    "print(cars == cars[:])\n",
    "print([1, 2, 3] == list(range(1, 4)))\n",
    "print((1, 2, 3) == tuple(range(1, 4)))\n",
    "print(1 == 1.0)\n",
    "print(1+0j == 1)\n",
    "print(1 == True)     # True == 1\n",
    "print(0 == False)    # False == 0"
   ]
  },
  {
   "cell_type": "markdown",
   "metadata": {},
   "source": [
    "`is`操作符比较两个变量的id是否相同"
   ]
  },
  {
   "cell_type": "code",
   "execution_count": null,
   "metadata": {},
   "outputs": [],
   "source": [
    "print(cars is cars[:])\n",
    "print([1, 2, 3] is list(range(1, 4)))\n",
    "print((1, 2, 3) is tuple(range(1, 4)))\n",
    "print(1 is 1.0)\n",
    "print(1+0j is 1)\n",
    "print(1 is True)     # True == 1\n",
    "print(0 is False)    # False == 0"
   ]
  },
  {
   "cell_type": "markdown",
   "metadata": {},
   "source": [
    "如果两个变量使用`id()`函数返回相同的结果，对他们使用`is`会返回`True`（充分必要条件）"
   ]
  },
  {
   "cell_type": "code",
   "execution_count": null,
   "metadata": {},
   "outputs": [],
   "source": [
    "cars = ['audi', 'bmw', 'subaru', 'toyota']\n",
    "print(cars == cars[:])\n",
    "print(cars is cars[:])\n",
    "\n",
    "my_cars = cars\n",
    "print(my_cars == cars)\n",
    "print(my_cars is cars)"
   ]
  },
  {
   "cell_type": "code",
   "execution_count": null,
   "metadata": {},
   "outputs": [],
   "source": [
    "x = 1\n",
    "y = 1.0\n",
    "print(x == y)\n",
    "print(x is y)"
   ]
  },
  {
   "cell_type": "markdown",
   "metadata": {},
   "source": [
    "检测是否不相等：`!=`"
   ]
  },
  {
   "cell_type": "code",
   "execution_count": null,
   "metadata": {},
   "outputs": [],
   "source": [
    "requested_toppings = 'mushrooms'\n",
    "if requested_toppings != 'anchovies':\n",
    "    print(\"Hold the anchovies!\")"
   ]
  },
  {
   "cell_type": "markdown",
   "metadata": {},
   "source": [
    "检测不是同一个对象：`is not`"
   ]
  },
  {
   "cell_type": "code",
   "execution_count": null,
   "metadata": {},
   "outputs": [],
   "source": [
    "cars2 = cars[:]\n",
    "print(cars2 is not cars)"
   ]
  },
  {
   "cell_type": "markdown",
   "metadata": {},
   "source": [
    "数值比较大小：`>`, `>=`, `<`, `<=`"
   ]
  },
  {
   "cell_type": "code",
   "execution_count": null,
   "metadata": {},
   "outputs": [],
   "source": [
    "age = 18\n",
    "print(age > 18)\n",
    "print(age >= 18)\n",
    "print(age < 18)\n",
    "print(age <= 18)"
   ]
  },
  {
   "cell_type": "markdown",
   "metadata": {},
   "source": [
    "使用`and`和`or`检查多个条件"
   ]
  },
  {
   "cell_type": "code",
   "execution_count": null,
   "metadata": {},
   "outputs": [],
   "source": [
    "age_0 = 22\n",
    "age_1 = 18\n",
    "print(age_0 >= 21 and age_1 >= 21)\n",
    "print(age_0 >= 21 or age_1 >= 21)"
   ]
  },
  {
   "cell_type": "markdown",
   "metadata": {},
   "source": [
    "- 使用`in`操作符检查特定值是否包含在列表、元组或者字符串中\n",
    "- `not in`检查特定值是否不包含在列表、元组或者字符串中\n",
    "- 所有可迭代（iterative）的对象"
   ]
  },
  {
   "cell_type": "code",
   "execution_count": null,
   "metadata": {},
   "outputs": [],
   "source": [
    "requested_toppings = ['mushrooms', 'onions', 'pineapple']\n",
    "print('mushrooms' in requested_toppings)\n",
    "print('onions' not in requested_toppings)"
   ]
  },
  {
   "cell_type": "markdown",
   "metadata": {},
   "source": [
    "简化多个条件"
   ]
  },
  {
   "cell_type": "code",
   "execution_count": null,
   "metadata": {},
   "outputs": [],
   "source": [
    "name = 'Jack'\n",
    "pwd = '1234'\n",
    "print((name, pwd) == ('Jack', '1234'))"
   ]
  },
  {
   "cell_type": "code",
   "execution_count": null,
   "metadata": {},
   "outputs": [],
   "source": [
    "x = 1\n",
    "print(x == 0 or x == 1)\n",
    "print(x in (0, 1))"
   ]
  },
  {
   "cell_type": "markdown",
   "metadata": {},
   "source": [
    "`if-else`语句"
   ]
  },
  {
   "cell_type": "code",
   "execution_count": null,
   "metadata": {},
   "outputs": [],
   "source": [
    "age = 17\n",
    "if age >= 18:\n",
    "    print(\"You are old enough to vote!\")\n",
    "    print(\"Have you registered to vote yet?\")\n",
    "else:\n",
    "    print(\"Sorry, you are too young to vote.\")\n",
    "    print(\"Please register to vote as soon as you turn 18!\")"
   ]
  },
  {
   "cell_type": "markdown",
   "metadata": {},
   "source": [
    "`if...else`表达式"
   ]
  },
  {
   "cell_type": "code",
   "execution_count": null,
   "metadata": {},
   "outputs": [],
   "source": [
    "a, b = 10, 20\n",
    "c = a if a else b\n",
    "print(c)"
   ]
  },
  {
   "cell_type": "markdown",
   "metadata": {},
   "source": [
    "`if-elif-else`语句"
   ]
  },
  {
   "cell_type": "code",
   "execution_count": null,
   "metadata": {},
   "outputs": [],
   "source": [
    "age = 12\n",
    "if age < 4:\n",
    "    print(\"Your admission cost is $0.\")\n",
    "elif age < 18:\n",
    "    print(\"Your admission cost is $5.\")\n",
    "else:\n",
    "    print(\"Your admission cost is $10.\")"
   ]
  },
  {
   "cell_type": "markdown",
   "metadata": {},
   "source": [
    "`:=` 海象（Walrus）运算符(Python 3.8+)\n",
    "\n",
    "- `if (value := round(num)) > 0`\n",
    "- 使用运算符右边对左边赋值\n",
    "- 然后返回运算符左边的值"
   ]
  },
  {
   "cell_type": "code",
   "execution_count": null,
   "metadata": {},
   "outputs": [],
   "source": [
    "# 不使用海象运算符\n",
    "x = 60\n",
    "y = 50\n",
    "\n",
    "diff = x-y\n",
    "if diff > 0:\n",
    "    print(f\"Diff is {diff}.\")"
   ]
  },
  {
   "cell_type": "code",
   "execution_count": null,
   "metadata": {},
   "outputs": [],
   "source": [
    "# 使用海象运算符\n",
    "x = 60\n",
    "y = 50\n",
    "\n",
    "if (diff:= x-y) > 0:\n",
    "    print(\"Diff is positive.\")"
   ]
  },
  {
   "cell_type": "markdown",
   "metadata": {},
   "source": [
    "[海象运算符的文章](https://realpython.com/python-walrus-operator/)"
   ]
  },
  {
   "cell_type": "markdown",
   "metadata": {},
   "source": [
    "判断列表是否为空"
   ]
  },
  {
   "cell_type": "code",
   "execution_count": null,
   "metadata": {},
   "outputs": [],
   "source": [
    "requested_toppings = []\n",
    "\n",
    "if requested_toppings:\n",
    "    for topping in requested_toppings:\n",
    "        print(f\"Adding {topping}.\")\n",
    "    print(\"\\nFinished making your pizza!\")\n",
    "else:\n",
    "    print(\"Are you sure you want a plain pizza?\")"
   ]
  },
  {
   "cell_type": "markdown",
   "metadata": {},
   "source": [
    "判断字符串是否为空"
   ]
  },
  {
   "cell_type": "code",
   "execution_count": null,
   "metadata": {},
   "outputs": [],
   "source": [
    "msg = ''\n",
    "\n",
    "if msg:\n",
    "    print(\"msg is not empty\")\n",
    "else:\n",
    "    print(\"msg is empty\")"
   ]
  },
  {
   "cell_type": "markdown",
   "metadata": {},
   "source": [
    "判断数值是否为0"
   ]
  },
  {
   "cell_type": "code",
   "execution_count": null,
   "metadata": {},
   "outputs": [],
   "source": [
    "x = 0.000\n",
    "\n",
    "if x:\n",
    "    print(\"x is not zero\")\n",
    "else:\n",
    "    print(\"x is zero\")"
   ]
  },
  {
   "cell_type": "code",
   "execution_count": null,
   "metadata": {},
   "outputs": [],
   "source": [
    "a = 0 + 0.00j\n",
    "print(a == 0)\n",
    "if a:\n",
    "    print(\"a is not zero\")\n",
    "else:\n",
    "    print(\"a is zero\")"
   ]
  },
  {
   "cell_type": "markdown",
   "metadata": {},
   "source": [
    "## 习题六"
   ]
  },
  {
   "cell_type": "markdown",
   "metadata": {},
   "source": [
    "编写一个函数根据输入的里程和年龄计算火车票价，正常票价为里程乘以0.3，如果年龄低于6岁，火车票免费，如果是6到14岁，火车票打五折，如果是60以及60岁以上，火车票打七折，其他情况为正常票价。要求函数返回元组: (票价, 折扣)\n",
    "\n",
    "例如：\n",
    "- 输入里程100，年龄5，返回(0, 0)；\n",
    "- 输入里程100，年龄10，返回(15, 0.5)；\n",
    "- 输入里程100，年龄30，返回(30, 1)；\n",
    "- 输入里程100，年龄65，返回(21, 0.7)；\n"
   ]
  },
  {
   "cell_type": "code",
   "execution_count": null,
   "metadata": {},
   "outputs": [],
   "source": [
    "def get_ticket_price(miles, age):\n",
    "    \"\"\"根据里程以及乘客的年龄计算火车票价格\"\"\"\n",
    "    # base_price = ...    # 火车票的基础价格\n",
    "    # if age < ... :     # 如果乘客的年龄小于...\n",
    "    #     discount = ...        # 折扣    #\n",
    "    # elif  ...            # 其他的条件分支\n",
    "    #     discount = ...\n",
    "    # ticket_price = ...    # 根据折扣计算火车票价格\n",
    "    # 大约10行代码\n",
    "    # 你编写的代码从这里开始\n",
    "\n",
    "\n",
    "    # 你编写的代码到这里结束\n",
    "    return ticket_price, discount"
   ]
  },
  {
   "cell_type": "code",
   "execution_count": null,
   "metadata": {},
   "outputs": [],
   "source": [
    "test_get_ticket_price(get_ticket_price)"
   ]
  },
  {
   "cell_type": "markdown",
   "metadata": {},
   "source": [
    "## 字典(dict)"
   ]
  },
  {
   "cell_type": "code",
   "execution_count": null,
   "metadata": {},
   "outputs": [],
   "source": [
    "# 创建字典\n",
    "alien_0 = {'color': 'green', 'points': 5}\n",
    "\n",
    "# 读取字典中的值\n",
    "print(alien_0['color'])\n",
    "print(alien_0['points'])"
   ]
  },
  {
   "cell_type": "markdown",
   "metadata": {},
   "source": [
    "添加键值对"
   ]
  },
  {
   "cell_type": "code",
   "execution_count": null,
   "metadata": {},
   "outputs": [],
   "source": [
    "alien_0['x_position'] = 0\n",
    "alien_0['y_position'] = 25\n",
    "print(alien_0)"
   ]
  },
  {
   "cell_type": "markdown",
   "metadata": {},
   "source": [
    "创建空字典"
   ]
  },
  {
   "cell_type": "code",
   "execution_count": null,
   "metadata": {},
   "outputs": [],
   "source": [
    "alien_0 = {}\n",
    "print(alien_0)\n",
    "alien_0['color'] = 'green'\n",
    "alien_0['points'] = 5\n",
    "print(alien_0)"
   ]
  },
  {
   "cell_type": "markdown",
   "metadata": {},
   "source": [
    "修改字典中的值"
   ]
  },
  {
   "cell_type": "code",
   "execution_count": null,
   "metadata": {},
   "outputs": [],
   "source": [
    "alien_0['color'] = 'yellow'\n",
    "print(f\"The alien is now {alien_0['color']}.\")"
   ]
  },
  {
   "cell_type": "markdown",
   "metadata": {},
   "source": [
    "删除键值对"
   ]
  },
  {
   "cell_type": "code",
   "execution_count": null,
   "metadata": {},
   "outputs": [],
   "source": [
    "del alien_0['points']\n",
    "print(alien_0)"
   ]
  },
  {
   "cell_type": "markdown",
   "metadata": {},
   "source": [
    "由类似对象组成的字典"
   ]
  },
  {
   "cell_type": "code",
   "execution_count": null,
   "metadata": {},
   "outputs": [],
   "source": [
    "favorite_languages = {\n",
    "    'jen': 'python',\n",
    "    'sarah': 'c',\n",
    "    'edward': 'ruby',\n",
    "    'phil': 'python',\n",
    "}\n",
    "\n",
    "language = favorite_languages['sarah'].title()\n",
    "print(f\"Sarah's favorite language is {language}.\")"
   ]
  },
  {
   "cell_type": "markdown",
   "metadata": {},
   "source": [
    "如果键不存在，使用字典的[]语法会报错，这时应该使用get()方法来返回，如果键存在将返回键所对应的值，如果键不存在则返回一个默认值。"
   ]
  },
  {
   "cell_type": "code",
   "execution_count": null,
   "metadata": {},
   "outputs": [],
   "source": [
    "alien_0 = {'color': 'green', 'speed': 'slow'}\n",
    "# print(alien_0['points'])"
   ]
  },
  {
   "cell_type": "code",
   "execution_count": null,
   "metadata": {},
   "outputs": [],
   "source": [
    "print(alien_0.get('points', 'No point value assigned.'))"
   ]
  },
  {
   "cell_type": "markdown",
   "metadata": {},
   "source": [
    "遍历字典键值对"
   ]
  },
  {
   "cell_type": "code",
   "execution_count": null,
   "metadata": {},
   "outputs": [],
   "source": [
    "user_0 = {\n",
    "    'username': 'efermi',\n",
    "    'first': 'enrico',\n",
    "    'last': 'fermi',\n",
    "}\n",
    "\n",
    "for key, value in user_0.items():\n",
    "    print(f'\\nKey:{key}')\n",
    "    print(f'Value:{value}')"
   ]
  },
  {
   "cell_type": "code",
   "execution_count": null,
   "metadata": {},
   "outputs": [],
   "source": [
    "for name, language in favorite_languages.items():\n",
    "    print(f\"{name.title()}'s favorite language is {language.title()}.\")"
   ]
  },
  {
   "cell_type": "markdown",
   "metadata": {},
   "source": [
    "遍历字典的键"
   ]
  },
  {
   "cell_type": "code",
   "execution_count": null,
   "metadata": {},
   "outputs": [],
   "source": [
    "for name in favorite_languages.keys():\n",
    "    print(name.title())"
   ]
  },
  {
   "cell_type": "markdown",
   "metadata": {},
   "source": [
    "对字典的键进行排序"
   ]
  },
  {
   "cell_type": "code",
   "execution_count": null,
   "metadata": {},
   "outputs": [],
   "source": [
    "print(sorted(favorite_languages.keys()))"
   ]
  },
  {
   "cell_type": "markdown",
   "metadata": {},
   "source": [
    "遍历字典中的值"
   ]
  },
  {
   "cell_type": "code",
   "execution_count": null,
   "metadata": {},
   "outputs": [],
   "source": [
    "for language in favorite_languages.values():\n",
    "    print(language.title())"
   ]
  },
  {
   "cell_type": "markdown",
   "metadata": {},
   "source": [
    "使用set()函数剔除重复项"
   ]
  },
  {
   "cell_type": "code",
   "execution_count": null,
   "metadata": {},
   "outputs": [],
   "source": [
    "print(set(favorite_languages.values()))"
   ]
  },
  {
   "cell_type": "markdown",
   "metadata": {},
   "source": [
    "### set集合数据结构\n",
    "- 不包含重复的元素\n",
    "- 和dict同样使用`{  }`来定义, 但只包含键，没有值。\n",
    "- 空的集合用`set()`表示, `{}`表示的是空的字典"
   ]
  },
  {
   "cell_type": "markdown",
   "metadata": {},
   "source": [
    "嵌套的数据结构： 字典列表"
   ]
  },
  {
   "cell_type": "code",
   "execution_count": null,
   "metadata": {},
   "outputs": [],
   "source": [
    "alien_0 = {'color': 'green', 'points': 5}\n",
    "alien_1 = {'color': 'yellow', 'points': 10}\n",
    "alien_2 = {'color': 'red', 'points': 15}\n",
    "\n",
    "aliens = [alien_0, alien_1, alien_2]\n",
    "aliens"
   ]
  },
  {
   "cell_type": "markdown",
   "metadata": {},
   "source": [
    "在字典中存储列表"
   ]
  },
  {
   "cell_type": "code",
   "execution_count": null,
   "metadata": {},
   "outputs": [],
   "source": [
    "pizza = {\n",
    "    'crust': 'thick',\n",
    "    'toppings': ['mushrooms', 'extra cheese'],\n",
    "}\n",
    "\n",
    "print(pizza)"
   ]
  },
  {
   "cell_type": "code",
   "execution_count": null,
   "metadata": {},
   "outputs": [],
   "source": [
    "favorite_languages = {\n",
    "    'jen': ['python', 'ruby'],\n",
    "    'sarah': ['c'],\n",
    "    'edward': ['ruby', 'go'],\n",
    "    'phil': ['python', 'haskell'],\n",
    "}\n",
    "\n",
    "print(favorite_languages)"
   ]
  },
  {
   "cell_type": "markdown",
   "metadata": {},
   "source": [
    "在字典中存储列表"
   ]
  },
  {
   "cell_type": "code",
   "execution_count": null,
   "metadata": {},
   "outputs": [],
   "source": [
    "users = {\n",
    "    'aeinstein': {\n",
    "        'first': 'albert',\n",
    "        'last': 'einstein',\n",
    "        'location': 'princeton',\n",
    "        },\n",
    "    'mcurie': {\n",
    "        'first': 'marie',\n",
    "        'last': 'curie',\n",
    "        'location': 'paris',\n",
    "        },\n",
    "}\n",
    "\n",
    "print(users)"
   ]
  },
  {
   "cell_type": "markdown",
   "metadata": {},
   "source": [
    "## while循环"
   ]
  },
  {
   "cell_type": "markdown",
   "metadata": {},
   "source": [
    "当我们遍历的列表在循环过程中不断变化时，应该使用while循环，不能使用for循环"
   ]
  },
  {
   "cell_type": "code",
   "execution_count": null,
   "metadata": {},
   "outputs": [],
   "source": [
    "# 未被确认的用户列表\n",
    "unconfirmed_users = ['alice', 'brian', 'candace']\n",
    "\n",
    "# 已经被确认的用户列表\n",
    "confirmed_users = []\n",
    "\n",
    "# 当列表不为空时，继续循环，在循环过程中列表元素会被删除或增加，这时应该使用while循环\n",
    "while unconfirmed_users:\n",
    "    current_user = unconfirmed_users.pop()\n",
    "    print(f\"Verifying user: {current_user.title()}\")\n",
    "    confirmed_users.append(current_user)\n",
    "\n",
    "print(\"\\nThe following users have been confirmed:\")\n",
    "for confirmed_user in confirmed_users:\n",
    "    print(confirmed_user.title())"
   ]
  },
  {
   "cell_type": "markdown",
   "metadata": {},
   "source": [
    "## 习题七"
   ]
  },
  {
   "cell_type": "markdown",
   "metadata": {},
   "source": [
    "编写一个函数计算购物总额,输入为两个字典:\n",
    "1. 商品单价字典 prices\n",
    "2. 购买数量字典 quantities \n",
    "\n",
    "函数返回元组:(总价格, 商品种类数)\n",
    "\n",
    "测试用例:\n",
    "```python\n",
    "prices = {'apple': 5, 'banana': 3, 'orange': 4}\n",
    "quantities = {'apple': 2, 'banana': 3}\n",
    "calculate_total(prices, quantities)  # 返回 (19, 2)\n",
    "\n",
    "prices = {'apple': 5, 'banana': 3, 'orange': 4}\n",
    "quantities = {'orange': 1}\n",
    "calculate_total(prices, quantities)  # 返回 (4, 1)\n",
    "```\n",
    "\n",
    "注意：测试用例的数据中quantities字典的键一定会出现在prices字典中。"
   ]
  },
  {
   "cell_type": "code",
   "execution_count": null,
   "metadata": {},
   "outputs": [],
   "source": [
    "def calculate_total(prices, quantities):\n",
    "    \"\"\"计算商品总价\"\"\"\n",
    "    # total = ...    # 初始化总价\n",
    "    # count = ...    # 初始化商品种类数\n",
    "    # for   ...  :    # 使用for循环或者while循环遍历quantities字典\n",
    "    #   price = ...       # 获取商品的单价\n",
    "    #   quantity = ...    # 获取商品的数量\n",
    "    #   total += ...      # 更新商品的总价\n",
    "    #   count += ...      # 更新商品的种类数\n",
    "    # return total, count\n",
    "    # 大约5 - 8行代码\n",
    "    # 你编写的代码从这里开始\n",
    "\n",
    "\n",
    "\n",
    "    # 你编写的代码到这里结束\n",
    "    return total, count"
   ]
  },
  {
   "cell_type": "code",
   "execution_count": null,
   "metadata": {},
   "outputs": [],
   "source": [
    "test_calculate_total(calculate_total)"
   ]
  },
  {
   "cell_type": "markdown",
   "metadata": {},
   "source": [
    "## 实验总结"
   ]
  },
  {
   "cell_type": "markdown",
   "metadata": {},
   "source": [
    "请尽量使用自己的语言回答下面的问题。"
   ]
  },
  {
   "cell_type": "markdown",
   "metadata": {},
   "source": [
    "问题一： list是Python中最常用的数据结构，请问list主要有哪些操作，列举至少6个操作，分析一下这些操作中哪些是效率较高的，哪些是效率较低的？"
   ]
  },
  {
   "cell_type": "markdown",
   "metadata": {},
   "source": []
  },
  {
   "cell_type": "markdown",
   "metadata": {},
   "source": [
    "问题2： 分析为什么遍历的列表在循环过程中不断变化时，应该使用while循环，不能使用for循环？"
   ]
  },
  {
   "cell_type": "markdown",
   "metadata": {},
   "source": []
  },
  {
   "cell_type": "markdown",
   "metadata": {},
   "source": [
    "## 生成实验报告"
   ]
  },
  {
   "cell_type": "markdown",
   "metadata": {},
   "source": [
    "将实验报告pdf文件提交到对应的班级和实验的腾讯文档收集表:[文档汇总地址](https://docs.qq.com/doc/DWUxJanVwYXFpZmF2)"
   ]
  },
  {
   "cell_type": "code",
   "execution_count": null,
   "metadata": {},
   "outputs": [],
   "source": [
    "import sys\n",
    "import os\n",
    "\n",
    "# Add the root directory (parent directory of `util`) to sys.path\n",
    "root_dir = os.path.abspath(\"..\")  # Adjust based on the structure\n",
    "sys.path.append(root_dir)\n",
    "\n",
    "from util import notebook2pdf, notebook_info_extractor\n",
    "\n",
    "notebook_file = \"实验二-列表元组字典.ipynb\"\n",
    "stu_info  = notebook_info_extractor.extract_from_ipynb(notebook_file)\n",
    "stu_grade = grade_all_tests([get_first_last, pop_and_append, cubic_numbers,\n",
    "                 get_titled_names, sort_capitalized_names,\n",
    "                 get_ticket_price, calculate_total])\n",
    "\n",
    "html_file = \"notebook2.html\"\n",
    "pdf_file = f\"{stu_info['class_id']}-{stu_info['student_id']}-{stu_info['name']}-实验报告2-{stu_grade}.pdf\"\n",
    "\n",
    "notebook2pdf.notebook_to_html(notebook_file, html_file)\n",
    "notebook2pdf.html_to_pdf(html_file, pdf_file)"
   ]
  }
 ],
 "metadata": {
  "kernelspec": {
   "display_name": "base",
   "language": "python",
   "name": "python3"
  },
  "language_info": {
   "codemirror_mode": {
    "name": "ipython",
    "version": 3
   },
   "file_extension": ".py",
   "mimetype": "text/x-python",
   "name": "python",
   "nbconvert_exporter": "python",
   "pygments_lexer": "ipython3",
   "version": "3.9.7"
  }
 },
 "nbformat": 4,
 "nbformat_minor": 2
}
