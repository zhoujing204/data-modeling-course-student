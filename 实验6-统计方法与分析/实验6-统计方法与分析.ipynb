{
 "cells": [
  {
   "cell_type": "markdown",
   "metadata": {},
   "source": [
    "# 实验6-统计方法与分析"
   ]
  },
  {
   "cell_type": "markdown",
   "metadata": {},
   "source": [
    "<table style=\"margin: 0 auto; width: 30%; border-collapse: collapse; border: 1px solid black;\" data-id=\"student-info\">  \n",
    "    <colgroup>  \n",
    "        <col style=\"width: 35%;\">  \n",
    "        <col style=\"width: 65%;\">  \n",
    "    </colgroup>  \n",
    "    <tr>  \n",
    "        <td style=\"border: 1px solid black;\">班级</td> <td style=\"border: 1px solid black;\">未填写</td>  \n",
    "    </tr>  \n",
    "    <tr>  \n",
    "        <td style=\"border: 1px solid black;\">学号</td> <td style=\"border: 1px solid black;\">未填写</td>  \n",
    "    </tr>  \n",
    "    <tr>  \n",
    "        <td style=\"border: 1px solid black;\">姓名</td> <td style=\"border: 1px solid black;\">未填写</td>  \n",
    "    </tr>  \n",
    "    <tr>  \n",
    "        <td style=\"border: 1px solid black;\">Email</td> <td style=\"border: 1px solid black;\">未填写</td>  \n",
    "    </tr>  \n",
    "</table>"
   ]
  },
  {
   "cell_type": "markdown",
   "metadata": {},
   "source": [
    "- 统计学的定义及其重要性\n",
    "- 数据类型\n",
    "- 正态分布\n",
    "- 单变量分析\n",
    "- 置信区间\n",
    "- t-test"
   ]
  },
  {
   "cell_type": "markdown",
   "metadata": {},
   "source": [
    "## 实验步骤"
   ]
  },
  {
   "cell_type": "markdown",
   "metadata": {},
   "source": [
    "1. 打开Vscode,选择\"实验一-Python变量.ipynb\",在Vscode右上角点击Select Kernel, 然后选择base(Python 3.x.x)。\n",
    "2. 从上至下按照顺序执行该文件中的Python代码。\n",
    "3. 阅读实验给出的实验指导和代码范例。\n",
    "4. 按照实验指导完成实验习题。\n",
    "5. 在习题后面的单元格执行测试代码，对代码进行测试。\n",
    "6. 在实验总结部分，使用自己语言完成主观题目1和2的填写。\n",
    "7. 生成实验报告，并通过腾讯在线收集表提交。(注意所有的习题和习题的测试代码必须要运行一次, 否则无法生成实验报告)"
   ]
  },
  {
   "cell_type": "markdown",
   "metadata": {},
   "source": [
    "## 实验准备"
   ]
  },
  {
   "cell_type": "markdown",
   "metadata": {},
   "source": [
    "开始实验前，请先运行下面的代码"
   ]
  },
  {
   "cell_type": "code",
   "execution_count": 1,
   "metadata": {},
   "outputs": [],
   "source": [
    "# 导入需要的Python包\n",
    "%matplotlib inline\n",
    "\n",
    "from pathlib import Path\n",
    "import random\n",
    "\n",
    "import pandas as pd\n",
    "import numpy as np\n",
    "\n",
    "from scipy import stats\n",
    "import statsmodels.api as sm\n",
    "import statsmodels.formula.api as smf\n",
    "from statsmodels.stats import power\n",
    "\n",
    "import matplotlib.pylab as plt"
   ]
  },
  {
   "cell_type": "code",
   "execution_count": 2,
   "metadata": {},
   "outputs": [],
   "source": [
    "# 导入CSV文件数据\n",
    "DATA = Path().resolve() / 'data'\n",
    "NAP_NO_NAP_CSV = DATA / \"nap_no_nap.csv\"\n",
    "WEB_PAGE_DATA_CSV = DATA / 'web_page_data.csv'\n",
    "FOUR_SESSIONS_CSV = DATA / 'four_sessions.csv'\n",
    "CLICK_RATE_CSV = DATA / 'click_rates.csv'\n",
    "IMANISHI_CSV = DATA / 'imanishi_data.csv'\n",
    "NHANES_CSV = DATA/ 'nhanes_2015_2016.csv'\n",
    "HOUSE_SALES_CSV = DATA / 'house_sales.csv'\n",
    "STATE_CSV = DATA / 'state.csv'\n",
    "CARTWHEEL_CSV = DATA / 'Cartwheeldata.csv'\n",
    "LUNGDISEASE_CSV = DATA / 'lungdisease.csv'"
   ]
  },
  {
   "cell_type": "markdown",
   "metadata": {},
   "source": [
    "## 统计学的定义及其重要性"
   ]
  },
  {
   "cell_type": "markdown",
   "metadata": {},
   "source": [
    "统计学是一门通过方法和工具从数据中学习和分析的学科。  \n",
    "- 主要任务：数据总结、变异性分析、预测与决策、测量与评估、资源优化。  \n",
    "- 历史发展：起源于古代，18世纪概率论发展，19世纪现代统计兴起，现今融入大数据与机器学习等领域。  \n",
    "- 跨学科联系：  \n",
    "  1. **计算机科学**：算法与数据处理工具。  \n",
    "  2. **数学**：概率论与统计方法基础。  \n",
    "  3. **数据科学**：数据库与机器学习技术支持。  \n",
    "- 应用领域：自动驾驶、精准医疗、推荐系统等，为科研与工业提供支撑。\n"
   ]
  },
  {
   "cell_type": "markdown",
   "metadata": {},
   "source": [
    "统计素养在当今数据驱动的世界中对学生非常重要，理解统计能够让学生有效地解读数据，并智能地与周围环境互动。\n",
    "\n",
    "1. **激发好奇心**：统计素养能够激发学生的好奇心，帮助他们探索并识别周围数据中的模式。\n",
    "2. **建立自信**：及早接触统计可以减少对数据相关问题的畏惧，使学生能够自信地应对数据挑战。\n",
    "3. **促进批判性思维**：统计素养确保学生成为统计的明智消费者，能够批判性地分析并理解数据。\n",
    "\n",
    "这种技能对于解决各个领域的问题至关重要，并能培养在日常生活中做出明智决策的能力。"
   ]
  },
  {
   "cell_type": "markdown",
   "metadata": {},
   "source": [
    "## 变量（数据）类型"
   ]
  },
  {
   "cell_type": "markdown",
   "metadata": {},
   "source": [
    "我们可以将变量分为两大类：**定量变量**和**分类变量**。\n",
    "\n",
    "1. 定量变量（Quantitative Variable）\n",
    "定量变量是数值化、可测量的，通常可以进行算术操作。它又分为两种类型：\n",
    "- **连续型变量（Continuous Variable）**：可以在某个区间内取任意值。例如：身体质量指数、身高、体重、时间等。\n",
    "- **离散型变量（Discrete Variable）**：是一个有限的、可数的数值。例如：家庭中的儿童数量，你可以有1个、2个或10个孩子，但不会有2.3个孩子。\n",
    "\n",
    "2. 分类变量（Categorical Variable）\n",
    "分类变量用于将个体或物品分组。它也分为两种类型：\n",
    "- **有序变量（Ordinal Variable）**：具有某种排序或等级。例如：高中或大学的年级（大一、大二、大三、大四）。\n",
    "- **无序变量（Nominal Variable）**：没有固定的排序或等级。例如：种族、婚姻状况等，不同类别之间调换顺序不会改变意义。"
   ]
  },
  {
   "cell_type": "code",
   "execution_count": 3,
   "metadata": {},
   "outputs": [
    {
     "data": {
      "application/vnd.microsoft.datawrangler.viewer.v0+json": {
       "columns": [
        {
         "name": "index",
         "rawType": "int64",
         "type": "integer"
        },
        {
         "name": "BMI",
         "rawType": "float64",
         "type": "float"
        },
        {
         "name": "Race",
         "rawType": "int64",
         "type": "integer"
        },
        {
         "name": "Age",
         "rawType": "int64",
         "type": "integer"
        },
        {
         "name": "Adult",
         "rawType": "int32",
         "type": "integer"
        }
       ],
       "conversionMethod": "pd.DataFrame",
       "ref": "4991f18f-a282-4c45-9bf6-c9c8ec58b45f",
       "rows": [
        [
         "0",
         "27.8",
         "3",
         "62",
         "1"
        ],
        [
         "1",
         "30.8",
         "3",
         "53",
         "1"
        ],
        [
         "2",
         "28.8",
         "3",
         "78",
         "1"
        ],
        [
         "3",
         "42.4",
         "3",
         "56",
         "1"
        ],
        [
         "4",
         "20.3",
         "4",
         "42",
         "1"
        ],
        [
         "5",
         "28.6",
         "1",
         "72",
         "1"
        ],
        [
         "6",
         "28.0",
         "4",
         "22",
         "1"
        ],
        [
         "7",
         "28.2",
         "1",
         "32",
         "1"
        ],
        [
         "8",
         "26.2",
         "5",
         "18",
         "0"
        ],
        [
         "9",
         "33.6",
         "4",
         "56",
         "1"
        ],
        [
         "10",
         "27.6",
         "3",
         "46",
         "1"
        ],
        [
         "11",
         "24.1",
         "5",
         "45",
         "1"
        ],
        [
         "12",
         "26.6",
         "2",
         "30",
         "1"
        ],
        [
         "13",
         "43.7",
         "2",
         "67",
         "1"
        ],
        [
         "14",
         "28.8",
         "4",
         "67",
         "1"
        ],
        [
         "15",
         "35.4",
         "2",
         "57",
         "1"
        ],
        [
         "16",
         "32.8",
         "1",
         "19",
         "1"
        ],
        [
         "17",
         "25.3",
         "5",
         "24",
         "1"
        ],
        [
         "18",
         "38.0",
         "4",
         "27",
         "1"
        ],
        [
         "19",
         "26.3",
         "5",
         "54",
         "1"
        ],
        [
         "20",
         "25.0",
         "5",
         "49",
         "1"
        ],
        [
         "21",
         "30.2",
         "3",
         "80",
         "1"
        ],
        [
         "22",
         "30.3",
         "2",
         "69",
         "1"
        ],
        [
         "23",
         "22.8",
         "1",
         "58",
         "1"
        ],
        [
         "24",
         "25.0",
         "5",
         "56",
         "1"
        ],
        [
         "25",
         "34.0",
         "4",
         "27",
         "1"
        ],
        [
         "26",
         "25.3",
         "2",
         "22",
         "1"
        ],
        [
         "27",
         "35.9",
         "2",
         "60",
         "1"
        ],
        [
         "28",
         "30.8",
         "4",
         "51",
         "1"
        ],
        [
         "29",
         "33.5",
         "1",
         "68",
         "1"
        ],
        [
         "30",
         "31.0",
         "3",
         "69",
         "1"
        ],
        [
         "31",
         "34.0",
         "3",
         "66",
         "1"
        ],
        [
         "32",
         "24.4",
         "3",
         "56",
         "1"
        ],
        [
         "33",
         "28.0",
         "3",
         "80",
         "1"
        ],
        [
         "34",
         "25.5",
         "2",
         "37",
         "1"
        ],
        [
         "35",
         "23.7",
         "3",
         "80",
         "1"
        ],
        [
         "36",
         "23.7",
         "1",
         "29",
         "1"
        ],
        [
         "37",
         "28.6",
         "4",
         "27",
         "1"
        ],
        [
         "38",
         "26.2",
         "4",
         "20",
         "1"
        ],
        [
         "39",
         "29.1",
         "1",
         "68",
         "1"
        ],
        [
         "40",
         "26.9",
         "3",
         "24",
         "1"
        ],
        [
         "41",
         "18.6",
         "3",
         "27",
         "1"
        ],
        [
         "42",
         "25.5",
         "3",
         "42",
         "1"
        ],
        [
         "43",
         "28.5",
         "2",
         "80",
         "1"
        ],
        [
         "44",
         "27.0",
         "3",
         "70",
         "1"
        ],
        [
         "45",
         "29.1",
         "3",
         "80",
         "1"
        ],
        [
         "46",
         "22.2",
         "4",
         "20",
         "1"
        ],
        [
         "47",
         "29.7",
         "1",
         "29",
         "1"
        ],
        [
         "48",
         "22.3",
         "5",
         "23",
         "1"
        ],
        [
         "49",
         "29.5",
         "4",
         "61",
         "1"
        ]
       ],
       "shape": {
        "columns": 4,
        "rows": 5735
       }
      },
      "text/html": [
       "<div>\n",
       "<style scoped>\n",
       "    .dataframe tbody tr th:only-of-type {\n",
       "        vertical-align: middle;\n",
       "    }\n",
       "\n",
       "    .dataframe tbody tr th {\n",
       "        vertical-align: top;\n",
       "    }\n",
       "\n",
       "    .dataframe thead th {\n",
       "        text-align: right;\n",
       "    }\n",
       "</style>\n",
       "<table border=\"1\" class=\"dataframe\">\n",
       "  <thead>\n",
       "    <tr style=\"text-align: right;\">\n",
       "      <th></th>\n",
       "      <th>BMI</th>\n",
       "      <th>Race</th>\n",
       "      <th>Age</th>\n",
       "      <th>Adult</th>\n",
       "    </tr>\n",
       "  </thead>\n",
       "  <tbody>\n",
       "    <tr>\n",
       "      <th>0</th>\n",
       "      <td>27.8</td>\n",
       "      <td>3</td>\n",
       "      <td>62</td>\n",
       "      <td>1</td>\n",
       "    </tr>\n",
       "    <tr>\n",
       "      <th>1</th>\n",
       "      <td>30.8</td>\n",
       "      <td>3</td>\n",
       "      <td>53</td>\n",
       "      <td>1</td>\n",
       "    </tr>\n",
       "    <tr>\n",
       "      <th>2</th>\n",
       "      <td>28.8</td>\n",
       "      <td>3</td>\n",
       "      <td>78</td>\n",
       "      <td>1</td>\n",
       "    </tr>\n",
       "    <tr>\n",
       "      <th>3</th>\n",
       "      <td>42.4</td>\n",
       "      <td>3</td>\n",
       "      <td>56</td>\n",
       "      <td>1</td>\n",
       "    </tr>\n",
       "    <tr>\n",
       "      <th>4</th>\n",
       "      <td>20.3</td>\n",
       "      <td>4</td>\n",
       "      <td>42</td>\n",
       "      <td>1</td>\n",
       "    </tr>\n",
       "    <tr>\n",
       "      <th>...</th>\n",
       "      <td>...</td>\n",
       "      <td>...</td>\n",
       "      <td>...</td>\n",
       "      <td>...</td>\n",
       "    </tr>\n",
       "    <tr>\n",
       "      <th>5730</th>\n",
       "      <td>21.5</td>\n",
       "      <td>3</td>\n",
       "      <td>76</td>\n",
       "      <td>1</td>\n",
       "    </tr>\n",
       "    <tr>\n",
       "      <th>5731</th>\n",
       "      <td>33.8</td>\n",
       "      <td>3</td>\n",
       "      <td>26</td>\n",
       "      <td>1</td>\n",
       "    </tr>\n",
       "    <tr>\n",
       "      <th>5732</th>\n",
       "      <td>31.0</td>\n",
       "      <td>3</td>\n",
       "      <td>80</td>\n",
       "      <td>1</td>\n",
       "    </tr>\n",
       "    <tr>\n",
       "      <th>5733</th>\n",
       "      <td>26.0</td>\n",
       "      <td>3</td>\n",
       "      <td>35</td>\n",
       "      <td>1</td>\n",
       "    </tr>\n",
       "    <tr>\n",
       "      <th>5734</th>\n",
       "      <td>21.4</td>\n",
       "      <td>3</td>\n",
       "      <td>24</td>\n",
       "      <td>1</td>\n",
       "    </tr>\n",
       "  </tbody>\n",
       "</table>\n",
       "<p>5735 rows × 4 columns</p>\n",
       "</div>"
      ],
      "text/plain": [
       "       BMI  Race  Age  Adult\n",
       "0     27.8     3   62      1\n",
       "1     30.8     3   53      1\n",
       "2     28.8     3   78      1\n",
       "3     42.4     3   56      1\n",
       "4     20.3     4   42      1\n",
       "...    ...   ...  ...    ...\n",
       "5730  21.5     3   76      1\n",
       "5731  33.8     3   26      1\n",
       "5732  31.0     3   80      1\n",
       "5733  26.0     3   35      1\n",
       "5734  21.4     3   24      1\n",
       "\n",
       "[5735 rows x 4 columns]"
      ]
     },
     "execution_count": 3,
     "metadata": {},
     "output_type": "execute_result"
    }
   ],
   "source": [
    "# 读取健康与营养检查调查文件的数据\n",
    "df = pd.read_csv(NHANES_CSV)\n",
    "\n",
    "# 选中BMI, 种族（RIDRETH1）, 年龄3列数据\n",
    "df = df[['BMXBMI', 'RIDRETH1', 'RIDAGEYR']]\n",
    "\n",
    "# 重命名列名\n",
    "df = df.rename(columns={\n",
    "    'BMXBMI': 'BMI',        # 将 BMXBMI 重命名为 BMI\n",
    "    'RIDRETH1': 'Race',     # 将 RIDRETH1 重命名为 Race\n",
    "    'RIDAGEYR': 'Age',      # 将 RIDAGEYR 重命名为 Age\n",
    "})\n",
    "\n",
    "# 增加 Adult 列，年龄大于 18 为 1，否则为 0\n",
    "df['Adult'] = (df['Age'] > 18).astype(int)\n",
    "\n",
    "# 打印df数据\n",
    "df"
   ]
  },
  {
   "cell_type": "markdown",
   "metadata": {},
   "source": [
    "NHANES是美国国家健康与营养检查调查，旨在评估美国儿童和成年人的健康与营养状况。表格中列出四列变量：\n",
    "\n",
    "1. **BMI（身体质量指数）**：身高体重比的衡量值，这是一个连续型定量变量。  \n",
    "2. **种族（Race）**：根据底部的编码定义，1代表墨西哥裔美国人，2代表其他西班牙裔，3代表非西班牙裔白人，4代表非西班牙裔黑人，5代表其他。这是一个无序分类变量。\n",
    "3. **年龄（Age）**：调查时个体的年龄。这是一个连续型定了变量，因为年龄也可以有小数（例如8.5岁）。  \n",
    "4. **成年人指示变量（Adult Indicator）**：如果个体年龄为18岁及以上，则编码为1；如果未满18岁，则为0。  是一个无序分类变量，因为我们可以将1和0替换为“A”（成年人）和“M”（未成年人）。"
   ]
  },
  {
   "cell_type": "markdown",
   "metadata": {},
   "source": [
    "## 习题1"
   ]
  },
  {
   "cell_type": "markdown",
   "metadata": {},
   "source": [
    "在下面的代码中，从`HOUSE_SALES_CSV`文件中读取房屋销售数据，从读取结果(`DataFrame`)中选择四列数据：\n",
    "\n",
    "- SalePrice: 房产的销售价格\t\n",
    "- PropertyType: 房产类型（如独栋、联排、公寓等）\n",
    "- Bedrooms: 房产中的卧室数量\n",
    "- BldgGrade: 建筑等级（房屋质量评级）"
   ]
  },
  {
   "cell_type": "markdown",
   "metadata": {},
   "source": [
    "判断`'SalePrice','PropertyType','Bedrooms','BldgGrade'`这四列数据分别是什么类型的变量，完成下面的函数返回一个列表(`list`)，列表(`list`)按照按照下面的顺序包含四列序列数据(`Series`)：\n",
    "\n",
    "- 连续型定量变量（Continuous Quantitative Variable）\n",
    "- 离散型定量变量（Discrete Quantitative Variable）\n",
    "- 有序分类变量（Ordinal Categorical Variable）\n",
    "- 无序分类变量（Nominal Categorical Variable）"
   ]
  },
  {
   "cell_type": "code",
   "execution_count": 4,
   "metadata": {},
   "outputs": [],
   "source": [
    "def get_columns_by_types(HOUSE_SALES_CSV):\n",
    "    \"\"\"按照类型顺序返回四列数据\"\"\"\n",
    "    ## 读取csv文件\n",
    "    # house_sales_df = ...\n",
    "\n",
    "    ## 选取'SalePrice','PropertyType','Bedrooms','BldgGrade'四列数据\n",
    "    # house_sales_df = ...\n",
    "\n",
    "    ## 判断`'SalePrice','PropertyType','Bedrooms','BldgGrade'`这四列数据分别是什么类型的变量，并赋值给相应的数据\n",
    "    # 注意一定要使用下面的变量名来赋值\n",
    "    # continuous_variable = ...\n",
    "    # discrete_variable = ...\n",
    "    # ordinal_variable = ...\n",
    "    # nominal_variable = ...\n",
    "\n",
    "    ## 大约6行代码\n",
    "    ## 你编写的代码从这里开始\n",
    "\n",
    "    house_sales_df = ...\n",
    "\n",
    "    ## 选取'SalePrice','PropertyType','Bedrooms','BldgGrade'四列数据\n",
    "    house_sales_df = ...\n",
    "\n",
    "    ## 判断`'SalePrice','PropertyType','Bedrooms','BldgGrade'`这四列数据分别是什么类型的变量，并赋值给相应的数据\n",
    "    # 注意一定要使用下面的变量名来赋值\n",
    "    continuous_variable = ...\n",
    "    discrete_variable = ...\n",
    "    ordinal_variable = ...\n",
    "    nominal_variable = ...\n",
    "\n",
    "\n",
    "    ## 你编写的代码到这里结束\n",
    "\n",
    "\n",
    "    ## 返回结果\n",
    "    result = [continuous_variable, discrete_variable, ordinal_variable, nominal_variable,]\n",
    "    return result"
   ]
  },
  {
   "cell_type": "code",
   "execution_count": 5,
   "metadata": {},
   "outputs": [
    {
     "ename": "AssertionError",
     "evalue": "Series Expected type <class 'pandas.core.series.Series'>, found <class 'ellipsis'> instead",
     "output_type": "error",
     "traceback": [
      "\u001b[1;31m---------------------------------------------------------------------------\u001b[0m",
      "\u001b[1;31mAssertionError\u001b[0m                            Traceback (most recent call last)",
      "\u001b[1;32m~\\AppData\\Local\\Temp/ipykernel_11976/3138082778.py\u001b[0m in \u001b[0;36m<module>\u001b[1;34m\u001b[0m\n\u001b[0;32m      1\u001b[0m \u001b[1;32mfrom\u001b[0m \u001b[0mtestset6\u001b[0m \u001b[1;32mimport\u001b[0m \u001b[0mtest_get_columns_by_types\u001b[0m\u001b[1;33m\u001b[0m\u001b[1;33m\u001b[0m\u001b[0m\n\u001b[1;32m----> 2\u001b[1;33m \u001b[0mtest_get_columns_by_types\u001b[0m\u001b[1;33m(\u001b[0m\u001b[0mget_columns_by_types\u001b[0m\u001b[1;33m)\u001b[0m\u001b[1;33m\u001b[0m\u001b[1;33m\u001b[0m\u001b[0m\n\u001b[0m",
      "\u001b[1;32md:\\workspace\\data-modeling-course-student\\实验6-统计方法与分析\\testset6.py\u001b[0m in \u001b[0;36mtest_get_columns_by_types\u001b[1;34m(target)\u001b[0m\n\u001b[0;32m     46\u001b[0m     \u001b[1;31m# 调用目标函数并检查返回结果\u001b[0m\u001b[1;33m\u001b[0m\u001b[1;33m\u001b[0m\u001b[0m\n\u001b[0;32m     47\u001b[0m     \u001b[0mresult\u001b[0m \u001b[1;33m=\u001b[0m \u001b[0mtarget\u001b[0m\u001b[1;33m(\u001b[0m\u001b[0mmock_csv_file\u001b[0m\u001b[1;33m)\u001b[0m\u001b[1;33m\u001b[0m\u001b[1;33m\u001b[0m\u001b[0m\n\u001b[1;32m---> 48\u001b[1;33m     \u001b[0mpd\u001b[0m\u001b[1;33m.\u001b[0m\u001b[0mtesting\u001b[0m\u001b[1;33m.\u001b[0m\u001b[0massert_series_equal\u001b[0m\u001b[1;33m(\u001b[0m\u001b[0mresult\u001b[0m\u001b[1;33m[\u001b[0m\u001b[1;36m0\u001b[0m\u001b[1;33m]\u001b[0m\u001b[1;33m,\u001b[0m \u001b[0mcontinuous_variable\u001b[0m\u001b[1;33m,\u001b[0m \u001b[0mcheck_dtype\u001b[0m\u001b[1;33m=\u001b[0m\u001b[1;32mFalse\u001b[0m\u001b[1;33m)\u001b[0m\u001b[1;33m\u001b[0m\u001b[1;33m\u001b[0m\u001b[0m\n\u001b[0m\u001b[0;32m     49\u001b[0m     \u001b[0mpd\u001b[0m\u001b[1;33m.\u001b[0m\u001b[0mtesting\u001b[0m\u001b[1;33m.\u001b[0m\u001b[0massert_series_equal\u001b[0m\u001b[1;33m(\u001b[0m\u001b[0mresult\u001b[0m\u001b[1;33m[\u001b[0m\u001b[1;36m1\u001b[0m\u001b[1;33m]\u001b[0m\u001b[1;33m,\u001b[0m \u001b[0mdiscrete_variable\u001b[0m\u001b[1;33m,\u001b[0m \u001b[0mcheck_dtype\u001b[0m\u001b[1;33m=\u001b[0m\u001b[1;32mFalse\u001b[0m\u001b[1;33m)\u001b[0m\u001b[1;33m\u001b[0m\u001b[1;33m\u001b[0m\u001b[0m\n\u001b[0;32m     50\u001b[0m     \u001b[0mpd\u001b[0m\u001b[1;33m.\u001b[0m\u001b[0mtesting\u001b[0m\u001b[1;33m.\u001b[0m\u001b[0massert_series_equal\u001b[0m\u001b[1;33m(\u001b[0m\u001b[0mresult\u001b[0m\u001b[1;33m[\u001b[0m\u001b[1;36m2\u001b[0m\u001b[1;33m]\u001b[0m\u001b[1;33m,\u001b[0m \u001b[0mordinal_variable\u001b[0m\u001b[1;33m,\u001b[0m \u001b[0mcheck_dtype\u001b[0m\u001b[1;33m=\u001b[0m\u001b[1;32mFalse\u001b[0m\u001b[1;33m)\u001b[0m\u001b[1;33m\u001b[0m\u001b[1;33m\u001b[0m\u001b[0m\n",
      "    \u001b[1;31m[... skipping hidden 1 frame]\u001b[0m\n",
      "\u001b[1;32mc:\\Users\\zhouj\\anaconda3\\lib\\site-packages\\pandas\\_testing\\asserters.py\u001b[0m in \u001b[0;36m_check_isinstance\u001b[1;34m(left, right, cls)\u001b[0m\n\u001b[0;32m    230\u001b[0m \u001b[1;33m\u001b[0m\u001b[0m\n\u001b[0;32m    231\u001b[0m     \u001b[1;32mif\u001b[0m \u001b[1;32mnot\u001b[0m \u001b[0misinstance\u001b[0m\u001b[1;33m(\u001b[0m\u001b[0mleft\u001b[0m\u001b[1;33m,\u001b[0m \u001b[0mcls\u001b[0m\u001b[1;33m)\u001b[0m\u001b[1;33m:\u001b[0m\u001b[1;33m\u001b[0m\u001b[1;33m\u001b[0m\u001b[0m\n\u001b[1;32m--> 232\u001b[1;33m         raise AssertionError(\n\u001b[0m\u001b[0;32m    233\u001b[0m             \u001b[1;34mf\"{cls_name} Expected type {cls}, found {type(left)} instead\"\u001b[0m\u001b[1;33m\u001b[0m\u001b[1;33m\u001b[0m\u001b[0m\n\u001b[0;32m    234\u001b[0m         )\n",
      "\u001b[1;31mAssertionError\u001b[0m: Series Expected type <class 'pandas.core.series.Series'>, found <class 'ellipsis'> instead"
     ]
    }
   ],
   "source": [
    "from testset6 import test_get_columns_by_types\n",
    "test_get_columns_by_types(get_columns_by_types)"
   ]
  },
  {
   "cell_type": "markdown",
   "metadata": {},
   "source": [
    "## 正态分布（Normal Distributions）"
   ]
  },
  {
   "cell_type": "markdown",
   "metadata": {},
   "source": [
    "正态分布（Normal Distributions）在分析真实世界的数据时是非常普遍的，注意：只有连续型定量变量（Continuous Quantitative Variable）才可以具备正态分布。"
   ]
  },
  {
   "cell_type": "markdown",
   "metadata": {},
   "source": [
    "### 计算标准差（Standard Deviation）"
   ]
  },
  {
   "cell_type": "markdown",
   "metadata": {},
   "source": [
    "数学公式：\n",
    "\n",
    "- 对于**总体**（Population）：  \n",
    "$$ \\sigma = \\sqrt{\\frac{\\sum (x_i - \\mu)^2}{N}} $$  \n",
    "- 对于**样本**（Sample）：  \n",
    "$$ s = \\sqrt{\\frac{\\sum (x_i - \\bar{x})^2}{n-1}} $$  \n",
    "\n",
    "其中：  \n",
    "\n",
    "- $ \\sigma $: 总体标准差（Population Standard Deviation）  \n",
    "- $ s $: 样本标准差（Sample Standard Deviation）  \n",
    "- $ x_i $: 每个数据点（Data Point）  \n",
    "- $ \\mu $: 总体均值（Population Mean）  \n",
    "- $ \\bar{x} $: 样本均值（Sample Mean）  \n",
    "- $ N $: 总体中数据点的总数（Total Number of Data Points in Population）  \n",
    "- $ n $: 样本中数据点的总数（Total Number of Data Points in Sample）  \n",
    "\n",
    "---\n",
    "**逐步计算方法（以样本标准差为例）：**\n",
    "\n",
    "1. **计算均值 ($ \\bar{x} $)：**\n",
    "   - 将所有数据点相加。  \n",
    "   - 用数据点总数 \\( n \\) 去除。  \n",
    "   例如：数据为 \\( 4, 6, 8, 10 \\)：  \n",
    "   $$ \\bar{x} = \\frac{4 + 6 + 8 + 10}{4} = \\frac{28}{4} = 7 $$\n",
    "\n",
    "2. **计算偏差 ($ x_i - \\bar{x} $)：**\n",
    "   - 用每个数据点减去均值。  \n",
    "   例如：  \n",
    "   $$ 4 - 7 = -3, \\; 6 - 7 = -1, \\; 8 - 7 = 1, \\; 10 - 7 = 3 $$\n",
    "\n",
    "3. **将偏差平方 ($(x_i - \\bar{x})^2$)：**\n",
    "   - 对每个偏差值进行平方。  \n",
    "   例如：  \n",
    "   $$ (-3)^2 = 9, \\; (-1)^2 = 1, \\; (1)^2 = 1, \\; (3)^2 = 9 $$\n",
    "\n",
    "4. **计算平方偏差的平均值：**  \n",
    "   - 将所有平方偏差值相加，然后用 $ n - 1 $ 去除（适用于样本），或用 $ N $ 去除（适用于总体）。  \n",
    "   示例：对于样本：  \n",
    "   $$ \\text{平方偏差平均值} = \\frac{9 + 1 + 1 + 9}{4} = \\frac{20}{4} = 5 $$\n",
    "\n",
    "5. **开平方：**  \n",
    "   - 对上述结果开平方。  \n",
    "   例如：  \n",
    "   $$ s = \\sqrt{5} \\approx 2.23 $$  \n",
    "\n",
    "   因此，标准差 $ s \\approx 2.23 $。\n",
    "\n",
    "---\n",
    "\n",
    "**关键点总结：**\n",
    "- **自由度**(Degree of Freedom): 如果在分析样本，分母用 \\( n-1 \\)；如果分析的是总体，则分母用 \\( N \\)。  \n",
    "- **标准差**（Standard Deviation）衡量数据点相对于均值的离散程度。标准差越小，数据点越接近均值；而标准差越大，数据分布越分散。\n"
   ]
  },
  {
   "cell_type": "code",
   "execution_count": null,
   "metadata": {},
   "outputs": [],
   "source": [
    "import numpy as np\n",
    "\n",
    "# Data\n",
    "data = np.array([4, 6, 8, 10])\n",
    "\n",
    "# Mean\n",
    "data_mean = data.mean()\n",
    "\n",
    "# 整体标准差 (ddof=0)\n",
    "data_sd_population = data.std(ddof=0)\n",
    "\n",
    "# 样本标准差 (ddof=1)\n",
    "data_sd_sample = data.std(ddof=1)\n",
    "\n",
    "print('平均值:', data_mean)\n",
    "print('总体标准差 (n):', data_sd_population)  # Default std with n in denominator\n",
    "print('样本标准差 (n-1):', data_sd_sample)   # Std with n-1 in denominator"
   ]
  },
  {
   "cell_type": "markdown",
   "metadata": {},
   "source": [
    "### 经验法则"
   ]
  },
  {
   "cell_type": "markdown",
   "metadata": {},
   "source": [
    "1. 钟形分布也被称作正态分布（$Bell$-$Shaped\\ Distributions$）:\n",
    "   - 许多变量遵循钟形分布或正态分布。\n",
    "   - 这类分布以均值（平均值）为中心呈对称形状。\n",
    "   - 示例：大学生在工作日晚上睡眠的小时数。\n",
    "\n",
    "2. 均值（$Mean$）和标准差（$Standard\\ Deviation$）:\n",
    "   - 均值（$\\mu$，$mean$）是指数据的平均值。本例中，大学生的平均睡眠时间为7小时。\n",
    "   - 标准差（$\\sigma$，$standard\\ deviation$）衡量数据围绕均值的分散程度，表示数据平均偏离均值的程度。本例中，标准差为1.7小时。\n",
    "\n",
    "3. 经验法则（$Empirical\\ Rule$，68-95-99.7法则）:\n",
    "   - 对于正态分布：\n",
    "     - $68\\%$ 的数据位于1个标准差范围内（均值 $\\pm 1\\sigma$）：即5.3到8.7小时之间。\n",
    "     - $95\\%$ 的数据位于2个标准差范围内（均值 $\\pm 2\\sigma$）：即3.6到10.4小时之间。\n",
    "     - $99.7\\%$ 的数据位于3个标准差范围内（均值 $\\pm 3\\sigma$）：即1.9到12小时之间。\n",
    "   - 这可以帮助判断一个值是“典型”还是“异常”。\n",
    "\n",
    "![Empirical Rule (68-95-99.7)](./img/2025-02-09-10-58-05.png)\n",
    "\n",
    "4. 标准分数（$Z$-$Scores$，$Standard\\ Scores$）:\n",
    "   - 标准分数用来衡量某个值与均值的远近程度，用标准差（$\\sigma$）来表示。\n",
    "   - 计算公式：\n",
    "     $$\n",
    "     Z = \\frac{\\text{观察值（Observation）} - \\text{均值（Mean）}}{\\text{标准差（Standard\\ Deviation）}}\n",
    "     $$\n",
    "\n",
    "   - 示例：\n",
    "     - Reed的睡眠时间为10小时，其标准分数为：\n",
    "       $$\n",
    "       Z = \\frac{10 - 7}{1.7} = 1.76\n",
    "       $$\n",
    "       他比均值高出1.76个标准差，算是比较不常见，但仍在95%的数据范围内。\n",
    "     - Reed的室友通常睡6小时：\n",
    "       $$\n",
    "       Z = \\frac{6 - 7}{1.7} = -0.59\n",
    "       $$\n",
    "       他比均值低0.59个标准差，这是相对常见且接近均值的情况。\n",
    "     - Mark的标准分数是$-2.7$，表明他的睡眠时间比均值低了2.7个标准差。通过计算，得出Mark的平均睡眠时间为2.41小时，这是极为异常的，远远超出了典型范围。\n",
    "\n",
    "5. 关键总结：\n",
    "   - 经验法则（$Empirical\\ Rule$）可以帮助我们判定数据在钟形分布中落在特定范围内的比例。\n",
    "   - 标准分数（$Z$-$Score$）可以量化某个数值的“异常程度”。\n",
    "   - 结合这些工具，我们可以为符合正态分布的数据提供参考框架。"
   ]
  },
  {
   "cell_type": "markdown",
   "metadata": {},
   "source": [
    "## 习题2"
   ]
  },
  {
   "cell_type": "markdown",
   "metadata": {},
   "source": [
    "完成下面的函数，函数将接收一个`numpy`一维数列的数据集，要求函数返回每个数据样本的标准分数（自由度为`n`），使用`numpy`的一维数列保存所有的标准分数（标准分数的索引与数据样本的索引已知）。\n",
    "\n",
    "注意：需要使用向量化编程，不能使用循环语句。"
   ]
  },
  {
   "cell_type": "code",
   "execution_count": null,
   "metadata": {},
   "outputs": [],
   "source": [
    "import numpy as np\n",
    "\n",
    "def calculate_z_scores(data):\n",
    "    \"\"\"\n",
    "    计算一维数组中每个数据样本的标准分数（Z-scores）。\n",
    "\n",
    "    参数:\n",
    "        data (numpy.ndarray): 一维数列，表示数据集。\n",
    "\n",
    "    返回:\n",
    "        numpy.ndarray: 一维数组，包含每个数据样本的标准分数。\n",
    "    \"\"\"\n",
    "    ## 计算平均值\n",
    "    # data_mean = ...\n",
    "\n",
    "    ## 计算标准差\n",
    "    # std_dev = ...\n",
    "\n",
    "    # 计算标准分数\n",
    "    # z_scores = ...\n",
    "\n",
    "    ## 大约需要三行代码\n",
    "    ## 你编写的代码从这里开始\n",
    "\n",
    "\n",
    "\n",
    "    ## 你编写的代码到这里结束\n",
    "\n",
    "    return z_scores"
   ]
  },
  {
   "cell_type": "code",
   "execution_count": 7,
   "metadata": {},
   "outputs": [
    {
     "name": "stdout",
     "output_type": "stream",
     "text": [
      "恭喜你通过了习题2 test_calculate_z_scores 测试。1/2\n"
     ]
    }
   ],
   "source": [
    "# 测试你的函数\n",
    "from testset6 import test_calculate_z_scores\n",
    "test_calculate_z_scores(calculate_z_scores)"
   ]
  },
  {
   "cell_type": "markdown",
   "metadata": {},
   "source": [
    "## 单变量分析"
   ]
  },
  {
   "cell_type": "markdown",
   "metadata": {},
   "source": [
    "### 变异性度量的关键术语（Key Terms for Variability Metrics）"
   ]
  },
  {
   "cell_type": "markdown",
   "metadata": {},
   "source": [
    "1. **偏差（Deviations）**  \n",
    "   - **定义**：观察值与位置估计值之间的差异。  \n",
    "   - **同义词**：errors（误差），residuals（残差）  \n",
    "   - **示例**：一个学生的数学考试分数是90分，而班级平均分是80分，则该学生的偏差为 \\( 90 - 80 = 10 \\)。\n",
    "\n",
    "2. **方差（Variance）**  \n",
    "   - **定义**：观测值与均值的偏差平方和，除以 $ n-1 $（其中 $ n $ 是数据值的数量）。  \n",
    "   - **同义词**：mean-squared-error（均方误差）  \n",
    "   - **示例**：假设有数据值 [2, 4, 4, 6]。均值为 $ (2+4+4+6)/4 = 4 $。每个数据的偏差平方和为 $ (2-4)^2 + (4-4)^2 + (4-4)^2 + (6-4)^2 = 4 + 0 + 0 + 4 = 8 $，方差为 $ 8/(4-1) = 2.67 $。\n",
    "\n",
    "3. **标准差（Standard deviation）**  \n",
    "   - **定义**：方差的平方根。  \n",
    "   - **示例**：根据上例，方差为2.67，则标准差为 $ \\sqrt{2.67} \\approx 1.63 $。\n",
    "\n",
    "4. **中位数（Median）**  \n",
    "   - **定义**：中位数是排序后的数据中位于中间的数值。如果数据个数是奇数，中位数为第 $ \\frac{n+1}{2} $ 个值；如果数据个数是偶数，中位数是中间两个数的平均值。  \n",
    "   - **示例**：  \n",
    "      - 假设数据值为 [1, 3, 3, 6, 7, 8]，中位数是 $ (3 + 6)/2 = 4.5 $。  \n",
    "      - 如果数据为 [1, 3, 6, 9, 12]（奇数个数），中位数为6。\n",
    "\n",
    "5. **极差（Range）**  \n",
    "   - **定义**：数据集中最大值与最小值之间的差值。  \n",
    "   - **示例**：假设数据值为 [10, 20, 30, 40]，最大值为40，最小值为10，极差为 \\( 40 - 10 = 30 \\)。\n",
    "\n",
    "6. **顺序统计量（Order statistics）**  \n",
    "   - **定义**：基于从小到大排序的数据值计算的度量值。  \n",
    "   - **同义词**：ranks（秩）  \n",
    "   - **示例**：假设数据值为 [5, 1, 3, 8]，排序后为 [1, 3, 5, 8]，这些排序后的值可以用来计算其他统计量，例如第一个值（最小值）为1，第n值为8。\n",
    "\n",
    "7. **百分位数（Percentile）**  \n",
    "   - **定义**：有 \\( P\\% \\) 的数据小于或等于该值，并且有 $ (100-P)\\% $ 的数据大于或等于该值。  \n",
    "   - **同义词**：quantile（分位数）  \n",
    "   - **示例**：假设数据值为 [1, 3, 5, 7, 9]，第25百分位数为数据中第25%的位置，对应的值是3，第75百分位数对应的值是7。\n",
    "\n",
    "8. **四分位距（Interquartile range）**  \n",
    "    - **定义**：第75百分位数（上四分位数）与第25百分位数（下四分位数）之间的差值。  \n",
    "    - **同义词**：IQR  \n",
    "    - **示例**：假设数据值为 [2, 4, 6, 8, 10]，第75百分位数为8，第25百分位数为4，四分位距为 \\( 8 - 4 = 4 \\)。\n",
    "\n",
    "11. **异常值（Outliers）**  \n",
    "    - **定义**：与数据整体分布相比，距离中心位置过远的值。通常异常值通过四分位距（IQR）规则确定：低于下届（lower bound: $ Q1 - 1.5 \\times IQR $) 或高于上界(upper bound: $Q3 + 1.5 \\times IQR$) 的数据点被认为是异常值。  \n",
    "    - **同义词**：extreme values（极端值）  \n",
    "    - **示例**：假设数据值为 [2, 3, 4, 5, 98]，五个值中，绝大部分数据都集中在低值范围，而98显著高于其他值，因此被视为异常值。\n"
   ]
  },
  {
   "cell_type": "markdown",
   "metadata": {},
   "source": [
    "### 数据可视化"
   ]
  },
  {
   "cell_type": "markdown",
   "metadata": {},
   "source": [
    "一图胜千言，数据可视化在统计分析以及数据分析中有着非常重要的作用：\n",
    "\n",
    "- **快速传递信息**：复杂数据转化为易于理解的图形，图形传递的信息量更大，便于快速掌握关键信息。  \n",
    "- **揭示模式与趋势**：帮助发现数据中的隐藏规律、异常点和趋势。  \n",
    "- **提高说服力**：直观展示数据，提高分析结果的可信度和影响力。  \n",
    "- **便于比较和分类**：清晰展示不同维度及类别之间的关系或差异。  \n",
    "- **支持决策**：为数据驱动决策提供直观依据。"
   ]
  },
  {
   "cell_type": "markdown",
   "metadata": {},
   "source": [
    "对于数值型数据（Quantitative Data）通常可以使用下面的图形：\n",
    "\n",
    "- 直方图（Histograms）：显示数据分布，例如显示某班学生的数学成绩分布，观察成绩数据分布的情况。\n",
    "- 箱线图（Boxplots）：例如比较不同地区的房租水平，突出中位数和异常值。\n",
    "- 折线图（Line Charts）：显示随时间或顺序测量的趋势，例如展示某公司过去12个月的月度销售额变化趋势。\n",
    "\n",
    "对于分类数据（Categorical Data）通常可以使用下面的图形：\n",
    "\n",
    "- 条形图（Bar Charts）：比较各类别的计数或比例，比较不同电商平台（如淘宝、京东、拼多多）的用户数量。\n",
    "- 饼图（Pie Charts）：将类别表示为整体的一部分，显示某公司员工学历分布（本科、硕士、博士所占比例）。"
   ]
  },
  {
   "cell_type": "markdown",
   "metadata": {},
   "source": [
    "### BoxPlots"
   ]
  },
  {
   "cell_type": "code",
   "execution_count": 8,
   "metadata": {},
   "outputs": [
    {
     "name": "stdout",
     "output_type": "stream",
     "text": [
      "         State  Population  Murder.Rate Abbreviation\n",
      "0      Alabama     4779736          5.7           AL\n",
      "1       Alaska      710231          5.6           AK\n",
      "2      Arizona     6392017          4.7           AZ\n",
      "3     Arkansas     2915918          5.6           AR\n",
      "4   California    37253956          4.4           CA\n",
      "5     Colorado     5029196          2.8           CO\n",
      "6  Connecticut     3574097          2.4           CT\n",
      "7     Delaware      897934          5.8           DE\n"
     ]
    }
   ],
   "source": [
    "# 读取美国各州的数据\n",
    "state = pd.read_csv(STATE_CSV)\n",
    "print(state.head(8))"
   ]
  },
  {
   "cell_type": "code",
   "execution_count": 9,
   "metadata": {},
   "outputs": [
    {
     "name": "stdout",
     "output_type": "stream",
     "text": [
      "0.05      689529.00\n",
      "0.25     1833004.25\n",
      "0.50     4436369.50\n",
      "0.75     6680312.25\n",
      "0.95    19118545.60\n",
      "Name: Population, dtype: float64\n"
     ]
    }
   ],
   "source": [
    "# 计算各州人口的百分位数\n",
    "print(state['Population'].quantile([0.05, 0.25, 0.5, 0.75, 0.95]))"
   ]
  },
  {
   "cell_type": "code",
   "execution_count": 10,
   "metadata": {},
   "outputs": [
    {
     "name": "stdout",
     "output_type": "stream",
     "text": [
      "4847308.0\n"
     ]
    }
   ],
   "source": [
    "# 计算IQR，也就是第75百分位数（上四分位数）与第25百分位数（下四分位数）之间的差值。\n",
    "print(state['Population'].quantile(0.75) - state['Population'].quantile(0.25))"
   ]
  },
  {
   "cell_type": "code",
   "execution_count": 11,
   "metadata": {},
   "outputs": [
    {
     "name": "stdout",
     "output_type": "stream",
     "text": [
      "             5.0%  25.0%  50.0%  75.0%  95.0%\n",
      "Murder.Rate   1.6  2.425    4.0   5.55   6.51\n"
     ]
    }
   ],
   "source": [
    "# 将谋杀率的百分位数据转换成表格展示\n",
    "percentages = [0.05, 0.25, 0.5, 0.75, 0.95]\n",
    "\n",
    "# 获取数据并转换成DataFrame\n",
    "df = pd.DataFrame(state['Murder.Rate'].quantile(percentages))\n",
    "\n",
    "# 添加索引\n",
    "df.index = [f'{p * 100}%' for p in percentages]\n",
    "\n",
    "# 矩阵转置并打印数据\n",
    "print(df.transpose())"
   ]
  },
  {
   "cell_type": "code",
   "execution_count": 12,
   "metadata": {},
   "outputs": [
    {
     "data": {
      "image/png": "[encoded data removed]",
      "text/plain": [
       "<Figure size 432x288 with 1 Axes>"
      ]
     },
     "metadata": {
      "needs_background": "light"
     },
     "output_type": "display_data"
    }
   ],
   "source": [
    "data = state['Population']/1_000_000\n",
    "fig, ax = plt.subplots()\n",
    "box = ax.boxplot(data, showmeans=True, meanline=True, vert=True)\n",
    "ax.set_ylabel('Population (millions)')\n",
    "ax.set_xlabel('Population')\n",
    "\n",
    "# 计算 Mean 和 Median\n",
    "mean_value = np.mean(data)\n",
    "median_value = np.median(data)\n",
    "\n",
    "# 标注平均值\n",
    "plt.annotate(f'Mean: {mean_value:.2f}', xy=(1.1, mean_value), color='blue')\n",
    "\n",
    "# 标注中位数\n",
    "plt.annotate(f'Median: {median_value:.2f}', xy=(1.1, median_value), color='red')\n",
    "plt.show()"
   ]
  },
  {
   "cell_type": "code",
   "execution_count": 13,
   "metadata": {},
   "outputs": [
    {
     "data": {
      "image/png": "[encoded data removed]",
      "text/plain": [
       "<Figure size 216x288 with 1 Axes>"
      ]
     },
     "metadata": {
      "needs_background": "light"
     },
     "output_type": "display_data"
    }
   ],
   "source": [
    "# 通常我们会更简单的绘制BoxPlot，不会添加标注\n",
    "ax = (state['Population']/1_000_000).plot.box(figsize=(3, 4))\n",
    "ax.set_ylabel('Population (millions)')\n",
    "plt.tight_layout()\n",
    "plt.show()"
   ]
  },
  {
   "cell_type": "markdown",
   "metadata": {},
   "source": [
    "数据分析：\n",
    "\n",
    "1. **箱体（Box）**\n",
    "- 箱体的上下边界代表 **第一四分位数(Q1)** 和 **第三四分位数(Q3)**，即将数据按大小分为四等分后，25% 和 75% 位置的数据值。\n",
    "- 中间的橙色线是 **中位数(Median)**，即数据的中间值（图中标记为 4.44 百万人）。\n",
    "\n",
    "2. **须线（Whiskers）**\n",
    "- 箱体上下延伸的线段（须线）表示数据的范围，但是不包括离群值（outliers）。\n",
    "- 上下须线的末端分别代表 **最低非异常值** 和 **最高非异常值**。\n",
    "\n",
    "3. **离群值（Outliers）**\n",
    "- 离群值是那些显著高于或低于整体分布的数据点，用图中的小圆圈表示。\n",
    "- 例如，图中有几个高值离群点，最大离群点接近 35 百万人。\n",
    "\n",
    "4. **平均值（Mean）**\n",
    "- 图中标注了虚线，表示数据的均值(Mean)，为 **6.16 百万人**。均值稍高于中位数，说明整体分布右偏，有极端高值拉高了平均值。\n",
    "\n",
    "5. **总体分布特性**\n",
    "- 数据的中位数 4.44 百万人靠近箱体的下方，表明数据集中分布在较低的范围。\n",
    "- 数据的上侧尾巴较长，离群值较多，说明数据分布有一定的右偏（高值较多）。"
   ]
  },
  {
   "cell_type": "markdown",
   "metadata": {},
   "source": [
    "## 习题3"
   ]
  },
  {
   "cell_type": "markdown",
   "metadata": {},
   "source": [
    "编写下面的函数，读取`HOUSE_SALES_CSV`文件中的`SalePrice`列的数据（价格单位要换算成千美元），计算房屋价格的百分位数（Percentile）, 四分位距（IQR）, 计算箱线图中最低非异常值和最高非异常值，也就是箱线图的上下须线的位置，最后创建箱线图（不要绘制）并从函数中返回计算的值和创建的箱线图。"
   ]
  },
  {
   "cell_type": "code",
   "execution_count": 26,
   "metadata": {},
   "outputs": [],
   "source": [
    "import pandas as pd\n",
    "import matplotlib.pyplot as plt\n",
    "\n",
    "def analyze_house_prices(HOUSE_SALES_CSV):\n",
    "    \"\"\"\n",
    "    读取CSV文件中的房屋售价数据计算统计值，并返回箱线图绘制所需信息。\n",
    "\n",
    "    参数:\n",
    "        HOUSE_SALES_CSV: CSV文件的路径。\n",
    "\n",
    "    返回:\n",
    "        dict: 包含计算的统计数据，包括百分位数、四分位距、上下须的位置等。\n",
    "        matplotlib.figure.Figure: 绘制的箱线图对象。\n",
    "    \"\"\"\n",
    "    ## 读取CSV文件中的数据\n",
    "    # data =  ...\n",
    "\n",
    "    ## 提取 SalePrice 列并转换为千元单位\n",
    "    # sales_prices = ...\n",
    "\n",
    "    ## 计算统计值q1, q3, iqr\n",
    "    # q1 = ...\n",
    "    # q3 = ...\n",
    "    # iqr = ...\n",
    "\n",
    "    # 计算最低非异常值和最高非异常值\n",
    "    # lower_whisker = ...\n",
    "    # higher_whisker = ...\n",
    "\n",
    "    # 创建箱线图\n",
    "    # fig, ax = plt.subplots()\n",
    "    # ax.boxplot(...)\n",
    "\n",
    "    # 大约9行代码\n",
    "    ## 你编写的代码从这里开始\n",
    "\n",
    "    ## 读取CSV文件中的数据\n",
    "    data =  ...\n",
    "\n",
    "    ## 提取 SalePrice 列并转换为千元单位\n",
    "    sales_prices = ...\n",
    "\n",
    "    ## 计算统计值q1, q3, iqr\n",
    "    q1 = ...\n",
    "    q3 = ...\n",
    "    iqr = ...\n",
    "\n",
    "    # 计算最低非异常值和最高非异常值\n",
    "    lower_whisker = ...\n",
    "    upper_whisker = ...\n",
    "\n",
    "    # 创建箱线图\n",
    "    fig, ax = plt.subplots()\n",
    "    ax.boxplot(...)\n",
    "\n",
    "    ## 你编写的代码到这里结束\n",
    "\n",
    "    # 返回计算出的统计数据和箱线图对象\n",
    "    return {\n",
    "        \"Q1 (25th Percentile)\": q1,\n",
    "        \"Q3 (75th Percentile)\": q3,\n",
    "        \"IQR\": iqr,\n",
    "        \"Lower Whisker\": lower_whisker,\n",
    "        \"Upper Whisker\": upper_whisker\n",
    "    }, ax"
   ]
  },
  {
   "cell_type": "code",
   "execution_count": 27,
   "metadata": {},
   "outputs": [
    {
     "ename": "TypeError",
     "evalue": "object of type 'ellipsis' has no len()",
     "output_type": "error",
     "traceback": [
      "\u001b[1;31m---------------------------------------------------------------------------\u001b[0m",
      "\u001b[1;31mTypeError\u001b[0m                                 Traceback (most recent call last)",
      "\u001b[1;32m~\\AppData\\Local\\Temp/ipykernel_11976/3000938663.py\u001b[0m in \u001b[0;36m<module>\u001b[1;34m\u001b[0m\n\u001b[0;32m      1\u001b[0m \u001b[1;31m# 调用函数并显示箱线图\u001b[0m\u001b[1;33m\u001b[0m\u001b[1;33m\u001b[0m\u001b[0m\n\u001b[0;32m      2\u001b[0m \u001b[0mget_ipython\u001b[0m\u001b[1;33m(\u001b[0m\u001b[1;33m)\u001b[0m\u001b[1;33m.\u001b[0m\u001b[0mrun_line_magic\u001b[0m\u001b[1;33m(\u001b[0m\u001b[1;34m'matplotlib'\u001b[0m\u001b[1;33m,\u001b[0m \u001b[1;34m'inline'\u001b[0m\u001b[1;33m)\u001b[0m\u001b[1;33m\u001b[0m\u001b[1;33m\u001b[0m\u001b[0m\n\u001b[1;32m----> 3\u001b[1;33m \u001b[0mresult\u001b[0m\u001b[1;33m,\u001b[0m \u001b[0max\u001b[0m \u001b[1;33m=\u001b[0m \u001b[0manalyze_house_prices\u001b[0m\u001b[1;33m(\u001b[0m\u001b[0mHOUSE_SALES_CSV\u001b[0m\u001b[1;33m)\u001b[0m\u001b[1;33m\u001b[0m\u001b[1;33m\u001b[0m\u001b[0m\n\u001b[0m\u001b[0;32m      4\u001b[0m \u001b[0mprint\u001b[0m\u001b[1;33m(\u001b[0m\u001b[0mresult\u001b[0m\u001b[1;33m)\u001b[0m\u001b[1;33m\u001b[0m\u001b[1;33m\u001b[0m\u001b[0m\n\u001b[0;32m      5\u001b[0m \u001b[1;31m# 输出结果应该为：\u001b[0m\u001b[1;33m\u001b[0m\u001b[1;33m\u001b[0m\u001b[0m\n",
      "\u001b[1;32m~\\AppData\\Local\\Temp/ipykernel_11976/2803783772.py\u001b[0m in \u001b[0;36manalyze_house_prices\u001b[1;34m(HOUSE_SALES_CSV)\u001b[0m\n\u001b[0;32m     52\u001b[0m     \u001b[1;31m# 创建箱线图\u001b[0m\u001b[1;33m\u001b[0m\u001b[1;33m\u001b[0m\u001b[0m\n\u001b[0;32m     53\u001b[0m     \u001b[0mfig\u001b[0m\u001b[1;33m,\u001b[0m \u001b[0max\u001b[0m \u001b[1;33m=\u001b[0m \u001b[0mplt\u001b[0m\u001b[1;33m.\u001b[0m\u001b[0msubplots\u001b[0m\u001b[1;33m(\u001b[0m\u001b[1;33m)\u001b[0m\u001b[1;33m\u001b[0m\u001b[1;33m\u001b[0m\u001b[0m\n\u001b[1;32m---> 54\u001b[1;33m     \u001b[0max\u001b[0m\u001b[1;33m.\u001b[0m\u001b[0mboxplot\u001b[0m\u001b[1;33m(\u001b[0m\u001b[1;33m...\u001b[0m\u001b[1;33m)\u001b[0m\u001b[1;33m\u001b[0m\u001b[1;33m\u001b[0m\u001b[0m\n\u001b[0m\u001b[0;32m     55\u001b[0m \u001b[1;33m\u001b[0m\u001b[0m\n\u001b[0;32m     56\u001b[0m     \u001b[1;31m## 你编写的代码到这里结束\u001b[0m\u001b[1;33m\u001b[0m\u001b[1;33m\u001b[0m\u001b[0m\n",
      "\u001b[1;32mc:\\Users\\zhouj\\anaconda3\\lib\\site-packages\\matplotlib\\__init__.py\u001b[0m in \u001b[0;36minner\u001b[1;34m(ax, data, *args, **kwargs)\u001b[0m\n\u001b[0;32m   1359\u001b[0m     \u001b[1;32mdef\u001b[0m \u001b[0minner\u001b[0m\u001b[1;33m(\u001b[0m\u001b[0max\u001b[0m\u001b[1;33m,\u001b[0m \u001b[1;33m*\u001b[0m\u001b[0margs\u001b[0m\u001b[1;33m,\u001b[0m \u001b[0mdata\u001b[0m\u001b[1;33m=\u001b[0m\u001b[1;32mNone\u001b[0m\u001b[1;33m,\u001b[0m \u001b[1;33m**\u001b[0m\u001b[0mkwargs\u001b[0m\u001b[1;33m)\u001b[0m\u001b[1;33m:\u001b[0m\u001b[1;33m\u001b[0m\u001b[1;33m\u001b[0m\u001b[0m\n\u001b[0;32m   1360\u001b[0m         \u001b[1;32mif\u001b[0m \u001b[0mdata\u001b[0m \u001b[1;32mis\u001b[0m \u001b[1;32mNone\u001b[0m\u001b[1;33m:\u001b[0m\u001b[1;33m\u001b[0m\u001b[1;33m\u001b[0m\u001b[0m\n\u001b[1;32m-> 1361\u001b[1;33m             \u001b[1;32mreturn\u001b[0m \u001b[0mfunc\u001b[0m\u001b[1;33m(\u001b[0m\u001b[0max\u001b[0m\u001b[1;33m,\u001b[0m \u001b[1;33m*\u001b[0m\u001b[0mmap\u001b[0m\u001b[1;33m(\u001b[0m\u001b[0msanitize_sequence\u001b[0m\u001b[1;33m,\u001b[0m \u001b[0margs\u001b[0m\u001b[1;33m)\u001b[0m\u001b[1;33m,\u001b[0m \u001b[1;33m**\u001b[0m\u001b[0mkwargs\u001b[0m\u001b[1;33m)\u001b[0m\u001b[1;33m\u001b[0m\u001b[1;33m\u001b[0m\u001b[0m\n\u001b[0m\u001b[0;32m   1362\u001b[0m \u001b[1;33m\u001b[0m\u001b[0m\n\u001b[0;32m   1363\u001b[0m         \u001b[0mbound\u001b[0m \u001b[1;33m=\u001b[0m \u001b[0mnew_sig\u001b[0m\u001b[1;33m.\u001b[0m\u001b[0mbind\u001b[0m\u001b[1;33m(\u001b[0m\u001b[0max\u001b[0m\u001b[1;33m,\u001b[0m \u001b[1;33m*\u001b[0m\u001b[0margs\u001b[0m\u001b[1;33m,\u001b[0m \u001b[1;33m**\u001b[0m\u001b[0mkwargs\u001b[0m\u001b[1;33m)\u001b[0m\u001b[1;33m\u001b[0m\u001b[1;33m\u001b[0m\u001b[0m\n",
      "\u001b[1;32mc:\\Users\\zhouj\\anaconda3\\lib\\site-packages\\matplotlib\\axes\\_axes.py\u001b[0m in \u001b[0;36mboxplot\u001b[1;34m(self, x, notch, sym, vert, whis, positions, widths, patch_artist, bootstrap, usermedians, conf_intervals, meanline, showmeans, showcaps, showbox, showfliers, boxprops, labels, flierprops, medianprops, meanprops, capprops, whiskerprops, manage_ticks, autorange, zorder)\u001b[0m\n\u001b[0;32m   3743\u001b[0m             \u001b[0mbootstrap\u001b[0m \u001b[1;33m=\u001b[0m \u001b[0mrcParams\u001b[0m\u001b[1;33m[\u001b[0m\u001b[1;34m'boxplot.bootstrap'\u001b[0m\u001b[1;33m]\u001b[0m\u001b[1;33m\u001b[0m\u001b[1;33m\u001b[0m\u001b[0m\n\u001b[0;32m   3744\u001b[0m \u001b[1;33m\u001b[0m\u001b[0m\n\u001b[1;32m-> 3745\u001b[1;33m         bxpstats = cbook.boxplot_stats(x, whis=whis, bootstrap=bootstrap,\n\u001b[0m\u001b[0;32m   3746\u001b[0m                                        labels=labels, autorange=autorange)\n\u001b[0;32m   3747\u001b[0m         \u001b[1;32mif\u001b[0m \u001b[0mnotch\u001b[0m \u001b[1;32mis\u001b[0m \u001b[1;32mNone\u001b[0m\u001b[1;33m:\u001b[0m\u001b[1;33m\u001b[0m\u001b[1;33m\u001b[0m\u001b[0m\n",
      "\u001b[1;32mc:\\Users\\zhouj\\anaconda3\\lib\\site-packages\\matplotlib\\cbook\\__init__.py\u001b[0m in \u001b[0;36mboxplot_stats\u001b[1;34m(X, whis, bootstrap, labels, autorange)\u001b[0m\n\u001b[0;32m   1188\u001b[0m \u001b[1;33m\u001b[0m\u001b[0m\n\u001b[0;32m   1189\u001b[0m     \u001b[1;31m# convert X to a list of lists\u001b[0m\u001b[1;33m\u001b[0m\u001b[1;33m\u001b[0m\u001b[0m\n\u001b[1;32m-> 1190\u001b[1;33m     \u001b[0mX\u001b[0m \u001b[1;33m=\u001b[0m \u001b[0m_reshape_2D\u001b[0m\u001b[1;33m(\u001b[0m\u001b[0mX\u001b[0m\u001b[1;33m,\u001b[0m \u001b[1;34m\"X\"\u001b[0m\u001b[1;33m)\u001b[0m\u001b[1;33m\u001b[0m\u001b[1;33m\u001b[0m\u001b[0m\n\u001b[0m\u001b[0;32m   1191\u001b[0m \u001b[1;33m\u001b[0m\u001b[0m\n\u001b[0;32m   1192\u001b[0m     \u001b[0mncols\u001b[0m \u001b[1;33m=\u001b[0m \u001b[0mlen\u001b[0m\u001b[1;33m(\u001b[0m\u001b[0mX\u001b[0m\u001b[1;33m)\u001b[0m\u001b[1;33m\u001b[0m\u001b[1;33m\u001b[0m\u001b[0m\n",
      "\u001b[1;32mc:\\Users\\zhouj\\anaconda3\\lib\\site-packages\\matplotlib\\cbook\\__init__.py\u001b[0m in \u001b[0;36m_reshape_2D\u001b[1;34m(X, name)\u001b[0m\n\u001b[0;32m   1417\u001b[0m \u001b[1;33m\u001b[0m\u001b[0m\n\u001b[0;32m   1418\u001b[0m     \u001b[1;31m# Iterate over list of iterables.\u001b[0m\u001b[1;33m\u001b[0m\u001b[1;33m\u001b[0m\u001b[0m\n\u001b[1;32m-> 1419\u001b[1;33m     \u001b[1;32mif\u001b[0m \u001b[0mlen\u001b[0m\u001b[1;33m(\u001b[0m\u001b[0mX\u001b[0m\u001b[1;33m)\u001b[0m \u001b[1;33m==\u001b[0m \u001b[1;36m0\u001b[0m\u001b[1;33m:\u001b[0m\u001b[1;33m\u001b[0m\u001b[1;33m\u001b[0m\u001b[0m\n\u001b[0m\u001b[0;32m   1420\u001b[0m         \u001b[1;32mreturn\u001b[0m \u001b[1;33m[\u001b[0m\u001b[1;33m[\u001b[0m\u001b[1;33m]\u001b[0m\u001b[1;33m]\u001b[0m\u001b[1;33m\u001b[0m\u001b[1;33m\u001b[0m\u001b[0m\n\u001b[0;32m   1421\u001b[0m \u001b[1;33m\u001b[0m\u001b[0m\n",
      "\u001b[1;31mTypeError\u001b[0m: object of type 'ellipsis' has no len()"
     ]
    },
    {
     "data": {
      "image/png": "[encoded data removed]",
      "text/plain": [
       "<Figure size 432x288 with 1 Axes>"
      ]
     },
     "metadata": {
      "needs_background": "light"
     },
     "output_type": "display_data"
    }
   ],
   "source": [
    "# 调用函数并显示箱线图\n",
    "%matplotlib inline\n",
    "result, ax = analyze_house_prices(HOUSE_SALES_CSV)\n",
    "print(result)\n",
    "# 输出结果应该为：\n",
    "# {'Q1 (25th Percentile)': 325.0, 'Q3 (75th Percentile)': 585.0, 'IQR': 260.0,\n",
    "#  'Lower Whisker': -65.0, 'Upper Whisker': 975.0}"
   ]
  },
  {
   "cell_type": "code",
   "execution_count": 28,
   "metadata": {},
   "outputs": [
    {
     "ename": "TypeError",
     "evalue": "object of type 'ellipsis' has no len()",
     "output_type": "error",
     "traceback": [
      "\u001b[1;31m---------------------------------------------------------------------------\u001b[0m",
      "\u001b[1;31mTypeError\u001b[0m                                 Traceback (most recent call last)",
      "\u001b[1;32m~\\AppData\\Local\\Temp/ipykernel_11976/4017165290.py\u001b[0m in \u001b[0;36m<module>\u001b[1;34m\u001b[0m\n\u001b[0;32m      2\u001b[0m \u001b[0mget_ipython\u001b[0m\u001b[1;33m(\u001b[0m\u001b[1;33m)\u001b[0m\u001b[1;33m.\u001b[0m\u001b[0mrun_line_magic\u001b[0m\u001b[1;33m(\u001b[0m\u001b[1;34m'matplotlib'\u001b[0m\u001b[1;33m,\u001b[0m \u001b[1;34m'agg'\u001b[0m\u001b[1;33m)\u001b[0m\u001b[1;33m\u001b[0m\u001b[1;33m\u001b[0m\u001b[0m\n\u001b[0;32m      3\u001b[0m \u001b[1;32mfrom\u001b[0m \u001b[0mtestset6\u001b[0m \u001b[1;32mimport\u001b[0m \u001b[0mtest_analyze_house_prices\u001b[0m\u001b[1;33m\u001b[0m\u001b[1;33m\u001b[0m\u001b[0m\n\u001b[1;32m----> 4\u001b[1;33m \u001b[0mtest_analyze_house_prices\u001b[0m\u001b[1;33m(\u001b[0m\u001b[0manalyze_house_prices\u001b[0m\u001b[1;33m)\u001b[0m\u001b[1;33m\u001b[0m\u001b[1;33m\u001b[0m\u001b[0m\n\u001b[0m",
      "\u001b[1;32md:\\workspace\\data-modeling-course-student\\实验6-统计方法与分析\\testset6.py\u001b[0m in \u001b[0;36mtest_analyze_house_prices\u001b[1;34m(target)\u001b[0m\n\u001b[0;32m    118\u001b[0m \u001b[1;33m\u001b[0m\u001b[0m\n\u001b[0;32m    119\u001b[0m     \u001b[1;31m# 调用测试函数，返回计算结果\u001b[0m\u001b[1;33m\u001b[0m\u001b[1;33m\u001b[0m\u001b[0m\n\u001b[1;32m--> 120\u001b[1;33m     \u001b[0mresult\u001b[0m\u001b[1;33m,\u001b[0m \u001b[0max\u001b[0m \u001b[1;33m=\u001b[0m \u001b[0mtarget\u001b[0m\u001b[1;33m(\u001b[0m\u001b[0mmock_csv_file\u001b[0m\u001b[1;33m)\u001b[0m\u001b[1;33m\u001b[0m\u001b[1;33m\u001b[0m\u001b[0m\n\u001b[0m\u001b[0;32m    121\u001b[0m \u001b[1;33m\u001b[0m\u001b[0m\n\u001b[0;32m    122\u001b[0m     \u001b[1;31m# 验证统计数据是否正确（使用手动计算的期望结果）\u001b[0m\u001b[1;33m\u001b[0m\u001b[1;33m\u001b[0m\u001b[0m\n",
      "\u001b[1;32m~\\AppData\\Local\\Temp/ipykernel_11976/2803783772.py\u001b[0m in \u001b[0;36manalyze_house_prices\u001b[1;34m(HOUSE_SALES_CSV)\u001b[0m\n\u001b[0;32m     52\u001b[0m     \u001b[1;31m# 创建箱线图\u001b[0m\u001b[1;33m\u001b[0m\u001b[1;33m\u001b[0m\u001b[0m\n\u001b[0;32m     53\u001b[0m     \u001b[0mfig\u001b[0m\u001b[1;33m,\u001b[0m \u001b[0max\u001b[0m \u001b[1;33m=\u001b[0m \u001b[0mplt\u001b[0m\u001b[1;33m.\u001b[0m\u001b[0msubplots\u001b[0m\u001b[1;33m(\u001b[0m\u001b[1;33m)\u001b[0m\u001b[1;33m\u001b[0m\u001b[1;33m\u001b[0m\u001b[0m\n\u001b[1;32m---> 54\u001b[1;33m     \u001b[0max\u001b[0m\u001b[1;33m.\u001b[0m\u001b[0mboxplot\u001b[0m\u001b[1;33m(\u001b[0m\u001b[1;33m...\u001b[0m\u001b[1;33m)\u001b[0m\u001b[1;33m\u001b[0m\u001b[1;33m\u001b[0m\u001b[0m\n\u001b[0m\u001b[0;32m     55\u001b[0m \u001b[1;33m\u001b[0m\u001b[0m\n\u001b[0;32m     56\u001b[0m     \u001b[1;31m## 你编写的代码到这里结束\u001b[0m\u001b[1;33m\u001b[0m\u001b[1;33m\u001b[0m\u001b[0m\n",
      "\u001b[1;32mc:\\Users\\zhouj\\anaconda3\\lib\\site-packages\\matplotlib\\__init__.py\u001b[0m in \u001b[0;36minner\u001b[1;34m(ax, data, *args, **kwargs)\u001b[0m\n\u001b[0;32m   1359\u001b[0m     \u001b[1;32mdef\u001b[0m \u001b[0minner\u001b[0m\u001b[1;33m(\u001b[0m\u001b[0max\u001b[0m\u001b[1;33m,\u001b[0m \u001b[1;33m*\u001b[0m\u001b[0margs\u001b[0m\u001b[1;33m,\u001b[0m \u001b[0mdata\u001b[0m\u001b[1;33m=\u001b[0m\u001b[1;32mNone\u001b[0m\u001b[1;33m,\u001b[0m \u001b[1;33m**\u001b[0m\u001b[0mkwargs\u001b[0m\u001b[1;33m)\u001b[0m\u001b[1;33m:\u001b[0m\u001b[1;33m\u001b[0m\u001b[1;33m\u001b[0m\u001b[0m\n\u001b[0;32m   1360\u001b[0m         \u001b[1;32mif\u001b[0m \u001b[0mdata\u001b[0m \u001b[1;32mis\u001b[0m \u001b[1;32mNone\u001b[0m\u001b[1;33m:\u001b[0m\u001b[1;33m\u001b[0m\u001b[1;33m\u001b[0m\u001b[0m\n\u001b[1;32m-> 1361\u001b[1;33m             \u001b[1;32mreturn\u001b[0m \u001b[0mfunc\u001b[0m\u001b[1;33m(\u001b[0m\u001b[0max\u001b[0m\u001b[1;33m,\u001b[0m \u001b[1;33m*\u001b[0m\u001b[0mmap\u001b[0m\u001b[1;33m(\u001b[0m\u001b[0msanitize_sequence\u001b[0m\u001b[1;33m,\u001b[0m \u001b[0margs\u001b[0m\u001b[1;33m)\u001b[0m\u001b[1;33m,\u001b[0m \u001b[1;33m**\u001b[0m\u001b[0mkwargs\u001b[0m\u001b[1;33m)\u001b[0m\u001b[1;33m\u001b[0m\u001b[1;33m\u001b[0m\u001b[0m\n\u001b[0m\u001b[0;32m   1362\u001b[0m \u001b[1;33m\u001b[0m\u001b[0m\n\u001b[0;32m   1363\u001b[0m         \u001b[0mbound\u001b[0m \u001b[1;33m=\u001b[0m \u001b[0mnew_sig\u001b[0m\u001b[1;33m.\u001b[0m\u001b[0mbind\u001b[0m\u001b[1;33m(\u001b[0m\u001b[0max\u001b[0m\u001b[1;33m,\u001b[0m \u001b[1;33m*\u001b[0m\u001b[0margs\u001b[0m\u001b[1;33m,\u001b[0m \u001b[1;33m**\u001b[0m\u001b[0mkwargs\u001b[0m\u001b[1;33m)\u001b[0m\u001b[1;33m\u001b[0m\u001b[1;33m\u001b[0m\u001b[0m\n",
      "\u001b[1;32mc:\\Users\\zhouj\\anaconda3\\lib\\site-packages\\matplotlib\\axes\\_axes.py\u001b[0m in \u001b[0;36mboxplot\u001b[1;34m(self, x, notch, sym, vert, whis, positions, widths, patch_artist, bootstrap, usermedians, conf_intervals, meanline, showmeans, showcaps, showbox, showfliers, boxprops, labels, flierprops, medianprops, meanprops, capprops, whiskerprops, manage_ticks, autorange, zorder)\u001b[0m\n\u001b[0;32m   3743\u001b[0m             \u001b[0mbootstrap\u001b[0m \u001b[1;33m=\u001b[0m \u001b[0mrcParams\u001b[0m\u001b[1;33m[\u001b[0m\u001b[1;34m'boxplot.bootstrap'\u001b[0m\u001b[1;33m]\u001b[0m\u001b[1;33m\u001b[0m\u001b[1;33m\u001b[0m\u001b[0m\n\u001b[0;32m   3744\u001b[0m \u001b[1;33m\u001b[0m\u001b[0m\n\u001b[1;32m-> 3745\u001b[1;33m         bxpstats = cbook.boxplot_stats(x, whis=whis, bootstrap=bootstrap,\n\u001b[0m\u001b[0;32m   3746\u001b[0m                                        labels=labels, autorange=autorange)\n\u001b[0;32m   3747\u001b[0m         \u001b[1;32mif\u001b[0m \u001b[0mnotch\u001b[0m \u001b[1;32mis\u001b[0m \u001b[1;32mNone\u001b[0m\u001b[1;33m:\u001b[0m\u001b[1;33m\u001b[0m\u001b[1;33m\u001b[0m\u001b[0m\n",
      "\u001b[1;32mc:\\Users\\zhouj\\anaconda3\\lib\\site-packages\\matplotlib\\cbook\\__init__.py\u001b[0m in \u001b[0;36mboxplot_stats\u001b[1;34m(X, whis, bootstrap, labels, autorange)\u001b[0m\n\u001b[0;32m   1188\u001b[0m \u001b[1;33m\u001b[0m\u001b[0m\n\u001b[0;32m   1189\u001b[0m     \u001b[1;31m# convert X to a list of lists\u001b[0m\u001b[1;33m\u001b[0m\u001b[1;33m\u001b[0m\u001b[0m\n\u001b[1;32m-> 1190\u001b[1;33m     \u001b[0mX\u001b[0m \u001b[1;33m=\u001b[0m \u001b[0m_reshape_2D\u001b[0m\u001b[1;33m(\u001b[0m\u001b[0mX\u001b[0m\u001b[1;33m,\u001b[0m \u001b[1;34m\"X\"\u001b[0m\u001b[1;33m)\u001b[0m\u001b[1;33m\u001b[0m\u001b[1;33m\u001b[0m\u001b[0m\n\u001b[0m\u001b[0;32m   1191\u001b[0m \u001b[1;33m\u001b[0m\u001b[0m\n\u001b[0;32m   1192\u001b[0m     \u001b[0mncols\u001b[0m \u001b[1;33m=\u001b[0m \u001b[0mlen\u001b[0m\u001b[1;33m(\u001b[0m\u001b[0mX\u001b[0m\u001b[1;33m)\u001b[0m\u001b[1;33m\u001b[0m\u001b[1;33m\u001b[0m\u001b[0m\n",
      "\u001b[1;32mc:\\Users\\zhouj\\anaconda3\\lib\\site-packages\\matplotlib\\cbook\\__init__.py\u001b[0m in \u001b[0;36m_reshape_2D\u001b[1;34m(X, name)\u001b[0m\n\u001b[0;32m   1417\u001b[0m \u001b[1;33m\u001b[0m\u001b[0m\n\u001b[0;32m   1418\u001b[0m     \u001b[1;31m# Iterate over list of iterables.\u001b[0m\u001b[1;33m\u001b[0m\u001b[1;33m\u001b[0m\u001b[0m\n\u001b[1;32m-> 1419\u001b[1;33m     \u001b[1;32mif\u001b[0m \u001b[0mlen\u001b[0m\u001b[1;33m(\u001b[0m\u001b[0mX\u001b[0m\u001b[1;33m)\u001b[0m \u001b[1;33m==\u001b[0m \u001b[1;36m0\u001b[0m\u001b[1;33m:\u001b[0m\u001b[1;33m\u001b[0m\u001b[1;33m\u001b[0m\u001b[0m\n\u001b[0m\u001b[0;32m   1420\u001b[0m         \u001b[1;32mreturn\u001b[0m \u001b[1;33m[\u001b[0m\u001b[1;33m[\u001b[0m\u001b[1;33m]\u001b[0m\u001b[1;33m]\u001b[0m\u001b[1;33m\u001b[0m\u001b[1;33m\u001b[0m\u001b[0m\n\u001b[0;32m   1421\u001b[0m \u001b[1;33m\u001b[0m\u001b[0m\n",
      "\u001b[1;31mTypeError\u001b[0m: object of type 'ellipsis' has no len()"
     ]
    }
   ],
   "source": [
    "# 测试你的函数\n",
    "%matplotlib agg\n",
    "from testset6 import test_analyze_house_prices\n",
    "test_analyze_house_prices(analyze_house_prices)"
   ]
  },
  {
   "cell_type": "markdown",
   "metadata": {},
   "source": [
    "## 置信区间(Confidence Intervals)"
   ]
  },
  {
   "cell_type": "markdown",
   "metadata": {},
   "source": [
    "### 核心概念"
   ]
  },
  {
   "cell_type": "markdown",
   "metadata": {},
   "source": [
    "总体比例的置信区间 (Confidence Intervals for Population Proportions)\n",
    "\n",
    "-   **目标：** 根据样本 (sample) 估算具有某种特征的总体 (population) 的真实比例 (true proportion)（百分比）。可以想象成猜测*所有*总是使用汽车座椅的父母的百分比，但你只能询问一部分父母（样本）。\n",
    "\n",
    "-   **置信区间 (Confidence Interval)：** 我们认为真实总体比例 (true population proportion) 可能落入其中的一个数值范围。 这不是保证，而是概率的陈述。\n",
    "\n",
    "-   **关键术语 (Key Terms)**\n",
    "    *   p：要检验的总体比例 (population proportion)。\n",
    "    *   p̂ (p-hat)：（阳性回复的数量）/（样本数量）number of positive response / number of sample。\n",
    "    *   误差范围 (Margin of error)：估计可能出现的偏差。\n",
    "    *   标准误差 (Standard error)：抽样分布的标准差 (standard deviation of a sampling distribution)。\n",
    "\n",
    "**如何计算比例的置信区间 (How to Calculate a Confidence Interval (for a Proportion)):**\n",
    "\n",
    "1.  **最佳估计 (Best Estimate) (p̂):**\n",
    "    *   这是你的样本比例 (sample proportion)。 计算公式为：$$p̂ = (样本中的“成功”数) / (总样本量)$$  $$p̂ = (Number of \"successes\" in the sample) / (Total sample size)$$\n",
    "    *   在示例中，659 位家长中有 540 位表示总是使用汽车座椅。 因此，p̂ = 540/659 = 0.82（大约）。\n",
    "\n",
    "2.  **误差范围 (Margin of Error):**\n",
    "    *   这解释了使用样本来代表整个总体的不确定性。\n",
    "    *   计算公式为：`误差范围 (Margin of Error) = (临界值 (Critical Value)) * (估计标准误差 (Estimated Standard Error))`\n",
    "\n",
    "    *   **临界值 (Critical Value) (z-star):** 这取决于你期望的置信水平 (confidence level)。 对于 95% 的置信水平，临界值约为 1.96（或通常四舍五入为 2）。 该值来自标准正态分布 (standard normal distribution)（Z 分布）。 较高的置信水平需要较大的临界值。\n",
    "\n",
    "    *   **估计标准误差 (Estimated Standard Error):** 这衡量了样本比例的变异性。 计算公式为：\n",
    "        $$\\sqrt ( [p̂ * (1 - p̂)] / n ) $$\n",
    "        其中 'n' 是样本量 (sample size)。\n",
    "\n",
    "3.  **置信区间计算 (Confidence Interval Calculation):**\n",
    "    *   `置信区间 (Confidence Interval) = 最佳估计 (Best Estimate) ± 误差范围 (Margin of Error)`\n",
    "    *   `置信区间 (Confidence Interval) = p̂ ± (临界值 (Critical Value) * 估计标准误差 (Estimated Standard Error))`\n",
    "\n",
    "**示例演练（汽车座椅使用）(Example Walkthrough (Car Seat Usage)):**\n",
    "\n",
    "1.  **总体 (Population)：** 有幼儿的父母。\n",
    "2.  **感兴趣的参数 (Parameter of Interest) (p)：** *所有*有幼儿的父母总是使用汽车座椅的真实比例。\n",
    "3.  **样本量 (Sample Size) (n)：** 659\n",
    "4.  **“成功”数 (\"Successes\") (x)：** 540（表示“是”的父母）\n",
    "5.  **最佳估计 (Best Estimate) (p̂)：** 540/659 ≈ 0.82\n",
    "6.  **置信水平 (Confidence Level)：** 95%\n",
    "7.  **临界值 (Critical Value) (z-star)：** \n",
    "    - 置信区间95%时，z-star=1.96\n",
    "    - 置信区间99%时，z-star=2.576\n",
    "    - 置信区间90%时，z-star=1.645\n",
    "8.  **估计标准误差 (Estimated Standard Error)：** √( [0.82 * (1 - 0.82)] / 659 ) ≈ 0.0146\n",
    "9.  **误差范围 (Margin of error):** 1.96 * 0.0146 ≈ 0.0286\n",
    "10. **置信区间 (Confidence Interval)：** 0.82 ± 0.0286，得出范围 (0.7914, 0.8474)。 转换为百分比：79.14% 到 84.74%。\n",
    "\n",
    "**解释 (Interpretation):**\n",
    "\n",
    "*   简单的(但是不准确的)解释:“我们有 95% 的信心，总是使用汽车座椅的有幼儿父母的真实比例在 79.14% 到 84.74% 之间。”\n",
    "\n",
    "*   **重要提示 (更准确的解释):** 这*并不*意味着真实比例*正好*在该范围内有 95% 的可能性。 应该是如果我们**多次重复**此抽样过程，我们计算出的 95% 的置信区间将包含真实总体比例。\n",
    "\n",
    "<div align=\"center\">  \n",
    "    <img src=\"./img/2025-02-12-07-38-48.png\" width=\"400\" height=\"300\">  \n",
    "</div>  \n",
    "\n",
    "**置信区间可视化的解释：**\n",
    "- 网站链接： [Seeing Theory App](https://seeing-theory.brown.edu/frequentist-inference/index.html#section2) \n",
    "- 使用方法： 选择 “Start” --> \"frequentist-inference\" --> \"Confidence Interval\"\n",
    "\n",
    "\n",
    "**主要收获 (Key Takeaways):**\n",
    "\n",
    "*   置信区间 (Confidence intervals) 为总体比例 (population proportion) 提供了一系列合理的数值。\n",
    "*   置信区间 (confidence interval) 的中心是样本比例 (sample proportion) (p̂)。\n",
    "*   区间的宽度由误差范围 (margin of error) 决定，误差范围取决于置信水平 (confidence level) 和样本量 (sample size)。 较大的样本量会导致较窄的区间（更高的精度）。\n",
    "*   置信区间 (confidence interval) 的解释至关重要。 这是关于该方法长期性能的陈述，而不是关于任何单个区间的保证。"
   ]
  },
  {
   "cell_type": "markdown",
   "metadata": {},
   "source": [
    "### 使用Python计算置信区间"
   ]
  },
  {
   "cell_type": "markdown",
   "metadata": {},
   "source": [
    "置信区间可以按以下方式计算：\n",
    "\n",
    "$${\\rm 最佳估计值} \\pm {\\rm 误差范围}$$\n",
    "\n",
    "其中*最佳估计值*可以是\n",
    "- 观察到的总体比例\n",
    "- 观察到的均值\n",
    "\n",
    "而*误差范围*是**临界值**乘以**标准误差**。\n",
    "\n",
    "临界值是根据自由度和所需的置信水平计算的。对于样本量超过30个观测值且置信水平为95%的情况，我们可以使用z乘数1.96来代替临界值。z乘数的优点是不依赖于任何\"自由度\"。\n",
    "\n",
    "创建95%置信区间的公式也可以表示为：\n",
    "\n",
    "$${\\rm 总体比例或均值} \\pm ({\\rm 临界值} \\cdot {\\rm 标准误差})$$\n",
    "\n",
    "最后，总体比例和均值的标准误差计算方法不同：\n",
    "\n",
    "$${\\rm 比例的标准误差} = \\sqrt{\\frac{{\\rm 总体比例} \\cdot (1 - {\\rm 总体比例})}{{\\rm 观测数量}}}$$\n",
    "\n",
    "$${\\rm 均值的标准误差} = \\frac{{\\rm 标准差}}{\\sqrt{{\\rm 观测数量}}}$$\n"
   ]
  },
  {
   "cell_type": "markdown",
   "metadata": {},
   "source": [
    "#### 案例1（总体比例）"
   ]
  },
  {
   "cell_type": "markdown",
   "metadata": {},
   "source": [
    "我们有一个由659名有幼儿的人组成的样本，其中85%的父母始终使用儿童安全座椅。这个点估计值（85%）并不完全等于使用儿童安全座椅的父母的总体比例。标准误差（SE）表示点估计值相对于总体值可能存在的误差。接下来，我们将使用计算比例标准误差的程序来计算这个标准误差。"
   ]
  },
  {
   "cell_type": "code",
   "execution_count": null,
   "metadata": {},
   "outputs": [],
   "source": [
    "import numpy as np\n",
    "import pandas as pd\n",
    "\n",
    "# 临界值\n",
    "tstar = 1.96\n",
    "\n",
    "# 最佳估计值\n",
    "p = .85\n",
    "\n",
    "# 样本数\n",
    "n = 659\n",
    "\n",
    "# 比例的标准误差\n",
    "se = np.sqrt((p * (1 - p))/n)\n",
    "se"
   ]
  },
  {
   "cell_type": "markdown",
   "metadata": {},
   "source": [
    "标准误差是0.014，即1.4个百分点。因此，我们的点估计值（85%）可能与真实值相差约1.4个百分点。接下来，我们要为始终使用儿童安全座椅的幼儿父母的比例计算置信区间。置信区间由其\"置信下限\"（lcb）和\"置信上限\"（ucb）来定义。"
   ]
  },
  {
   "cell_type": "code",
   "execution_count": null,
   "metadata": {},
   "outputs": [],
   "source": [
    "lcb = p - tstar * se\n",
    "ucb = p + tstar * se\n",
    "(lcb, ucb)"
   ]
  },
  {
   "cell_type": "markdown",
   "metadata": {},
   "source": [
    "#### 案例2(平均值)"
   ]
  },
  {
   "cell_type": "markdown",
   "metadata": {},
   "source": [
    "现在，让我们使用侧手翻数据集，为侧手翻平均距离计算置信区间:"
   ]
  },
  {
   "cell_type": "code",
   "execution_count": null,
   "metadata": {},
   "outputs": [],
   "source": [
    "df = pd.read_csv(CARTWHEEL_CSV)\n",
    "df.head()"
   ]
  },
  {
   "cell_type": "code",
   "execution_count": null,
   "metadata": {},
   "outputs": [],
   "source": [
    "# 计算均值，标准差和样本数\n",
    "mean = df[\"CWDistance\"].mean()\n",
    "sd = df[\"CWDistance\"].std()\n",
    "n = len(df)\n",
    "\n",
    "# 计算均值的标准误差\n",
    "tstar = 2.064   # 95%的置信区间, 因为样本数不到30，使用t分布的乘数更大\n",
    "se = sd/np.sqrt(n)\n",
    "se"
   ]
  },
  {
   "cell_type": "markdown",
   "metadata": {},
   "source": [
    "计算均值的置信区间"
   ]
  },
  {
   "cell_type": "code",
   "execution_count": null,
   "metadata": {},
   "outputs": [],
   "source": [
    "lcb = mean - tstar * se\n",
    "ucb = mean + tstar * se\n",
    "(lcb, ucb)"
   ]
  },
  {
   "cell_type": "markdown",
   "metadata": {},
   "source": [
    "## 习题4"
   ]
  },
  {
   "cell_type": "markdown",
   "metadata": {},
   "source": [
    "编写函数，读取肺部疾病研究数据集(LUNGDISEASE_CSV)中的数据PEFR (Peak Expiratory Flow Rate): 呼气峰流速, 这是一个衡量肺功能的指标, 单位通常是升/分钟(L/min), 数值范围从110到610不等。根据文件中给出的PEFR样本数据均值，计算95%（`t_star`为1.96）的置信区间。\n",
    "\n",
    "要求函数最后返回：\n",
    "- 'PEFR'序列的全部数据\n",
    "- 均值的标准误差\n",
    "- 置信区间的置信下限和置信上限"
   ]
  },
  {
   "cell_type": "code",
   "execution_count": null,
   "metadata": {},
   "outputs": [],
   "source": [
    "def calculate_pefr_confidence_interval(LUNGDISEASE_CSV):\n",
    "\n",
    "    ## 读取肺部疾病数据文件\n",
    "    # df = ...\n",
    "\n",
    "    ## 获取'PEFR'列的数据\n",
    "    # pefr_values = ...\n",
    "\n",
    "    # 计算样本的均值，标准差，样本数\n",
    "    # mean = ...\n",
    "    # sd = ...\n",
    "    # n = ...\n",
    "\n",
    "    # 计算均值的标准误差\n",
    "    # se = ...\n",
    "\n",
    "    # 设置临界值\n",
    "    # t_star =  ...\n",
    "\n",
    "    # 计算置信区间的置信下限和置信上限\n",
    "    # lcb = ...\n",
    "    # ucb = ...\n",
    "    # 大约共9行代码\n",
    "\n",
    "    ## 你编写的代码从这里开始\n",
    "\n",
    "\n",
    "\n",
    "    ## 你编写的代码到这里结束\n",
    "\n",
    "    return pefr_values, se, lcb, ucb"
   ]
  },
  {
   "cell_type": "code",
   "execution_count": null,
   "metadata": {},
   "outputs": [
    {
     "ename": "NameError",
     "evalue": "name 'pefr_values' is not defined",
     "output_type": "error",
     "traceback": [
      "\u001b[1;31m---------------------------------------------------------------------------\u001b[0m",
      "\u001b[1;31mNameError\u001b[0m                                 Traceback (most recent call last)",
      "\u001b[1;32m~\\AppData\\Local\\Temp/ipykernel_11976/553783597.py\u001b[0m in \u001b[0;36m<module>\u001b[1;34m\u001b[0m\n\u001b[0;32m      1\u001b[0m \u001b[1;32mfrom\u001b[0m \u001b[0mtestset6\u001b[0m \u001b[1;32mimport\u001b[0m \u001b[0mtest_calculate_pefr_confidence_interval\u001b[0m\u001b[1;33m\u001b[0m\u001b[1;33m\u001b[0m\u001b[0m\n\u001b[1;32m----> 2\u001b[1;33m \u001b[0mtest_calculate_pefr_confidence_interval\u001b[0m\u001b[1;33m(\u001b[0m\u001b[0mcalculate_pefr_confidence_interval\u001b[0m\u001b[1;33m)\u001b[0m\u001b[1;33m\u001b[0m\u001b[1;33m\u001b[0m\u001b[0m\n\u001b[0m",
      "\u001b[1;32md:\\workspace\\data-modeling-course-student\\实验6-统计方法与分析\\testset6.py\u001b[0m in \u001b[0;36mtest_calculate_pefr_confidence_interval\u001b[1;34m(target)\u001b[0m\n\u001b[0;32m    182\u001b[0m     \u001b[0mLUNGDISEASE_CSV\u001b[0m \u001b[1;33m=\u001b[0m \u001b[0mDATA\u001b[0m \u001b[1;33m/\u001b[0m \u001b[1;34m'lungdisease.csv'\u001b[0m\u001b[1;33m\u001b[0m\u001b[1;33m\u001b[0m\u001b[0m\n\u001b[0;32m    183\u001b[0m \u001b[1;33m\u001b[0m\u001b[0m\n\u001b[1;32m--> 184\u001b[1;33m     \u001b[0mpefr_values\u001b[0m\u001b[1;33m,\u001b[0m \u001b[0mse\u001b[0m\u001b[1;33m,\u001b[0m \u001b[0mlcb\u001b[0m\u001b[1;33m,\u001b[0m \u001b[0mucb\u001b[0m \u001b[1;33m=\u001b[0m \u001b[0mtarget\u001b[0m\u001b[1;33m(\u001b[0m\u001b[0mLUNGDISEASE_CSV\u001b[0m\u001b[1;33m)\u001b[0m\u001b[1;33m\u001b[0m\u001b[1;33m\u001b[0m\u001b[0m\n\u001b[0m\u001b[0;32m    185\u001b[0m \u001b[1;33m\u001b[0m\u001b[0m\n\u001b[0;32m    186\u001b[0m     \u001b[0mexpected_perf_values\u001b[0m \u001b[1;33m=\u001b[0m \u001b[0mpd\u001b[0m\u001b[1;33m.\u001b[0m\u001b[0mread_csv\u001b[0m\u001b[1;33m(\u001b[0m\u001b[0mLUNGDISEASE_CSV\u001b[0m\u001b[1;33m)\u001b[0m\u001b[1;33m[\u001b[0m\u001b[1;34m'PEFR'\u001b[0m\u001b[1;33m]\u001b[0m\u001b[1;33m\u001b[0m\u001b[1;33m\u001b[0m\u001b[0m\n",
      "\u001b[1;32m~\\AppData\\Local\\Temp/ipykernel_11976/2429481519.py\u001b[0m in \u001b[0;36mcalculate_pefr_confidence_interval\u001b[1;34m(LUNGDISEASE_CSV)\u001b[0m\n\u001b[0;32m     29\u001b[0m     \u001b[1;31m## 你编写的代码到这里结束\u001b[0m\u001b[1;33m\u001b[0m\u001b[1;33m\u001b[0m\u001b[0m\n\u001b[0;32m     30\u001b[0m \u001b[1;33m\u001b[0m\u001b[0m\n\u001b[1;32m---> 31\u001b[1;33m     \u001b[1;32mreturn\u001b[0m \u001b[0mpefr_values\u001b[0m\u001b[1;33m,\u001b[0m \u001b[0mse\u001b[0m\u001b[1;33m,\u001b[0m \u001b[0mlcb\u001b[0m\u001b[1;33m,\u001b[0m \u001b[0mucb\u001b[0m\u001b[1;33m\u001b[0m\u001b[1;33m\u001b[0m\u001b[0m\n\u001b[0m",
      "\u001b[1;31mNameError\u001b[0m: name 'pefr_values' is not defined"
     ]
    }
   ],
   "source": [
    "from testset6 import test_calculate_pefr_confidence_interval\n",
    "test_calculate_pefr_confidence_interval(calculate_pefr_confidence_interval)"
   ]
  },
  {
   "cell_type": "markdown",
   "metadata": {},
   "source": [
    "## 统计学假设检验与推理"
   ]
  },
  {
   "cell_type": "markdown",
   "metadata": {},
   "source": [
    "### 假设检验"
   ]
  },
  {
   "cell_type": "markdown",
   "metadata": {},
   "source": [
    "1. **零假设（Null Hypothesis）**\n",
    "- **定义**：零假设是一个基线假设，通常认为两组之间没有差异，所有的观察结果都可以用“随机性”来解释。\n",
    "  - 例如，“组A与组B之间没有区别”，“所有治疗组的效果是一样的”。\n",
    "- **逻辑**：\n",
    "  - 假设数据中的差异只是随机产生的，而非因为实验处理的不同所引起。\n",
    "  - 通过数据分析，我们试图证明这种想法是错误的（即“推翻零假设”）。\n",
    "\n",
    "2. **备择假设（Alternative Hypothesis）**\n",
    "- **定义**：备择假设与零假设相对立，代表我们想要证明的假设。它通常表明实验处理产生了某种显著效果。\n",
    "- **举例**：\n",
    "  - **零假设**: “组A和组B的均值相等”；**备择假设**：组A和组B的均值不同。\n",
    "  - **零假设**: “组A的结果小于或等于组B”；**备择假设**：组A的结果大于组B。\n",
    "  - **零假设**: “B比A的结果增加不足X%”；**备择假设**：B比A增加了X%以上。\n",
    "- **特点**：\n",
    "  - 零假设和备择假设必须涵盖所有可能性（即它们是互补的）。\n",
    "  - 根据零假设中的设定，决定使用哪种具体假设检验方法。\n",
    "\n",
    "3. **假设检验的核心思想**：基于零假设的前提，检验数据中的差异是否极端到足以排除“随机性”的解释。如果可以排除，就接受备择假设，认为实验处理或分组差异导致了观察到的显著不同。这种方法在决策中非常重要，因为人类容易将随机产生的现象误认为是有意义的。因此，通过统计假设检验，我们能更科学地判断实验结果是否有显著性。"
   ]
  },
  {
   "cell_type": "markdown",
   "metadata": {},
   "source": [
    "### 统计显著性"
   ]
  },
  {
   "cell_type": "markdown",
   "metadata": {},
   "source": [
    "**1. 统计显著性（Statistical Significance）**\n",
    "- **定义**：统计显著性是用来衡量实验结果是否超出了随机性所能解释的范围。如果实验结果超出了随机变化的可能性范围，就称为统计显著。\n",
    "- **目的**：通过统计显著性判断实验结果是否足够“极端”，从而推翻零假设。\n",
    "\n",
    "---\n",
    "\n",
    "**2. 关键术语**\n",
    "1. **p值（p-value）**：\n",
    "   - **定义**：在零假设成立的前提下，得到像观察结果一样极端或更极端结果的概率。\n",
    "   - **意义**：p值越小，说明观察结果越不可能是随机性造成的，从而越有可能推翻零假设。\n",
    "   \n",
    "2. **α值（Alpha）**：\n",
    "   - **定义**：判断结果是否显著的概率阈值，通常设定为5%（0.05）或1%（0.01）。如果p值小于α值，则结果被认为是统计显著的。\n",
    "   - **注意**：α值是人为设定的，并不能保证一定得出正确的结论。\n",
    "\n",
    "3. **第一类错误（Type 1 Error）**：\n",
    "   - **定义**：错误地认为一个不存在的效应是真实的（即误判随机性为显著性，假阳性）。\n",
    "   \n",
    "4. **第二类错误（Type 2 Error）**：\n",
    "   - **定义**：错误地认为一个真实的效应是随机性造成的（即误判显著性为随机性，假阴性）。\n",
    "\n",
    "---\n",
    "\n",
    "**3. 案例解释**\n",
    "**电商实验结果（A/B测试）**：\n",
    "- **实验数据**：\n",
    "  - 价格A：200次转化，23539次未转化。\n",
    "  - 价格B：182次转化，22406次未转化。\n",
    "- **转化率**：\n",
    "  - 价格A的转化率为0.8425%（$200 / (23539 + 200)$）。\n",
    "  - 价格B的转化率为0.8057%（$182 / (22406 + 182)$）。\n",
    "  - 差异为0.0368个百分点。\n",
    "- **问题**：\n",
    "  - 尽管价格A的转化率比价格B高，但转化率本身较低（不到1%），实际的转化次数（成功样本数）只有几百次。因此，我们可以通过一些检验方法，例如**z检验或t检验**判断这一差异是否可能由随机性造成。\n",
    "\n",
    "**4. 计算P值并解释结果**\n",
    "\n",
    "使用Python软件计算得到P值（具体计算方法在下一小节）：$p \\approx 0.6619$  \n",
    "\n",
    "结果解释\n",
    "- 由于p值（0.497）远大于显著性水平α = 0.05，我们无法拒绝零假设。\n",
    "- 不拒绝零假设并不意味着接受零假设，这是一种保守的表述，存在不确定性，意思是当前的数据不足以推翻零假设。\n",
    "- 价格A与价格B的转化率差异可能是由随机性造成的。\n",
    "\n"
   ]
  },
  {
   "cell_type": "markdown",
   "metadata": {},
   "source": [
    "### t检验"
   ]
  },
  {
   "cell_type": "markdown",
   "metadata": {},
   "source": [
    "接下来我们将学习假设检验的方法t-test，检验用户在网页A和网页B的会话时间是否存在显著差异。\n",
    "\n",
    "1. **假设 (Hypotheses)**:\n",
    "   - **零假设 ($H_0$)**: 用户在网页A和网页B的平均会话时间没有显著差异 ($\\mu_1 - \\mu_2 = 0$)。\n",
    "   - **备择假设 ($H_a$)**: 用户在网页A和网页B的平均会话时间存在显著差异 ($\\mu_1 - \\mu_2 \\neq 0$)。\n",
    "\n",
    "2. **显著性水平 (Significance Level)**: 使用5%的显著性水平 ($\\alpha = 0.05$)。\n",
    "\n",
    "3. **t检验(t-test)的假设**\n",
    "\n",
    "当样本量不大时，可以使用t检验，在使用 t 检验时，需要满足以下假设：\n",
    "- 独立性：两个样本是相互独立的。\n",
    "- 正态性：两个样本的分布接近正态分布。如果样本量较大（如 n > 30），根据中心极限定理，可以放宽正态性假设。"
   ]
  },
  {
   "cell_type": "code",
   "execution_count": null,
   "metadata": {},
   "outputs": [],
   "source": [
    "from scipy import stats\n",
    "\n",
    "# 从CSV文件中读取网页会话时间顺序\n",
    "session_times = pd.read_csv(WEB_PAGE_DATA_CSV)\n",
    "\n",
    "# 乘以100将时间单位转换为毫秒\n",
    "session_times.Time = 100 * session_times.Time\n",
    "\n",
    "# 打印数据\n",
    "session_times"
   ]
  },
  {
   "cell_type": "code",
   "execution_count": null,
   "metadata": {},
   "outputs": [],
   "source": [
    "# 提取网页 A 和网页 B 的会话时间\n",
    "time_a = session_times[session_times.Page == 'Page A'].Time\n",
    "time_b = session_times[session_times.Page == 'Page B'].Time\n",
    "\n",
    "# 计算网页A和网页B会话时间的均值以及均值差\n",
    "mean_a = time_a.mean()\n",
    "mean_b = time_b.mean()\n",
    "print(mean_b - mean_a)\n",
    "\n",
    "# 计算网页A和网页B会话时间的标准差的差值\n",
    "sd_a = time_a.std()\n",
    "sd_b = time_b.std()\n",
    "print(sd_b - sd_a)\n",
    "\n",
    "# 计算自由度\n",
    "df = len(time_a) + len(time_b) - 2\n",
    "print(\"自由度为：\", df)\n",
    "\n",
    "# 计算t值和p值\n",
    "tstat, pvalue = stats.ttest_ind(\n",
    "    session_times[session_times.Page == 'Page A'].Time,\n",
    "    session_times[session_times.Page == 'Page B'].Time,\n",
    "    equal_var=True)  # equal_var=True 表示两组数据的方差没有区别\n",
    "\n",
    "print(f'tstat: {tstat:.4f}')\n",
    "print(f'p-value: {pvalue:.4f}')\n",
    "\n",
    "# **结果的解释**\n",
    "# 因为p值为0.2690，大于显著性水平0.05，所以无法拒绝零假设，\n",
    "# 说明数据不足以证明网页A和网页B的会话时间均值有显著差异。"
   ]
  },
  {
   "cell_type": "markdown",
   "metadata": {},
   "source": [
    "## 习题5"
   ]
  },
  {
   "cell_type": "markdown",
   "metadata": {},
   "source": [
    "在下面的函数中，我们将要分析一项研究的数据`NAP_NO_NAP_CSV`，该研究考察了有小憩和无小憩习惯的幼儿在多个睡眠变量上的差异，假设检验，有小憩习惯（nap）的幼儿与无小憩习惯（no nap）的幼儿在24小时睡眠时长（列名为：\"24 h sleep duration\"，以分钟计）上存在差异。\n",
    "\n",
    "$$H_0: \\mu_{nap}=\\mu_{no\\ nap}, \\ H_a:\\mu_{nap}\\neq\\mu_{no\\ nap}$$\n",
    "\n",
    "或者等价于:\n",
    "\n",
    "$$H_0: \\mu_{nap}-\\mu_{no\\ nap}=0, \\ H_a:\\mu_{nap}-\\mu_{no\\ nap} \\neq 0$$\n",
    "\n",
    "使用下面的条件可以过滤获取到有小憩习惯（nap）的幼儿与无小憩习惯（no nap）的幼儿数据：\n",
    "\n",
    "- 有小憩习惯（no nap）的幼儿数据: `df['napping'] == 1`\n",
    "- 无小憩习惯（no nap）的幼儿数据: `df['napping'] == 0`\n",
    "\n",
    "在函数中使用t检验方法来检验是否要拒绝零假设，最后的函数要求返回下列数据：\n",
    "\n",
    "- 有小憩习惯（nap）的幼儿与无小憩习惯（no nap）的幼儿在24小时睡眠时长均值的差\n",
    "- 有小憩习惯（nap）的幼儿与无小憩习惯（no nap）的幼儿24小时睡眠时长均值的标准差的差值\n",
    "- t检验自由度\n",
    "- t_stat\n",
    "- p值\n",
    "- 布尔变量（`True`表示有显著差异，拒绝零假设；`False`表示没有显著差异，不拒绝零假设）"
   ]
  },
  {
   "cell_type": "code",
   "execution_count": 30,
   "metadata": {},
   "outputs": [],
   "source": [
    "def analyze_nap_sleep_duration(NAP_NO_NAP_CSV, alpha=0.05):\n",
    "    \"\"\"\n",
    "    分析有小憩/无小憩幼儿的24小时睡眠时长差异\n",
    "\n",
    "    参数:\n",
    "    data_path: 数据文件路径\n",
    "    alpha: 显著性水平, 默认0.05\n",
    "\n",
    "    返回:\n",
    "    tuple: (均值差, 标准差的差, 自由度, t统计量, p值, 是否显著)\n",
    "    \"\"\"\n",
    "    ## 读取数据\n",
    "    # df = ...\n",
    "\n",
    "    ## 过滤数据，过滤条件：\n",
    "    ## - 有小憩习惯（no nap）的幼儿数据: `df['napping'] == 1`\n",
    "    ## - 无小憩习惯（no nap）的幼儿数据: `df['napping'] == 0`\n",
    "    # nap_sleep = ...\n",
    "    # no_nap_sleep = ...\n",
    "\n",
    "    ## 获取24小时睡眠时长数据, 列名为：'24 h sleep duration'\n",
    "    # nap_sleep_24h = ...\n",
    "    # no_nap_sleep_24h = ...\n",
    "\n",
    "    ## 计算均值差\n",
    "    # mean_diff = ...\n",
    "\n",
    "    ## 计算标注差的差值\n",
    "    # sd_diff = ...\n",
    "\n",
    "    ## 使用函数stats.ttest_ind执行独立样本t检验，equal_var参数为True\n",
    "    # t_stat, p_value = ...\n",
    "\n",
    "    ## 计算自由度\n",
    "    # n1, n2 = ...\n",
    "    # df_tt = ...\n",
    "\n",
    "    ## 判断是否显著\n",
    "    # is_significant = ...\n",
    "\n",
    "    ## 大约11行代码\n",
    "    ## 你编写的代码从这里开始\n",
    "\n",
    "\n",
    "    ## 你编写的代码到这里结束\n",
    "\n",
    "    return (mean_diff, sd_diff, df_tt, t_stat, p_value, is_significant)"
   ]
  },
  {
   "cell_type": "code",
   "execution_count": 31,
   "metadata": {},
   "outputs": [
    {
     "ename": "NameError",
     "evalue": "name 'mean_diff' is not defined",
     "output_type": "error",
     "traceback": [
      "\u001b[1;31m---------------------------------------------------------------------------\u001b[0m",
      "\u001b[1;31mNameError\u001b[0m                                 Traceback (most recent call last)",
      "\u001b[1;32m~\\AppData\\Local\\Temp/ipykernel_11976/3159294050.py\u001b[0m in \u001b[0;36m<module>\u001b[1;34m\u001b[0m\n\u001b[1;32m----> 1\u001b[1;33m \u001b[0manalyze_nap_sleep_duration\u001b[0m\u001b[1;33m(\u001b[0m\u001b[0mNAP_NO_NAP_CSV\u001b[0m\u001b[1;33m)\u001b[0m\u001b[1;33m\u001b[0m\u001b[1;33m\u001b[0m\u001b[0m\n\u001b[0m",
      "\u001b[1;32m~\\AppData\\Local\\Temp/ipykernel_11976/3002382940.py\u001b[0m in \u001b[0;36manalyze_nap_sleep_duration\u001b[1;34m(NAP_NO_NAP_CSV, alpha)\u001b[0m\n\u001b[0;32m     45\u001b[0m     \u001b[1;31m## 你编写的代码到这里结束\u001b[0m\u001b[1;33m\u001b[0m\u001b[1;33m\u001b[0m\u001b[0m\n\u001b[0;32m     46\u001b[0m \u001b[1;33m\u001b[0m\u001b[0m\n\u001b[1;32m---> 47\u001b[1;33m     \u001b[1;32mreturn\u001b[0m \u001b[1;33m(\u001b[0m\u001b[0mmean_diff\u001b[0m\u001b[1;33m,\u001b[0m \u001b[0msd_diff\u001b[0m\u001b[1;33m,\u001b[0m \u001b[0mdf_tt\u001b[0m\u001b[1;33m,\u001b[0m \u001b[0mt_stat\u001b[0m\u001b[1;33m,\u001b[0m \u001b[0mp_value\u001b[0m\u001b[1;33m,\u001b[0m \u001b[0mis_significant\u001b[0m\u001b[1;33m)\u001b[0m\u001b[1;33m\u001b[0m\u001b[1;33m\u001b[0m\u001b[0m\n\u001b[0m",
      "\u001b[1;31mNameError\u001b[0m: name 'mean_diff' is not defined"
     ]
    }
   ],
   "source": [
    "analyze_nap_sleep_duration(NAP_NO_NAP_CSV)"
   ]
  },
  {
   "cell_type": "code",
   "execution_count": 32,
   "metadata": {},
   "outputs": [
    {
     "ename": "NameError",
     "evalue": "name 'mean_diff' is not defined",
     "output_type": "error",
     "traceback": [
      "\u001b[1;31m---------------------------------------------------------------------------\u001b[0m",
      "\u001b[1;31mNameError\u001b[0m                                 Traceback (most recent call last)",
      "\u001b[1;32m~\\AppData\\Local\\Temp/ipykernel_11976/4006698396.py\u001b[0m in \u001b[0;36m<module>\u001b[1;34m\u001b[0m\n\u001b[0;32m      1\u001b[0m \u001b[1;31m# 测试习题5\u001b[0m\u001b[1;33m\u001b[0m\u001b[1;33m\u001b[0m\u001b[0m\n\u001b[0;32m      2\u001b[0m \u001b[1;32mfrom\u001b[0m \u001b[0mtestset6\u001b[0m \u001b[1;32mimport\u001b[0m \u001b[0mtest_analyze_nap_sleep_duration\u001b[0m\u001b[1;33m\u001b[0m\u001b[1;33m\u001b[0m\u001b[0m\n\u001b[1;32m----> 3\u001b[1;33m \u001b[0mtest_analyze_nap_sleep_duration\u001b[0m\u001b[1;33m(\u001b[0m\u001b[0manalyze_nap_sleep_duration\u001b[0m\u001b[1;33m)\u001b[0m\u001b[1;33m\u001b[0m\u001b[1;33m\u001b[0m\u001b[0m\n\u001b[0m",
      "\u001b[1;32md:\\workspace\\data-modeling-course-student\\实验6-统计方法与分析\\testset6.py\u001b[0m in \u001b[0;36mtest_analyze_nap_sleep_duration\u001b[1;34m(target)\u001b[0m\n\u001b[0;32m    212\u001b[0m     \u001b[0mNAP_NO_NAP_CSV\u001b[0m \u001b[1;33m=\u001b[0m \u001b[0mDATA\u001b[0m \u001b[1;33m/\u001b[0m \u001b[1;34m\"nap_no_nap.csv\"\u001b[0m\u001b[1;33m\u001b[0m\u001b[1;33m\u001b[0m\u001b[0m\n\u001b[0;32m    213\u001b[0m \u001b[1;33m\u001b[0m\u001b[0m\n\u001b[1;32m--> 214\u001b[1;33m     \u001b[0mresult\u001b[0m \u001b[1;33m=\u001b[0m \u001b[0mtarget\u001b[0m\u001b[1;33m(\u001b[0m\u001b[0mNAP_NO_NAP_CSV\u001b[0m\u001b[1;33m)\u001b[0m\u001b[1;33m\u001b[0m\u001b[1;33m\u001b[0m\u001b[0m\n\u001b[0m\u001b[0;32m    215\u001b[0m     \u001b[1;31m# 期望的输出值\u001b[0m\u001b[1;33m\u001b[0m\u001b[1;33m\u001b[0m\u001b[0m\n\u001b[0;32m    216\u001b[0m     expected = (\n",
      "\u001b[1;32m~\\AppData\\Local\\Temp/ipykernel_11976/3002382940.py\u001b[0m in \u001b[0;36manalyze_nap_sleep_duration\u001b[1;34m(NAP_NO_NAP_CSV, alpha)\u001b[0m\n\u001b[0;32m     45\u001b[0m     \u001b[1;31m## 你编写的代码到这里结束\u001b[0m\u001b[1;33m\u001b[0m\u001b[1;33m\u001b[0m\u001b[0m\n\u001b[0;32m     46\u001b[0m \u001b[1;33m\u001b[0m\u001b[0m\n\u001b[1;32m---> 47\u001b[1;33m     \u001b[1;32mreturn\u001b[0m \u001b[1;33m(\u001b[0m\u001b[0mmean_diff\u001b[0m\u001b[1;33m,\u001b[0m \u001b[0msd_diff\u001b[0m\u001b[1;33m,\u001b[0m \u001b[0mdf_tt\u001b[0m\u001b[1;33m,\u001b[0m \u001b[0mt_stat\u001b[0m\u001b[1;33m,\u001b[0m \u001b[0mp_value\u001b[0m\u001b[1;33m,\u001b[0m \u001b[0mis_significant\u001b[0m\u001b[1;33m)\u001b[0m\u001b[1;33m\u001b[0m\u001b[1;33m\u001b[0m\u001b[0m\n\u001b[0m",
      "\u001b[1;31mNameError\u001b[0m: name 'mean_diff' is not defined"
     ]
    }
   ],
   "source": [
    "# 测试习题5\n",
    "from testset6 import test_analyze_nap_sleep_duration\n",
    "test_analyze_nap_sleep_duration(analyze_nap_sleep_duration)"
   ]
  },
  {
   "cell_type": "markdown",
   "metadata": {},
   "source": [
    "## 实验自动评分"
   ]
  },
  {
   "cell_type": "markdown",
   "metadata": {},
   "source": [
    "运行下面的代码进行实验自动评分"
   ]
  },
  {
   "cell_type": "code",
   "execution_count": null,
   "metadata": {},
   "outputs": [],
   "source": [
    "from testset6 import grade_all_tests\n",
    "grade_all_tests()"
   ]
  },
  {
   "cell_type": "markdown",
   "metadata": {},
   "source": [
    "## 实验总结"
   ]
  },
  {
   "cell_type": "markdown",
   "metadata": {},
   "source": [
    "请尽量使用自己的语言回答下面的问题。"
   ]
  },
  {
   "cell_type": "markdown",
   "metadata": {},
   "source": [
    "问题一： 请在现实生活中找一个使用置信区间来评估的例子。你的例子使用的是总体比例还是均值，应该怎样去计算95%置信区间？其中95%到底意味着什么？"
   ]
  },
  {
   "cell_type": "markdown",
   "metadata": {},
   "source": []
  },
  {
   "cell_type": "markdown",
   "metadata": {},
   "source": [
    "问题二： 请在现实生活中找一个可以使用假设检验和推理的例子。论述一下你的例子中零假设是什么，备择假设应该是什么，应该怎样去检验你的假设？应该如何解释你的假设结果？"
   ]
  },
  {
   "cell_type": "markdown",
   "metadata": {},
   "source": []
  },
  {
   "cell_type": "markdown",
   "metadata": {},
   "source": [
    "## 生成实验报告"
   ]
  },
  {
   "cell_type": "code",
   "execution_count": 34,
   "metadata": {},
   "outputs": [
    {
     "name": "stdout",
     "output_type": "stream",
     "text": [
      "测试过程中出现其它异常: object of type 'ellipsis' has no len()\n",
      "测试过程中出现其它异常: name 'mean_diff' is not defined\n",
      "测试过程中出现其它异常: name 'pefr_values' is not defined\n",
      "恭喜你通过了习题2 test_calculate_z_scores 测试。1/5\n",
      "习题测试失败: Series Expected type <class 'pandas.core.series.Series'>, found <class 'ellipsis'> instead\n",
      "恭喜你1/5 个测试\n",
      "你的代码自动评分成绩(百分制)是:20\n",
      "Notebook successfully converted to HTML with table styles: notebook6.html\n",
      "Successfully converted notebook6.html to 未填写-未填写-未填写-实验报告6-20.pdf\n"
     ]
    }
   ],
   "source": [
    "import sys\n",
    "import os\n",
    "from testset6 import grade_all_tests\n",
    "\n",
    "# Add the root directory (parent directory of `util`) to sys.path\n",
    "root_dir = os.path.abspath(\"..\")  # Adjust based on the structure\n",
    "sys.path.append(root_dir)\n",
    "\n",
    "from util import notebook2pdf, notebook_info_extractor\n",
    "\n",
    "notebook_file = \"实验6-统计方法与分析.ipynb\"\n",
    "stu_info  = notebook_info_extractor.extract_from_ipynb(notebook_file)\n",
    "\n",
    "html_file = \"notebook6.html\"\n",
    "stu_grade = grade_all_tests()\n",
    "pdf_file = f\"{stu_info['class_id']}-{stu_info['student_id']}-{stu_info['name']}-实验报告6-{stu_grade}.pdf\"\n",
    "\n",
    "notebook2pdf.notebook_to_html(notebook_file, html_file)\n",
    "notebook2pdf.html_to_pdf(html_file, pdf_file)"
   ]
  }
 ],
 "metadata": {
  "kernelspec": {
   "display_name": "base",
   "language": "python",
   "name": "python3"
  },
  "language_info": {
   "codemirror_mode": {
    "name": "ipython",
    "version": 3
   },
   "file_extension": ".py",
   "mimetype": "text/x-python",
   "name": "python",
   "nbconvert_exporter": "python",
   "pygments_lexer": "ipython3",
   "version": "3.9.7"
  }
 },
 "nbformat": 4,
 "nbformat_minor": 2
}
