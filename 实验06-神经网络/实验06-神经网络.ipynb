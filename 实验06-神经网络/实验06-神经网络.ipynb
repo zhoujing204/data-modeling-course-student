{
 "cells": [
  {
   "cell_type": "markdown",
   "metadata": {},
   "source": [
    "# 实验6-神经网络（Neural Network）"
   ]
  },
  {
   "cell_type": "markdown",
   "metadata": {},
   "source": [
    "<table style=\"margin: 0 auto; width: 30%; border-collapse: collapse; border: 1px solid black;\" data-id=\"student-info\">  \n",
    "    <colgroup>  \n",
    "        <col style=\"width: 35%;\">  \n",
    "        <col style=\"width: 65%;\">  \n",
    "    </colgroup>  \n",
    "    <tr>  \n",
    "        <td style=\"border: 1px solid black;\">班级</td> <td style=\"border: 1px solid black;\">24智能</td>  \n",
    "    </tr>  \n",
    "    <tr>  \n",
    "        <td style=\"border: 1px solid black;\">学号</td> <td style=\"border: 1px solid black;\">未填写</td>  \n",
    "    </tr>  \n",
    "    <tr>  \n",
    "        <td style=\"border: 1px solid black;\">姓名</td> <td style=\"border: 1px solid black;\">未填写</td>  \n",
    "    </tr>  \n",
    "    <tr>  \n",
    "        <td style=\"border: 1px solid black;\">Email</td> <td style=\"border: 1px solid black;\">未填写</td>  \n",
    "    </tr>  \n",
    "</table>"
   ]
  },
  {
   "cell_type": "markdown",
   "metadata": {},
   "source": [
    "## 实验目的"
   ]
  },
  {
   "cell_type": "markdown",
   "metadata": {},
   "source": [
    "通过构建一个简单神经网络分类器，学习了解神经网络基本的工作原理。"
   ]
  },
  {
   "cell_type": "markdown",
   "metadata": {},
   "source": [
    "- 逻辑回归神经网络分类器（logistic regression Neural Network classifier）\n",
    "  - 数据集预处理\n",
    "  - 简单的神经网络架构\n",
    "  - 初始化神经网络参数\n",
    "  - 激活函数\n",
    "  - 前向传播\n",
    "  - 损失函数(Loss Function)\n",
    "  - 梯度下降算法\n",
    "  - 优化神经网络\n",
    "  - 使用神经网络模型进行预测\n",
    "  - 讨论分析和总结"
   ]
  },
  {
   "cell_type": "markdown",
   "metadata": {},
   "source": [
    "## Jupyter Notebook使用指导 "
   ]
  },
  {
   "cell_type": "markdown",
   "metadata": {},
   "source": [
    "1. 首先选择Python内核：在右上角点击Kernel，选择Base...(Anaconda Python环境)。\n",
    "2. 在编辑后首先要保存，使用Ctrl+S保存。\n",
    "3. 实验运行出现问题，并且代码正确，一个最常见的解决方法在最上方点击重启(Restart), 然后点击运行所有（Run All）。"
   ]
  },
  {
   "cell_type": "markdown",
   "metadata": {},
   "source": [
    "## 实验准备"
   ]
  },
  {
   "cell_type": "markdown",
   "metadata": {},
   "source": [
    "首先，让我们运行下面的单元格来导入您在此作业中需要的所有包, 并且为实验的代码的测试做准备。"
   ]
  },
  {
   "cell_type": "code",
   "execution_count": 1,
   "metadata": {},
   "outputs": [
    {
     "name": "stdout",
     "output_type": "stream",
     "text": [
      "stu_info: {'class_id': '24智能', 'student_id': '未填写', 'name': '未填写', 'email': '未填写'}\n"
     ]
    }
   ],
   "source": [
    "# 导入需要的Python包\n",
    "%matplotlib inline\n",
    "\n",
    "import numpy as np\n",
    "import copy\n",
    "import matplotlib.pyplot as plt\n",
    "from pathlib import Path\n",
    "import sys\n",
    "\n",
    "# 获取项目根目录\n",
    "project_root = Path().resolve().parent\n",
    "sys.path.append(str(project_root / 'tests'))\n",
    "sys.path.append(str(project_root / 'util'))\n",
    "\n",
    "# 导入测试套件和其他工具\n",
    "from test_suite6 import TestSuite6\n",
    "from lr_utils import load_dataset\n",
    "from notebook2pdf import convert_notebook_to_webpdf\n",
    "from notebook_info_extractor import extract_from_ipynb\n",
    "from IPython import get_ipython\n",
    "\n",
    "testsuite6 = TestSuite6()\n",
    "\n",
    "ip = get_ipython()\n",
    "notebook_file = None\n",
    "if '__vsc_ipynb_file__' in ip.user_ns:\n",
    "    notebook_file = ip.user_ns['__vsc_ipynb_file__']\n",
    "\n",
    "stu_info = extract_from_ipynb(notebook_file)\n",
    "\n",
    "print(f\"stu_info: {stu_info}\")"
   ]
  },
  {
   "cell_type": "markdown",
   "metadata": {},
   "source": [
    "## 数据集概览和数据集预处理"
   ]
  },
  {
   "cell_type": "markdown",
   "metadata": {},
   "source": [
    "您获得了一个数据集（\"data.h5\"），其中包含：\n",
    "- 一个训练集，包含m_train(209)张图像，图像分为两类：分别被标记为猫（y=1）或非猫（y=0）\n",
    "- 一个测试集，包含m_test(50)张图像，标记为猫或非猫\n",
    "- 每张图像的形状为（num_px, num_px, 3），其中3代表3个通道（RGB）。因此，每张图像都是正方形的（高度 = num_px）和（宽度 = num_px）。(num_px-64)\n",
    "\n",
    "您将构建一个简单的图像识别算法，能够正确地将图片分类为猫或非猫。\n",
    "\n",
    "让我们更熟悉这个数据集。通过运行以下代码来加载数据。\n"
   ]
  },
  {
   "cell_type": "code",
   "execution_count": 2,
   "metadata": {},
   "outputs": [],
   "source": [
    "# Loading the data (cat/non-cat)\n",
    "train_set_x_orig, train_set_y, test_set_x_orig, test_set_y, classes = load_dataset()"
   ]
  },
  {
   "cell_type": "code",
   "execution_count": 3,
   "metadata": {},
   "outputs": [
    {
     "data": {
      "text/plain": [
       "((209, 64, 64, 3), (1, 209), (50, 64, 64, 3), (1, 50), (2,))"
      ]
     },
     "execution_count": 3,
     "metadata": {},
     "output_type": "execute_result"
    }
   ],
   "source": [
    "train_set_x_orig.shape, train_set_y.shape, test_set_x_orig.shape, test_set_y.shape, classes.shape"
   ]
  },
  {
   "cell_type": "markdown",
   "metadata": {},
   "source": [
    "我们在图像数据集（训练集和测试集）的末尾添加了\"_orig\"，因为我们要对它们进行预处理。预处理后，我们将得到train_set_x和test_set_x（标签train_set_y和test_set_y不需要任何预处理）。\n",
    "\n",
    "您的train_set_x_orig和test_set_x_orig的每一行都是一个表示图像的数组。您可以通过运行以下代码来可视化一个示例。您也可以随意更改`index`值并重新运行以查看其他图像。"
   ]
  },
  {
   "cell_type": "code",
   "execution_count": 4,
   "metadata": {},
   "outputs": [
    {
     "name": "stdout",
     "output_type": "stream",
     "text": [
      "y = [0], it's a 'non-cat' picture.\n"
     ]
    },
    {
     "data": {
      "image/png": "[encoded data removed]",
      "text/plain": [
       "<Figure size 640x480 with 1 Axes>"
      ]
     },
     "metadata": {},
     "output_type": "display_data"
    }
   ],
   "source": [
    "# Example of a picture\n",
    "index = 1\n",
    "plt.imshow(train_set_x_orig[index]) # 显示图片\n",
    "print (\"y = \" + str(train_set_y[:, index]) + \", it's a '\" + classes[np.squeeze(train_set_y[:, index])].decode(\"utf-8\") +  \"' picture.\")\n",
    "# print(train_set_x_orig[index])  # 打印该图片每个通道每个像素的值"
   ]
  },
  {
   "cell_type": "markdown",
   "metadata": {},
   "source": [
    "## 习题一-数据集的形状"
   ]
  },
  {
   "cell_type": "markdown",
   "metadata": {},
   "source": [
    "深度学习中的许多软件错误都来自于矩阵/向量维度不匹配。如果您能保持矩阵/向量维度的正确性，您将在调试深度学习程序和修正bug方面会很擅长。\n",
    "\n",
    "找出以下值：\n",
    "- m_train（训练样本数量）\n",
    "- m_test（测试样本数量）\n",
    "- num_px（= 训练图像的高度 = 宽度）\n",
    "请记住，`train_set_x_orig`是一个形状为(m_train, num_px, num_px, 3)的numpy数组。例如，您可以通过写`train_set_x_orig.shape[0]`来访问`m_train`。"
   ]
  },
  {
   "cell_type": "code",
   "execution_count": 5,
   "metadata": {},
   "outputs": [],
   "source": [
    "# UNQ_C1 (UNIQUE CELL IDENTIFIER, DO NOT EDIT)\n",
    "# GRADED FUNCTION: get_dataset_info\n",
    "def get_dataset_info(train_set_x_orig, test_set_x_orig):\n",
    "    \"\"\"\n",
    "    获取数据集的基本信息\n",
    "\n",
    "    参数:\n",
    "    train_set_x_orig -- 训练集图像数据，形状为 (m_train, num_px, num_px, 3)\n",
    "    test_set_x_orig -- 测试集图像数据，形状为 (m_test, num_px, num_px, 3)\n",
    "\n",
    "    返回:\n",
    "    m_train -- 训练样本数量\n",
    "    m_test -- 测试样本数量\n",
    "    num_px -- 图像的高度和宽度（假设图像是正方形的）\n",
    "    \"\"\"\n",
    "\n",
    "    ### 开始编写你的代码（3行代码） ###\n",
    "    # 提示：使用 .shape 属性来获取数组的维度信息\n",
    "    # train_set_x_orig.shape 会返回 (m_train, num_px, num_px, 3)\n",
    "\n",
    "    m_train = None  # 请填写获取训练样本数量的代码\n",
    "    m_test = None   # 请填写获取测试样本数量的代码\n",
    "    num_px = None   # 请填写获取图像尺寸的代码\n",
    "\n",
    "    ### 结束编写你的代码 ###\n",
    "\n",
    "\n",
    "    return m_train, m_test, num_px"
   ]
  },
  {
   "cell_type": "code",
   "execution_count": 6,
   "metadata": {},
   "outputs": [
    {
     "data": {
      "text/plain": [
       "(None, None, None)"
      ]
     },
     "execution_count": 6,
     "metadata": {},
     "output_type": "execute_result"
    }
   ],
   "source": [
    "# 调用习题一的函数\n",
    "train_set_x_orig, train_set_y, test_set_x_orig, test_set_y, classes = load_dataset()\n",
    "get_dataset_info(train_set_x_orig, test_set_x_orig)"
   ]
  },
  {
   "cell_type": "markdown",
   "metadata": {},
   "source": [
    "**预期输出： m_train, m_test and num_px**: \n",
    "<table style=\"width:15%\">\n",
    "  <tr>\n",
    "    <td> m_train </td>\n",
    "    <td> 209 </td> \n",
    "  </tr>\n",
    "  \n",
    "  <tr>\n",
    "    <td>m_test</td>\n",
    "    <td> 50 </td> \n",
    "  </tr>\n",
    "  \n",
    "  <tr>\n",
    "    <td>num_px</td>\n",
    "    <td> 64 </td> \n",
    "  </tr>\n",
    "  \n",
    "</table>\n"
   ]
  },
  {
   "cell_type": "code",
   "execution_count": 7,
   "metadata": {},
   "outputs": [
    {
     "name": "stdout",
     "output_type": "stream",
     "text": [
      "\u001b[31m测试失败 test_get_dataset_info: 训练样本数量应为100, 实际为 None\u001b[0m\n"
     ]
    }
   ],
   "source": [
    "# 习题一的测试用例以及自动评分\n",
    "testsuite6.test_get_dataset_info(get_dataset_info)"
   ]
  },
  {
   "cell_type": "markdown",
   "metadata": {},
   "source": [
    "## 习题二-数据集预处理"
   ]
  },
  {
   "cell_type": "markdown",
   "metadata": {},
   "source": [
    "为了方便，您现在应该将形状为 (num_px, num_px, 3) 的图像重塑为形状为 (num_px $*$ num_px $*$ 3, 1) 的 numpy 数组。经过这样处理后，我们的训练（和测试）数据集是一个三维的 numpy 数组，其中每一列代表一个展平的图像。应该有 m_train（分别为 m_test）列。\n",
    "\n",
    "重塑训练和测试数据集，使得大小为 (num_px, num_px, 3) 的图像被展平为形状为 (num\\_px $*$ num\\_px $*$ 3, 1) 的单个一维向量。\n",
    "\n",
    "当您想要将形状为 (a,b,c,d) 的矩阵 X 展平为形状为 (b*c*d, a) 的矩阵 X_flatten 时，一个技巧是使用：\n",
    "```python\n",
    "# X.T 是 X 的转置\n",
    "# 第二个参数-1意味着numpy将自动计算该维度的大小\n",
    "X_flatten = X.reshape(X.shape[0], -1).T      \n",
    "```"
   ]
  },
  {
   "cell_type": "code",
   "execution_count": 8,
   "metadata": {},
   "outputs": [],
   "source": [
    "# UNQ_C2 (UNIQUE CELL IDENTIFIER, DO NOT EDIT)\n",
    "# GRADED FUNCTION: reshape_image_dataset\n",
    "import numpy as np\n",
    "\n",
    "def reshape_image_dataset(train_set, test_set):\n",
    "    \"\"\"\n",
    "    将训练集和测试集中的图像数据重塑为列向量格式\n",
    "\n",
    "    参数：\n",
    "    train_set -- 训练集图像数据，形状为 (m_train, num_px, num_px, 3)\n",
    "    test_set -- 测试集图像数据，形状为 (m_test, num_px, num_px, 3)\n",
    "\n",
    "    返回：\n",
    "    train_set_flatten -- 重塑后的训练集，形状为 (num_px * num_px * 3, m_train)\n",
    "    test_set_flatten -- 重塑后的测试集，形状为 (num_px * num_px * 3, m_test)\n",
    "    \"\"\"\n",
    "\n",
    "    # 开始编写你的代码（两行代码）\n",
    "    # 提示：使用 reshape 和转置操作\n",
    "\n",
    "    # 重塑训练集\n",
    "    train_set_flatten = None  # 请替换为正确的代码\n",
    "\n",
    "    # 重塑测试集\n",
    "    test_set_flatten = None   # 请替换为正确的代码\n",
    "\n",
    "    # 结束编写代码\n",
    "\n",
    "    return train_set_flatten, test_set_flatten"
   ]
  },
  {
   "cell_type": "code",
   "execution_count": 9,
   "metadata": {},
   "outputs": [
    {
     "ename": "AttributeError",
     "evalue": "'NoneType' object has no attribute 'shape'",
     "output_type": "error",
     "traceback": [
      "\u001b[31m---------------------------------------------------------------------------\u001b[39m",
      "\u001b[31mAttributeError\u001b[39m                            Traceback (most recent call last)",
      "\u001b[36mCell\u001b[39m\u001b[36m \u001b[39m\u001b[32mIn[9]\u001b[39m\u001b[32m, line 5\u001b[39m\n\u001b[32m      2\u001b[39m train_set_x_flatten, test_set_x_flatten = reshape_image_dataset(train_set_x_orig, test_set_x_orig)\n\u001b[32m      4\u001b[39m \u001b[38;5;66;03m# 验证结果\u001b[39;00m\n\u001b[32m----> \u001b[39m\u001b[32m5\u001b[39m \u001b[38;5;28mprint\u001b[39m(\u001b[33m\"\u001b[39m\u001b[33m重塑后训练集形状:\u001b[39m\u001b[33m\"\u001b[39m, \u001b[43mtrain_set_x_flatten\u001b[49m\u001b[43m.\u001b[49m\u001b[43mshape\u001b[49m)\n\u001b[32m      6\u001b[39m \u001b[38;5;28mprint\u001b[39m(\u001b[33m\"\u001b[39m\u001b[33m重塑后测试集形状:\u001b[39m\u001b[33m\"\u001b[39m, test_set_x_flatten.shape)\n\u001b[32m      8\u001b[39m \u001b[38;5;66;03m# 期望输出：\u001b[39;00m\n\u001b[32m      9\u001b[39m \u001b[38;5;66;03m# 重塑后训练集形状: (12288, 209)\u001b[39;00m\n\u001b[32m     10\u001b[39m \u001b[38;5;66;03m# 重塑后测试集形状: (12288, 50)\u001b[39;00m\n",
      "\u001b[31mAttributeError\u001b[39m: 'NoneType' object has no attribute 'shape'"
     ]
    }
   ],
   "source": [
    "# 调用函数将训练集和测试集数据展平\n",
    "train_set_x_flatten, test_set_x_flatten = reshape_image_dataset(train_set_x_orig, test_set_x_orig)\n",
    "\n",
    "# 验证结果\n",
    "print(\"重塑后训练集形状:\", train_set_x_flatten.shape)\n",
    "print(\"重塑后测试集形状:\", test_set_x_flatten.shape)\n",
    "\n",
    "# 期望输出：\n",
    "# 重塑后训练集形状: (12288, 209)\n",
    "# 重塑后测试集形状: (12288, 50)"
   ]
  },
  {
   "cell_type": "code",
   "execution_count": null,
   "metadata": {},
   "outputs": [
    {
     "name": "stdout",
     "output_type": "stream",
     "text": [
      "\u001b[31m测试失败 test_reshape_image_dataset: 'NoneType' object has no attribute 'shape'\u001b[0m\n"
     ]
    }
   ],
   "source": [
    "# 习题二的测试用例以及自动评分\n",
    "testsuite6.test_reshape_image_dataset(reshape_image_dataset)"
   ]
  },
  {
   "cell_type": "markdown",
   "metadata": {},
   "source": [
    "为了表示彩色图像，必须为每个像素指定红色、绿色和蓝色通道（RGB），因此像素值实际上是一个由三个数字组成的向量，范围从0到255。\n",
    "\n",
    "机器学习中一个常见的预处理步骤是对数据集进行中心化和标准化，即从每个样本中减去整个numpy数组的均值，然后将每个样本除以整个numpy数组的标准差。但对于图像数据集，将数据集的每一行除以255（像素通道的最大值）更简单、更方便，并且效果几乎一样好。\n",
    "\n",
    "在训练模型时，您将对一些初始输入进行权重乘法和偏置加法，以观察神经元激活。然后您使用梯度进行反向传播来训练模型。但是，每个特征具有相似的范围极其重要，这样我们的梯度就不会爆炸。您将在后面的讲座中更详细地看到这一点。\n",
    "\n",
    "让我们对数据集进行标准化。"
   ]
  },
  {
   "cell_type": "code",
   "execution_count": null,
   "metadata": {},
   "outputs": [],
   "source": [
    "train_set_x = train_set_x_flatten / 255.\n",
    "test_set_x = test_set_x_flatten / 255."
   ]
  },
  {
   "cell_type": "markdown",
   "metadata": {},
   "source": [
    "<font color='blue'>\n",
    "\n",
    "**您需要记住的关键知识点：**\n",
    "\n",
    "预处理新数据集的常见步骤包括：\n",
    "- 弄清楚问题的维度和形状（m_train、m_test、num_px等）\n",
    "- 重塑数据集，使每个样本现在都是大小为（num_px \\* num_px \\* 3, 1）的向量\n",
    "- 对数据进行\"标准化\""
   ]
  },
  {
   "cell_type": "markdown",
   "metadata": {},
   "source": [
    "## 简单的神经网络架构"
   ]
  },
  {
   "cell_type": "code",
   "execution_count": null,
   "metadata": {},
   "outputs": [],
   "source": [
    "from IPython.display import display, Image\n",
    "display(Image('./images/LogReg_kiank.png', width=650, height=400))"
   ]
  },
  {
   "cell_type": "markdown",
   "metadata": {},
   "source": [
    "\n",
    "\n"
   ]
  },
  {
   "cell_type": "markdown",
   "metadata": {},
   "source": [
    "现在是时候设计一个简单的算法来区分猫图像和非猫图像了。\n",
    "\n",
    "你将构建一个逻辑回归模型，使用神经网络的思维方式。上图解释了为什么**逻辑回归实际上是一个非常简单的神经网络！**\n",
    "\n",
    "**算法的数学表达式**：\n",
    "\n",
    "对于一个样本 $x^{(i)}$：\n",
    "$$z^{(i)} = w^T x^{(i)} + b \\tag{1}$$\n",
    "$$ \\hat{y}^{(i)} = a^{(i)} = \\text{sigmoid}(z^{(i)})\\tag{2} $$\n",
    "$$ \\mathcal{L}(a^{(i)}, y^{(i)}) =  - y^{(i)}  \\log(a^{(i)}) - (1-y^{(i)} )  \\log(1-a^{(i)}) \\tag{3} $$"
   ]
  },
  {
   "cell_type": "markdown",
   "metadata": {},
   "source": [
    "对上面的公式的解释：\n",
    "\n",
    "- $z^{(i)}$ 是线性组合，$w$ 是权重向量，$b$ 是偏置。\n",
    "    - 当$x^{(i)}$ 向量中一个值（也就是图片的一个像素一个颜色的亮度)和图片为猫的概率为正相关时，对应的权重就为正数，值也就越大。\n",
    "    - 当$x^{(i)}$ 向量中一个值（也就是图片的一个像素一个颜色的亮度)和图片为猫的概率为负相关时，对应的权重就为负数，值也就越小。\n",
    "    - 当$x^{(i)}$ 向量中一个值（也就是图片的一个像素一个颜色的亮度)和图片为猫的概度无关时，对应的权重就接近零。\n",
    "    - $b$ 是偏置项, 表示函数值整体的偏移量。\n",
    "- 激活函数sigmoid将线性函数映射到0-1区间，从而实现二分类。\n",
    "- 损失函数为交叉熵损失函数（cross-entropy loss），用于计算预测值和真实值之间的差异。使用交叉熵损失函数，而不是使用均方误差的方法（ $L = \\frac{1}{2}(\\hat{y} - y)^2$ ），好处是它在预测值接近0或1时会产生较大的梯度，从而加速训练过程。\n"
   ]
  },
  {
   "cell_type": "markdown",
   "metadata": {},
   "source": [
    "成本函数通过对所有训练样本求和来计算：\n",
    "$$ J = \\frac{1}{m} \\sum_{i=1}^m \\mathcal{L}(a^{(i)}, y^{(i)}) \\tag{6} $$\n",
    "\n",
    "**关键步骤**：\n",
    "在这个练习中，你将执行以下步骤：\n",
    "- 初始化模型参数\n",
    "- 通过最小化成本函数来学习模型参数\n",
    "- 使用学习到的参数进行预测（在测试集上）\n",
    "- 分析结果并得出结论"
   ]
  },
  {
   "cell_type": "markdown",
   "metadata": {},
   "source": [
    "## 习题三-激活函数"
   ]
  },
  {
   "cell_type": "markdown",
   "metadata": {},
   "source": [
    "接下来我们将一步步的构建神经网络的各个部分。首先，我们需要实现sigmoid函数，你需要计算\n",
    "\n",
    "$$sigmoid(z) = \\frac{1}{1 + e^{-z}}$$\n",
    "\n",
    "其中$z = w^T x + b$。提示：请使用np.exp()来计算$e^{-z}$ 。"
   ]
  },
  {
   "cell_type": "code",
   "execution_count": null,
   "metadata": {
    "deletable": false,
    "nbgrader": {
     "cell_type": "code",
     "checksum": "239ab1cf1028b721fd14f31b8103c40d",
     "grade": false,
     "grade_id": "cell-520521c430352f3b",
     "locked": false,
     "schema_version": 3,
     "solution": true,
     "task": false
    }
   },
   "outputs": [],
   "source": [
    "# UNQ_C3 (UNIQUE CELL IDENTIFIER, DO NOT EDIT)\n",
    "# GRADED FUNCTION: sigmoid\n",
    "def sigmoid(z):\n",
    "    \"\"\"\n",
    "    计算 z 的 sigmoid 函数值\n",
    "\n",
    "    参数:\n",
    "    z -- 一个标量或任意形状的 numpy 数组\n",
    "\n",
    "    Return:\n",
    "    s -- sigmoid(z)\n",
    "    \"\"\"\n",
    "\n",
    "    #(一行代码)\n",
    "    # s = ...\n",
    "    # 你的代码从这里开始\n",
    "    s = None  # 请将None替换为正确的代码\n",
    "\n",
    "    # 你的代码到这里结束\n",
    "    return s"
   ]
  },
  {
   "cell_type": "code",
   "execution_count": null,
   "metadata": {
    "deletable": false,
    "editable": false,
    "nbgrader": {
     "cell_type": "code",
     "checksum": "0483e6820669111a9c5914d8b24bc315",
     "grade": true,
     "grade_id": "cell-30ea3151cab9c491",
     "locked": true,
     "points": 10,
     "schema_version": 3,
     "solution": false,
     "task": false
    }
   },
   "outputs": [],
   "source": [
    "print (\"sigmoid([0, 2]) = \" + str(sigmoid(np.array([0,2]))))\n",
    "# 预期值应该为： [0.5        0.88079708]"
   ]
  },
  {
   "cell_type": "code",
   "execution_count": null,
   "metadata": {},
   "outputs": [],
   "source": [
    "# 习题三的测试用例以及自动评分\n",
    "testsuite6.test_sigmoid(sigmoid)"
   ]
  },
  {
   "cell_type": "markdown",
   "metadata": {},
   "source": [
    "## 习题四-初始化神经网络参数"
   ]
  },
  {
   "cell_type": "markdown",
   "metadata": {},
   "source": [
    "在下面的单元格中，您需要实现`initialize_with_zeros(dim)`函数。该函数接受一个整数参数`dim`，表示参数的维度，并返回一个包含零的向量`w`和一个零标量`b`。提示：您可以使用`np.zeros()`来创建一个包含零的向量。"
   ]
  },
  {
   "cell_type": "code",
   "execution_count": null,
   "metadata": {
    "deletable": false,
    "nbgrader": {
     "cell_type": "code",
     "checksum": "c4a37e375a85ddab7274a33abf46bb7c",
     "grade": false,
     "grade_id": "cell-befa9335e479864e",
     "locked": false,
     "schema_version": 3,
     "solution": true,
     "task": false
    }
   },
   "outputs": [],
   "source": [
    "# UNQ_C4 (UNIQUE CELL IDENTIFIER, DO NOT EDIT)\n",
    "# GRADED FUNCTION: initialize_with_zeros\n",
    "\n",
    "import numpy as np\n",
    "def initialize_with_zeros(dim):\n",
    "    \"\"\"\n",
    "    这个函数创建一个形状为(dim, 1)的零向量w, 并将b初始化为0。\n",
    "\n",
    "    参数:\n",
    "    dim -- 向量w的维度(在这个案例中也就是输入的图像的维度)\n",
    "\n",
    "    Returns:\n",
    "    w -- initialized vector of shape (dim, 1)\n",
    "    b -- initialized scalar (corresponds to the bias) of type float\n",
    "    \"\"\"\n",
    "\n",
    "    # (2行代码)\n",
    "    # w = ...\n",
    "    # b = ...\n",
    "    # 你的代码从这里开始\n",
    "    w = None # 请将None替换为正确的代码\n",
    "    b = None # 请将None替换为正确的代码\n",
    "\n",
    "    # 你的代码到这里结束\n",
    "\n",
    "    return w, b"
   ]
  },
  {
   "cell_type": "code",
   "execution_count": null,
   "metadata": {
    "deletable": false,
    "editable": false,
    "nbgrader": {
     "cell_type": "code",
     "checksum": "a4c13b0eafa46ca94de21b41faea8c58",
     "grade": true,
     "grade_id": "cell-a3b6699f145f3a3f",
     "locked": true,
     "points": 10,
     "schema_version": 3,
     "solution": false,
     "task": false
    }
   },
   "outputs": [],
   "source": [
    "dim = 2\n",
    "w, b = initialize_with_zeros(dim)\n",
    "\n",
    "assert type(b) == float\n",
    "print (\"w = \" + str(w))\n",
    "print (\"b = \" + str(b))\n",
    "\n",
    "# 期望输出：\n",
    "# w = [[0.]\n",
    "#  [0.]]\n",
    "# b = 0.0"
   ]
  },
  {
   "cell_type": "code",
   "execution_count": null,
   "metadata": {},
   "outputs": [],
   "source": [
    "# 习题四的测试用例以及自动评分\n",
    "testsuite6.test_initialize_with_zeros(initialize_with_zeros)"
   ]
  },
  {
   "cell_type": "markdown",
   "metadata": {},
   "source": [
    "## 习题五-实现前向传播"
   ]
  },
  {
   "cell_type": "markdown",
   "metadata": {},
   "source": [
    "实现一个函数`propagate(w, b, X, Y)`计算成本函数的值和梯度。正向传播函数的基本步骤如下：\n",
    "\n",
    "- 输入参数\n",
    "  - `w`：权重向量，初始值为零向量\n",
    "  - `b`：偏置标量，初始值为零\n",
    "  - `X`：经过了预处理的m张图像数据，形状为 (num_px * num_px * 3, m)\n",
    "  - `Y`：标签向量，形状为 (1, m)\n",
    "- 返回值\n",
    "  -  `grads`：包含梯度的字典, 键为dw和db, dw为权重向量的梯度，db为偏置向量的梯度\n",
    "  - `cost`：计算得到的成本函数值"
   ]
  },
  {
   "cell_type": "markdown",
   "metadata": {},
   "source": [
    "**提示**\n",
    "\n",
    "前向传播的基本步骤：\n",
    "\n",
    "- X是输入的数据集\n",
    "- 计算 $A = \\sigma(w^T X + b) = (a^{(1)}, a^{(2)}, ..., a^{(m-1)}, a^{(m)})$，其中$ \\sigma() $ 是习题3实现的`sigmoid`激活函数\n",
    "- 计算成本函数：$J = -\\frac{1}{m}\\sum_{i=1}^{m}(y^{(i)}\\log(a^{(i)})+(1-y^{(i)})\\log(1-a^{(i)}))$\n",
    "- 计算梯度，下面是计算梯度的两个公式：\n",
    "$$ \n",
    "\\frac{\\partial J}{\\partial w} = \\frac{1}{m}X(A-Y)^T\\tag{7}\n",
    "$$\n",
    "\n",
    "$$ \n",
    "\\frac{\\partial J}{\\partial b} = \\frac{1}{m} \\sum_{i=1}^m (a^{(i)}-y^{(i)})\\tag{8}\n",
    "$$"
   ]
  },
  {
   "cell_type": "code",
   "execution_count": null,
   "metadata": {
    "deletable": false,
    "nbgrader": {
     "cell_type": "code",
     "checksum": "8552b2c9cff2b5fa537fab9f98a6e4da",
     "grade": false,
     "grade_id": "cell-11af17e28077b3d3",
     "locked": false,
     "schema_version": 3,
     "solution": true,
     "task": false
    }
   },
   "outputs": [],
   "source": [
    "# UNQ_C5 (UNIQUE CELL IDENTIFIER, DO NOT EDIT)\n",
    "# GRADED FUNCTION: propagate\n",
    "\n",
    "def propagate(w, b, X, Y):\n",
    "    \"\"\"\n",
    "    使用上面解释的方式计算成本函数和梯度用于前向传播\n",
    "    \"\"\"\n",
    "\n",
    "    m = X.shape[1]\n",
    "\n",
    "    #(大约4行代码)\n",
    "    # 使用激活函数进行计算\n",
    "    # A = ...\n",
    "    # 计算成本函数，使用np.dot函数来进行矩阵乘法运算，不要使用循环语句\n",
    "    # cost = ...\n",
    "    # 反向传播来发现梯度\n",
    "    # dw = ...\n",
    "    # db = ...\n",
    "    # 你的代码从这里开始\n",
    "\n",
    "    A = None # 请将None替换为正确的代码\n",
    "    cost = None # 请将None替换为正确的代码\n",
    "    dw = None # 请将None替换为正确的代码\n",
    "    db = None # 请将None替换为正确的代码\n",
    "\n",
    "    # 你的代码到这里结束\n",
    "    cost = np.squeeze(np.array(cost))\n",
    "\n",
    "    grads = {\"dw\": dw,\n",
    "             \"db\": db}\n",
    "\n",
    "    return grads, cost"
   ]
  },
  {
   "cell_type": "code",
   "execution_count": null,
   "metadata": {
    "deletable": false,
    "editable": false,
    "nbgrader": {
     "cell_type": "code",
     "checksum": "89373f564dc33ce8a883a55a6ef72b56",
     "grade": true,
     "grade_id": "cell-d1594d75b61dd554",
     "locked": true,
     "points": 10,
     "schema_version": 3,
     "solution": false,
     "task": false
    }
   },
   "outputs": [],
   "source": [
    "w =  np.array([[1.], [2]])\n",
    "b = 1.5\n",
    "\n",
    "X = np.array([[1., -2., -1.], [3., 0.5, -3.2]])\n",
    "Y = np.array([[1, 1, 0]])\n",
    "grads, cost = propagate(w, b, X, Y)\n",
    "\n",
    "assert type(grads[\"dw\"]) == np.ndarray\n",
    "assert grads[\"dw\"].shape == (2, 1)\n",
    "assert type(grads[\"db\"]) == np.float64\n",
    "\n",
    "print (\"dw = \" + str(grads[\"dw\"]))\n",
    "print (\"db = \" + str(grads[\"db\"]))\n",
    "print (\"cost = \" + str(cost))"
   ]
  },
  {
   "cell_type": "markdown",
   "metadata": {},
   "source": [
    "**期望输出**\n",
    "\n",
    "```\n",
    "dw = [[ 0.25071532]\n",
    " [-0.06604096]]\n",
    "db = -0.1250040450043965\n",
    "cost = 0.15900537707692405\n",
    "```"
   ]
  },
  {
   "cell_type": "code",
   "execution_count": null,
   "metadata": {},
   "outputs": [],
   "source": [
    "# 测试习题五\n",
    "testsuite6.test_propagate(propagate)"
   ]
  },
  {
   "cell_type": "markdown",
   "metadata": {},
   "source": [
    "## 习题六-优化神经网络"
   ]
  },
  {
   "cell_type": "markdown",
   "metadata": {},
   "source": [
    "- 你已经初始化了你的参数。\n",
    "- 你也计算了成本函数（cost function）和它的梯度。\n",
    "- 现在，你需要使用梯度下降算法来更新参数"
   ]
  },
  {
   "cell_type": "markdown",
   "metadata": {},
   "source": [
    "实现优化神经网络的函数，你的目标是通过最小化成本函数J来学习到参数`w`和`b`。 对于一个参数 $\\theta $，更新参数的规则是 $ \\theta = \\theta - \\alpha \\text{ } d\\theta$ ，$ \\alpha $ 是学习率， $ d\\theta $是前向传播中计算出的参数的梯度。"
   ]
  },
  {
   "cell_type": "code",
   "execution_count": null,
   "metadata": {
    "deletable": false,
    "nbgrader": {
     "cell_type": "code",
     "checksum": "49d9b4c1a780bf141c8eb48e06cbb494",
     "grade": false,
     "grade_id": "cell-616d6883e807448d",
     "locked": false,
     "schema_version": 3,
     "solution": true,
     "task": false
    }
   },
   "outputs": [],
   "source": [
    "# UNQ_C6 (UNIQUE CELL IDENTIFIER, DO NOT EDIT)\n",
    "# GRADED FUNCTION: optimize\n",
    "\n",
    "def optimize(w, b, X, Y, num_iterations=100, learning_rate=0.009, print_cost=False):\n",
    "    \"\"\"\n",
    "    这个函数通过运行梯度下降算法来优化w和b\n",
    "\n",
    "    参数：\n",
    "    w -- 权重，大小为(num_px * num_px * 3, 1)的numpy数组\n",
    "    b -- 偏置，标量\n",
    "    X -- 形状为(num_px * num_px * 3, 样本数量)的数据\n",
    "    Y -- 真实\"标签\"向量(如果不是猫则为0, 如果是猫则为1)，形状为(1, 样本数量)\n",
    "    num_iterations -- 优化循环的迭代次数\n",
    "    learning_rate -- 梯度下降更新规则的学习率\n",
    "    print_cost -- 设为True时每100步打印一次损失\n",
    "\n",
    "    返回值：\n",
    "    params -- 包含权重w和偏置b的字典\n",
    "    grads -- 包含权重和偏置相对于成本函数的梯度的字典\n",
    "    costs -- 优化过程中计算的所有成本的列表，将用于绘制学习曲线\n",
    "\n",
    "    提示：\n",
    "    你基本上需要写出两个步骤并循环执行它们：\n",
    "        1) 计算当前参数的成本和梯度。使用前面习题实现的函数propagate()。\n",
    "        2) 使用梯度下降规则更新w和b的参数。\n",
    "\n",
    "    \"\"\"\n",
    "\n",
    "    w = copy.deepcopy(w)\n",
    "    b = copy.deepcopy(b)\n",
    "\n",
    "    costs = []\n",
    "\n",
    "    for i in range(num_iterations):\n",
    "        # (≈ 1行代码)\n",
    "        # 成本和梯度计算\n",
    "        # grads, cost = ...\n",
    "        # 你的代码从这里开始\n",
    "        grads, cost = None # 请将None替换为正确的代码\n",
    "\n",
    "\n",
    "        # 你的代码到这里结束\n",
    "\n",
    "        # 从grads字典中检索梯度\n",
    "        dw = grads[\"dw\"]\n",
    "        db = grads[\"db\"]\n",
    "\n",
    "        # 更新参数 (≈ 2行代码)\n",
    "        # w = ...\n",
    "        # b = ...\n",
    "        # 你的代码从这里开始\n",
    "        w = None # 请将None替换为正确的代码\n",
    "        b = None # 请将None替换为正确的代码\n",
    "\n",
    "        # 你的代码到这里结束\n",
    "        # 记录成本\n",
    "        if i % 100 == 0:\n",
    "            costs.append(cost)\n",
    "\n",
    "            # 每100次迭代打印一次成本\n",
    "            if print_cost:\n",
    "                print (\"Cost after iteration %i: %f\" %(i, cost))\n",
    "\n",
    "    params = {\"w\": w,\n",
    "              \"b\": b}\n",
    "\n",
    "    grads = {\"dw\": dw,\n",
    "             \"db\": db}\n",
    "\n",
    "    return params, grads, costs"
   ]
  },
  {
   "cell_type": "code",
   "execution_count": null,
   "metadata": {
    "deletable": false,
    "editable": false,
    "nbgrader": {
     "cell_type": "code",
     "checksum": "b65a5c90f86a990614156e41f64b4678",
     "grade": true,
     "grade_id": "cell-8e3d43fbb82a8901",
     "locked": true,
     "points": 10,
     "schema_version": 3,
     "solution": false,
     "task": false
    }
   },
   "outputs": [],
   "source": [
    "w, b, X, Y = np.array([[1.], [2.]]), 2., np.array([[1., 2., -1.], [3., 4., -3.2]]), np.array([[1, 0, 1]])\n",
    "\n",
    "params, grads, costs = optimize(w, b, X, Y, num_iterations=101, learning_rate=0.1, print_cost=False)\n",
    "\n",
    "print (\"w = \" + str(params[\"w\"]))\n",
    "print (\"b = \" + str(params[\"b\"]))\n",
    "print (\"dw = \" + str(grads[\"dw\"]))\n",
    "print (\"db = \" + str(grads[\"db\"]))\n",
    "print(\"Costs = \" + str(costs))\n",
    "\n",
    "# 期望输出：\n",
    "# w = [[-0.70916784]\n",
    "#  [-0.42390859]]\n",
    "# b = 2.2689134634056387\n",
    "# dw = [[ 0.06188603]\n",
    "#  [-0.01407361]]\n",
    "# db = -0.047093537632615125\n",
    "# Costs = [array(5.80154532), array(0.31057104)]"
   ]
  },
  {
   "cell_type": "code",
   "execution_count": null,
   "metadata": {},
   "outputs": [],
   "source": [
    "# 测试习题六\n",
    "testsuite6.test_optimize(optimize)"
   ]
  },
  {
   "cell_type": "markdown",
   "metadata": {},
   "source": [
    "## 习题七-预测"
   ]
  },
  {
   "cell_type": "markdown",
   "metadata": {},
   "source": [
    "前面的函数将输出学习到的w和b。我们能够使用w和b来预测数据集X的标签。实现`predict()`函数。计算预测有两个步骤：\n",
    "\n",
    "1. 计算 $\\hat{Y} = A = \\sigma(w^T X + b)$\n",
    "\n",
    "2. 将a的条目转换为0（如果激活值 <= 0.5）或1（如果激活值 > 0.5），将预测存储在向量`Y_prediction`中。如果你愿意，可以在`for`循环中使用`if`/`else`语句（不过也有向量化的方法）。\n"
   ]
  },
  {
   "cell_type": "code",
   "execution_count": null,
   "metadata": {
    "deletable": false,
    "nbgrader": {
     "cell_type": "code",
     "checksum": "e56419b97ebf382a8f93ac2873988887",
     "grade": false,
     "grade_id": "cell-d6f924f49c51dc2f",
     "locked": false,
     "schema_version": 3,
     "solution": true,
     "task": false
    }
   },
   "outputs": [],
   "source": [
    "# UNQ_C7 (UNIQUE CELL IDENTIFIER, DO NOT EDIT)\n",
    "# GRADED FUNCTION: predict\n",
    "\n",
    "def predict(w, b, X):\n",
    "    '''\n",
    "    使用学习到的逻辑回归参数(w, b)预测标签是0还是1\n",
    "\n",
    "    参数：\n",
    "    w -- 权重，大小为(num_px * num_px * 3, 1)的numpy数组\n",
    "    b -- 偏置，标量\n",
    "    X -- 大小为(num_px * num_px * 3, 样本数量)的数据\n",
    "\n",
    "    返回值：\n",
    "    Y_prediction -- 包含X中所有样本预测结果(0/1)的numpy数组(向量)\n",
    "    '''\n",
    "\n",
    "    m = X.shape[1]\n",
    "    Y_prediction = np.zeros((1, m))\n",
    "    w = w.reshape(X.shape[0], 1)\n",
    "    # 计算向量\"A\"，预测图片中出现猫的概率\n",
    "    #(≈ 1行代码)\n",
    "    # A = ...\n",
    "    # 你的代码从这里开始\n",
    "    A = None # 请将None替换为正确的代码\n",
    "\n",
    "    # 你的代码到这里结束\n",
    "\n",
    "    for i in range(A.shape[1]):\n",
    "        # 将概率A[0,i]转换为实际预测p[0,i]\n",
    "        #(≈ 4行代码)\n",
    "        # if A[0, i] > ____ :\n",
    "        #     Y_prediction[0,i] =\n",
    "        # else:\n",
    "        #     Y_prediction[0,i] =\n",
    "        # 你的代码从这里开始\n",
    "        if ... :                      # 请将...替换为正确的代码\n",
    "            Y_prediction[0, i] = None # 请将None替换为正确的代码\n",
    "        else:\n",
    "            Y_prediction[0, i] = None # 请将None替换为正确的代码\n",
    "\n",
    "        # 你的代码到这里结束\n",
    "\n",
    "    return Y_prediction"
   ]
  },
  {
   "cell_type": "code",
   "execution_count": null,
   "metadata": {
    "deletable": false,
    "editable": false,
    "nbgrader": {
     "cell_type": "code",
     "checksum": "e3ea12608f15798d542a07c1bc9f561b",
     "grade": true,
     "grade_id": "cell-90b1fb967269548c",
     "locked": true,
     "points": 10,
     "schema_version": 3,
     "solution": false,
     "task": false
    }
   },
   "outputs": [],
   "source": [
    "w = np.array([[0.1124579], [0.23106775]])\n",
    "b = -0.3\n",
    "X = np.array([[1., -1.1, -3.2],[1.2, 2., 0.1]])\n",
    "print (\"predictions = \" + str(predict(w, b, X)))\n",
    "# 期望输出：\n",
    "# predictions = [[1. 1. 0.]]"
   ]
  },
  {
   "cell_type": "code",
   "execution_count": null,
   "metadata": {},
   "outputs": [],
   "source": [
    "# 测试习题七\n",
    "testsuite6.test_predict(predict)"
   ]
  },
  {
   "cell_type": "markdown",
   "metadata": {},
   "source": [
    "<font color='blue'>\n",
    "    \n",
    "**需要记住的要点：**\n",
    "    \n",
    "你已经实现了几个函数：\n",
    "- 初始化(w,b)\n",
    "- 迭代优化损失以学习参数(w,b)：\n",
    "    - 计算成本及其梯度\n",
    "    - 使用梯度下降更新参数\n",
    "- 使用学习到的(w,b)对给定的样本集预测标签"
   ]
  },
  {
   "cell_type": "markdown",
   "metadata": {},
   "source": [
    "## 习题八-模型"
   ]
  },
  {
   "cell_type": "markdown",
   "metadata": {},
   "source": [
    "现在你将看到整体模型是如何构建的，通过将所有构建块（在前面部分实现的函数）以正确的顺序组合在一起。\n",
    "\n",
    "实现model函数。使用以下标记：\n",
    "- Y_prediction_test 用于测试集上的预测\n",
    "- Y_prediction_train 用于训练集上的预测\n",
    "- parameters, grads, costs 用于optimize()的输出\n"
   ]
  },
  {
   "cell_type": "code",
   "execution_count": null,
   "metadata": {
    "deletable": false,
    "nbgrader": {
     "cell_type": "code",
     "checksum": "b62adfb8f5a0f5bb5aa6798c3c5df66d",
     "grade": false,
     "grade_id": "cell-6dcba5967c4cbf8c",
     "locked": false,
     "schema_version": 3,
     "solution": true,
     "task": false
    }
   },
   "outputs": [],
   "source": [
    "# UNQ_C8 (UNIQUE CELL IDENTIFIER, DO NOT EDIT)\n",
    "# GRADED FUNCTION: model\n",
    "\n",
    "def model(X_train, Y_train, X_test, Y_test, num_iterations=2000, learning_rate=0.5, print_cost=False):\n",
    "    \"\"\"\n",
    "    通过调用你之前实现的函数来构建逻辑回归模型\n",
    "\n",
    "    参数：\n",
    "    X_train -- 训练集，由形状为(num_px * num_px * 3, m_train)的numpy数组表示\n",
    "    Y_train -- 训练标签，由形状为(1, m_train)的numpy数组(向量)表示\n",
    "    X_test -- 测试集，由形状为(num_px * num_px * 3, m_test)的numpy数组表示\n",
    "    Y_test -- 测试标签，由形状为(1, m_test)的numpy数组(向量)表示\n",
    "    num_iterations -- 超参数，表示优化参数的迭代次数\n",
    "    learning_rate -- 超参数, 表示在optimize()更新规则中使用的学习率\n",
    "    print_cost -- 设为True时每100次迭代打印成本\n",
    "\n",
    "    返回值：\n",
    "    d -- 包含模型信息的字典\n",
    "    \"\"\"\n",
    "    # (≈ 1行代码)\n",
    "    # 用零初始化参数\n",
    "    # 并使用\"shape\"函数获取X_train的第一个维度\n",
    "    # w, b = ...\n",
    "    w, b = initialize_with_zeros(X_train.shape[0])\n",
    "\n",
    "    #(≈ 1行代码)\n",
    "    # 梯度下降\n",
    "    # params, grads, costs = ...\n",
    "    params, grads, costs = None # 请将None替换为正确的代码\n",
    "    #(≈ 2行代码)\n",
    "    # 从字典\"params\"中获取参数w和b\n",
    "    # w = ...\n",
    "    # b = ...\n",
    "    w = None # 请将None替换为正确的代码\n",
    "    b = None # 请将None替换为正确的代码\n",
    "\n",
    "    # 预测测试/训练集样本 (≈ 2行代码)\n",
    "    # Y_prediction_test = ...\n",
    "    # Y_prediction_train = ...\n",
    "\n",
    "    # 你的代码从这里开始\n",
    "    Y_prediction_test = None # 请将None替换为正确的代码\n",
    "    Y_prediction_train = None # 请将None替换为正确的代码\n",
    "\n",
    "    # 你的代码到这里结束\n",
    "\n",
    "    # 打印训练/测试错误\n",
    "    if print_cost:\n",
    "        print(\"train accuracy: {} %\".format(100 - np.mean(np.abs(Y_prediction_train - Y_train)) * 100))\n",
    "        print(\"test accuracy: {} %\".format(100 - np.mean(np.abs(Y_prediction_test - Y_test)) * 100))\n",
    "\n",
    "\n",
    "    d = {\"costs\": costs,\n",
    "         \"Y_prediction_test\": Y_prediction_test,\n",
    "         \"Y_prediction_train\" : Y_prediction_train,\n",
    "         \"w\" : w,\n",
    "         \"b\" : b,\n",
    "         \"learning_rate\" : learning_rate,\n",
    "         \"num_iterations\": num_iterations}\n",
    "\n",
    "    return d"
   ]
  },
  {
   "cell_type": "code",
   "execution_count": null,
   "metadata": {
    "deletable": false,
    "editable": false,
    "nbgrader": {
     "cell_type": "code",
     "checksum": "b468bc5ddf6ecc5c7dbcb9a02cfe0216",
     "grade": true,
     "grade_id": "cell-4170e070f3cde17e",
     "locked": true,
     "points": 10,
     "schema_version": 3,
     "solution": false,
     "task": false
    }
   },
   "outputs": [],
   "source": [
    "# 测试习题八\n",
    "testsuite6.test_model(model)"
   ]
  },
  {
   "cell_type": "markdown",
   "metadata": {},
   "source": [
    "如果你通过了所有的测试，运行下面的代码来训练你自己的模型。"
   ]
  },
  {
   "cell_type": "code",
   "execution_count": null,
   "metadata": {},
   "outputs": [],
   "source": [
    "logistic_regression_model = model(train_set_x, train_set_y, test_set_x, test_set_y, num_iterations=2000, learning_rate=0.005, print_cost=True)"
   ]
  },
  {
   "cell_type": "markdown",
   "metadata": {},
   "source": [
    "评论：训练准确率接近100%。这是一个很好的合理性检查：你的模型运行正常且具有足够的容量来拟合训练数据。测试准确率是70%。对于这个简单的模型来说实际上还不错，考虑到我们使用的数据集较小，而且逻辑回归是一个线性分类器。但别担心，下周你将构建一个更好的分类器！\n",
    "\n",
    "另外，你会看到模型明显过拟合了训练数据。有很多方法减少过拟合，例如通过使用正则化，你可以在后续的课程中学习到。使用下面的代码（并更改index变量），你可以查看测试集图片的预测结果。"
   ]
  },
  {
   "cell_type": "code",
   "execution_count": null,
   "metadata": {},
   "outputs": [],
   "source": [
    "# Example of a picture that was wrongly classified.\n",
    "index = 1\n",
    "num_px = 64\n",
    "plt.imshow(test_set_x[:, index].reshape((num_px, num_px, 3)))\n",
    "print (\"y = \" + str(test_set_y[0,index]) + \", you predicted that it is a \\\"\" + classes[int(logistic_regression_model['Y_prediction_test'][0,index])].decode(\"utf-8\") +  \"\\\" picture.\")"
   ]
  },
  {
   "cell_type": "markdown",
   "metadata": {},
   "source": [
    "让我们也绘制成本函数和梯度。"
   ]
  },
  {
   "cell_type": "code",
   "execution_count": null,
   "metadata": {},
   "outputs": [],
   "source": [
    "# Plot learning curve (with costs)\n",
    "costs = np.squeeze(logistic_regression_model['costs'])\n",
    "plt.plot(costs)\n",
    "plt.ylabel('cost')\n",
    "plt.xlabel('iterations (per hundreds)')\n",
    "plt.title(\"Learning rate =\" + str(logistic_regression_model[\"learning_rate\"]))\n",
    "plt.show()"
   ]
  },
  {
   "cell_type": "markdown",
   "metadata": {},
   "source": [
    "**解释**：\n",
    "你可以看到成本在下降。这表明参数正在被学习。然而，你看到你可以在训练集上进一步训练模型。尝试在上面的单元格中增加迭代次数并重新运行单元格。你可能会看到训练集准确率上升，但测试集准确率下降。这被称为过拟合。"
   ]
  },
  {
   "cell_type": "markdown",
   "metadata": {},
   "source": [
    "## 进一步的分析-学习率的选择"
   ]
  },
  {
   "cell_type": "markdown",
   "metadata": {},
   "source": [
    "**提醒**：\n",
    "为了使梯度下降工作，你必须明智地选择学习率。学习率$\\alpha$决定了我们更新参数的速度。如果学习率过大，我们可能会\"超调\"最优值。同样，如果学习率过小，我们将需要太多迭代才能收敛到最佳值。这就是为什么使用经过良好调整的学习率至关重要。\n",
    "\n",
    "让我们比较我们的模型在几种不同学习率选择下的学习曲线。运行下面的单元格。这应该需要大约1分钟。你也可以尝试与我们初始化`learning_rates`变量所包含的三个值不同的值，看看会发生什么。\n"
   ]
  },
  {
   "cell_type": "code",
   "execution_count": null,
   "metadata": {},
   "outputs": [],
   "source": [
    "learning_rates = [0.01, 0.001, 0.0001]\n",
    "models = {}\n",
    "\n",
    "for lr in learning_rates:\n",
    "    print (\"Training a model with learning rate: \" + str(lr))\n",
    "    models[str(lr)] = model(train_set_x, train_set_y, test_set_x,\n",
    "                            test_set_y, num_iterations=1500, learning_rate=lr,\n",
    "                            print_cost=False)\n",
    "    print ('\\n' + \"-------------------------------------------------------\" + '\\n')\n",
    "\n",
    "for lr in learning_rates:\n",
    "    plt.plot(np.squeeze(models[str(lr)][\"costs\"]),\n",
    "             label=str(models[str(lr)][\"learning_rate\"]))\n",
    "\n",
    "plt.ylabel('cost')\n",
    "plt.xlabel('iterations (hundreds)')\n",
    "\n",
    "legend = plt.legend(loc='upper center', shadow=True)\n",
    "frame = legend.get_frame()\n",
    "frame.set_facecolor('0.90')\n",
    "plt.show()"
   ]
  },
  {
   "cell_type": "markdown",
   "metadata": {},
   "source": [
    "**解释**：\n",
    "- 不同的学习率产生不同的成本，从而产生不同的预测结果。\n",
    "- 如果学习率太大(0.01)，成本可能会上下振荡。它甚至可能发散（尽管在这个例子中，使用0.01最终仍然得到了一个好的成本值）。\n",
    "- 较低的成本并不意味着更好的模型。你必须检查是否可能存在过拟合。当训练准确率远高于测试准确率时就会发生过拟合。\n",
    "- 在深度学习中，我们通常建议你：\n",
    "    - 选择能更好地最小化成本函数的学习率。\n",
    "    - 如果你的模型过拟合，使用其他技术来减少过拟合。"
   ]
  },
  {
   "cell_type": "markdown",
   "metadata": {},
   "source": [
    "## 使用你自己的图片测试"
   ]
  },
  {
   "cell_type": "markdown",
   "metadata": {},
   "source": [
    "恭喜你完成这个作业。你可以使用自己的图片并查看你的模型的输出。请按照下面步骤：\n",
    "\n",
    "    - 将你的图片添加到这个Jupyter Notebook目录下的\"images\"文件夹中\n",
    "    - 在下面的代码中更改你的图片名称\n",
    "    - 运行代码并检查算法是否正确(1 = 猫，0 = 非猫)！"
   ]
  },
  {
   "cell_type": "code",
   "execution_count": null,
   "metadata": {},
   "outputs": [],
   "source": [
    "from PIL import Image\n",
    "\n",
    "# 在这里改变的你的图片文件名\n",
    "my_image = \"my_image.jpg\"\n",
    "\n",
    "# 对图像进行预处理以适应您的算法。\n",
    "fname = \"images/\" + my_image\n",
    "image = np.array(Image.open(fname).resize((num_px, num_px)))\n",
    "plt.imshow(image)\n",
    "image = image / 255.\n",
    "image = image.reshape((1, num_px * num_px * 3)).T\n",
    "my_predicted_image = predict(logistic_regression_model[\"w\"], logistic_regression_model[\"b\"], image)\n",
    "\n",
    "print(\"y = \" + str(np.squeeze(my_predicted_image)) + \", your algorithm predicts a \\\"\" + classes[int(np.squeeze(my_predicted_image)),].decode(\"utf-8\") +  \"\\\" picture.\")"
   ]
  },
  {
   "cell_type": "markdown",
   "metadata": {},
   "source": [
    "<font color='blue'>\n",
    "    \n",
    "**从这个作业中需要记住的要点：**\n",
    "1. 数据集预处理很重要。\n",
    "2. 你分别实现了每个函数：initialize()、propagate()、optimize()。然后你构建了一个model()。\n",
    "3. 调整学习率（这是\"超参数\"的一个例子）可以对算法产生很大的影响。你将在深度学习的课程的中可以看到更多这样的例子！"
   ]
  },
  {
   "cell_type": "markdown",
   "metadata": {},
   "source": [
    "## 实验讨论"
   ]
  },
  {
   "cell_type": "markdown",
   "metadata": {},
   "source": [
    "请就下面的问题进行小组讨论，将讨论的内容记录下来。"
   ]
  },
  {
   "cell_type": "markdown",
   "metadata": {},
   "source": [
    "问题一：本次实验的这个简单的神经网络的架构包括哪些组成部分？每个组成部分的作用是什么？\n",
    "\n",
    "问题二：分析习题五中的成本函数中使用的交叉熵损失函数，为什么交叉熵损失函数可以作为成本函数成为模型训练的指标？另一种成本函数的选择是均方差损失函数，查找资料，了解均方差损失函数和交叉熵损失函数的异同。\n",
    "\n",
    "问题三：分析习题五中的梯度下降算法是如何工作的？再结合习题六的优化函数，分析学习率参数的作用，学习率太低会发生什么情况，学习率太高会发生什么情况？"
   ]
  },
  {
   "cell_type": "markdown",
   "metadata": {},
   "source": [
    "## 生成实验报告"
   ]
  },
  {
   "cell_type": "markdown",
   "metadata": {},
   "source": [
    "将实验报告pdf文件提交到对应的班级和实验的腾讯文档收集表:[文档汇总地址](https://docs.qq.com/doc/DWUxJanVwYXFpZmF2)"
   ]
  },
  {
   "cell_type": "code",
   "execution_count": null,
   "metadata": {},
   "outputs": [],
   "source": [
    "stu_grade = testsuite6.grade_all_tests(notebook_file)\n",
    "pdf_file = f\"{stu_info['class_id']}-{stu_info['student_id']}-{stu_info['name']}-实验报告6-{stu_grade}.pdf\"\n",
    "convert_notebook_to_webpdf(notebook_file, pdf_file)"
   ]
  },
  {
   "cell_type": "markdown",
   "metadata": {},
   "source": [
    "## 参考资料"
   ]
  },
  {
   "cell_type": "markdown",
   "metadata": {},
   "source": [
    "本次实验主要参考了吴恩达（Andrew NG）的深度学习专项课程的第一次实验，参考资料的链接如下：\n",
    "\n",
    "1. [吴恩达深度学习系列课程官方网站--coursera.org](https://www.coursera.org/specializations/deep-learning)\n",
    "2. [吴恩达深度学习系列课程B站视频](https://www.bilibili.com/video/BV17c41197fP)\n",
    "2. [吴恩达深度学习系列课程的测验和实验--Github](https://github.com/amanchadha/coursera-deep-learning-specialization)"
   ]
  }
 ],
 "metadata": {
  "kernelspec": {
   "display_name": "base",
   "language": "python",
   "name": "python3"
  },
  "language_info": {
   "codemirror_mode": {
    "name": "ipython",
    "version": 3
   },
   "file_extension": ".py",
   "mimetype": "text/x-python",
   "name": "python",
   "nbconvert_exporter": "python",
   "pygments_lexer": "ipython3",
   "version": "3.12.3"
  }
 },
 "nbformat": 4,
 "nbformat_minor": 2
}
