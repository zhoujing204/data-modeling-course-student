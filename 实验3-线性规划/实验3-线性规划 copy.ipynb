{
 "cells": [
  {
   "cell_type": "markdown",
   "id": "db73f9b1",
   "metadata": {},
   "source": [
    "# 实验3-线性规划"
   ]
  },
  {
   "cell_type": "markdown",
   "id": "8285d852",
   "metadata": {},
   "source": [
    "<table style=\"margin: 0 auto; width: 30%; border-collapse: collapse; border: 1px solid black;\" data-id=\"student-info\">  \n",
    "    <colgroup>  \n",
    "        <col style=\"width: 35%;\">  \n",
    "        <col style=\"width: 65%;\">  \n",
    "    </colgroup>  \n",
    "    <tr>  \n",
    "        <td style=\"border: 1px solid black;\">班级</td> <td style=\"border: 1px solid black;\">24计科</td>  \n",
    "    </tr>  \n",
    "    <tr>  \n",
    "        <td style=\"border: 1px solid black;\">学号</td> <td style=\"border: 1px solid black;\">未填写</td>  \n",
    "    </tr>  \n",
    "    <tr>  \n",
    "        <td style=\"border: 1px solid black;\">姓名</td> <td style=\"border: 1px solid black;\">未填写</td>  \n",
    "    </tr>  \n",
    "    <tr>  \n",
    "        <td style=\"border: 1px solid black;\">Email</td> <td style=\"border: 1px solid black;\">未填写</td>  \n",
    "    </tr>  \n",
    "</table>"
   ]
  },
  {
   "cell_type": "markdown",
   "id": "19860ecd",
   "metadata": {},
   "source": [
    "## 实验目的"
   ]
  },
  {
   "cell_type": "markdown",
   "id": "57bb7f52",
   "metadata": {},
   "source": [
    "学习掌握并理解下面的这些实验内容:\n",
    "\n",
    "- 什么是线性规划问题\n",
    "- 线性规划问题的几种特殊情况\n",
    "- 使用`pulp`求解线性规划问题的基本步骤\n",
    "- 线性规划问题范例"
   ]
  },
  {
   "cell_type": "markdown",
   "id": "8997ea72",
   "metadata": {},
   "source": [
    "## 实验注意事项"
   ]
  },
  {
   "cell_type": "markdown",
   "id": "ec5f2c27",
   "metadata": {},
   "source": [
    "1. 请在指定的地方按照实验指导要求来编写代码。\n",
    "2. 请按照实验指导要求使用指定的变量名或函数名，不要使用其他的名字。\n",
    "3. 不要添加任何额外的语句。\n",
    "4. 不要添加任何额外的代码单元格。\n",
    "5. 不要在不需要的地方修改作业代码，比如创建额外的变量，修改测试文件中的代码。\n",
    "6. 实验指导中的`...`表示需要你补充代码的部分，其他部分的代码不用修改。\n",
    "7. 代码提示中会给出估计的代码行数，例如大约1行代码，估计的代码行数只是一个参考值，实际编写时可能会有出入，请根据实际情况来编写。\n",
    "8. 请独立完成作业，禁止抄袭，发现抄袭行为成绩记零分"
   ]
  },
  {
   "cell_type": "code",
   "execution_count": null,
   "id": "232d008f",
   "metadata": {},
   "outputs": [],
   "source": [
    "%load_ext autoreload\n",
    "%autoreload 2"
   ]
  },
  {
   "cell_type": "markdown",
   "id": "8472c1ac",
   "metadata": {},
   "source": [
    "## 实验步骤"
   ]
  },
  {
   "cell_type": "markdown",
   "id": "324ba076",
   "metadata": {},
   "source": [
    "1. 打开Vscode,选择\"实验一-Python变量.ipynb\",在Vscode右上角点击Select Kernel, 然后选择base(Python 3.x.x)。\n",
    "2. 从上至下按照顺序执行该文件中的Python代码。\n",
    "3. 阅读实验给出的实验指导和代码范例。\n",
    "4. 按照实验指导完成实验习题。\n",
    "5. 在习题后面的单元格执行测试代码，对代码进行测试。\n",
    "6. 在实验总结部分，使用自己语言完成主观题目1和2的填写。\n",
    "7. 生成实验报告，并通过腾讯在线收集表提交。(注意所有的习题和习题的测试代码必须要运行一次, 否则无法生成实验报告)"
   ]
  },
  {
   "cell_type": "markdown",
   "id": "88929489",
   "metadata": {},
   "source": [
    "## 什么是线性规划问题"
   ]
  },
  {
   "cell_type": "markdown",
   "id": "9ecf16b9",
   "metadata": {},
   "source": [
    "Amy和George分蛋糕问题：\n",
    " - Amy至少分得1/3\n",
    " - George至少分得1/4\n",
    " - George最多分得1/2\n",
    " - 慈善捐款金额与份额的关系：Amy系数$10，George系数$20\n",
    "\n",
    "建立LP模型：\n",
    "$$\n",
    "\\begin{array}{rllll}\n",
    "\\max & 10x + 20y \\\\ \n",
    "s.t. & x \\geq 0, y \\geq 0 \\\\ \n",
    "& x + y \\leq 1 \\\\ \n",
    "& x \\geq \\frac{1}{3} \\\\ \n",
    "& y \\geq \\frac{1}{4} \\\\ \n",
    "& y \\leq \\frac{1}{2} \n",
    "\\end{array}\n",
    "$$"
   ]
  },
  {
   "cell_type": "markdown",
   "id": "f5ac599a",
   "metadata": {},
   "source": [
    "一个典型的线性规划问题应该由下面几个部分组成：\n",
    "\n",
    "- 决策变量：$x$表示Amy分得的份额，$y$表示George分得的份额\n",
    "- 目标函数：$max(10x + 20y)$\n",
    "- 约束条件：\n",
    "    - $x + y \\leq 1$\n",
    "    - $x \\geq \\frac{1}{3}$\n",
    "    - $y \\geq \\frac{1}{4}$\n",
    "    - $y \\leq \\frac{1}{2}$\n"
   ]
  },
  {
   "cell_type": "code",
   "execution_count": null,
   "metadata": {
    "ExecuteTime": {
     "end_time": "2023-10-06T13:01:18.491443Z",
     "start_time": "2023-10-06T13:01:18.218251Z"
    }
   },
   "outputs": [],
   "source": [
    "from pulp import *\n",
    "model = LpProblem(\"蛋糕分配问题\", LpMaximize)\n",
    "x = LpVariable(\"Amy份额\", 0.0, 1.0)\n",
    "y = LpVariable(\"George份额\", 0.0, 1.0)\n",
    "model += 10*x + 20*y\n",
    "model += x+y <=1\n",
    "model += x >= 1/3\n",
    "model += y >= 1/4\n",
    "model += y <= 1/2\n",
    "model.solve()   # 返回值为1，表示求得了最优解\n",
    "for v in model.variables():\n",
    "    print(v.name, \"=\", v.varValue)\n",
    "print(f'目标值 - 慈善捐赠金额: {value(model.objective)}')"
   ]
  },
  {
   "cell_type": "markdown",
   "id": "bc9df18b",
   "metadata": {},
   "source": [
    "## 特殊情况处理"
   ]
  },
  {
   "cell_type": "markdown",
   "id": "4a9282ca",
   "metadata": {},
   "source": [
    "### 不可行问题"
   ]
  },
  {
   "cell_type": "markdown",
   "metadata": {},
   "source": [
    "\n",
    "$$\n",
    "\\begin{array}{l}\n",
    "\\max x - y\\\\\n",
    "s.t.\\\\\n",
    "x \\geq 1, \\\\\n",
    "x+y \\leq 2, \\\\\n",
    "y \\geq 1.5\n",
    "\\end{array}\n",
    "$$\n",
    "\n",
    "约束矛盾无解"
   ]
  },
  {
   "cell_type": "markdown",
   "id": "f3816c16",
   "metadata": {},
   "source": [
    "### 无界问题"
   ]
  },
  {
   "cell_type": "markdown",
   "id": "d4a1d11a",
   "metadata": {},
   "source": [
    "$$\n",
    "\\max x+y \\\\\n",
    "s.t. \\\\\n",
    "x\\geq1, \\\\\n",
    "y\\geq0\n",
    "$$\n",
    "\n",
    "可行解无限增大"
   ]
  },
  {
   "cell_type": "code",
   "execution_count": null,
   "metadata": {},
   "outputs": [],
   "source": [
    "# 不可行问题示例\n",
    "model = LpProblem(\"矛盾约束问题\", LpMaximize)\n",
    "x = LpVariable(\"x\", 1.0, None)\n",
    "y = LpVariable(\"y\", 1.5, None)\n",
    "model += x-y\n",
    "model += x+y <= 2\n",
    "model.solve() # 返回-1表示不可行， 返回值1表示求得了最优解"
   ]
  },
  {
   "cell_type": "code",
   "execution_count": null,
   "id": "4ca12d28",
   "metadata": {},
   "outputs": [],
   "source": [
    "model = LpProblem(\"无界问题\", LpMaximize)\n",
    "x = LpVariable(\"x\", 1.0, None)\n",
    "y = LpVariable(\"y\", 0, None)\n",
    "model += x+y\n",
    "model.solve() # 返回-2表示无界"
   ]
  },
  {
   "cell_type": "markdown",
   "id": "6d68079d",
   "metadata": {},
   "source": [
    "## 使用`pulp`求解线性规划问题的基本步骤"
   ]
  },
  {
   "cell_type": "markdown",
   "id": "7431de50",
   "metadata": {},
   "source": [
    "请收藏`pulp`库的官方文档地址[https://www.coin-or.org/PuLP/pulp.html](https://www.coin-or.org/PuLP/pulp.html)，实验指导中如果不够详细的地方，请查阅官方文档。"
   ]
  },
  {
   "cell_type": "markdown",
   "id": "88f004a8",
   "metadata": {},
   "source": [
    "首先应该安装`pulp`库，使用`!pip install pulp`命令进行安装。然后导入该库。"
   ]
  },
  {
   "cell_type": "code",
   "execution_count": null,
   "id": "a9ea34ee",
   "metadata": {},
   "outputs": [],
   "source": [
    "from pulp import *"
   ]
  },
  {
   "cell_type": "markdown",
   "id": "36035556",
   "metadata": {},
   "source": [
    "### 步骤1：创建线性规划问题"
   ]
  },
  {
   "cell_type": "markdown",
   "id": "77b05115",
   "metadata": {},
   "source": [
    "- 使用`LpProblem`类创建一个线性规划问题\n",
    "- 第一个参数\"name\"参数是描述性名称\n",
    "- 而第二个参数决定了我们对目标函数采取最小化还是最大化的优化方向。"
   ]
  },
  {
   "cell_type": "code",
   "execution_count": null,
   "id": "df6c82e5",
   "metadata": {},
   "outputs": [],
   "source": [
    "problem = LpProblem('name', LpMinimize) # Use LpMaximize if you are maximizing an objective function"
   ]
  },
  {
   "cell_type": "markdown",
   "id": "3d1253dc",
   "metadata": {},
   "source": [
    "### 步骤2：定义决策变量"
   ]
  },
  {
   "cell_type": "markdown",
   "id": "56e818a0",
   "metadata": {},
   "source": [
    "我们可以使用`LpVariable`类定义若干个决策遍历，这里我们定义了一个决策变量`x_1`，这个决策变量没有上下界。"
   ]
  },
  {
   "cell_type": "code",
   "execution_count": null,
   "id": "2994e56d",
   "metadata": {},
   "outputs": [],
   "source": [
    "x_1 = LpVariable('x_1')"
   ]
  },
  {
   "cell_type": "markdown",
   "id": "194a44ca",
   "metadata": {},
   "source": [
    "接下来我们定义了三个决策变量`x_2`, `x_3`, `x_4`, 并且定义了这些决策变量的下界`x_2 >= 0, x_3 >= 0 ` 和 `x_4 >= 0` "
   ]
  },
  {
   "cell_type": "code",
   "execution_count": null,
   "id": "09d7c4c5",
   "metadata": {},
   "outputs": [],
   "source": [
    "x_2 = LpVariable('x_2', 0)\n",
    "x_3 = LpVariable('x_3', 0)\n",
    "x_4 = LpVariable('x_4', 0)"
   ]
  },
  {
   "cell_type": "markdown",
   "id": "2b80f3bd",
   "metadata": {},
   "source": [
    "定义了决策变量 `x_5`, 同时规定了决策变量的上界和下届`x_5 >= -1 `, `x_5 <= 1` "
   ]
  },
  {
   "cell_type": "code",
   "execution_count": null,
   "id": "91bd931d",
   "metadata": {},
   "outputs": [],
   "source": [
    "x_5 = LpVariable('x_5', -1, 1)"
   ]
  },
  {
   "cell_type": "markdown",
   "id": "b72f4d47",
   "metadata": {},
   "source": [
    "### 步骤3：定义目标函数"
   ]
  },
  {
   "cell_type": "markdown",
   "id": "f2cf2ec0",
   "metadata": {},
   "source": [
    "设置目标函数为`x_1 + x_2 - x_3 + 2 * x_4 - 3 * x_5`，使用`+=`操作符将目标函数添加到前面定义的线性规划问题对象`problem`中。"
   ]
  },
  {
   "cell_type": "code",
   "execution_count": null,
   "id": "0fd9e0bb",
   "metadata": {},
   "outputs": [],
   "source": [
    "problem += (x_1 + x_2 - x_3 + 2*x_4 - 3 * x_5)"
   ]
  },
  {
   "cell_type": "markdown",
   "id": "59f43f2d",
   "metadata": {},
   "source": [
    "### 步骤4：定义约束条件"
   ]
  },
  {
   "cell_type": "markdown",
   "id": "7a481656",
   "metadata": {},
   "source": [
    "- 约束条件1:  ` x_1 - 2 * x_2 + x_3 <= 5 `\n",
    "- 约束条件2:  ` 2 x_2 - x_4 + x_5 <= 7 `\n",
    "- 约束条件3: ` x_1 - x_5 + 2 * x_4 <= 8`\n",
    "- 注意： 必须是`>=`和`<=`符号，不能是`>`和`<`符号\n",
    "- 使用`+=`操作符将约束条件添加到前面定义的线性规划问题对象`problem`中\n",
    "- 所有的变量必须是一次幂，不能出现其他次幂和非线性的函数，例如$x^2$和$sin(x)$"
   ]
  },
  {
   "cell_type": "code",
   "execution_count": null,
   "id": "5259e0c9",
   "metadata": {},
   "outputs": [],
   "source": [
    "problem += (x_1 - 2 * x_2 + x_3 <= 5)\n",
    "problem += (2* x_2 - x_4 + x_5  <= 7)\n",
    "problem += (x_1 - x_5 + 2 * x_4 <= 8)"
   ]
  },
  {
   "cell_type": "markdown",
   "id": "91240b9a",
   "metadata": {},
   "source": [
    "### 步骤5：求解线性规划问题"
   ]
  },
  {
   "cell_type": "markdown",
   "id": "c06b691c",
   "metadata": {},
   "source": [
    "使用`solve`方法求解线性规划问题，然后使用`status`属性查看求解状态，`LpStatus[status]`可以查看求解状态的具体信息。"
   ]
  },
  {
   "cell_type": "code",
   "execution_count": null,
   "id": "2973aeca",
   "metadata": {},
   "outputs": [],
   "source": [
    "problem.solve() # solve the problem"
   ]
  },
  {
   "cell_type": "code",
   "execution_count": null,
   "id": "a4fd1f05",
   "metadata": {},
   "outputs": [],
   "source": [
    "print('Status is :', LpStatus[problem.status])"
   ]
  },
  {
   "cell_type": "markdown",
   "id": "be3d5d54",
   "metadata": {},
   "source": [
    "### 步骤6：查看结果"
   ]
  },
  {
   "cell_type": "markdown",
   "id": "33c272ee",
   "metadata": {},
   "source": [
    "查看线性规划问题求解后的状态并做相应的处理。"
   ]
  },
  {
   "cell_type": "code",
   "execution_count": null,
   "id": "2f53a9a6",
   "metadata": {},
   "outputs": [],
   "source": [
    "if problem.status == constants.LpStatusOptimal:\n",
    "    print('Optimal Solution Found!!')\n",
    "    # Extract the values of the decision variables.\n",
    "    v_1 = x_1.varValue\n",
    "    v_2 = x_2.varValue\n",
    "    v_3 = x_3.varValue\n",
    "    v_4 = x_4.varValue\n",
    "    v_5 = x_5.varValue\n",
    "    print('x_1 = {v_1}, x_2 = {v_2}, x_3 = {v_3}, x_4 = {v_4}, x_5={v_5}')\n",
    "elif problem.status == constants.LpStatusUnbounded:\n",
    "    print('Unbounded solution -- need more constraints')\n",
    "elif problem.status == constants.LpStatusInfeasible:\n",
    "    print('Problem has no feasible solution')\n",
    "else:\n",
    "    print('Problem has an undefined status -- something went wrong.')"
   ]
  },
  {
   "cell_type": "markdown",
   "id": "b1ae5ed0",
   "metadata": {},
   "source": [
    "糟糕了！我们的问题是无界的。我们需要更多的约束条件来使其有界。让我们添加约束条件`x_1 >= -5` and  `x_3 <= 15`。我们可以在创建变量`x_1, x_2`时将这些添加为边界，但我们也可以将它们添加为约束条件。"
   ]
  },
  {
   "cell_type": "code",
   "execution_count": null,
   "id": "ccb70377",
   "metadata": {},
   "outputs": [],
   "source": [
    "problem2 = LpProblem('name', LpMinimize) # Use LpMaximize if you are maximizing an objective function\n",
    "x_1 = LpVariable('x_1')\n",
    "x_2 = LpVariable('x_2', 0)\n",
    "x_3 = LpVariable('x_3', 0)\n",
    "x_4 = LpVariable('x_4', 0)\n",
    "x_5 = LpVariable('x_5', -1, 1)\n",
    "problem2 += (x_1 + x_2 - x_3 + 2*x_4 - 3 * x_5)\n",
    "problem2 += (x_1 - 2 * x_2 + x_3 <= 5)\n",
    "problem2 += (2* x_2 - x_4 + x_5  <= 7)\n",
    "problem2 += (x_1 - x_5 + 2 * x_4 <= 8)\n",
    "problem2 += x_1 >= -5\n",
    "problem2 += x_3 <= 15"
   ]
  },
  {
   "cell_type": "markdown",
   "id": "d1f9a67f",
   "metadata": {},
   "source": [
    "让我们来创建一个函数来解决我们的问题并将线性规划问题的决策变量作为一个列表传递到函数。\n",
    "\n",
    "- `problem.status`可以获取求解状态\n",
    "  -  `constants.LpStatusOptimal`也就是1，表示获得了最优解\n",
    "  -  `constants.LpStatusInfeasible`也就是-1，表示问题是不可行的\n",
    "  -  `constants.LpStatusUnbounded`也就是-2，表示问题是无界的\n",
    "  -  其他值表示状态是未定义的\n",
    "- `x.varValue`可以获取决策变量的值\n",
    "- `problem.objective.value()`可以获取目标函数的值"
   ]
  },
  {
   "cell_type": "code",
   "execution_count": null,
   "id": "f1134b57",
   "metadata": {},
   "outputs": [],
   "source": [
    "def solve_and_extract_solution(problem, list_of_vars):\n",
    "    ## Solve and check status again\n",
    "    problem.solve() # solve the problem\n",
    "    print('Status is :', LpStatus[problem.status])\n",
    "    if problem.status == constants.LpStatusOptimal:\n",
    "        print('Optimal Solution Found!!')\n",
    "        sols = [x.varValue for x in list_of_vars]\n",
    "        print('Solution:',sols)\n",
    "        print('Objective Value:', problem.objective.value())\n",
    "        return sols\n",
    "    elif problem.status == constants.LpStatusUnbounded:\n",
    "        print('Unbounded solution -- need more constraints')\n",
    "        return None\n",
    "    elif problem.status == constants.LpStatusInfeasible:\n",
    "        print('Problem has no feasible solution')\n",
    "        return None\n",
    "    else:\n",
    "        print('Problem has an undefined status -- something went wrong.')\n",
    "        return None"
   ]
  },
  {
   "cell_type": "markdown",
   "id": "ce4e695f",
   "metadata": {},
   "source": [
    "调用函数，并打印结果。"
   ]
  },
  {
   "cell_type": "code",
   "execution_count": null,
   "id": "4364ab5b",
   "metadata": {},
   "outputs": [],
   "source": [
    "solve_and_extract_solution(problem2, [x_1, x_2, x_3, x_4, x_5])"
   ]
  },
  {
   "cell_type": "markdown",
   "id": "93f15a2e",
   "metadata": {},
   "source": [
    "## 线性规划问题可视化"
   ]
  },
  {
   "cell_type": "markdown",
   "id": "0165920d",
   "metadata": {},
   "source": [
    "目标函数的最优解是在约束条件的交点处，我们可以使用`matplotlib`库来可视化线性规划问题。"
   ]
  },
  {
   "cell_type": "code",
   "execution_count": 2,
   "id": "d72e35bf",
   "metadata": {},
   "outputs": [
    {
     "data": {
      "image/png": "[encoded data removed]",
      "text/plain": [
       "<Figure size 800x800 with 1 Axes>"
      ]
     },
     "metadata": {},
     "output_type": "display_data"
    }
   ],
   "source": [
    "import numpy as np\n",
    "import matplotlib.pyplot as plt\n",
    "\n",
    "# Define the constraints\n",
    "x = np.linspace(0, 5, 400)\n",
    "y = np.linspace(0, 5, 400)\n",
    "\n",
    "# Constraint lines\n",
    "y1 = 4 - x\n",
    "y2 = 5 - 2 * x\n",
    "y0 = 0 * x\n",
    "x0 = 0 * y\n",
    "\n",
    "plt.figure(figsize=(8, 8))\n",
    "\n",
    "# objective function\n",
    "x_obj1 = np.linspace(-2, 5, 400)\n",
    "y_obj1 = -0.2 * x_obj1\n",
    "plt.plot(x_obj1, y_obj1, linestyle=\"--\" , label=r'$x + 5y = 0$', color='brown')\n",
    "\n",
    "# Plot the constraints\n",
    "plt.plot(x, y1, label=r'$x + y \\leq 4$', color='b')\n",
    "plt.plot(x, y2, label=r'$2x + y \\leq 5$', color='g')\n",
    "plt.plot(x, y0, label=r'$x \\geq 0$', color='y')\n",
    "plt.plot(x0, y, label=r'$y \\geq 0$', color='m')\n",
    "\n",
    "# Fill feasible region\n",
    "y3 = np.minimum(y1, y2)\n",
    "plt.fill_between(x, 0, y3, where=(y3 >= 0), color='gray', alpha=0.5, label='Feasible Region')\n",
    "\n",
    "# Find intersection points (vertices)\n",
    "# 1. Intersection of x + y = 4 and 2x + y = 5\n",
    "A = np.array([[1, 1], [2, 1]])\n",
    "b = np.array([4, 5])\n",
    "intersection1 = np.linalg.solve(A, b)\n",
    "\n",
    "# 2. Intersection of x + y = 4 and x = 0\n",
    "intersection2 = [0, 4]\n",
    "\n",
    "# 3. Intersection of 2x + y = 5 and y = 0\n",
    "intersection3 = [2.5, 0]\n",
    "\n",
    "# 4. Origin\n",
    "intersection4 = [0, 0]\n",
    "\n",
    "# Highlight the vertices\n",
    "vertices = [intersection1, intersection2, intersection3, intersection4]\n",
    "for vertex in vertices:\n",
    "    plt.plot(vertex[0], vertex[1], 'ro', markersize=8, label=f'{vertex[0], vertex[1]}')  # 'ro' for red circles\n",
    "\n",
    "# Add labels and title\n",
    "plt.xlim(-2, 5)\n",
    "plt.ylim(-2, 5)\n",
    "plt.xlabel('x')\n",
    "plt.ylabel('y')\n",
    "plt.title('Linear Programming Feasible Region')\n",
    "plt.axhline(0, color='black', lw=1)\n",
    "plt.axvline(0, color='black', lw=1)\n",
    "plt.legend()\n",
    "\n",
    "# Add title for the feasible region\n",
    "plt.text(1, 1, 'Feasible Region', fontsize=12, color='black', ha='center')\n",
    "\n",
    "# Show plot\n",
    "plt.grid(True)\n",
    "plt.show()"
   ]
  },
  {
   "cell_type": "code",
   "execution_count": 5,
   "id": "87cf8248",
   "metadata": {},
   "outputs": [
    {
     "data": {
      "image/png": "[encoded data removed]",
      "text/plain": [
       "<Figure size 800x800 with 1 Axes>"
      ]
     },
     "metadata": {},
     "output_type": "display_data"
    }
   ],
   "source": [
    "import numpy as np\n",
    "import matplotlib.pyplot as plt\n",
    "\n",
    "# Define the constraints\n",
    "x = np.linspace(0, 5, 400)\n",
    "y = np.linspace(0, 5, 400)\n",
    "\n",
    "# Constraint lines\n",
    "y1 = 4 - x\n",
    "y2 = 5 - 2 * x\n",
    "y0 = 0 * x\n",
    "x0 = 0 * y\n",
    "\n",
    "plt.figure(figsize=(8, 8))\n",
    "\n",
    "# objective function\n",
    "x_obj1 = np.linspace(-2, 5, 400)\n",
    "y_obj1 = -0.2 * x_obj1\n",
    "plt.plot(x_obj1, y_obj1, linestyle=\"--\" , label=r'$x + 5y = 0$', color='brown')\n",
    "\n",
    "y_obj2 = -0.2 * x_obj1 + 0.4\n",
    "plt.plot(x_obj1, y_obj2, linestyle=\"--\" , label=r'$x + 5y = 2$', color='brown')\n",
    "\n",
    "y_obj3= -0.2 * x_obj1 + 2\n",
    "plt.plot(x_obj1, y_obj3, linestyle=\"--\" , label=r'$x + 5y = 10$', color='brown')\n",
    "\n",
    "y_obj4= -0.2 * x_obj1 + 4\n",
    "plt.plot(x_obj1, y_obj4, linestyle=\"--\" , label=r'$x + 5y = 20$', color='brown')\n",
    "\n",
    "# Plot the constraints\n",
    "\n",
    "plt.plot(x, y1, label=r'$x + y \\leq 4$', color='b')\n",
    "plt.plot(x, y2, label=r'$2x + y \\leq 5$', color='g')\n",
    "plt.plot(x, y0, label=r'$x \\geq 0$', color='y')\n",
    "plt.plot(x0, y, label=r'$y \\geq 0$', color='m')\n",
    "\n",
    "\n",
    "# Fill feasible region\n",
    "y3 = np.minimum(y1, y2)\n",
    "plt.fill_between(x, 0, y3, where=(y3 >= 0), color='gray', alpha=0.5, label='Feasible Region')\n",
    "\n",
    "# Find intersection points (vertices)\n",
    "# 1. Intersection of x + y = 4 and 2x + y = 5\n",
    "A = np.array([[1, 1], [2, 1]])\n",
    "b = np.array([4, 5])\n",
    "intersection1 = np.linalg.solve(A, b)\n",
    "\n",
    "# 2. Intersection of x + y = 4 and x = 0\n",
    "intersection2 = [0, 4]\n",
    "\n",
    "# 3. Intersection of 2x + y = 5 and y = 0\n",
    "intersection3 = [2.5, 0]\n",
    "\n",
    "# 4. Origin\n",
    "intersection4 = [0, 0]\n",
    "\n",
    "# Highlight the vertices\n",
    "vertices = [intersection1, intersection2, intersection3, intersection4]\n",
    "for vertex in vertices:\n",
    "    plt.plot(vertex[0], vertex[1], 'ro', markersize=8, label=f'{vertex[0], vertex[1]}')\n",
    "\n",
    "plt.text(intersection2[0], intersection2[1], 'Optimal:(0, 4)', fontsize=12, color='black', ha='center')\n",
    "\n",
    "# Add labels and title\n",
    "plt.xlim(-3, 6)\n",
    "plt.ylim(-3, 6)\n",
    "plt.xlabel('x')\n",
    "plt.ylabel('y')\n",
    "plt.title('Linear Programming Feasible Region')\n",
    "plt.axhline(0, color='black', lw=1)\n",
    "plt.axvline(0, color='black', lw=1)\n",
    "plt.legend()\n",
    "\n",
    "# Add title for the feasible region\n",
    "plt.text(1, 1, 'Feasible Region', fontsize=12, color='black', ha='center')\n",
    "\n",
    "# Show plot\n",
    "plt.grid(True)\n",
    "plt.show()"
   ]
  },
  {
   "cell_type": "markdown",
   "id": "21c06033",
   "metadata": {},
   "source": [
    "## 习题1"
   ]
  },
  {
   "cell_type": "markdown",
   "id": "69a77dcf",
   "metadata": {},
   "source": [
    "某机床厂生产甲、乙两种机床，每台销售后的利润分别为 4000 元和 3000 元。生产甲机床需用 \\(A\\)、\\(B\\) 刀具加工，加工时间分别为每台 2 小时和 1 小时；生产乙机床需用 \\(A\\)、\\(B\\)、\\(C\\) 三种刀具加工，加工时间分别为每台 1 小时、1 小时和 1 小时。若每天可用于加工的刀具时数分别为 \\(A\\) 刀具 10 小时，\\(B\\) 刀具 8 小时和 \\(C\\) 刀具 7 小时，问该厂应生产甲、乙机床各几台，才能使总利润最大？"
   ]
  },
  {
   "cell_type": "markdown",
   "id": "4e23426d",
   "metadata": {},
   "source": [
    "目标函数为：\n",
    "\n",
    "$$ \n",
    "\\text{max } z = 4000x_1 + 3000x_2 \\tag{3-1}  \n",
    "$$ \n",
    "\n",
    "约束条件为：  \n",
    "$$ \n",
    "\\begin{aligned}  \n",
    "2x_1 + x_2 &\\leq 10 \\tag{3-2} \\\\\n",
    "x_1 + x_2 &\\leq 8   \\\\\n",
    "x_2 &\\leq 7 \\\\\n",
    "x_1, x_2 &\\geq 0  \n",
    "\\end{aligned}  \n",
    "$$\n",
    "\n"
   ]
  },
  {
   "cell_type": "code",
   "execution_count": null,
   "id": "96489640",
   "metadata": {},
   "outputs": [],
   "source": [
    "from pulp import *\n",
    "\n",
    "def solve_machine_production_lp():\n",
    "    # 定义问题：最大化目标函数\n",
    "    # problem = LpProblem(...)\n",
    "\n",
    "    # 定义决策变量：甲机床 x、乙机床 y\n",
    "    # x = LpVariable(...)\n",
    "    # y = LpVariable(...)\n",
    "\n",
    "    # 定义目标函数\n",
    "    #  problem += ...\n",
    "\n",
    "    # 添加约束条件\n",
    "    # problem += ...\n",
    "    # problem += ...\n",
    "    # problem += ...\n",
    "\n",
    "    # 求解\n",
    "    # problem...\n",
    "\n",
    "    # 输出结果\n",
    "    # status = ...\n",
    "    # optimal_x = ...\n",
    "    # optimal_y = ...\n",
    "    # optimal_profit = ...\n",
    "\n",
    "    # 大约需要 11 行代码\n",
    "    # 你编写的代码从这里开始\n",
    "\n",
    "\n",
    "\n",
    "\n",
    "\n",
    "\n",
    "\n",
    "    # 你编写的代码到这里结束\n",
    "\n",
    "    return {\n",
    "        'status': status,\n",
    "        '甲机床生产数量': optimal_x,\n",
    "        '乙机床生产数量': optimal_y,\n",
    "        '总利润': optimal_profit\n",
    "    }"
   ]
  },
  {
   "cell_type": "code",
   "execution_count": null,
   "id": "44f423c3",
   "metadata": {},
   "outputs": [],
   "source": [
    "solve_machine_production_lp()\n",
    "\n",
    "# 输出结果应该为：\n",
    "#  {'status': 'Optimal', '甲机床生产数量': 2.0, '乙机床生产数量': 6.0, '总利润': 26000}"
   ]
  },
  {
   "cell_type": "code",
   "execution_count": null,
   "id": "70cdd5b9",
   "metadata": {},
   "outputs": [],
   "source": [
    "# 测试你的函数\n",
    "from testset3 import test_solve_machine_production_lp\n",
    "test_solve_machine_production_lp(solve_machine_production_lp)"
   ]
  },
  {
   "cell_type": "markdown",
   "id": "6862dc1a",
   "metadata": {},
   "source": [
    "## 习题2"
   ]
  },
  {
   "cell_type": "markdown",
   "id": "d49972aa",
   "metadata": {},
   "source": [
    "求解如下形式的一般线性规划问题：\n",
    "\n",
    "$$\n",
    "\\begin{array}{rll}\n",
    "\\max & c_{0}x_0 + \\cdots + c_{n-1}x_{n-1} \\\\[8pt]\n",
    "\\text{s.t.} & a_{0,0}x_0 + \\cdots + a_{0,n-1}x_{n-1} & \\leq b_0 \\\\[8pt]\n",
    "& \\vdots & \\\\[8pt]\n",
    "& a_{m-1,0}x_0 + \\cdots + a_{m-1,n-1}x_{n-1} & \\leq b_{m-1}\n",
    "\\end{array}\n",
    "$$\n",
    "\n",
    "注意：为了方便 Python 程序员，我们的索引从 0 开始。\n",
    "\n",
    "该线性规划问题有 $n$ 个决策变量 $x_0, x_1, \\ldots, x_{n-1}$，以及 $m$ 个约束。\n",
    "\n",
    "问题的数据将以三个列表的形式给出：\n",
    "\n",
    "- **list_c** 是一个大小为 `n` 的列表，包含目标函数的系数。  \n",
    "  示例：  \n",
    "  ```\n",
    "  list_c: [c0, ..., cn-1]\n",
    "  ```\n",
    "\n",
    "- **list_a** 是一个包含 $m$ 个列表的列表，其中每个子列表的大小为 $n$，表示所有约束的系数。  \n",
    "  示例：  \n",
    "  ```\n",
    "  list_a: [ [a00, a01, ..., a0,n-1], \n",
    "            [a10, a11, ..., a1,n-1], \n",
    "            ...,\n",
    "            [am-1,0, ..., am-1,n-1] ]\n",
    "  ```\n",
    "\n",
    "- **list_b** 是一个大小为 `m` 的列表，包含各不等式右侧的常数项。  \n",
    "  示例：  \n",
    "  ```\n",
    "  list_b: [b0, ..., bm-1]\n",
    "  ```\n",
    "\n",
    "你的目标如下：\n",
    "\n",
    "- 给定 `list_c`、`list_a` 和 `list_b`，使用 PULP 设置这个线性规划问题；\n",
    "- 求解该问题；\n",
    "- 返回结果。结果由一个包含三部分的元组构成：(is_feasible, is_bounded, opt_sol)。\n",
    "  - **is_feasible** 是一个布尔值：如果线性规划问题可行，则为 `True`，否则为 `False`。\n",
    "  - **is_bounded** 是一个布尔值：如果线性规划问题有界，则为 `True`，否则为 `False`。当且仅当 **is_feasible** 为 `True` 时，这个值才有意义。如果 **is_feasible** 为 `False`，此值可以是任意的。\n",
    "  - **opt_sol** 是一个包含 `n` 个决策变量取值的列表，即 $x_0, x_1, \\ldots, x_{n-1}$。当且仅当 **is_feasible** 和 **is_bounded** 均为 `True` 时，**opt_sol** 的值才有意义。如果不满足这些条件，其值可以是任意的。\n",
    "```\n"
   ]
  },
  {
   "cell_type": "code",
   "execution_count": null,
   "id": "74aafbb8",
   "metadata": {},
   "outputs": [],
   "source": [
    "from pulp import *\n",
    "\n",
    "def formulate_lp_problem(m, n, list_c, list_a, list_b):\n",
    "    # Assert that the data is compatible.\n",
    "    assert n > 0\n",
    "    assert m > 0\n",
    "    assert len(list_c) == n\n",
    "    assert len(list_a) == len(list_b) and len(list_b) == m\n",
    "    assert all(len(l) == n for l in list_a)\n",
    "\n",
    "    ## 1. 创建一个线性规划问题\n",
    "    # problem = LpProblem(...)\n",
    "    ## 2. 创建决策变量\n",
    "    # decision_vars = ...\n",
    "    ## 3. 创建目标函数\n",
    "    # object_function = ...\n",
    "    ## 4. 添加约束条件\n",
    "    # for ... :   #      共有m个约束条件\n",
    "    #     expression = ...  # 生成约束条件的表达式\n",
    "    #     problem +=  ...  # 添加约束条件\n",
    "    ## 5. 求解\n",
    "    # problem.solve()\n",
    "    ## 6. 提取解\n",
    "    # sols = ...\n",
    "    # isInfeasible = ...\n",
    "    # isUnbounded = ...\n",
    "    # 大约需要 10 行代码\n",
    "\n",
    "    # 你编写的代码从这里开始\n",
    "\n",
    "\n",
    "\n",
    "\n",
    "\n",
    "    # 你编写的代码到这里结束\n",
    "\n",
    "    ## 返回结果\n",
    "    return isInfeasible, isUnbounded, sols"
   ]
  },
  {
   "cell_type": "code",
   "execution_count": null,
   "id": "86c5eeb4",
   "metadata": {},
   "outputs": [],
   "source": [
    "from testset3 import test_formulate_lp_problem\n",
    "test_formulate_lp_problem(formulate_lp_problem)"
   ]
  },
  {
   "cell_type": "markdown",
   "id": "266d241d",
   "metadata": {},
   "source": [
    "## 习题3"
   ]
  },
  {
   "cell_type": "markdown",
   "id": "133093a5",
   "metadata": {},
   "source": [
    "欢迎来到金融世界！\n",
    "我们对投资一个多样化的股票组合感兴趣，希望最大化投资的总回报(利润/收益)，同时我们也希望投资是多样化的，且市盈率(PE)不能太高等，以降低风险。在这个问题中，我们将使用线性规划来构建投资组合。\n",
    "\n",
    "- 给定可用的总预算为 $B > 0$\n",
    "- 我们还获得了一系列可能的股票及其相关数据。每个投资的数据包括：\n",
    "  - 每项投资的预期回报\n",
    "  - 股票的当前单位价格\n",
    "  - 股票的最近单位收益\n",
    "  - 投资的市场类别：大宗商品、科技、医疗保健\n",
    "\n",
    "你的目标是根据给定数据制定一个线性规划问题，以最大化总体预期回报，同时需要满足以下约束：\n",
    "  - 投资总成本必须小于或等于 $B$\n",
    "  - 只允许购买非负数量($\\geq 0$)的每种股票(不允许卖空)。你可以购买股票的零散份额(这很有趣，但很多在线交易所都允许这样做)\n",
    "  - 投资必须平衡：\n",
    "    - 每个市场类别的投资额应小于或等于总预算的 2/3\n",
    "    - 每个市场类别的投资额应至少为总预算的 1/6\n",
    "  - 整体投资组合的市盈率不应超过 15\n",
    "    - 市盈率计算公式：市盈率 = 股票的当前单位价格 / 股票的单位收益\n",
    "    - 投资组合的市盈率 = 总的投资金额 / 总的收益(按照当前每股收益计算)\n",
    "\n",
    "假设我们有以下六个投资，ID 为 1-6，数据(这些数据纯属虚构)如下表所示：\n",
    "\n",
    "$$\\begin{array}{|l|l|l|l|l|l|}\n",
    "\\hline\n",
    "\\text{ID} & \\text{股票} & \\text{单位价格} & \\text{单位预期回报} & \\text{每股收益} & \\text{类别} \\\\ \n",
    "\\hline \n",
    "1 & \\text{IBM} & 129 & 25 & 1.9 & \\text{科技} \\\\ \n",
    "2 & \\text{META} & 286 & 20 & 8.1 & \\text{科技} \\\\ \n",
    "3 & \\text{阿斯利康} & 72.29 & 3 & 1.5 & \\text{医疗} \\\\ \n",
    "4 & \\text{辉瑞} & 38 & 1.5 & 5 & \\text{医疗} \\\\ \n",
    "5 & \\text{联合利华} & 52 & 3 & 2.5 & \\text{大宗商品} \\\\ \n",
    "6 & \\text{宝洁} & 148 & 4.50 & 5.2 & \\text{大宗商品}\\\\\n",
    "\\hline\n",
    "\\end{array}$$\n",
    "\n",
    "令 $x_1, \\ldots, x_6$ 为决策变量，其中 $x_i$ 表示购买 ID 为 $i$ 的股票的数量。\n",
    "\n",
    "请用 $x_1, \\ldots, x_6$ 写出目标函数表达式。同时，说明我们是要最大化还是最小化它。将下面所有的数学公式中的问号改成具体的数字。"
   ]
  },
  {
   "cell_type": "markdown",
   "id": "7da1716a",
   "metadata": {},
   "source": [
    "$$\n",
    "\\max (?x_1 +?x_2 +?x_3 + ?x_4 + ?x_5 + ?x_6)\n",
    "$$"
   ]
  },
  {
   "cell_type": "markdown",
   "id": "216ec08a",
   "metadata": {},
   "source": [
    "使用数学公式写下约束总的投资额必须小于等于 $B = 10,000$."
   ]
  },
  {
   "cell_type": "markdown",
   "id": "0fd4ae74",
   "metadata": {},
   "source": [
    "$$\n",
    "?x_1 + ?x_2 + ?x_3 + ?x_4 +?x_5 + ?x_6 <= 10000\n",
    "$$"
   ]
  },
  {
   "cell_type": "markdown",
   "id": "558cfef3",
   "metadata": {},
   "source": [
    "写下约束每个类别的总投资额不能超过预算的 2/3。你应该写下三个约束，每个类别一个。"
   ]
  },
  {
   "cell_type": "markdown",
   "id": "6180ce38",
   "metadata": {},
   "source": [
    "$\n",
    "？x_1 +？x_2 <= 2/3 * 10000 \n",
    "$\n",
    "\n",
    "$\n",
    "?x_3 + ?x_4 <=2/3 *10000\n",
    "$\n",
    "\n",
    "$\n",
    "?x_5 + ?x_6 <= 2/3*10000\n",
    "$"
   ]
  },
  {
   "cell_type": "markdown",
   "id": "0d9cc5ce",
   "metadata": {},
   "source": [
    "写下约束，每个类别的总投资额不能低于预算的 1/6。你应该写下三个约束，每个类别一个。"
   ]
  },
  {
   "cell_type": "markdown",
   "id": "3b102a65",
   "metadata": {},
   "source": [
    "$\n",
    "?x_1 + ?x_2 >= 1/6 * 10000 \n",
    "$\n",
    "\n",
    "$\n",
    "?x_3 + ?x_4 >= 1/6 *10000\n",
    "$\n",
    "\n",
    "$\n",
    "?x_5 + ?x_6 >= 1/6 *10000\n",
    "$"
   ]
  },
  {
   "cell_type": "markdown",
   "id": "77c6d325",
   "metadata": {},
   "source": [
    "投资组合的总成本表达式是："
   ]
  },
  {
   "cell_type": "markdown",
   "id": "32b5a6cc",
   "metadata": {},
   "source": [
    "$\n",
    "?x_1 + ?x_2 + ?x_3 + ?x_4 + ?x_5 + ?x_6\n",
    "$"
   ]
  },
  {
   "cell_type": "markdown",
   "id": "da969dc8",
   "metadata": {},
   "source": [
    "投资组合的总收益的表达式是："
   ]
  },
  {
   "cell_type": "markdown",
   "id": "a9675b17",
   "metadata": {},
   "source": [
    "$\n",
    "?x_1 + ?x_2 + ?x_3 + ?x_4 + ?x_5 +?x_6\n",
    "$"
   ]
  },
  {
   "cell_type": "markdown",
   "id": "aa1e217a",
   "metadata": {},
   "source": [
    "我们希望强制执行的约束是，投资组合的总市盈率不能超过 15。将约束写成\n",
    "\n",
    "$$ \\text{Price} \\leq 15 \\times \\text{Earnings} $$\n",
    "\n",
    "将上面的表达式代入上面的公式："
   ]
  },
  {
   "cell_type": "markdown",
   "id": "5367d308",
   "metadata": {},
   "source": [
    "$$\n",
    " ...  <= 15* (  ... )\n",
    "$$"
   ]
  },
  {
   "cell_type": "markdown",
   "id": "749f5f52",
   "metadata": {},
   "source": [
    "使用``pulp``库求解这个问题，并返回一个包含三个元素的元组，分别是：(is_feasible, is_bounded, opt_sol)。"
   ]
  },
  {
   "cell_type": "code",
   "execution_count": null,
   "id": "b528e259",
   "metadata": {},
   "outputs": [],
   "source": [
    "from pulp import *\n",
    "\n",
    "def solve_investment_problem():\n",
    "    # 定义问题：最大化目标函数\n",
    "    # problem = LpProblem(...)\n",
    "\n",
    "    # 定义决策变量：6只股票投资的股数\n",
    "    # x1 = LpVariable(...)\n",
    "    # x2 = LpVariable(...)\n",
    "    # ...\n",
    "\n",
    "    # 定义目标函数\n",
    "    #  problem += ...\n",
    "\n",
    "    # 投资总额必须等于 100000的约束\n",
    "    # problem += ...\n",
    "\n",
    "    # 每个类别的股票不能超过投资总额的2/3的约束\n",
    "    # problem += ...\n",
    "    # problem += ...\n",
    "    # problem += ...\n",
    "\n",
    "    # 每个类别不能少于投资综合的1/6的约束\n",
    "    # problem += ...\n",
    "    # problem += ...\n",
    "    # problem += ...\n",
    "\n",
    "    # 投资组合市盈率不能超过 15 的约束\n",
    "    # problem += ...\n",
    "\n",
    "    # 求解\n",
    "    # problem...\n",
    "\n",
    "    # 输出结果\n",
    "    # status = ...\n",
    "    # optimal_x1 = ...\n",
    "    # optimal_x2 = ...\n",
    "    # ...\n",
    "    # optimal_x6 = ...\n",
    "    # optimal_profit = ...\n",
    "\n",
    "    # 大约需要 26 行代码\n",
    "    # 你编写的代码从这里开始\n",
    "\n",
    "\n",
    "    # 你编写的代码到这里结束\n",
    "\n",
    "    result = {\n",
    "        'status': status,\n",
    "        'x1': optimal_x1,\n",
    "        'x2': optimal_x2,\n",
    "        'x3': optimal_x3,\n",
    "        'x4': optimal_x4,\n",
    "        'x5': optimal_x5,\n",
    "        'x6': optimal_x6,\n",
    "        'profit': optimal_profit\n",
    "    }\n",
    "    return result"
   ]
  },
  {
   "cell_type": "code",
   "execution_count": null,
   "id": "672e4749",
   "metadata": {},
   "outputs": [],
   "source": [
    "solve_investment_problem()\n",
    "# 输出结果应该为：\n",
    "# {'status': 'Optimal',\n",
    "#  'x1': 33.830665,\n",
    "#  'x2': 0.0,\n",
    "#  'x3': 0.0,\n",
    "#  'x4': 104.45204,\n",
    "#  'x5': 32.051282,\n",
    "#  'x6': 0.0,\n",
    "#  'profit': 1098.598531}"
   ]
  },
  {
   "cell_type": "code",
   "execution_count": null,
   "id": "f536efa1",
   "metadata": {},
   "outputs": [],
   "source": [
    "# 测试习题3\n",
    "from testset3 import test_solve_investment_problem\n",
    "test_solve_investment_problem(solve_investment_problem)"
   ]
  },
  {
   "cell_type": "markdown",
   "id": "fc0dbd2d",
   "metadata": {},
   "source": [
    "## 实验自动评分"
   ]
  },
  {
   "cell_type": "markdown",
   "id": "fdaa0bf5",
   "metadata": {},
   "source": [
    "运行下面的代码进行实验自动评分"
   ]
  },
  {
   "cell_type": "code",
   "execution_count": null,
   "id": "661f9325",
   "metadata": {},
   "outputs": [],
   "source": [
    "from testset3 import grade_all_tests\n",
    "grade_all_tests()"
   ]
  },
  {
   "cell_type": "markdown",
   "id": "6c88677a",
   "metadata": {},
   "source": [
    "## 实验总结"
   ]
  },
  {
   "cell_type": "markdown",
   "id": "627f6e64",
   "metadata": {},
   "source": [
    "请尽量使用自己的语言回答下面的问题。"
   ]
  },
  {
   "cell_type": "markdown",
   "id": "f7e3a0d9",
   "metadata": {},
   "source": [
    "问题一： 线性规划问题的基本结构是什么？应该包含哪些部分？条件约束部分满足什么条件，这个问题才能成为一个线性规划问题？"
   ]
  },
  {
   "cell_type": "markdown",
   "id": "202a0adb",
   "metadata": {},
   "source": []
  },
  {
   "cell_type": "markdown",
   "id": "08bd4b27",
   "metadata": {},
   "source": [
    "问题2： 在解决线性规划问题时，最后的结果的状态有哪些情况？"
   ]
  },
  {
   "cell_type": "markdown",
   "id": "43166a28",
   "metadata": {},
   "source": []
  },
  {
   "cell_type": "markdown",
   "id": "eca654af",
   "metadata": {},
   "source": [
    "## 生成实验报告"
   ]
  },
  {
   "cell_type": "markdown",
   "id": "22e26844",
   "metadata": {},
   "source": [
    "将实验报告pdf文件提交到对应的班级和实验的腾讯文档收集表:[文档汇总地址](https://docs.qq.com/doc/DWUxJanVwYXFpZmF2)"
   ]
  },
  {
   "cell_type": "code",
   "execution_count": null,
   "id": "9ada59fc",
   "metadata": {},
   "outputs": [],
   "source": [
    "import sys\n",
    "import os\n",
    "from testset3 import grade_all_tests\n",
    "\n",
    "# Add the root directory (parent directory of `util`) to sys.path\n",
    "root_dir = os.path.abspath(\"..\")  # Adjust based on the structure\n",
    "sys.path.append(root_dir)\n",
    "\n",
    "from util import notebook2pdf, notebook_info_extractor\n",
    "\n",
    "notebook_file = \"实验3-线性规划.ipynb\"\n",
    "stu_info  = notebook_info_extractor.extract_from_ipynb(notebook_file)\n",
    "stu_grade = grade_all_tests()\n",
    "html_file = \"notebook3.html\"\n",
    "pdf_file = f\"{stu_info['class_id']}-{stu_info['student_id']}-{stu_info['name']}-实验报告3-{stu_grade}.pdf\"\n",
    "\n",
    "notebook2pdf.notebook_to_html(notebook_file, html_file)\n",
    "notebook2pdf.html_to_pdf(html_file, pdf_file)"
   ]
  }
 ],
 "metadata": {
  "kernelspec": {
   "display_name": "Python 3",
   "language": "python",
   "name": "python3"
  },
  "language_info": {
   "codemirror_mode": {
    "name": "ipython",
    "version": 3
   },
   "file_extension": ".py",
   "mimetype": "text/x-python",
   "name": "python",
   "nbconvert_exporter": "python",
   "pygments_lexer": "ipython3",
   "version": "3.12.0"
  }
 },
 "nbformat": 4,
 "nbformat_minor": 5
}
