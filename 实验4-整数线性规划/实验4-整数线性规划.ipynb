{
 "cells": [
  {
   "cell_type": "markdown",
   "id": "db73f9b1",
   "metadata": {},
   "source": [
    "# 实验四-整数线性规划"
   ]
  },
  {
   "cell_type": "markdown",
   "id": "cb02cb30",
   "metadata": {},
   "source": [
    "<table style=\"margin: 0 auto; width: 30%; border-collapse: collapse; border: 1px solid black;\" data-id=\"student-info\">  \n",
    "    <colgroup>  \n",
    "        <col style=\"width: 35%;\">  \n",
    "        <col style=\"width: 65%;\">  \n",
    "    </colgroup>  \n",
    "    <tr>  \n",
    "        <td style=\"border: 1px solid black;\">班级</td> <td style=\"border: 1px solid black;\">未填写</td>  \n",
    "    </tr>  \n",
    "    <tr>  \n",
    "        <td style=\"border: 1px solid black;\">学号</td> <td style=\"border: 1px solid black;\">未填写</td>  \n",
    "    </tr>  \n",
    "    <tr>  \n",
    "        <td style=\"border: 1px solid black;\">姓名</td> <td style=\"border: 1px solid black;\">未填写</td>  \n",
    "    </tr>  \n",
    "    <tr>  \n",
    "        <td style=\"border: 1px solid black;\">Email</td> <td style=\"border: 1px solid black;\">未填写</td>  \n",
    "    </tr>  \n",
    "</table>"
   ]
  },
  {
   "cell_type": "markdown",
   "id": "57bb7f52",
   "metadata": {},
   "source": [
    "- 什么是整数线性规划问题\n",
    "- 整数线性规划问题的范例\n",
    "- 使用`pulp`求解整数线性规划问题"
   ]
  },
  {
   "cell_type": "markdown",
   "id": "a6eb92c9",
   "metadata": {},
   "source": [
    "## 实验步骤"
   ]
  },
  {
   "cell_type": "markdown",
   "id": "44ba1a84",
   "metadata": {},
   "source": [
    "1. 打开Vscode,选择\"实验一-Python变量.ipynb\",在Vscode右上角点击Select Kernel, 然后选择base(Python 3.x.x)。\n",
    "2. 从上至下按照顺序执行该文件中的Python代码。\n",
    "3. 阅读实验给出的实验指导和代码范例。\n",
    "4. 按照实验指导完成实验习题。\n",
    "5. 在习题后面的单元格执行测试代码，对代码进行测试。\n",
    "6. 在实验总结部分，使用自己语言完成主观题目1和2的填写。\n",
    "7. 生成实验报告，并通过腾讯在线收集表提交。(注意所有的习题和习题的测试代码必须要运行一次, 否则无法生成实验报告)"
   ]
  },
  {
   "cell_type": "markdown",
   "id": "8997ea72",
   "metadata": {},
   "source": [
    "## 实验注意事项"
   ]
  },
  {
   "cell_type": "markdown",
   "id": "ec5f2c27",
   "metadata": {},
   "source": [
    "1. 请在指定的地方按照实验指导要求来编写代码。\n",
    "2. 请按照实验指导要求使用指定的变量名或函数名，不要使用其他的名字。\n",
    "3. 不要添加任何额外的语句。\n",
    "4. 不要添加任何额外的代码单元格。\n",
    "5. 不要在不需要的地方修改作业代码，比如创建额外的变量，修改测试文件中的代码。\n",
    "6. 实验指导中的`...`表示需要你补充代码的部分，其他部分的代码不用修改。\n",
    "7. 代码提示中会给出估计的代码行数，例如大约1行代码，估计的代码行数只是一个参考值，实际编写时可能会有出入，请根据实际情况来编写。\n",
    "8. 请独立完成作业，禁止抄袭，发现抄袭行为成绩记零分"
   ]
  },
  {
   "cell_type": "markdown",
   "id": "88929489",
   "metadata": {},
   "source": [
    "## 什么是整数线性规划问题"
   ]
  },
  {
   "cell_type": "markdown",
   "id": "a5c1c8ad",
   "metadata": {},
   "source": [
    "整数线性规划(Integer Linear Programming, ILP)是线性规划的一种特殊形式，其主要特点是:\n",
    "\n",
    "- 目标函数是线性的\n",
    "- 约束条件也是线性的\n",
    "- 所有变量必须是整数\n",
    "\n",
    "与普通线性规划的区别在于： \n",
    "\n",
    "- 普通线性规划允许变量取实数值, 决策变量的`cat`参数使用默认值`Continuous`\n",
    "  - 例如： `x = LpVariable('x', cat='Continuous')`\n",
    "- 整数线性规划要求变量只能取整数值, 决策变量的`cat`参数为`Binary`或者`Integer`\n",
    "  - 决策变量只能是整数： `x = LpVariable('x', cat='Integer')`\n",
    "  - 决策变量只能是0或者1： `x = LpVariable('x', cat='Binary')`\n",
    "\n",
    "整数线性规划比普通线性规划更难求解，属于NP难问题[什么是NP难问题](https://baike.baidu.com/item/NP%E5%AE%8C%E5%85%A8%E9%97%AE%E9%A2%98)。整数线性规划问题也可以使用`pulp`库来求解，但是求解速度可能会很慢。"
   ]
  },
  {
   "cell_type": "markdown",
   "id": "cb23ef77",
   "metadata": {},
   "source": [
    "## 糖果购买问题（背包问题的变种）"
   ]
  },
  {
   "cell_type": "markdown",
   "id": "ad8e5178",
   "metadata": {},
   "source": [
    "我们之前已经接触过 PuLP 作为求解线性规划的软件包。事实上，PuLP 也能有效解决整数线性规划问题。我们将通过几个案例来介绍如何使用 PuLP 建立和求解整数线性规划问题，其基本流程与解决线性规划问题非常相似，只需要确保将变量声明为整数或二元变量即可。\n",
    "\n",
    "\n",
    "你在一家糖果店希望购买总重 100 克的糖果。我们需要选择购买的糖果类型（可以将其视为饮食问题的整数线性规划版本）。商店提供 $n$ 种不同的糖果品种 $D_1, \\ldots, D_n$，选择时需要满足以下条件：\n",
    "\n",
    "- 每种糖果 $D_j$ 最多可选 $k_j$ 个</li>\n",
    "- 单颗 $D_j$ 类糖果的售价为 $p_j$</li>\n",
    "- 单颗 $D_j$ 类糖果的热量为 $c_j$ 卡路里</li>\n",
    "- 目标是最小化购买总成本</li>\n",
    "- 糖果礼盒最多容纳 $N$ 颗糖，必须确保所有糖果能装入礼盒</li>\n",
    "- 总卡路里摄入需满足最小值 $C_{\\min}$ 且不超过最大值 $C_{\\max}$</li>\n",
    "\n",
    "\n",
    "由于必须选择整颗糖果，这个问题属于整数线性规划问题。已知参数包括：\n",
    "- $n$：糖果种类数\n",
    "- $(k_1, \\ldots, k_n)$：各类糖果的最大可选数量\n",
    "- $(p_1, \\ldots, p_n)$：价格表\n",
    "- $(c_1, \\ldots, c_n)$：单位热量表\n",
    "- $N$：礼盒容量限制\n",
    "- $C_{\\min}$ 和 $C_{\\max}$：卡路里上下限\n",
    "\n",
    "本问题决策变量为\n",
    "$$x_1, \\ldots, x_n$$ \n",
    "其中 $x_i$ 表示选择的第 $i$ 类糖果数量。各变量需满足：\n",
    "$$ 0 \\leq x_i \\leq k_i,\\ i = 1, \\ldots, n $$\n",
    "总数量约束：\n",
    "$$ \\sum_{i=1}^n x_i \\leq N $$\n",
    "热量约束：\n",
    "$$ C_{\\min} \\leq \\underbrace{\\sum_{i=1}^n c_i x_i}_{\\text{总摄入热量}} \\leq C_{\\max} $$\n",
    "\n",
    "最终构建的整数线性规划模型为：\n",
    "$$\\begin{array}{rll}\n",
    "\\min& \\sum_{j=1}^n p_j x_j & \\leftarrow\\ \\text{最小化购买总成本} \\\\ \n",
    "\\mathsf{s.t.} & 0 \\leq x_j \\leq k_j & \\leftarrow\\ \\text{单类糖果数量限制} \\\\ \n",
    "& \\sum_{j=1}^n x_j \\leq N & \\leftarrow\\ \\text{礼盒容量限制}\\\\ \n",
    "& C_{\\min} \\leq \\sum_{i=1}^n c_i x_i  \\leq C_{\\max} & \\leftarrow\\ \\text{热量区间限制} \\\\ \n",
    "& x_1, \\ldots, x_n \\in \\mathbb{Z} & \\leftarrow\\ \\text{整数约束}\\\\\n",
    "\\end{array}$$\n",
    "\n",
    "接下来使用`pulp`库来求解整数线性规划问题。"
   ]
  },
  {
   "cell_type": "code",
   "execution_count": null,
   "id": "3b9e4da4",
   "metadata": {},
   "outputs": [],
   "source": [
    "from pulp import *\n",
    "\n",
    "def solve_candy_knapsack(n, candy_number_limits, candy_prices, candy_calories, N, Cmin, Cmax):\n",
    "    assert len(candy_number_limits) == n, 'size mismatch'\n",
    "    assert len(candy_prices) == n, 'size mismatch for prices'\n",
    "    assert len(candy_calories) == n, 'size mismatch for list of calories'\n",
    "    assert N >= 1, 'total number of candies per box must be 1 or more'\n",
    "    assert Cmin <= Cmax, 'minimum calories is greater than the maximum calories'\n",
    "\n",
    "    # 目标函数：最小化购买糖果的成本\n",
    "    prob = LpProblem('Candy Knapsack', LpMinimize)\n",
    "\n",
    "    # 添加n个决策变量，每个变量代表购买某种糖果的数量，cat参数为'Integer', 表示变量为整数\n",
    "    dVars = [LpVariable(f'x{i}',lowBound=0, upBound=ki, cat='Integer')\n",
    "                for (i, ki) in enumerate(candy_number_limits)]\n",
    "\n",
    "    # 设置目标函数，计算购买糖果的总成本，使用lpSum函数来计算\n",
    "    prob += lpSum([pj*xj for (pj,xj) in zip(candy_prices, dVars)])\n",
    "\n",
    "    # 添加约束，所有糖果的数量不超过N\n",
    "    prob += lpSum(dVars) <= N\n",
    "\n",
    "    # 计算购买糖果的总卡路里，添加约束，总卡路里在[Cmin, Cmax]之间\n",
    "    calories_of_candies = lpSum([cj*xj for (cj,xj) in zip(candy_calories, dVars)])\n",
    "    prob += calories_of_candies <= Cmax\n",
    "    prob += calories_of_candies >= Cmin\n",
    "\n",
    "    # 求解问题\n",
    "    status = prob.solve()\n",
    "\n",
    "    # 输出结果\n",
    "    if status == constants.LpStatusInfeasible:\n",
    "        print('问题无解，无法找到满足约束条件的解')\n",
    "        return\n",
    "    elif status == constants.LpStatusUnbounded:\n",
    "        print('问题无界')\n",
    "        return\n",
    "    else:\n",
    "        assert status == constants.LpStatusOptimal, 'Something went wrong while solving since status is either undefined or unsolved'\n",
    "        # extract values\n",
    "        print('成功: 找到了最优解')\n",
    "        solution_values = [x.varValue for x in dVars]\n",
    "        for (j, svj) in enumerate(solution_values):\n",
    "            print(f'\\t 糖果种类 # {j}: {svj} 个糖果')\n",
    "\n",
    "        print(f'总成本: {sum([(pj*svj) for (pj, svj) in zip(candy_prices, solution_values)])}')\n",
    "        print(f'总的卡路里: {sum([cj*xj for (cj,xj) in zip(candy_calories, solution_values)])}')"
   ]
  },
  {
   "cell_type": "code",
   "execution_count": null,
   "id": "6bfea27d",
   "metadata": {},
   "outputs": [],
   "source": [
    "n = 5\n",
    "candy_number_limits = [10, 12, 10, 11, 10]\n",
    "candy_prices = [0.2, 0.5, 0.1, 0.4, 0.8]\n",
    "candy_calories = [25, 12, 22, 14, 33]\n",
    "solve_candy_knapsack(5, candy_number_limits, candy_prices, candy_calories, 12, 250, 500)"
   ]
  },
  {
   "cell_type": "markdown",
   "id": "52bdb328",
   "metadata": {},
   "source": [
    "## 习题1"
   ]
  },
  {
   "cell_type": "markdown",
   "id": "d49972aa",
   "metadata": {},
   "source": [
    "工人指派问题\n",
    "\n",
    "| 工人 | A   | B   | C   | D   |\n",
    "|------|-----|-----|-----|-----|\n",
    "| 甲   | 15  | 18  | 21  | 24  |\n",
    "| 乙   | 19  | 23  | 22  | 18  |\n",
    "| 丙   | 26  | 17  | 16  | 19  |\n",
    "| 丁   | 19  | 21  | 23  | 17  |\n",
    "\n",
    "问题：  \n",
    "问分别指派哪名工人去完成哪一项工作（每个工人只能被指定一项工作），可使总的消耗时间为最小？总的消耗时间最少是多少？  \n",
    "\n",
    "提示1： 该问题需要16个决策变量，4个工人和4个工作，每个决策变量的取值为0或1。可以使用4x4的矩阵来保存这些决策变量。"
   ]
  },
  {
   "cell_type": "code",
   "execution_count": null,
   "id": "433a7b49",
   "metadata": {},
   "outputs": [],
   "source": [
    "from pulp import *\n",
    "\n",
    "def solve_worker_assignment_lp():\n",
    "\n",
    "    # 创建线性规划问题\n",
    "    # problem = LpProblem(...)\n",
    "\n",
    "    # 创建16个决策变量\n",
    "    # x =   ...     #  可以使用4x4的矩阵来保存这些决策变量，cat参数为Binary（表示只能为0或者1）\n",
    "\n",
    "    # 添加目标函数\n",
    "    # problem += ...\n",
    "\n",
    "    # 添加约束条件，每个工人只能被分配一项任务，每项任务必须分配一个工人\n",
    "    # problem += ...\n",
    "\n",
    "    # 求解问题\n",
    "    # problem.solve()\n",
    "\n",
    "    # 输出结果\n",
    "    # status = ...\n",
    "    # total_time = ...   # 计算最小的消耗时间\n",
    "\n",
    "    ## 你编写的代码从这里开始\n",
    "\n",
    "\n",
    "\n",
    "\n",
    "    ## 你编写的代码到这里结束\n",
    "\n",
    "    result = {\n",
    "        'status': status,\n",
    "        'total_time': total_time\n",
    "    }\n",
    "    return result"
   ]
  },
  {
   "cell_type": "code",
   "execution_count": null,
   "id": "0d8d889f",
   "metadata": {},
   "outputs": [],
   "source": [
    "from testset4 import test_solve_worker_assignment_lp\n",
    "test_solve_worker_assignment_lp(solve_worker_assignment_lp)"
   ]
  },
  {
   "cell_type": "markdown",
   "id": "b2b3a2c1",
   "metadata": {},
   "source": [
    "## 习题2"
   ]
  },
  {
   "cell_type": "markdown",
   "id": "4ca6d1e5",
   "metadata": {},
   "source": [
    "集合覆盖问题\n",
    "\n",
    "---\n",
    "\n",
    "假设你正在计划一个公司派对，有 $n$ 个人按 $1, \\ldots, n$ 编号，这些人都可能被邀请。我们希望邀请至少 $m$ 个人参加。因此，人力资源部要求你遵守以下限制：\n",
    "\n",
    "有多个员工团队 $T_1, \\ldots, T_k$，其中 $T_i \\subseteq \\{1, \\ldots, n\\}$ 是员工的子集。一个员工可以属于多个团队。我们希望确保每个团队至少有 1/4 的成员被邀请。注意，同一个人可以作为多个团队的代表被邀请。\n",
    "\n",
    "我们还有一组对 $G_1, \\ldots, G_l$，其中每个 $G_j$ 由一组有互相争议的员工组成。为了保持派对的欢乐氛围，我们不能从每个争议集 $G_j$ 中邀请超过一名员工。\n",
    "\n",
    "人力资源部门通过其机器学习算法为每位员工 $i$ 分配了一个\"扫兴\"分数 $s_i$，分数越高，他们就越可能扫兴。我们希望最小化所有被邀请员工的总扫兴分数。\n",
    "\n",
    "决策变量：我们将有决策变量 $w_1, \\ldots, w_n$，其中 $w_i = 1$ 表示员工 $i$ 被邀请参加派对，$w_i = 0$ 表示他们未被邀请。\n",
    "\n",
    "目标函数：$\\min\\ \\sum_{i=1}^n s_i w_i$，其中 $s_i$ 是员工 $i$ 的\"扫兴\"分数。\n",
    "\n",
    "约束条件：我们将有以下约束：\n",
    "\n",
    "- $\\sum_{j \\in T_i} w_j \\geq |T_i|/4\\ \\text{对每个}\\ T_i$ (每个团队至少四分之一的成员)\n",
    "- $\\sum_{j \\in G_i} w_j \\leq 1\\ \\text{对每个}\\ G_i$ (每个争议集最多一人)\n",
    "- $\\sum_{j=1}^n w_j \\geq m$ (总共至少邀请 $m$ 人)\n",
    "- $w_j \\in \\{0, 1\\}$ 对所有 $j \\in \\{1, \\ldots, n\\}$ (二元变量)\n"
   ]
  },
  {
   "cell_type": "code",
   "execution_count": null,
   "id": "0f9883ed",
   "metadata": {},
   "outputs": [],
   "source": [
    "from pulp import *\n",
    "def plan_invite_list(n, m, T_lists, G_lists, pp_scores):\n",
    "    assert m >= 0, '邀请的员工人数不能是负数'\n",
    "    assert all( 0 <= j < n for ti in T_lists for j in ti )\n",
    "    assert all( 0<= j < n for gi in G_lists for j in gi)\n",
    "    assert len(pp_scores) == n, '扫兴分数列表的长度不等于员工数'\n",
    "\n",
    "    # 创建线性规划问题\n",
    "    # problem = LpProblem(...)\n",
    "\n",
    "    # 创建n个决策变量，存放在一个list中，0表示该索引序号的员工不被邀请，1表示该索引序列的员工被邀请\n",
    "    # dvars =   [LpVariable(...) for i in range(n) ]\n",
    "\n",
    "    # 添加目标函数，计算总的扫兴分数\n",
    "    # problem += ...\n",
    "\n",
    "    # 添加约束条件，每个小组至少1/4的员工被邀请，每个争议集合最多邀请一个人，总共需要邀请m个人\n",
    "    # problem += ...\n",
    "    # problem += ...\n",
    "    # problem += ...\n",
    "\n",
    "    # 求解问题\n",
    "    # problem.solve()\n",
    "\n",
    "    # 输出结果\n",
    "    # status = ...\n",
    "    # sol = ...   # 返回由0和1组成的列表，0表示该索引序号的员工不被邀请，1表示该索引序列的员工被邀请\n",
    "    # optimal_pop_score = ...    # 返回问题的目标函数的值，也就是最优的扫兴分数\n",
    "\n",
    "    ## 你编写的代码从这里开始\n",
    "\n",
    "\n",
    "    ## 你编写的代码到这里结束\n",
    "\n",
    "\n",
    "    if status == constants.LpStatusInfeasible:  # 问题无解\n",
    "        return status, [], -1\n",
    "    elif status != constants.LpStatusOptimal:   # 问题是无界的，没有最优解\n",
    "        return status, [], -1\n",
    "    else:                       # 问题有最优解\n",
    "        # extract values\n",
    "        sol = [x.varValue for x in dvars]\n",
    "        return status, sol, optimal_pop_score\n"
   ]
  },
  {
   "cell_type": "code",
   "execution_count": null,
   "id": "06679adc",
   "metadata": {},
   "outputs": [],
   "source": [
    "from testset4 import test_plan_invite_list\n",
    "test_plan_invite_list(plan_invite_list)"
   ]
  },
  {
   "cell_type": "markdown",
   "id": "1c7eb851",
   "metadata": {},
   "source": [
    "## 习题3"
   ]
  },
  {
   "cell_type": "markdown",
   "id": "d80a2aef",
   "metadata": {},
   "source": [
    "在这个问题中，你将把三着色问题设置并求解为整数线性规划问题。\n",
    "\n",
    "三着色问题输入一个无向图 $G$，其顶点集为 $V = \\{1, \\ldots, n\\}$ 且有无向边集 $E$。我们要寻找一种方法，将每个顶点染成红色、绿色或蓝色三种颜色之一，使得任意边 $(i,j)$ 的两个端点 $i,j$ 具有不同的颜色。\n",
    "\n",
    "给定一个图，我们希望知道是否存在一个三着色方案，如果存在，我们希望找到这个三着色方案。虽然这看起来像是一个玩具问题，但它在资源分配和其他领域都有实际应用。\n",
    "\n",
    "首先，我们要求你将三着色问题设置为整数线性规划问题。\n",
    "\n",
    "决策变量：对于每个顶点 $i \\in V$，我们将使用三个决策变量 $x_i^R, x_i^G$ 和 $x_i^B$ 来分别表示该顶点是否被染成红色、绿色或蓝色。注意，这些都是取值为 $0,1$ 的二进制变量。\n",
    "\n",
    "### (A) 每个顶点只能取一种颜色\n",
    "\n",
    "用 $x_i^R, x_i^G$ 和 $x_i^B$ 写出一个约束条件（？是你需要填写的内容），表示每个顶点必须恰好被染成红色、绿色或蓝色三种颜色之一。"
   ]
  },
  {
   "cell_type": "markdown",
   "id": "c42296c2",
   "metadata": {},
   "source": [
    "$x_i^R + x_i^G + x_i^B = ?$"
   ]
  },
  {
   "cell_type": "markdown",
   "id": "695f1d66",
   "metadata": {},
   "source": [
    "### (B) 相邻顶点不能具有相同的颜色\n",
    "\n",
    "对于每条边 $(i,j) \\in E$，写出表示它们不能具有相同颜色的约束条件。**提示**: 写出三个约束条件，分别表示顶点 $i,j$ 不能同时为绿色、不能同时为红色以及不能同时为蓝色。将这些要求转换为涉及 $x_i^G, x_j^G$， $x_i^R, x_j^R$ 和 $x_i^B, x_j^B$ 的约束条件。\n"
   ]
  },
  {
   "cell_type": "markdown",
   "id": "25cad3d3",
   "metadata": {},
   "source": [
    "约束条件一：\n",
    "$$\n",
    "x_i^G + x_j^G <= ? \n",
    "$$\n",
    "\n",
    "再写两个约束条件：\n",
    "$$\n",
    "???  \\\\\n",
    "???\n",
    "$$"
   ]
  },
  {
   "cell_type": "markdown",
   "id": "bd847975",
   "metadata": {},
   "source": [
    "编写一个函数，该函数接受顶点数量 $n \\geq 1$ 和边列表（以顶点对的列表形式给出）`[ (i1, j1), (i2, j2) ..., (im, jm) ]` 作为输入，返回一个元组 `(flag, color_assignment)`，其中包含布尔值 `flag` 和列表 `color_assignment`，具体要求如下：\n",
    "\n",
    "- `flag` 如果图是可三着色的则为 `True`，否则为 `False`。\n",
    "- `color_assignment` 是一个包含 n 个颜色的列表，颜色用 `r`、`g` 或 `b`（分别代表红色、绿色或蓝色）表示，列表中第 $i$ 个元素表示分配给顶点 $i$ 的颜色。\n",
    "\n",
    "注意，如果 `flag` 设置为 `False`，则返回值中的 `color_assignment` 部分将被忽略。\n"
   ]
  },
  {
   "cell_type": "code",
   "execution_count": null,
   "id": "8bd04f5f",
   "metadata": {},
   "outputs": [],
   "source": [
    "from pulp import *\n",
    "\n",
    "def encode_and_solve_three_coloring(n, edge_list):\n",
    "    assert n >= 1, 'Graph must have at least one vertex'\n",
    "    assert all(0 <= i and i < n and 0 <= j and j < n and i != j for (i, j) in edge_list), 'Edge list is not well formed'\n",
    "\n",
    "    # 创建线性规划问题\n",
    "    # problem = LpProblem(...)\n",
    "\n",
    "    # 创建三个长度为n个决策变量list，reds列表中的1表示该索引节点选中的颜色为红色，0表示不是红色，\n",
    "    # green和blues列表也是类似的意思\n",
    "    # reds = [LpVariable(...) for i in range(n)]\n",
    "    # greens = ...\n",
    "    # blues = ...\n",
    "\n",
    "    # 添加目标函数，计算总的扫兴分数\n",
    "    # problem += ...\n",
    "\n",
    "    # 添加约束条件，每个节点只能选中一种颜色\n",
    "    # problem += ...\n",
    "\n",
    "    ## 遍历边列表，添加约束，相邻节点不可以是相同颜色\n",
    "    # for i, j in edge_list:\n",
    "    #   problem += ...\n",
    "    #   problem += ...\n",
    "    #   problem += ...\n",
    "\n",
    "\n",
    "    ## 求解问题\n",
    "    # status = problem.solve()\n",
    "\n",
    "    # 输出结果，如果有最优解，返回True和颜色列表,颜色列表应该只包含'r','g',或者'b'\n",
    "    # if status == LpStatusOptimal:\n",
    "    #     color_assignment = []\n",
    "    #     for i in range(n):\n",
    "    #\n",
    "    #\n",
    "    #\n",
    "    #\n",
    "    #\n",
    "    #\n",
    "\n",
    "    #     return (True, color_assignment)\n",
    "    ## 如果没有解，返回False和[]\n",
    "    # else:\n",
    "    #     return (False, [])\n",
    "\n",
    "\n",
    "    ## 你编写的代码从这里开始\n",
    "\n",
    "\n",
    "    ## 你编写的代码到这里结束\n",
    "\n",
    "    prob = ...\n",
    "\n",
    "    # 1. Formulate the decision variables\n",
    "    reds = ...\n",
    "    greens = ...\n",
    "    blues = ...\n",
    "\n",
    "    for i in range(n):\n",
    "        ...\n",
    "\n",
    "\n",
    "    for i, j in edge_list:\n",
    "        ...\n",
    "\n",
    "    status = ...\n",
    "\n",
    "    # 4. Return the result in the required form to pass the tests\n",
    "    if status == LpStatusOptimal:\n",
    "        ...\n",
    "\n",
    "        return (True, color_assignment)\n",
    "    else:\n",
    "        return (False, [])"
   ]
  },
  {
   "cell_type": "code",
   "execution_count": null,
   "id": "596a8c19",
   "metadata": {},
   "outputs": [],
   "source": [
    "from testset4 import test_encode_and_solve_three_coloring\n",
    "test_encode_and_solve_three_coloring(encode_and_solve_three_coloring)"
   ]
  },
  {
   "cell_type": "markdown",
   "id": "fc0dbd2d",
   "metadata": {},
   "source": [
    "## 实验自动评分"
   ]
  },
  {
   "cell_type": "markdown",
   "id": "fdaa0bf5",
   "metadata": {},
   "source": [
    "运行下面的代码进行实验自动评分"
   ]
  },
  {
   "cell_type": "code",
   "execution_count": null,
   "id": "661f9325",
   "metadata": {},
   "outputs": [],
   "source": [
    "from testset4 import grade_all_tests\n",
    "grade_all_tests()"
   ]
  },
  {
   "cell_type": "markdown",
   "id": "6c88677a",
   "metadata": {},
   "source": [
    "## 实验总结"
   ]
  },
  {
   "cell_type": "markdown",
   "id": "627f6e64",
   "metadata": {},
   "source": [
    "请尽量使用自己的语言回答下面的问题。"
   ]
  },
  {
   "cell_type": "markdown",
   "id": "f7e3a0d9",
   "metadata": {},
   "source": [
    "问题一： 整数线性规划问题和一般线性规划问题的区别在哪里？为什么解决整数规划问题会比普通线性规划问题慢？"
   ]
  },
  {
   "cell_type": "markdown",
   "id": "202a0adb",
   "metadata": {},
   "source": []
  },
  {
   "cell_type": "markdown",
   "id": "08bd4b27",
   "metadata": {},
   "source": [
    "问题2： 整数线性规划问题是NP难问题，什么是NP难问题？查阅资料，有哪些方法可以解决整数线性规划问题？"
   ]
  },
  {
   "cell_type": "markdown",
   "id": "43166a28",
   "metadata": {},
   "source": []
  },
  {
   "cell_type": "markdown",
   "id": "3d00a271",
   "metadata": {},
   "source": [
    "## 生成实验报告"
   ]
  },
  {
   "cell_type": "code",
   "execution_count": null,
   "id": "6199cba6",
   "metadata": {},
   "outputs": [
    {
     "name": "stdout",
     "output_type": "stream",
     "text": [
      "Notebook successfully converted to HTML with table styles: notebook.html\n",
      "Successfully converted notebook.html to 未填写-未填写-未填写.pdf\n"
     ]
    }
   ],
   "source": [
    "import sys\n",
    "import os\n",
    "\n",
    "# Add the root directory (parent directory of `util`) to sys.path\n",
    "root_dir = os.path.abspath(\"..\")  # Adjust based on the structure\n",
    "sys.path.append(root_dir)\n",
    "\n",
    "from util import notebook2pdf, notebook_info_extractor\n",
    "\n",
    "notebook_file = \"实验4-整数线性规划.ipynb\"\n",
    "stu_info  = notebook_info_extractor.extract_from_ipynb(notebook_file)\n",
    "\n",
    "html_file = \"notebook.html\"\n",
    "pdf_file = f\"{stu_info['class_id']}-{stu_info['student_id']}-{stu_info['name']}-实验报告4.pdf\"\n",
    "\n",
    "notebook2pdf.notebook_to_html(notebook_file, html_file)\n",
    "notebook2pdf.html_to_pdf(html_file, pdf_file)"
   ]
  }
 ],
 "metadata": {
  "kernelspec": {
   "display_name": "base",
   "language": "python",
   "name": "python3"
  },
  "language_info": {
   "codemirror_mode": {
    "name": "ipython",
    "version": 3
   },
   "file_extension": ".py",
   "mimetype": "text/x-python",
   "name": "python",
   "nbconvert_exporter": "python",
   "pygments_lexer": "ipython3",
   "version": "3.11.5"
  }
 },
 "nbformat": 4,
 "nbformat_minor": 5
}
