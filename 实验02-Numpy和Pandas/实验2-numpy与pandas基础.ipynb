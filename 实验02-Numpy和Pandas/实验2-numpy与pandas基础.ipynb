{
 "cells": [
  {
   "cell_type": "markdown",
   "metadata": {},
   "source": [
    "# 实验二-Numpy和Pandas基础"
   ]
  },
  {
   "cell_type": "markdown",
   "metadata": {},
   "source": [
    "<table style=\"margin: 0 auto; width: 30%; border-collapse: collapse; border: 1px solid black;\" data-id=\"student-info\">  \n",
    "    <colgroup>  \n",
    "        <col style=\"width: 35%;\">  \n",
    "        <col style=\"width: 65%;\">  \n",
    "    </colgroup>  \n",
    "    <tr>  \n",
    "        <td style=\"border: 1px solid black;\">班级</td> <td style=\"border: 1px solid black;\">24智能</td>  \n",
    "    </tr>  \n",
    "    <tr>  \n",
    "        <td style=\"border: 1px solid black;\">学号</td> <td style=\"border: 1px solid black;\">未填写</td>  \n",
    "    </tr>  \n",
    "    <tr>  \n",
    "        <td style=\"border: 1px solid black;\">姓名</td> <td style=\"border: 1px solid black;\">未填写</td>  \n",
    "    </tr>  \n",
    "    <tr>  \n",
    "        <td style=\"border: 1px solid black;\">Email</td> <td style=\"border: 1px solid black;\">未填写</td>  \n",
    "    </tr>  \n",
    "</table>"
   ]
  },
  {
   "cell_type": "markdown",
   "metadata": {},
   "source": [
    "## 实验目的"
   ]
  },
  {
   "cell_type": "markdown",
   "metadata": {},
   "source": [
    "本次实验主要学习和掌握下列内容"
   ]
  },
  {
   "cell_type": "markdown",
   "metadata": {},
   "source": [
    "- 向量化\n",
    "- Numpy\n",
    "- Pandas"
   ]
  },
  {
   "cell_type": "markdown",
   "metadata": {},
   "source": [
    "## Jupyter Notebook使用指导 "
   ]
  },
  {
   "cell_type": "markdown",
   "metadata": {},
   "source": [
    "1. 首先选择Python内核：在右上角点击Kernel，选择Base...(Anaconda Python环境)。\n",
    "2. 在编辑后首先要保存，使用Ctrl+S保存。\n",
    "3. 实验运行出现问题，并且代码正确，一个最常见的解决方法在最上方点击重启(Restart), 然后点击运行所有（Run All）。"
   ]
  },
  {
   "cell_type": "markdown",
   "metadata": {},
   "source": [
    "## 实验准备"
   ]
  },
  {
   "cell_type": "markdown",
   "metadata": {},
   "source": [
    "首先，让我们运行下面的单元格来导入您在此作业中需要的所有包, 并且为实验的代码的测试做准备。"
   ]
  },
  {
   "cell_type": "code",
   "execution_count": null,
   "metadata": {},
   "outputs": [],
   "source": [
    "# 导入需要的Python包\n",
    "%matplotlib inline\n",
    "\n",
    "import numpy as np\n",
    "import matplotlib.pyplot as plt\n",
    "from pathlib import Path\n",
    "import sys\n",
    "from IPython.display import display, Image\n",
    "\n",
    "# 获取项目根目录\n",
    "project_root = Path().resolve().parent\n",
    "sys.path.append(str(project_root / 'tests'))\n",
    "sys.path.append(str(project_root / 'util'))\n",
    "\n",
    "# 导入测试套件和其他工具\n",
    "from test_suite2 import TestSuite2\n",
    "from lr_utils import load_dataset\n",
    "from notebook2pdf import convert_notebook_to_webpdf\n",
    "from notebook_info_extractor import extract_from_ipynb\n",
    "from IPython import get_ipython\n",
    "\n",
    "testsuite2 = TestSuite2()\n",
    "\n",
    "ip = get_ipython()\n",
    "notebook_file = None\n",
    "if '__vsc_ipynb_file__' in ip.user_ns:\n",
    "    notebook_file = ip.user_ns['__vsc_ipynb_file__']\n",
    "\n",
    "stu_info = extract_from_ipynb(notebook_file)\n",
    "\n",
    "print(f\"stu_info: {stu_info}\")"
   ]
  },
  {
   "cell_type": "markdown",
   "metadata": {},
   "source": [
    "## 实验注意事项"
   ]
  },
  {
   "cell_type": "markdown",
   "metadata": {},
   "source": [
    "1. 请在指定的地方按照实验指导要求来编写代码。\n",
    "2. 请按照实验指导要求使用指定的变量名或函数名，不要使用其他的名字。\n",
    "3. 不要添加任何额外的语句。\n",
    "4. 不要添加任何额外的代码单元格。\n",
    "5. 不要在不需要的地方修改作业代码，比如创建额外的变量，修改测试文件中的代码。\n",
    "6. 实验指导中的`...`表示需要你补充代码的部分，其他部分的代码不用修改。\n",
    "7. 代码提示中会给出估计的代码行数，例如大约1行代码，估计的代码行数只是一个参考值，实际编写时可能会有出入，请根据实际情况来编写。\n",
    "8. 请独立完成作业，禁止抄袭，发现抄袭行为成绩记零分"
   ]
  },
  {
   "cell_type": "markdown",
   "metadata": {},
   "source": [
    "## 向量化（Vectorization）"
   ]
  },
  {
   "cell_type": "markdown",
   "metadata": {},
   "source": [
    "`Numpy`和`Pandas`在数据分析和机器学习中都被大量地使用，通常逆需要处理非常大的数据集。因此，一个非计算高效的函数可能会成为算法中的巨大瓶颈，为了确保代码具有计算效率，你需要使用向量化操作。\n",
    "\n",
    "- 利用`numpy`和`pandas`的函数或操作对整个数组或数组的子集进行操作\n",
    "- 尽可能避免使用`for`循环和`while`循环逐个处理数据集中的元素\n",
    "- 向量化操作的编程范式在数据分析、机器学习领域被大量地使用，例如下面这些最流行的深度学习框架\n",
    "  - `pytorch`\n",
    "  - `tensorflow`\n",
    "  - ...  "
   ]
  },
  {
   "cell_type": "markdown",
   "metadata": {},
   "source": [
    "## Numpy🐍"
   ]
  },
  {
   "cell_type": "code",
   "execution_count": null,
   "metadata": {},
   "outputs": [],
   "source": [
    "# 安装numpy模块\n",
    "# %pip install numpy"
   ]
  },
  {
   "cell_type": "markdown",
   "metadata": {},
   "source": [
    "### 为什么需要Numpy❓"
   ]
  },
  {
   "cell_type": "markdown",
   "metadata": {},
   "source": [
    "- 运行速度：NumPy提供了高效的数组操作功能(向量化操作)，可以对大规模的数据进行快速的计算和处理\n",
    "- 方便使用: 处理数据的过程更加简洁和高效\n",
    "- 功能丰富：提供了丰富的函数库，可以方便地进行数值计算和统计分析。"
   ]
  },
  {
   "cell_type": "code",
   "execution_count": null,
   "metadata": {},
   "outputs": [],
   "source": [
    "# 导入numpy\n",
    "import numpy as np\n",
    "np.random.seed(12345)"
   ]
  },
  {
   "cell_type": "code",
   "execution_count": null,
   "metadata": {},
   "outputs": [],
   "source": [
    "# 长度100万的numpy格式的数组\n",
    "my_arr = np.arange(1_000_000)\n",
    "\n",
    "# 长度100万的list\n",
    "my_list = list(range(1_000_000))"
   ]
  },
  {
   "cell_type": "markdown",
   "metadata": {},
   "source": [
    "- 计算数组中一百万个数的平方，使用`timeit`测试两种方法的运行时间\n",
    "- 结论：因为`numpy`的向量化操作，所以运行速度远远快过使用for循环的list。"
   ]
  },
  {
   "cell_type": "code",
   "execution_count": null,
   "metadata": {},
   "outputs": [],
   "source": [
    "# print('numpy running time:')\n",
    "# %timeit my_arr2 = my_arr ** 2\n",
    "\n",
    "# print('\\npython list running time:')\n",
    "# %timeit my_list2 = [x ** 2 for x in my_list]"
   ]
  },
  {
   "cell_type": "markdown",
   "metadata": {},
   "source": [
    "### Numpy ndarray数据结构"
   ]
  },
  {
   "cell_type": "markdown",
   "metadata": {},
   "source": [
    "numpy只有一种数据结构：ndarray，它是一个多维数组，每个元素都是相同类型的。"
   ]
  },
  {
   "cell_type": "code",
   "execution_count": null,
   "metadata": {},
   "outputs": [],
   "source": [
    "display(Image(\"./img/2023-10-27-11-02-03.png\", width=800, height=400))"
   ]
  },
  {
   "cell_type": "code",
   "execution_count": null,
   "metadata": {},
   "outputs": [],
   "source": [
    "import numpy as np\n",
    "\n",
    "data = np.array([1, 2, 3])\n",
    "data"
   ]
  },
  {
   "cell_type": "code",
   "execution_count": null,
   "metadata": {},
   "outputs": [],
   "source": [
    "# ndarray的数据类型,数组只能包含相同类型的数据\n",
    "data.dtype"
   ]
  },
  {
   "cell_type": "markdown",
   "metadata": {},
   "source": [
    "### 创建ndarray"
   ]
  },
  {
   "cell_type": "code",
   "execution_count": null,
   "metadata": {},
   "outputs": [],
   "source": [
    "display(Image(\"./img/2023-10-27-11-06-02.png\", width=800, height=400))"
   ]
  },
  {
   "cell_type": "code",
   "execution_count": null,
   "metadata": {},
   "outputs": [],
   "source": [
    "# 创建全为1的数组\n",
    "np.ones(3)"
   ]
  },
  {
   "cell_type": "code",
   "execution_count": null,
   "metadata": {},
   "outputs": [],
   "source": [
    "# 创建全为0的数组\n",
    "np.zeros(3)"
   ]
  },
  {
   "cell_type": "code",
   "execution_count": null,
   "metadata": {},
   "outputs": [],
   "source": [
    "# 创建随机数组，长度为3，数值在0-1之间\n",
    "np.random.random(3)"
   ]
  },
  {
   "cell_type": "code",
   "execution_count": null,
   "metadata": {},
   "outputs": [],
   "source": [
    "# 类似Python中的range函数\n",
    "np.arange(10)"
   ]
  },
  {
   "cell_type": "code",
   "execution_count": null,
   "metadata": {},
   "outputs": [],
   "source": [
    "# 创建形状相同，数值全为1的数组\n",
    "np.ones_like([1, 2, 3, 4, 5])"
   ]
  },
  {
   "cell_type": "code",
   "execution_count": null,
   "metadata": {},
   "outputs": [],
   "source": [
    "# 创建形状相同，数值全为0的数组\n",
    "np.zeros_like([1, 2, 3, 4, 5])"
   ]
  },
  {
   "cell_type": "code",
   "execution_count": null,
   "metadata": {},
   "outputs": [],
   "source": [
    "# 使用lambda函数创建一个3*3的矩阵, 矩阵的元素的值为i+j\n",
    "np.fromfunction(lambda i, j: i + j, (3, 3))"
   ]
  },
  {
   "cell_type": "markdown",
   "metadata": {},
   "source": [
    "### 算术运算"
   ]
  },
  {
   "cell_type": "markdown",
   "metadata": {},
   "source": [
    "`Numpy`中的算术运算可以利用广播（broadcasting）的特性，使得运算自动应用到数组中的所有元素。"
   ]
  },
  {
   "cell_type": "code",
   "execution_count": null,
   "metadata": {},
   "outputs": [],
   "source": [
    "display(Image(\"./img/2023-10-27-11-16-15.png\", width=800, height=600))"
   ]
  },
  {
   "cell_type": "code",
   "execution_count": null,
   "metadata": {},
   "outputs": [],
   "source": [
    "import numpy as np\n",
    "data = np.array([1, 2, 3])\n",
    "ones = np.ones_like(data)\n",
    "data + ones"
   ]
  },
  {
   "cell_type": "code",
   "execution_count": null,
   "metadata": {},
   "outputs": [],
   "source": [
    "# 其他运算\n",
    "display(Image(\"./img/2023-10-27-11-18-34.png\", width=800, height=400))"
   ]
  },
  {
   "cell_type": "code",
   "execution_count": null,
   "metadata": {},
   "outputs": [],
   "source": [
    "data - ones"
   ]
  },
  {
   "cell_type": "code",
   "execution_count": null,
   "metadata": {},
   "outputs": [],
   "source": [
    "data * data"
   ]
  },
  {
   "cell_type": "code",
   "execution_count": null,
   "metadata": {},
   "outputs": [],
   "source": [
    "data / data"
   ]
  },
  {
   "cell_type": "code",
   "execution_count": null,
   "metadata": {},
   "outputs": [],
   "source": [
    "data = np.array([2, 3])\n",
    "print(data)\n",
    "data ** data"
   ]
  },
  {
   "cell_type": "code",
   "execution_count": null,
   "metadata": {},
   "outputs": [],
   "source": [
    "# 数组乘以一个标量\n",
    "display(Image(\"./img/2023-10-27-11-20-07.png\", width=800, height=400))"
   ]
  },
  {
   "cell_type": "code",
   "execution_count": null,
   "metadata": {},
   "outputs": [],
   "source": [
    "data = np.array([1, 2])\n",
    "data * 1.6"
   ]
  },
  {
   "cell_type": "markdown",
   "metadata": {},
   "source": [
    "如果想要对数列进行四则混合运算或者更复杂的操作，可以使用`lambda`函数对数列进行向量化操作。例如要对数列中所有的元素`x`进行运算： `x ** 2 + 1`。"
   ]
  },
  {
   "cell_type": "code",
   "execution_count": null,
   "metadata": {},
   "outputs": [],
   "source": [
    "arr = np.arange(5)\n",
    "(lambda x: x ** 2 + 1)(arr)"
   ]
  },
  {
   "cell_type": "markdown",
   "metadata": {},
   "source": [
    "### 习题一"
   ]
  },
  {
   "cell_type": "markdown",
   "metadata": {},
   "source": [
    "完成下面的函数代码:\n",
    "- 输入参数为整数n, 函数要求创建三个长度为n的一维numpy数列A,B,C和D;\n",
    "- 数列A中的元素最大为n-1，请使用`np.arange`函数创建数列A；\n",
    "- 数列B的元素全是n，请使用`np.ones`或者`np.ones_like`函数创建数列B；\n",
    "- C的元素全是0，请使用`np.zeros_like`函数创建数列C；\n",
    "- 最后返回数列A，B，C以及他们的和D。\n",
    "- 注意不要使用循环语句遍历数列。"
   ]
  },
  {
   "cell_type": "code",
   "execution_count": null,
   "metadata": {},
   "outputs": [],
   "source": [
    "# UNQ_C1 (UNIQUE CELL IDENTIFIER, DO NOT EDIT)\n",
    "# GRADED FUNCTION: create_and_add_arrays\n",
    "\n",
    "def create_and_add_arrays(n: int):\n",
    "    \"\"\"创建numpy数组并相加\"\"\"\n",
    "\n",
    "    # 大约需要4行代码，注意不要使用循环\n",
    "\n",
    "    # 你编写的代码从这里开始\n",
    "    A = ... # 创建数列A: (0, 1, 2, ... , n-1), 要使用np.arange函数\n",
    "    B = ... # 创建数列B，要使用np.ones_like函数\n",
    "    C = ... # 创建数列C，要使用np.zeros_like函数\n",
    "    D = ... # 创建数列D，等于前面3个数列的和\n",
    "\n",
    "    # 你编写的代码到这里结束\n",
    "    return A, B, C, D"
   ]
  },
  {
   "cell_type": "code",
   "execution_count": null,
   "metadata": {},
   "outputs": [],
   "source": [
    "# 测试习题1\n",
    "testsuite2.test_create_and_add_arrays(create_and_add_arrays)"
   ]
  },
  {
   "cell_type": "markdown",
   "metadata": {},
   "source": [
    "### 索引和切片"
   ]
  },
  {
   "cell_type": "markdown",
   "metadata": {},
   "source": [
    "numpy数组的索引和切片和Python的列表类似，但是有一些特殊的地方。"
   ]
  },
  {
   "cell_type": "code",
   "execution_count": null,
   "metadata": {},
   "outputs": [],
   "source": [
    "display(Image(\"./img/2023-10-27-11-35-38.png\", width=800, height=400))"
   ]
  },
  {
   "cell_type": "code",
   "execution_count": null,
   "metadata": {},
   "outputs": [],
   "source": [
    "data = np.array([1, 2, 3])\n",
    "print(data[0])\n",
    "print(data[-1])\n",
    "print(data[0:2])\n",
    "print(data[1:])\n",
    "print(data[::-1]) # 倒序"
   ]
  },
  {
   "cell_type": "markdown",
   "metadata": {},
   "source": [
    "### 一维数据的聚合"
   ]
  },
  {
   "cell_type": "code",
   "execution_count": null,
   "metadata": {},
   "outputs": [],
   "source": [
    "display(Image(\"./img/2023-10-27-11-40-03.png\", width=800, height=400))"
   ]
  },
  {
   "cell_type": "code",
   "execution_count": null,
   "metadata": {},
   "outputs": [],
   "source": [
    "data = np.array([1, 2, 3])\n",
    "print(data)\n",
    "\n",
    "# 求最大值、最小值、求和\n",
    "print(data.max())\n",
    "print(data.min())\n",
    "print(data.sum())\n",
    "\n",
    "# 求均值、标准差\n",
    "print(data.mean())\n",
    "print(data.std())\n",
    "\n",
    "# 求最大值、最小值的索引\n",
    "print(data.argmax())   # 返回2，即最大值3的索引\n",
    "print(data.argmin())   # 返回0，即最小值1的索引\n",
    "\n",
    "# 排序\n",
    "data = np.array([9, 3, 5, 7, 1, 2])\n",
    "data.sort()\n",
    "print(data)"
   ]
  },
  {
   "cell_type": "markdown",
   "metadata": {},
   "source": [
    "### 习题二"
   ]
  },
  {
   "cell_type": "markdown",
   "metadata": {},
   "source": [
    "函数的输入是两个一维numpy数列A和B(数列都不为空)，返回数列A中的最大值与和数列B的最小值的乘积。请注意不要使用循环语句遍历数列。"
   ]
  },
  {
   "cell_type": "code",
   "execution_count": null,
   "metadata": {},
   "outputs": [],
   "source": [
    "# UNQ_C2 (UNIQUE CELL IDENTIFIER, DO NOT EDIT)\n",
    "# GRADED FUNCTION: multiply_max_min\n",
    "\n",
    "def multiply_max_min(A, B):\n",
    "    \"\"\"返回数列A最大值和数列B最小值的乘积\"\"\"\n",
    "    # 只需要1行代码\n",
    "    # 你编写的代码从这里开始\n",
    "    result = ...\n",
    "\n",
    "    # 你编写的代码到这里结束\n",
    "    return result"
   ]
  },
  {
   "cell_type": "code",
   "execution_count": null,
   "metadata": {},
   "outputs": [],
   "source": [
    "# 测试习题2\n",
    "testsuite2.test_multiply_max_min(multiply_max_min)"
   ]
  },
  {
   "cell_type": "markdown",
   "metadata": {},
   "source": [
    "### 二维矩阵"
   ]
  },
  {
   "cell_type": "code",
   "execution_count": null,
   "metadata": {},
   "outputs": [],
   "source": [
    "display(Image(\"./img/2023-10-27-11-52-59.png\", width=800, height=400))"
   ]
  },
  {
   "cell_type": "code",
   "execution_count": null,
   "metadata": {},
   "outputs": [],
   "source": [
    "data = np.array([[1, 2], [3, 4]])\n",
    "data"
   ]
  },
  {
   "cell_type": "markdown",
   "metadata": {},
   "source": [
    "![创建多维数据](./img/2023-10-27-11-54-20.png)"
   ]
  },
  {
   "cell_type": "code",
   "execution_count": null,
   "metadata": {},
   "outputs": [],
   "source": [
    "print(np.ones((3,2)))"
   ]
  },
  {
   "cell_type": "code",
   "execution_count": null,
   "metadata": {},
   "outputs": [],
   "source": [
    "print(np.zeros((3,2)))"
   ]
  },
  {
   "cell_type": "code",
   "execution_count": null,
   "metadata": {},
   "outputs": [],
   "source": [
    "print(np.random.random((3,2)))"
   ]
  },
  {
   "cell_type": "code",
   "execution_count": null,
   "metadata": {},
   "outputs": [],
   "source": [
    "np.diag([1, 2, 3])"
   ]
  },
  {
   "cell_type": "code",
   "execution_count": null,
   "metadata": {},
   "outputs": [],
   "source": [
    "# 单元矩阵\n",
    "np.eye(3)"
   ]
  },
  {
   "cell_type": "markdown",
   "metadata": {},
   "source": [
    "### 二维矩阵的索引和切片"
   ]
  },
  {
   "cell_type": "code",
   "execution_count": null,
   "metadata": {},
   "outputs": [],
   "source": [
    "display(Image(\"./img/2023-10-27-12-08-39.png\", width=800, height=400))"
   ]
  },
  {
   "cell_type": "code",
   "execution_count": null,
   "metadata": {},
   "outputs": [],
   "source": [
    "data = np.array([[1, 2, 3], [3, 4, 7], [5, 6, 9]])\n",
    "print(data)\n",
    "\n",
    "# 使用行索引和列索引选择到一个元素\n",
    "print(data[0, 1])\n",
    "\n",
    "# 使用行索引的切片\n",
    "print(data[1:3,:])\n",
    "\n",
    "# 行索引和列索引同时使用切片\n",
    "print(data[0:2, ::2])"
   ]
  },
  {
   "cell_type": "markdown",
   "metadata": {},
   "source": [
    "### 习题三"
   ]
  },
  {
   "cell_type": "markdown",
   "metadata": {},
   "source": [
    "已知一个二维的numpy矩阵stocks，其中每一行代表若干只股票某天的收盘价格，每一列代表某只股票连续若干天的价格。请完成函数代码，获取每只股票从第一天开始每三天的价格。请注意不要使用循环语句遍历矩阵。\n",
    "\n",
    "例如：\n",
    "```\n",
    "stocks = np.array([[1,2,3,4,5,6,7,8,9,10],\n",
    "                    [11,12,13,14,15,16,17,18,19,20],\n",
    "                    [21,22,23,24,25,26,27,28,29,30],\n",
    "                    [31,32,33,34,35,36,37,38,39,40]])       \n",
    "``` \n",
    "返回结果为：\n",
    "```\n",
    "np.array([[1,2,3,4,5,6,7,8,9,10],\n",
    "            [31,32,33,34,35,36,37,38,39,40]]) \n",
    "```"
   ]
  },
  {
   "cell_type": "code",
   "execution_count": null,
   "metadata": {},
   "outputs": [],
   "source": [
    "# UNQ_C3 (UNIQUE CELL IDENTIFIER, DO NOT EDIT)\n",
    "# GRADED FUNCTION: get_stocks_price\n",
    "\n",
    "def get_stocks_price(stocks):\n",
    "    \"\"\"获取股票的收盘价\"\"\"\n",
    "    # 只需要1行代码, 请使用切片\n",
    "    # 你编写的代码从这里开始\n",
    "    result = ...\n",
    "\n",
    "    # 你编写的代码到这里结束\n",
    "    return result"
   ]
  },
  {
   "cell_type": "code",
   "execution_count": null,
   "metadata": {},
   "outputs": [],
   "source": [
    "# 测试习题3\n",
    "testsuite2.test_get_stocks_price(get_stocks_price)"
   ]
  },
  {
   "cell_type": "markdown",
   "metadata": {},
   "source": [
    "### 矩阵运算🧮"
   ]
  },
  {
   "cell_type": "markdown",
   "metadata": {},
   "source": [
    "二维的`Numpy`矩阵同样具有广播(Broadcasting)特性，稍微不同的是，`Numpy`会根据运算的矩阵的形状将运算自动广播到行、列或者每个元素上。"
   ]
  },
  {
   "cell_type": "code",
   "execution_count": null,
   "metadata": {},
   "outputs": [],
   "source": [
    "display(Image(\"./img/2023-10-27-12-03-47.png\", width=800, height=400))"
   ]
  },
  {
   "cell_type": "code",
   "execution_count": null,
   "metadata": {},
   "outputs": [],
   "source": [
    "data = np.array([[1, 2], [3, 4]])\n",
    "ones = np.ones([2, 2])\n",
    "data + ones"
   ]
  },
  {
   "cell_type": "code",
   "execution_count": null,
   "metadata": {},
   "outputs": [],
   "source": [
    "display(Image(\"./img/2023-10-27-12-04-55.png\", width=800, height=400))"
   ]
  },
  {
   "cell_type": "code",
   "execution_count": null,
   "metadata": {},
   "outputs": [],
   "source": [
    "data = np.array([[1, 2], [3, 4], [5, 6]])\n",
    "# 按行相加，广播到行\n",
    "ones_row = np.ones([1, 1])\n",
    "data + ones_row"
   ]
  },
  {
   "cell_type": "code",
   "execution_count": null,
   "metadata": {},
   "outputs": [],
   "source": [
    "print(\"data:\\n\", data)\n",
    "\n",
    "# 按列相加， 广播到列\n",
    "column_data = np.array([10, 20, 30])\n",
    "\n",
    "# 转换为列向量\n",
    "print(\"column:\\n\", column_data[:, np.newaxis])\n",
    "\n",
    "data + column_data[:, np.newaxis]"
   ]
  },
  {
   "cell_type": "markdown",
   "metadata": {},
   "source": [
    "### 矩阵的转置和变形"
   ]
  },
  {
   "cell_type": "code",
   "execution_count": null,
   "metadata": {},
   "outputs": [],
   "source": [
    "display(Image(\"./img/2023-10-27-13-40-49.png\", width=800, height=400))"
   ]
  },
  {
   "cell_type": "code",
   "execution_count": null,
   "metadata": {},
   "outputs": [],
   "source": [
    "# 矩阵转置\n",
    "data = np.array([[1, 2],\n",
    "                    [3, 4],\n",
    "                    [5, 6]])\n",
    "data.T"
   ]
  },
  {
   "cell_type": "code",
   "execution_count": null,
   "metadata": {},
   "outputs": [],
   "source": [
    "display(Image(\"./img/2023-10-27-13-42-39.png\", width=800, height=400))"
   ]
  },
  {
   "cell_type": "code",
   "execution_count": null,
   "metadata": {},
   "outputs": [],
   "source": [
    "data = np.arange(1, 7)\n",
    "print(data)\n",
    "print(data.reshape(2, 3))  # 转换成2 * 3的矩阵\n",
    "print(data.reshape(3, 2))\n",
    "print(data.reshape(6, 1))  # 转换成6 * 1的矩阵\n",
    "print(data.reshape(6,))    # 转换成一维的 1 * 6 的数列"
   ]
  },
  {
   "cell_type": "code",
   "execution_count": null,
   "metadata": {},
   "outputs": [],
   "source": [
    "data = np.arange(1, 7)\n",
    "print(data)\n",
    "\n",
    "# 在reshape函数中，如果指定一个维度为-1，那么reshape函数会自动计算这个维度的大小\n",
    "print(data.reshape(2, -1))  # 推算出第二个维度应该为3，转换成2 * 3的矩阵\n",
    "print(data.reshape(-1, 2))  # 推算出第一个维度应该为3，转换成3 * 2的矩阵\n",
    "print(data.reshape(-1,))    # 推算出第一个维度应该为6，转换成一维的 1 * 6 的数列"
   ]
  },
  {
   "cell_type": "markdown",
   "metadata": {},
   "source": [
    "### 习题四"
   ]
  },
  {
   "cell_type": "markdown",
   "metadata": {},
   "source": [
    "下面的函数输入是二维矩阵`A`, 要求函数获取到`A`的形状`shape`，然后将`A`转换成一维数列B，最后将数列B中的元素逆序排列后,函数返回`shape`和逆序后的数列`B`。请注意不要使用循环语句遍历矩阵。\n",
    "\n",
    "例如：\n",
    "```python\n",
    "A = np.array([\n",
    "    [1, 2, 3],\n",
    "    [4, 5, 6],\n",
    "    [7, 8, 9],\n",
    "])\n",
    "```\n",
    "\n",
    "返回值应该如下：\n",
    "```python\n",
    "((3, 3), array([9, 8, 7, 6, 5, 4, 3, 2, 1]))\n",
    "```"
   ]
  },
  {
   "cell_type": "code",
   "execution_count": null,
   "metadata": {},
   "outputs": [],
   "source": [
    "# UNQ_C4 (UNIQUE CELL IDENTIFIER, DO NOT EDIT)\n",
    "# GRADED FUNCTION: reshape_and_reverse\n",
    "\n",
    "def reshape_and_reverse(A):\n",
    "    \"\"\"获取矩阵形状，变形矩阵，逆序数列\"\"\"\n",
    "\n",
    "    # 大约需要2-3行代码\n",
    "    # 你编写的代码从这里开始\n",
    "    shape = ...    # 获取矩阵A的形状\n",
    "    B = ...        # 将矩阵A转换成数列B\n",
    "    B = ...        # 将数列B逆序\n",
    "    # 你编写的代码到这里结束\n",
    "    shape = A.shape\n",
    "    B = A.reshape(-1,)\n",
    "    return shape, B[::-1]"
   ]
  },
  {
   "cell_type": "code",
   "execution_count": null,
   "metadata": {},
   "outputs": [],
   "source": [
    "M = np.arange(1, 10)\n",
    "reshape_and_reverse(M.reshape(3,3))\n",
    "# 输出的结果应该是： ((3, 3), array([9, 8, 7, 6, 5, 4, 3, 2, 1]))"
   ]
  },
  {
   "cell_type": "code",
   "execution_count": null,
   "metadata": {},
   "outputs": [],
   "source": [
    "# 测试习题4\n",
    "testsuite2.test_reshape_and_reverse(reshape_and_reverse)"
   ]
  },
  {
   "cell_type": "markdown",
   "metadata": {},
   "source": [
    "### 线性代数"
   ]
  },
  {
   "cell_type": "code",
   "execution_count": null,
   "metadata": {},
   "outputs": [],
   "source": [
    "display(Image(\"./img/2023-10-27-13-11-55.png\", width=600, height=400))"
   ]
  },
  {
   "cell_type": "code",
   "execution_count": null,
   "metadata": {},
   "outputs": [],
   "source": [
    "# 点乘\n",
    "data = np.array([1, 2, 3])\n",
    "power_of_tens = np.array([[1, 10],\n",
    "                        [100, 1000],\n",
    "                        [10000, 100000]])\n",
    "data.dot(power_of_tens)"
   ]
  },
  {
   "cell_type": "code",
   "execution_count": null,
   "metadata": {},
   "outputs": [],
   "source": [
    "# 二维矩阵也可以使用@符号进行点乘乘法,\n",
    "# 但是更高维的数列则必须使用np.dot()来进行点乘\n",
    "data @ power_of_tens   # 相当于调用了np.matmul()函数"
   ]
  },
  {
   "cell_type": "code",
   "execution_count": null,
   "metadata": {},
   "outputs": [],
   "source": [
    "# 矩阵求逆\n",
    "data = np.array([[1, 2], [3, 4]])\n",
    "np.linalg.inv(data)"
   ]
  },
  {
   "cell_type": "code",
   "execution_count": null,
   "metadata": {},
   "outputs": [],
   "source": [
    "# 矩阵行列式\n",
    "np.linalg.det(data)"
   ]
  },
  {
   "cell_type": "markdown",
   "metadata": {},
   "source": [
    "### 习题五"
   ]
  },
  {
   "cell_type": "markdown",
   "metadata": {},
   "source": [
    "下面的函数输入参数是两个二维矩阵`A`和`B`，要求函数计算`A`和`B`的矩阵乘积，将乘积结果的矩阵(乘积结果不是奇异矩阵并且可逆)求逆后返回结果。请注意不要使用循环语句遍历矩阵。\n",
    "\n",
    "例如：\n",
    "```python\n",
    "A = np.array([\n",
    "    [1, 2],\n",
    "    [3, 4]\n",
    "])\n",
    "\n",
    "B = np.array([\n",
    "    [1, 0],\n",
    "    [0, 1],\n",
    "])\n",
    "```\n",
    "\n",
    "返回值应该如下：\n",
    "```python\n",
    "array([[-2. ,  1. ],\n",
    "       [ 1.5, -0.5]])\n",
    "```"
   ]
  },
  {
   "cell_type": "code",
   "execution_count": null,
   "metadata": {},
   "outputs": [],
   "source": [
    "# UNQ_C5 (UNIQUE CELL IDENTIFIER, DO NOT EDIT)\n",
    "# GRADED FUNCTION: matrix_product_and_inverse\n",
    "\n",
    "def matrix_product_and_inverse(A, B):\n",
    "    \"\"\"\n",
    "    计算矩阵A和B的乘积,然后求逆\n",
    "    \"\"\"\n",
    "\n",
    "    # 大约需要2行代码\n",
    "    # 你编写的代码从这里开始\n",
    "    product = ...    # 计算矩阵A和B的乘积\n",
    "    inverse = ...    # 矩阵求逆\n",
    "    # 你编写的代码到这里结束\n",
    "\n",
    "    return inverse"
   ]
  },
  {
   "cell_type": "code",
   "execution_count": null,
   "metadata": {},
   "outputs": [],
   "source": [
    "m1 = np.array([\n",
    "    [1, 2],\n",
    "    [3, 4]\n",
    "])\n",
    "m2 = np.eye(2)\n",
    "matrix_product_and_inverse(m1, m2)\n",
    "# 输出结果应该是： array([[-2. ,  1. ],  [ 1.5, -0.5]])"
   ]
  },
  {
   "cell_type": "code",
   "execution_count": null,
   "metadata": {},
   "outputs": [],
   "source": [
    "# 测试习题5\n",
    "testsuite2.test_matrix_product_and_inverse(matrix_product_and_inverse)"
   ]
  },
  {
   "cell_type": "markdown",
   "metadata": {},
   "source": [
    "### 矩阵的聚合"
   ]
  },
  {
   "cell_type": "code",
   "execution_count": null,
   "metadata": {},
   "outputs": [],
   "source": [
    "display(Image(\"./img/2023-10-27-13-33-54.png\", width=800, height=400))"
   ]
  },
  {
   "cell_type": "code",
   "execution_count": null,
   "metadata": {},
   "outputs": [],
   "source": [
    "data = np.array([[1, 2],[5, 3], [4, 6]])\n",
    "print(data.max())\n",
    "print(data.min())\n",
    "print(data.sum())"
   ]
  },
  {
   "cell_type": "code",
   "execution_count": null,
   "metadata": {},
   "outputs": [],
   "source": [
    "display(Image(\"./img/2023-10-27-13-34-55.png\", width=800, height=400))"
   ]
  },
  {
   "cell_type": "code",
   "execution_count": null,
   "metadata": {},
   "outputs": [],
   "source": [
    "print(data)\n",
    "print('求每列最大值:',data.max(axis=0))\n",
    "\n",
    "print('求每行最大值:',data.max(axis=1))\n",
    "\n",
    "print('计算每列的和:',data.sum(axis=0))\n",
    "\n",
    "print('计算每行的和:',data.sum(axis=1))\n",
    "\n",
    "print('计算每列的平均值:', data.mean(axis=0))"
   ]
  },
  {
   "cell_type": "markdown",
   "metadata": {},
   "source": [
    "### 习题六"
   ]
  },
  {
   "cell_type": "markdown",
   "metadata": {},
   "source": [
    "下面函数的输入参数是二维矩阵，存储了某班级学生的各科的成绩，每一行代表一个学生的各科成绩，每一列代表一门课程的所有学生的成绩。要求函数计算每门课程的平均成绩和每个学生的总成绩。请注意不要使用循环语句遍历矩阵。\n",
    "\n",
    "例如：\n",
    "```python\n",
    "scores = np.array([\n",
    "    [80, 90, 85],\n",
    "    [70, 60, 65],\n",
    "    [90, 80, 85],\n",
    "    [85, 75, 80],\n",
    "    [60, 70, 75],\n",
    "])\n",
    "```\n",
    "\n",
    "返回值应该如下：\n",
    "```python\n",
    "(array([77., 75., 78.]), array([255., 195., 255., 240., 205.]))\n",
    "```"
   ]
  },
  {
   "cell_type": "code",
   "execution_count": null,
   "metadata": {},
   "outputs": [],
   "source": [
    "# UNQ_C6 (UNIQUE CELL IDENTIFIER, DO NOT EDIT)\n",
    "# GRADED FUNCTION: compute_scores\n",
    "\n",
    "def compute_scores(scores):\n",
    "    \"\"\"\n",
    "    计算每个学生的总分和每门科目的平均分\n",
    "    \"\"\"\n",
    "\n",
    "    # 大约需要2行代码\n",
    "    # 你编写的代码从这里开始\n",
    "    mean = ...     # 计算每个科目的平均分\n",
    "    total = ...    # 计算每个学生的总分\n",
    "\n",
    "    # 你编写的代码到这里结束\n",
    "\n",
    "    return  mean, total"
   ]
  },
  {
   "cell_type": "code",
   "execution_count": null,
   "metadata": {},
   "outputs": [],
   "source": [
    "scores = np.array([\n",
    "    [80, 90, 85],\n",
    "    [70, 60, 65],\n",
    "    [90, 80, 85],\n",
    "    [85, 75, 80],\n",
    "    [60, 70, 75],\n",
    "])\n",
    "compute_scores(scores)\n",
    "# 输出结果应该是： (array([77. , 75. , 78.]), array([255, 195, 255, 240, 205]))"
   ]
  },
  {
   "cell_type": "code",
   "execution_count": null,
   "metadata": {},
   "outputs": [],
   "source": [
    "# 测试习题6\n",
    "testsuite2.test_compute_scores(compute_scores)"
   ]
  },
  {
   "cell_type": "markdown",
   "metadata": {},
   "source": [
    "### 在数列操作中使用条件逻辑"
   ]
  },
  {
   "cell_type": "markdown",
   "metadata": {},
   "source": [
    "`numpy.where`语句是向量化的`if else`语句"
   ]
  },
  {
   "cell_type": "code",
   "execution_count": null,
   "metadata": {},
   "outputs": [],
   "source": [
    "xarr = np.array([1.1, 1.2, 1.3, 1.4, 1.5])\n",
    "yarr = np.array([2.1, 2.2, 2.3, 2.4, 2.5])\n",
    "cond = np.array([True, False, True, True, False])"
   ]
  },
  {
   "cell_type": "markdown",
   "metadata": {},
   "source": [
    "如果条件数列`cond`的元素为`True`，我们就取xarr中的元素，如果为`False`，我们就取yarr中的元素。"
   ]
  },
  {
   "cell_type": "code",
   "execution_count": null,
   "metadata": {},
   "outputs": [],
   "source": [
    "# 非向量化的方法\n",
    "# 这样速度会很慢, 而且也不适用于高维度的数据\n",
    "result = [( x if c else y)\n",
    "          for x,y,c in zip(xarr, yarr, cond)]\n",
    "result"
   ]
  },
  {
   "cell_type": "code",
   "execution_count": null,
   "metadata": {},
   "outputs": [],
   "source": [
    "# 向量化的方法\n",
    "# 速度更快，并且适用于多维向量\n",
    "result = np.where(cond, xarr, yarr)\n",
    "result"
   ]
  },
  {
   "cell_type": "code",
   "execution_count": null,
   "metadata": {},
   "outputs": [],
   "source": [
    "# np.where语句的第二个和第三个参数也可以是标量\n",
    "arr = np.arange(5)\n",
    "print(arr > 2)\n",
    "np.where(arr > 2,  1,  -1)"
   ]
  },
  {
   "cell_type": "markdown",
   "metadata": {},
   "source": [
    "### 习题七"
   ]
  },
  {
   "cell_type": "markdown",
   "metadata": {},
   "source": [
    "完成下面的函数，函数输入是：\n",
    "- scores: 考试成绩的数列\n",
    "- threshold: 考试成绩及格分数（可选参数）\n",
    "\n",
    "函数返回：\n",
    "- pass_status: 考试成绩通过与否的布尔数列, True表示通过, False表示不通过\n",
    "- grades: numpy数组, 包含成绩等级字符串 ('A', 'B', 'C', 'D', 'F')，A(>=90), B(>=80), C(>=70), D(>=60), F(<60)\n",
    "- bonus_scores: numpy数组, 优秀学生(>=90分)获得5分奖励, 其他学生分数不变\n",
    "\n",
    "习题要求：\n",
    "- 要求使用向量化操作，不能使用循环语句\n",
    "- 要求使用`np.where`语句，不能使用`if else`语句"
   ]
  },
  {
   "cell_type": "code",
   "execution_count": null,
   "metadata": {},
   "outputs": [],
   "source": [
    "# UNQ_C7 (UNIQUE CELL IDENTIFIER, DO NOT EDIT)\n",
    "# GRADED FUNCTION: process_exam_results\n",
    "\n",
    "def process_exam_results(scores, pass_threshold=60):\n",
    "    \"\"\"\n",
    "    处理考试成绩，根据分数判断通过/不通过状态和等级\n",
    "\n",
    "    参数:\n",
    "    scores: numpy数组, 包含学生成绩\n",
    "    pass_threshold: 及格线, 默认为60分\n",
    "\n",
    "    返回:\n",
    "    pass_status: numpy数组, True表示通过, False表示不通过\n",
    "    grades: numpy数组, 包含等级字符串 ('A', 'B', 'C', 'D', 'F')\n",
    "    bonus_scores: numpy数组, 优秀学生(>=90分)获得5分奖励, 其他学生分数不变\n",
    "    \"\"\"\n",
    "\n",
    "    # 大约需要3-6行代码，必须使用np.where函数\n",
    "    # 你编写的代码从这里开始\n",
    "    pass_status = ...\n",
    "    grades = ...\n",
    "    bonus_scores = ...\n",
    "\n",
    "    # 你编写的代码到这里结束\n",
    "    return pass_status, grades, bonus_scores"
   ]
  },
  {
   "cell_type": "code",
   "execution_count": null,
   "metadata": {},
   "outputs": [],
   "source": [
    "scores = np.array([[90, 80, 70], [80, 80, 70], [70, 60, 50]])\n",
    "process_exam_results(scores)\n",
    "# 预期结果为：\n",
    "# (array([[ True,  True,  True],\n",
    "#         [ True,  True,  True],\n",
    "#         [ True,  True, False]]),\n",
    "#  array([['A', 'B', 'C'],\n",
    "#         ['B', 'B', 'C'],\n",
    "#         ['C', 'C', 'F']], dtype='<U1'),\n",
    "#  array([[95, 80, 70],\n",
    "#         [80, 80, 70],\n",
    "#         [70, 60, 50]]))"
   ]
  },
  {
   "cell_type": "code",
   "execution_count": null,
   "metadata": {},
   "outputs": [],
   "source": [
    "# 测试习题7\n",
    "testsuite2.test_process_exam_results(process_exam_results)"
   ]
  },
  {
   "cell_type": "markdown",
   "metadata": {},
   "source": [
    "### 更高维的数组（tensor--张量）"
   ]
  },
  {
   "cell_type": "code",
   "execution_count": null,
   "metadata": {},
   "outputs": [],
   "source": [
    "display(Image(\"./img/2023-10-27-14-11-21.png\", width=800, height=400))"
   ]
  },
  {
   "cell_type": "code",
   "execution_count": null,
   "metadata": {},
   "outputs": [],
   "source": [
    "np.arange(1,9).reshape(2, 2, 2)"
   ]
  },
  {
   "cell_type": "code",
   "execution_count": null,
   "metadata": {},
   "outputs": [],
   "source": [
    "print(np.ones((4, 3, 2)))\n",
    "print(np.zeros((4, 3, 2)))\n",
    "print(np.random.random((4, 3, 2)))"
   ]
  },
  {
   "cell_type": "markdown",
   "metadata": {},
   "source": [
    "### Numpy的应用"
   ]
  },
  {
   "cell_type": "markdown",
   "metadata": {},
   "source": [
    "- 线性代数，统计学方面的运算\n",
    "- 表示各种类型的数据：图像，音频，文本\n",
    "- 用于机器学习和深度学习的算法"
   ]
  },
  {
   "cell_type": "code",
   "execution_count": null,
   "metadata": {},
   "outputs": [],
   "source": [
    "display(Image(\"./img/2023-10-27-14-19-04.png\", width=800, height=800))"
   ]
  },
  {
   "cell_type": "code",
   "execution_count": null,
   "metadata": {},
   "outputs": [],
   "source": [
    "display(Image(\"./img/2023-10-27-14-20-34.png\", width=800, height=800))"
   ]
  },
  {
   "cell_type": "code",
   "execution_count": null,
   "metadata": {},
   "outputs": [],
   "source": [
    "display(Image(\"./img/2023-10-27-14-21-52.png\", width=800, height=800))"
   ]
  },
  {
   "cell_type": "markdown",
   "metadata": {},
   "source": [
    "## Pandas🐼"
   ]
  },
  {
   "cell_type": "markdown",
   "metadata": {},
   "source": [
    "### `Pandas`数据结构"
   ]
  },
  {
   "cell_type": "markdown",
   "metadata": {},
   "source": [
    "`Pandas`是基于`Numpy`的一个数据处理库，提供了两种数据结构：`Series`和`DataFrame`。\n",
    "\n",
    "- `Series`是一个一维的数据结构，类似于`Numpy`中的一维数组，不同的是`Series`可以有非整数的索引（被称作标签），可以通过标签来访问数据。\n",
    "- `DataFrame`是一个二维的数据结构，类似于电子表格或者SQL表，可以存储多种类型的数据，可以通过行和列的索引(可以不是整数)来访问数据, `DataFrame`可以看作是由多个`Series`组成的。"
   ]
  },
  {
   "cell_type": "markdown",
   "metadata": {},
   "source": [
    "### 加载数据"
   ]
  },
  {
   "cell_type": "code",
   "execution_count": null,
   "metadata": {},
   "outputs": [],
   "source": [
    "display(Image(\"./img/2023-10-31-07-58-44.png\", width=800, height=600))"
   ]
  },
  {
   "cell_type": "code",
   "execution_count": null,
   "metadata": {},
   "outputs": [],
   "source": [
    "import pandas as pd\n",
    "\n",
    "# 读取csv文件,得到二维结构的数据： DataFrame\n",
    "df = pd.read_csv('./data/music.csv')\n",
    "df"
   ]
  },
  {
   "cell_type": "markdown",
   "metadata": {},
   "source": [
    "pandas可以从下面这些来源加载数据：\n",
    "\n",
    "- CSV\n",
    "- Excel\n",
    "- HTML\n",
    "- JSON\n",
    "- SQL\n",
    "- API\n",
    "- 等等其他"
   ]
  },
  {
   "cell_type": "markdown",
   "metadata": {},
   "source": [
    "### 选择数据"
   ]
  },
  {
   "cell_type": "code",
   "execution_count": null,
   "metadata": {},
   "outputs": [],
   "source": [
    "# 按照列名选择数据\n",
    "df['Artist']"
   ]
  },
  {
   "cell_type": "code",
   "execution_count": null,
   "metadata": {},
   "outputs": [],
   "source": [
    "# 选择多列数据\n",
    "df[['Artist', 'Plays']]"
   ]
  },
  {
   "cell_type": "code",
   "execution_count": null,
   "metadata": {},
   "outputs": [],
   "source": [
    "# 按照行索引选择数据\n",
    "df[1:3]"
   ]
  },
  {
   "cell_type": "code",
   "execution_count": null,
   "metadata": {},
   "outputs": [],
   "source": [
    "# 按照行索引和列索引选择数据\n",
    "df.loc[1:3, ['Artist', 'Plays']]"
   ]
  },
  {
   "cell_type": "markdown",
   "metadata": {},
   "source": [
    "### 过滤数据"
   ]
  },
  {
   "cell_type": "code",
   "execution_count": null,
   "metadata": {},
   "outputs": [],
   "source": [
    "df[df['Genre']=='Jazz']"
   ]
  },
  {
   "cell_type": "code",
   "execution_count": null,
   "metadata": {},
   "outputs": [],
   "source": [
    "df[df['Listeners'] > 1800000]"
   ]
  },
  {
   "cell_type": "markdown",
   "metadata": {},
   "source": [
    "### 处理数据缺失的情况"
   ]
  },
  {
   "cell_type": "code",
   "execution_count": null,
   "metadata": {},
   "outputs": [],
   "source": [
    "display(Image(\"./img/2023-10-31-08-20-30.png\", width=800, height=600))"
   ]
  },
  {
   "cell_type": "code",
   "execution_count": null,
   "metadata": {},
   "outputs": [],
   "source": [
    "df2 = pd.read_csv('./data/music copy.csv')\n",
    "df2"
   ]
  },
  {
   "cell_type": "code",
   "execution_count": null,
   "metadata": {},
   "outputs": [],
   "source": [
    "df2.dropna()"
   ]
  },
  {
   "cell_type": "code",
   "execution_count": null,
   "metadata": {},
   "outputs": [],
   "source": [
    "df2.fillna(method='ffill')"
   ]
  },
  {
   "cell_type": "markdown",
   "metadata": {},
   "source": [
    "### Grouping"
   ]
  },
  {
   "cell_type": "code",
   "execution_count": null,
   "metadata": {},
   "outputs": [],
   "source": [
    "df.groupby('Genre').sum()"
   ]
  },
  {
   "cell_type": "markdown",
   "metadata": {},
   "source": [
    "### 创建新的列"
   ]
  },
  {
   "cell_type": "code",
   "execution_count": null,
   "metadata": {},
   "outputs": [],
   "source": [
    "# 计算每个歌手的平均播放量\n",
    "df['Avg Plays'] = df['Plays'] / df['Listeners']\n",
    "df"
   ]
  },
  {
   "cell_type": "markdown",
   "metadata": {},
   "source": [
    "### 习题八"
   ]
  },
  {
   "cell_type": "markdown",
   "metadata": {},
   "source": [
    "函数输入的DataFrame数据格式如下：\n",
    "\n",
    "| 列名         | 类型    |  \n",
    "|--------------|---------|  \n",
    "| name         | varchar |  \n",
    "| continent    | varchar |  \n",
    "| area         | int     |  \n",
    "| population   | int     |  \n",
    "| gdp          | bigint  |\n",
    "\n",
    "**`name` 是表的主键（具有唯一值的列）。**  \n",
    "表中的每一行提供了一个国家的信息，包括国家名称、所属大陆、国土面积、人口数量以及 GDP 值。\n",
    "\n",
    "---\n",
    "\n",
    "**一个国家被认为是“大国”如果：**  \n",
    "- 它的国土面积至少为 3,000,000 平方千米（即 3000000 km²）；或  \n",
    "- 它的人口数量至少为 25,000,000（即 25000000）。  \n",
    "\n",
    "请编写一个函数，查询“大国”的名称、人口和国土面积，返回结果表的顺序可以任意。请注意不要使用循环语句遍历数据。\n",
    "\n",
    "---\n",
    "\n",
    "例如：\n",
    "\n",
    "**输入：**  \n",
    "World 表：  \n",
    "| name        | continent | area    | population | gdp          |  \n",
    "|-------------|-----------|---------|------------|--------------|  \n",
    "| Afghanistan | Asia      | 652230  | 25500100   | 20343000000  |  \n",
    "| Albania     | Europe    | 28748   | 2831741    | 12960000000  |  \n",
    "| Algeria     | Africa    | 2381741 | 37100000   | 188681000000 |  \n",
    "| Andorra     | Europe    | 468     | 78115      | 3712000000   |  \n",
    "| Angola      | Africa    | 1246700 | 20609294   | 100990000000 |  \n",
    "\n",
    "**输出：**  \n",
    "| name        | population | area    |  \n",
    "|-------------|------------|---------|  \n",
    "| Afghanistan | 25500100   | 652230  |  \n",
    "| Algeria     | 37100000   | 2381741 |\n"
   ]
  },
  {
   "cell_type": "code",
   "execution_count": null,
   "metadata": {},
   "outputs": [],
   "source": [
    "# UNQ_C8 (UNIQUE CELL IDENTIFIER, DO NOT EDIT)\n",
    "# GRADED FUNCTION: big_countries\n",
    "\n",
    "def big_countries(df):\n",
    "    \"\"\"\n",
    "    获取“大国”的国家名称、人口和面积。\n",
    "    一个国家被认为是“大国”如果：\n",
    "    - 面积至少为 3,000,000 平方千米 (3000000) 或\n",
    "    - 人口至少为 25,000,000 (25000000)\n",
    "    \"\"\"\n",
    "\n",
    "\n",
    "    # 大约需要1-3行代码\n",
    "    # 你编写的代码从这里开始\n",
    "    big_countries = ...\n",
    "    result = ...\n",
    "    # 你编写的代码到这里结束\n",
    "    return result"
   ]
  },
  {
   "cell_type": "code",
   "execution_count": null,
   "metadata": {},
   "outputs": [],
   "source": [
    "data = {\n",
    "    \"name\": [\"Afghanistan\", \"Albania\", \"Algeria\", \"Andorra\", \"Angola\"],\n",
    "    \"continent\": [\"Asia\", \"Europe\", \"Africa\", \"Europe\", \"Africa\"],\n",
    "    \"area\": [652230, 28748, 2381741, 468, 1246700],\n",
    "    \"population\": [25500100, 2831741, 37100000, 78115, 20609294],\n",
    "    \"gdp\": [20343000000, 12960000000, 188681000000, 3712000000, 100990000000]\n",
    "}\n",
    "df = pd.DataFrame(data)\n",
    "print(big_countries(df))\n",
    "# 输出结果应该是：\n",
    "#           name  population     area\n",
    "# 0  Afghanistan    25500100   652230\n",
    "# 2      Algeria    37100000  2381741"
   ]
  },
  {
   "cell_type": "code",
   "execution_count": null,
   "metadata": {},
   "outputs": [],
   "source": [
    "# 测试习题8\n",
    "testsuite2.test_big_countries(big_countries)"
   ]
  },
  {
   "cell_type": "markdown",
   "metadata": {},
   "source": [
    "## 实验讨论"
   ]
  },
  {
   "cell_type": "markdown",
   "metadata": {},
   "source": [
    "请就下面的问题进行小组讨论，将讨论的内容记录下来。"
   ]
  },
  {
   "cell_type": "markdown",
   "metadata": {},
   "source": [
    "- 问题一： 为什么在对大规模数据进行计算时，要使用numpy这样的向量化操作（尽量避免使用for循环）？这样做有什么好处？\n",
    "- 问题2： 查找资料，在Numpy中还有哪些常见的聚合操作，聚合操作中的axis参数是什么意思？请举几个例子。\n",
    "- 问题3： Pandas中两种最常见的数据结构是什么？使用一些简单的例子来解释一下这两种数据结构是如何构成的？"
   ]
  },
  {
   "cell_type": "markdown",
   "metadata": {},
   "source": [
    "## 生成实验报告"
   ]
  },
  {
   "cell_type": "markdown",
   "metadata": {},
   "source": [
    "将实验报告pdf文件提交到对应的班级和实验的腾讯文档收集表:[文档汇总地址](https://docs.qq.com/doc/DWUxJanVwYXFpZmF2)"
   ]
  },
  {
   "cell_type": "code",
   "execution_count": null,
   "metadata": {},
   "outputs": [],
   "source": [
    "stu_grade = testsuite2.grade_all_tests(notebook_file)\n",
    "pdf_file = f\"{stu_info['class_id']}-{stu_info['student_id']}-{stu_info['name']}-实验报告2-{stu_grade}.pdf\"\n",
    "convert_notebook_to_webpdf(notebook_file, pdf_file)"
   ]
  },
  {
   "cell_type": "markdown",
   "metadata": {},
   "source": [
    "## 参考资料📖"
   ]
  },
  {
   "cell_type": "markdown",
   "metadata": {},
   "source": [
    "- Numpy文章：[A Visual Intro to NumPy and Data Representation](https://jalammar.github.io/visual-numpy/)\n",
    "\n",
    "- Numpy文章的中文版：[Numpy和数据展示的可视化介绍](http://www.junphy.com/wordpress/index.php/2019/10/24/visual-numpy)\n",
    "\n",
    "- Pandas文章:[A Gentle Visual Intro to Data Analysis in Python Using Pandas](https://jalammar.github.io/gentle-visual-intro-to-data-analysis-python-pandas)"
   ]
  },
  {
   "cell_type": "markdown",
   "metadata": {},
   "source": [
    "参考书：[利用Python进行数据分析（原书第3版)](https://m.douban.com/book/subject/36632126/)\n",
    "\n",
    "github地址：[利用Python进行数据分析（原书第3版)源代码](https://github.com/wesm/pydata-book)"
   ]
  }
 ],
 "metadata": {
  "kernelspec": {
   "display_name": "base",
   "language": "python",
   "name": "python3"
  },
  "language_info": {
   "codemirror_mode": {
    "name": "ipython",
    "version": 3
   },
   "file_extension": ".py",
   "mimetype": "text/x-python",
   "name": "python",
   "nbconvert_exporter": "python",
   "pygments_lexer": "ipython3",
   "version": "3.12.3"
  }
 },
 "nbformat": 4,
 "nbformat_minor": 2
}
