{
 "cells": [
  {
   "cell_type": "markdown",
   "metadata": {},
   "source": [
    "# 12-Python序列数据"
   ]
  },
  {
   "cell_type": "markdown",
   "metadata": {},
   "source": [
    "## 大纲"
   ]
  },
  {
   "cell_type": "markdown",
   "metadata": {},
   "source": [
    "- 概述\n",
    "- 列表推导式与生成器表达式\n",
    "- 拆包与嵌套拆包\n",
    "- 序列模式匹配\n",
    "- 切片\n",
    "- 其他序列数据结构： 数组，memeoryview, 双端队列和其他队列"
   ]
  },
  {
   "cell_type": "markdown",
   "metadata": {},
   "source": [
    "## 概述"
   ]
  },
  {
   "cell_type": "markdown",
   "metadata": {},
   "source": [
    "序列数据可以分为：\n",
    "\n",
    "- 容器序列（container sequence）: 可以存放不同类型的元素，包括嵌套的容器，例如： list, tuple, collections.deque\n",
    "\n",
    "- 扁平序列（flat sequence）: 可以存放一种简单类型(int, float, byte)的元素。例如：str, bytes, array.array"
   ]
  },
  {
   "cell_type": "markdown",
   "metadata": {},
   "source": [
    "![container vs flat](./img/2024-03-25-16-28-16.png)"
   ]
  },
  {
   "cell_type": "markdown",
   "metadata": {},
   "source": [
    "任何Python对象在内存中都有一个包含元数据的标头。最简单的Python对象，例如一个float，内存标头中有一个值字段和两个元数据字段。\n",
    "\n",
    "- ob_refcnt：对象的引用计数\n",
    "- ob_type：指向对象类型的指针\n",
    "- ob_fval：一个 C 语言 double 类型值，存放 float 的值"
   ]
  },
  {
   "cell_type": "markdown",
   "metadata": {},
   "source": [
    "序列数据还可以分为：\n",
    "\n",
    "- 可变序列（mutable sequence）: list, bytearray, array.array, collections.deque, memoryview\n",
    "\n",
    "- 不可变序列（immutable sequence）: tuple, str, bytes\n",
    "\n",
    "- 可变序列继承不可变序列的所有方法，另外还多实现了几个方法。"
   ]
  },
  {
   "cell_type": "code",
   "execution_count": 1,
   "metadata": {},
   "outputs": [
    {
     "data": {
      "text/plain": [
       "True"
      ]
     },
     "execution_count": 1,
     "metadata": {},
     "output_type": "execute_result"
    }
   ],
   "source": [
    "from collections import abc\n",
    "issubclass(tuple, abc.Sequence)"
   ]
  },
  {
   "cell_type": "code",
   "execution_count": 2,
   "metadata": {},
   "outputs": [
    {
     "data": {
      "text/plain": [
       "True"
      ]
     },
     "execution_count": 2,
     "metadata": {},
     "output_type": "execute_result"
    }
   ],
   "source": [
    "issubclass(list, abc.MutableSequence)"
   ]
  },
  {
   "cell_type": "markdown",
   "metadata": {},
   "source": [
    "![UML Diagram](./img/2024-03-25-20-08-09.png)"
   ]
  },
  {
   "cell_type": "markdown",
   "metadata": {},
   "source": [
    "## 列表推导式与生成器表达式"
   ]
  },
  {
   "cell_type": "markdown",
   "metadata": {},
   "source": [
    "- Python 会忽略 []、{} 和 () 内部的换行。因此，列表、列表推导式、元\n",
    "组、字典等结构完全可以分成几行来写，无须使用续行转义符 \\。\n",
    "- 使用这3种括号定义字面量时，项与项之间使用逗号分隔，末尾的逗号将被忽略。\n",
    "- 跨多行定义列表字面量时，最好在最后一项后面添加一个逗号。"
   ]
  },
  {
   "cell_type": "code",
   "execution_count": 3,
   "metadata": {},
   "outputs": [
    {
     "data": {
      "text/plain": [
       "[36, 162, 163, 165, 8364, 164]"
      ]
     },
     "execution_count": 3,
     "metadata": {},
     "output_type": "execute_result"
    }
   ],
   "source": [
    "# 打印符号的Unicode码位\n",
    "\n",
    "symbols = '$¢£¥€¤'\n",
    "codes = []\n",
    "for symbol in symbols:\n",
    "    codes.append(ord(symbol))\n",
    "codes"
   ]
  },
  {
   "cell_type": "code",
   "execution_count": 4,
   "metadata": {},
   "outputs": [
    {
     "data": {
      "text/plain": [
       "[36, 162, 163, 165, 8364, 164]"
      ]
     },
     "execution_count": 4,
     "metadata": {},
     "output_type": "execute_result"
    }
   ],
   "source": [
    "# 与上面的代码等效\n",
    "\n",
    "symbols = '$¢£¥€¤'\n",
    "codes = [ord(symbol) for symbol in symbols]\n",
    "codes"
   ]
  },
  {
   "cell_type": "code",
   "execution_count": 5,
   "metadata": {},
   "outputs": [
    {
     "data": {
      "text/plain": [
       "'ABC'"
      ]
     },
     "execution_count": 5,
     "metadata": {},
     "output_type": "execute_result"
    }
   ],
   "source": [
    "# 列表推导式和生成器表达式的局部作用域\n",
    "\n",
    "x = 'ABC'\n",
    "codes = [ord(x) for x in x]\n",
    "x"
   ]
  },
  {
   "cell_type": "code",
   "execution_count": 6,
   "metadata": {},
   "outputs": [
    {
     "data": {
      "text/plain": [
       "67"
      ]
     },
     "execution_count": 6,
     "metadata": {},
     "output_type": "execute_result"
    }
   ],
   "source": [
    "codes = [last:=ord(c) for c in x]\n",
    "last"
   ]
  },
  {
   "cell_type": "code",
   "execution_count": 7,
   "metadata": {},
   "outputs": [
    {
     "ename": "NameError",
     "evalue": "name 'c' is not defined",
     "output_type": "error",
     "traceback": [
      "\u001b[1;31m---------------------------------------------------------------------------\u001b[0m",
      "\u001b[1;31mNameError\u001b[0m                                 Traceback (most recent call last)",
      "Cell \u001b[1;32mIn[7], line 1\u001b[0m\n\u001b[1;32m----> 1\u001b[0m \u001b[43mc\u001b[49m\n",
      "\u001b[1;31mNameError\u001b[0m: name 'c' is not defined"
     ]
    }
   ],
   "source": [
    "c"
   ]
  },
  {
   "cell_type": "markdown",
   "metadata": {},
   "source": [
    "- x毫发无损，绑定的值仍然是'ABC'\n",
    "- 使用海象运算符赋值:= 的 last 仍然可以访问\n",
    "- c消失了，因为它只存在于列表推导式的内部"
   ]
  },
  {
   "cell_type": "markdown",
   "metadata": {},
   "source": [
    "生成器表达式"
   ]
  },
  {
   "cell_type": "code",
   "execution_count": null,
   "metadata": {},
   "outputs": [
    {
     "data": {
      "text/plain": [
       "(36, 162, 163, 165, 8364, 164)"
      ]
     },
     "execution_count": 12,
     "metadata": {},
     "output_type": "execute_result"
    }
   ],
   "source": [
    "symbols = '$¢£¥€¤'\n",
    "my_gen = (ord(symbol) for symbol in symbols)\n",
    "tuple(my_gen)"
   ]
  },
  {
   "cell_type": "markdown",
   "metadata": {},
   "source": [
    "生成器可以作为函数的参数，如果生成器表达式是唯一的参数，可以省略括号。"
   ]
  },
  {
   "cell_type": "code",
   "execution_count": null,
   "metadata": {},
   "outputs": [
    {
     "data": {
      "text/plain": [
       "(36, 162, 163, 165, 8364, 164)"
      ]
     },
     "execution_count": 10,
     "metadata": {},
     "output_type": "execute_result"
    }
   ],
   "source": [
    "symbols = '$¢£¥€¤'\n",
    "tuple(ord(symbol) for symbol in symbols)"
   ]
  },
  {
   "cell_type": "code",
   "execution_count": null,
   "metadata": {},
   "outputs": [
    {
     "data": {
      "text/plain": [
       "array('I', [36, 162, 163, 165, 8364, 164])"
      ]
     },
     "execution_count": 11,
     "metadata": {},
     "output_type": "execute_result"
    }
   ],
   "source": [
    "import array\n",
    "array.array('I', (ord(symbol) for symbol in symbols))"
   ]
  },
  {
   "cell_type": "markdown",
   "metadata": {},
   "source": [
    "## 序列与可迭代对象拆包（unpack）"
   ]
  },
  {
   "cell_type": "markdown",
   "metadata": {},
   "source": [
    "最典型的拆包就是并行赋值（parallel assignment）"
   ]
  },
  {
   "cell_type": "code",
   "execution_count": null,
   "metadata": {},
   "outputs": [
    {
     "data": {
      "text/plain": [
       "33.9425"
      ]
     },
     "execution_count": 13,
     "metadata": {},
     "output_type": "execute_result"
    }
   ],
   "source": [
    "lax_coordinates = (33.9425, -118.408056)\n",
    "latitude, longitude = lax_coordinates\n",
    "latitude"
   ]
  },
  {
   "cell_type": "code",
   "execution_count": null,
   "metadata": {},
   "outputs": [
    {
     "data": {
      "text/plain": [
       "-118.408056"
      ]
     },
     "execution_count": 14,
     "metadata": {},
     "output_type": "execute_result"
    }
   ],
   "source": [
    "longitude"
   ]
  },
  {
   "cell_type": "code",
   "execution_count": null,
   "metadata": {},
   "outputs": [
    {
     "name": "stdout",
     "output_type": "stream",
     "text": [
      "20 10\n"
     ]
    }
   ],
   "source": [
    "# 利用拆包交换变量的值\n",
    "a = 10\n",
    "b = 20\n",
    "a, b = b, a\n",
    "print(a, b)"
   ]
  },
  {
   "cell_type": "markdown",
   "metadata": {},
   "source": [
    "利用 * 运算符可以拆包任意长度的可迭代对象"
   ]
  },
  {
   "cell_type": "code",
   "execution_count": null,
   "metadata": {},
   "outputs": [
    {
     "data": {
      "text/plain": [
       "(2, 4)"
      ]
     },
     "execution_count": 17,
     "metadata": {},
     "output_type": "execute_result"
    }
   ],
   "source": [
    "divmod(20, 8)"
   ]
  },
  {
   "cell_type": "code",
   "execution_count": null,
   "metadata": {},
   "outputs": [
    {
     "data": {
      "text/plain": [
       "(2, 4)"
      ]
     },
     "execution_count": 18,
     "metadata": {},
     "output_type": "execute_result"
    }
   ],
   "source": [
    "t = (20, 8)\n",
    "divmod(*t)"
   ]
  },
  {
   "cell_type": "markdown",
   "metadata": {},
   "source": [
    "### 嵌套拆包"
   ]
  },
  {
   "cell_type": "code",
   "execution_count": null,
   "metadata": {},
   "outputs": [],
   "source": [
    "metro_areas = [\n",
    "    ('Tokyo', 'JP', 36.933, (35.689722, 139.691667)),\n",
    "    ('Delhi NCR', 'IN', 21.935, (28.613889, 77.208889)),\n",
    "    ('Mexico City', 'MX', 20.142, (19.433333, -99.133333)),\n",
    "    ('New York-Newark', 'US', 20.104, (40.808611, -74.020386)),\n",
    "    ('São Paulo', 'BR', 19.649, (-23.547778, -46.635833)),\n",
    "]\n",
    "\n",
    "def main():\n",
    "    print(f'{\"\":15} | {\"latitude\":>9} | {\"longitude\":>9}')\n",
    "    for name, _, _, (lat, lon) in metro_areas:  # <2>\n",
    "        if lon <= 0:  # <3>\n",
    "            print(f'{name:15} | {lat:9.4f} | {lon:9.4f}')\n",
    "\n",
    "if __name__ == '__main__':\n",
    "    main()"
   ]
  },
  {
   "cell_type": "markdown",
   "metadata": {},
   "source": [
    "- 每个元组是一个四字段记录，最后一个字段是坐标对。\n",
    "\n",
    "- 把最后一个字段赋值给一个嵌套元组，拆包坐标对。\n",
    "\n",
    "- lon<=0是测试条件，只选取了西半球的城市。"
   ]
  },
  {
   "cell_type": "markdown",
   "metadata": {},
   "source": [
    "## 切片"
   ]
  },
  {
   "cell_type": "markdown",
   "metadata": {},
   "source": [
    "切片和区间排除最后一项是一种 Python 风格约定，这与Python、C 和很多其他语言中从零开始的索引相匹配。排除最后一项可以带来以下好处。\n",
    "\n",
    "- 在仅指定停止位置时，容易判断切片或区间的长度。例如，range(3) 和my_list[:3] 都只产生 3 项。\n",
    "\n",
    "- 同时指定起始和停止位置时，容易计算切片或区间的长度，做个减法即可：stop - start。\n",
    "\n",
    "- 方便在索引 x 处把一个序列拆分成两部分而不产生重叠，直接使用 my_list[:x]和 my_list[x:] 即可。例如："
   ]
  },
  {
   "cell_type": "code",
   "execution_count": null,
   "metadata": {},
   "outputs": [
    {
     "data": {
      "text/plain": [
       "[10, 20]"
      ]
     },
     "execution_count": 20,
     "metadata": {},
     "output_type": "execute_result"
    }
   ],
   "source": [
    "l = [10, 20, 30, 40, 50, 60]\n",
    "l[:2]"
   ]
  },
  {
   "cell_type": "code",
   "execution_count": null,
   "metadata": {},
   "outputs": [
    {
     "data": {
      "text/plain": [
       "[30, 40, 50, 60]"
      ]
     },
     "execution_count": 21,
     "metadata": {},
     "output_type": "execute_result"
    }
   ],
   "source": [
    "l[2:]"
   ]
  },
  {
   "cell_type": "markdown",
   "metadata": {},
   "source": [
    "## 使用双端队列deque"
   ]
  },
  {
   "cell_type": "markdown",
   "metadata": {},
   "source": [
    "- `list` 只有在末尾附加（`append`）数据时是高效的.\n",
    "- 使用`deque` 在头和尾都可以高效地操作数据."
   ]
  },
  {
   "cell_type": "code",
   "execution_count": null,
   "metadata": {},
   "outputs": [
    {
     "name": "stdout",
     "output_type": "stream",
     "text": [
      "deque([-1, 0, 1, 2, 3, 4, 5, 6, 7, 8, 9, 11])\n",
      "deque([0, 1, 2, 3, 4, 5, 6, 7, 8, 9])\n"
     ]
    }
   ],
   "source": [
    "from collections import deque\n",
    "dq = deque(range(10))\n",
    "dq.append(11)\n",
    "dq.appendleft(-1)  # appendleft效率比insert(0, -1)高\n",
    "print(dq)\n",
    "\n",
    "dq.pop()\n",
    "dq.popleft()\n",
    "print(dq)"
   ]
  },
  {
   "cell_type": "code",
   "execution_count": null,
   "metadata": {},
   "outputs": [
    {
     "data": {
      "text/plain": [
       "5"
      ]
     },
     "execution_count": 2,
     "metadata": {},
     "output_type": "execute_result"
    }
   ],
   "source": [
    "dq.index(5)"
   ]
  },
  {
   "cell_type": "code",
   "execution_count": null,
   "metadata": {},
   "outputs": [
    {
     "name": "stdout",
     "output_type": "stream",
     "text": [
      "deque([-3, -2, -1, 0, 1, 2, 3, 4, 5, 6, 7, 8, 9, 11, 12, 13])\n"
     ]
    }
   ],
   "source": [
    "dq.extend([11, 12, 13])\n",
    "dq.extendleft([-1, -2, -3])\n",
    "print(dq)  "
   ]
  },
  {
   "cell_type": "code",
   "execution_count": null,
   "metadata": {},
   "outputs": [
    {
     "name": "stdout",
     "output_type": "stream",
     "text": [
      "deque([13, -3, -2, -1, 0, 1, 2, 3, 4, 5, 6, 7, 8, 9, 11, 12])\n",
      "deque([0, 1, 2, 3, 4, 5, 6, 7, 8, 9, 11, 12, 13, -3, -2, -1])\n"
     ]
    }
   ],
   "source": [
    "dq.rotate(1)  # 向右旋转1位\n",
    "print(dq)\n",
    "\n",
    "dq.rotate(-4)  # 向左旋转1位\n",
    "print(dq)"
   ]
  },
  {
   "cell_type": "markdown",
   "metadata": {},
   "source": [
    "## `match/case`语句"
   ]
  },
  {
   "cell_type": "markdown",
   "metadata": {},
   "source": [
    "- Python 3.10引入了新的`match/case`语句\n",
    "- `match/case`语句类似于C和Java中的`switch/case`语句，但更加强大,可以匹配更多的模式\n",
    "- 具体可以参考官方文档[PEP 636 – Structural Pattern Matching:\n",
    "Tutorial](https://peps.python.org/pep-0636/)\n",
    "- 或者参考《Fluent Python》一书中这些小节：\n",
    "  - Pattern Matching with Sequences\n",
    "  - Pattern Matching with Mapping\n",
    "  - Pattern Matching Class Instances\n",
    "  - Pattern Matching in lis.py: A Case Study"
   ]
  },
  {
   "cell_type": "code",
   "execution_count": null,
   "metadata": {},
   "outputs": [],
   "source": [
    "# 输入格式为: action object\n",
    "# 例如： \n",
    "# move north\n",
    "# get sword\n",
    "# attack orc\n",
    "command = input(\"What are you doing next? \")"
   ]
  },
  {
   "cell_type": "code",
   "execution_count": null,
   "metadata": {},
   "outputs": [],
   "source": [
    "match command.split():\n",
    "    case [\"quit\"]:\n",
    "        print(\"Goodbye!\")\n",
    "        print(\"quit_game()\")\n",
    "    case [\"look\"]:        \n",
    "        print(\"current_room.describe()\")\n",
    "    case [\"get\", obj]:\n",
    "        print(f\"Get a {obj}\")\n",
    "    case [\"go\", direction]:\n",
    "        print(f\"Go to the {direction}\")\n",
    "    case _:\n",
    "        print(\"Unknown command.\")"
   ]
  },
  {
   "cell_type": "code",
   "execution_count": null,
   "metadata": {},
   "outputs": [],
   "source": [
    "metro_areas = [\n",
    "    ('Tokyo', 'JP', 36.933, (35.689722, 139.691667)),\n",
    "    ('Delhi NCR', 'IN', 21.935, (28.613889, 77.208889)),\n",
    "    ('Mexico City', 'MX', 20.142, (19.433333, -99.133333)),\n",
    "    ('New York-Newark', 'US', 20.104, (40.808611, -74.020386)),\n",
    "    ('São Paulo', 'BR', 19.649, (-23.547778, -46.635833)),\n",
    "]\n",
    "\n",
    "def main():\n",
    "    print(f'{\"\":15} | {\"latitude\":>9} | {\"longitude\":>9}')\n",
    "    for record in metro_areas:\n",
    "        match record:  # <1>\n",
    "            case [name, _, _, (lat, lon)] if lon <= 0:  # <2>\n",
    "                print(f'{name:15} | {lat:9.4f} | {lon:9.4f}')\n",
    "\n",
    "if __name__ == '__main__':\n",
    "    main()"
   ]
  },
  {
   "cell_type": "markdown",
   "metadata": {},
   "source": [
    "匹配对象同时满足下面的条件时能匹配序列模式：\n",
    "\n",
    "- 匹配对象是序列。\n",
    "- 匹配对象和模式的项数相等。\n",
    "- 对象的项相互匹配，包括嵌套的项。"
   ]
  },
  {
   "cell_type": "markdown",
   "metadata": {},
   "source": [
    "标准库中以下类型与序列模式兼容：\n",
    "\n",
    "- list\n",
    "- memoryview\n",
    "- array.array\n",
    "- tuple\n",
    "- range\n",
    "- collections.deque"
   ]
  },
  {
   "cell_type": "markdown",
   "metadata": {},
   "source": [
    "在 match/case 上下文中，str、bytes 和 bytearray 实例不作\n",
    "为序列处理。match 把这些类型视为“原子”值，就像整数 987 整体被视\n",
    "为一个值，而不是数字序列。倘若把这三种类型视为序列，就可能会由于\n",
    "意外匹配而导致 bug。如果想把这些类型的对象视为序列，则要在 match\n",
    "子句中转换，例如以下示例中的 tuple(phone)。\n",
    "\n",
    "```python\n",
    "match tuple(phone):\n",
    "    case ['1', *rest]: # 北美洲和加勒比地区\n",
    "    ...\n",
    "    case ['2', *rest]: # 非洲\n",
    "    ...\n",
    "    case ['3' | '4', *rest]: # 欧洲\n",
    "    ...\n",
    "```"
   ]
  }
 ],
 "metadata": {
  "kernelspec": {
   "display_name": "Python 3 (ipykernel)",
   "language": "python",
   "name": "python3"
  },
  "language_info": {
   "codemirror_mode": {
    "name": "ipython",
    "version": 3
   },
   "file_extension": ".py",
   "mimetype": "text/x-python",
   "name": "python",
   "nbconvert_exporter": "python",
   "pygments_lexer": "ipython3",
   "version": "3.12.0"
  }
 },
 "nbformat": 4,
 "nbformat_minor": 2
}
