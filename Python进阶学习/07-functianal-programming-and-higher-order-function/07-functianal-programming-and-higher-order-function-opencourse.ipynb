{
 "cells": [
  {
   "cell_type": "markdown",
   "metadata": {},
   "source": [
    "# 07-Python函数式编程与高阶函数"
   ]
  },
  {
   "cell_type": "markdown",
   "metadata": {},
   "source": [
    "## 提纲"
   ]
  },
  {
   "cell_type": "markdown",
   "metadata": {},
   "source": [
    "- 函数式编程的介绍\n",
    "- Lambda函数的介绍\n",
    "- 高阶函数的介绍\n",
    "- 高阶函数的应用\n",
    "- 生成器"
   ]
  },
  {
   "cell_type": "markdown",
   "metadata": {},
   "source": [
    "## 编程范式："
   ]
  },
  {
   "cell_type": "markdown",
   "metadata": {},
   "source": [
    "- 🛠️面向过程编程： C语言\n",
    "- 🧬面向对象编程： Java语言, Python语言, C#\n",
    "- 🔢函数式编程： Lisp语言, Haskell语言, Go语言, Python语言, Julia语言"
   ]
  },
  {
   "cell_type": "markdown",
   "metadata": {},
   "source": [
    "## 什么是函数式编程？"
   ]
  },
  {
   "cell_type": "markdown",
   "metadata": {},
   "source": [
    "函数式编程是一种编程范式，它将计算机运算视为数学函数的计算，并且避免使用程序状态以及易变对象。\n",
    "\n",
    "- 函数是头等对象，函数可以是：\n",
    "  - 变量\n",
    "  - 另一个函数的参数\n",
    "  - 另一个函数的返回值\n",
    "- 不可变性：不改变变量的值，而是创建新的变量\n",
    "- 函数是无副作用的（不要改变程序状态也就是变量的值）\n"
   ]
  },
  {
   "cell_type": "markdown",
   "metadata": {},
   "source": [
    "## 函数式编程是现代编程语言的趋势："
   ]
  },
  {
   "cell_type": "markdown",
   "metadata": {},
   "source": [
    "Go语言和Julia语言没有`class`关键字。"
   ]
  },
  {
   "cell_type": "markdown",
   "metadata": {},
   "source": [
    "1. 🌐并行和分布式计算：函数式编程的纯函数可以避免共享状态和可变数据，使得多线程和分布式环境下的编程更加安全和可靠。\n",
    "\n",
    "2. 🧩更好的代码组织和可维护性：函数式编程的组织方式使得代码更易于理解、测试和维护，减少了副作用和全局状态的引入，使得程序的行为更加可预测和可控。\n",
    "\n",
    "3. 🔄强调数据转换和处理：函数式编程可以更轻松地实现数据流的转换和操作。这使得函数式编程在数据处理、数据分析和机器学习等领域具有很高的适用性。\n",
    "\n",
    "4. 🚀容易进行代码优化和推理：函数式编程的函数相同输入总是产生相同的输出。这种特性使得编译器和运行时环境能够进行更多的优化，使得程序验证和推理更加容易。"
   ]
  },
  {
   "cell_type": "markdown",
   "metadata": {},
   "source": [
    "## Lambda函数（匿名函数）"
   ]
  },
  {
   "cell_type": "code",
   "execution_count": null,
   "metadata": {},
   "outputs": [],
   "source": [
    "def double(value):\n",
    "    return value * 2\n",
    "\n",
    "my_fun = double\n",
    "my_fun(10)"
   ]
  },
  {
   "cell_type": "code",
   "execution_count": null,
   "metadata": {},
   "outputs": [],
   "source": [
    "# 定义一个等价的匿名函数，然后赋值给一个变量\n",
    "my_fun2 = lambda x: x * 2\n",
    "my_fun2(10)"
   ]
  },
  {
   "cell_type": "markdown",
   "metadata": {},
   "source": [
    "## 高阶函数"
   ]
  },
  {
   "cell_type": "markdown",
   "metadata": {},
   "source": [
    "函数参数是一个函数，或者函数的返回值是一个函数"
   ]
  },
  {
   "cell_type": "code",
   "execution_count": null,
   "metadata": {},
   "outputs": [],
   "source": [
    "cars = ['Ford', 'Volvo', 'BMW', 'Honda', 'Tesla']\n",
    "\n",
    "# 默认按照字母顺序排序\n",
    "cars.sort()\n",
    "cars"
   ]
  },
  {
   "cell_type": "markdown",
   "metadata": {},
   "source": [
    "list的sort方法的key参数，可以 接收一个函数作为参数，这个函数的返回值将作为排序的依据。"
   ]
  },
  {
   "cell_type": "code",
   "execution_count": null,
   "metadata": {},
   "outputs": [],
   "source": [
    "# 根据元素的长度来排序\n",
    "cars.sort(key=lambda x: len(x))\n",
    "cars"
   ]
  },
  {
   "cell_type": "markdown",
   "metadata": {},
   "source": [
    "编写一个lambda函数作为sort方法的参数，将下面的数据按照成绩排序：\n",
    "\n",
    "```python\n",
    "[('English', 88), ('Science', 90), ('Maths', 97), ('Social sciences', 82)]\n",
    "```"
   ]
  },
  {
   "cell_type": "code",
   "execution_count": null,
   "metadata": {},
   "outputs": [],
   "source": [
    "scores = [('English', 88), ('Science', 97), ('Maths', 97), ('Social sciences', 82)]\n",
    "scores.sort(      )\n",
    "scores"
   ]
  },
  {
   "cell_type": "markdown",
   "metadata": {},
   "source": [
    "首先按照成绩排序，然后按照科目排序"
   ]
  },
  {
   "cell_type": "code",
   "execution_count": null,
   "metadata": {},
   "outputs": [],
   "source": [
    "scores = [('English', 88), ('Science', 97), ('Maths', 97), ('Social sciences', 82)]\n",
    "scores.sort(     )\n",
    "scores"
   ]
  },
  {
   "cell_type": "markdown",
   "metadata": {},
   "source": [
    "## Map函数"
   ]
  },
  {
   "cell_type": "markdown",
   "metadata": {},
   "source": [
    "这是最常见的高阶函数。\n",
    "\n",
    "- 函数原型：`map(function, iterable, ...)`\n",
    "- 第1个参数：一个函数（通常是lambda函数）\n",
    "- 第2个参数：一个或多个可迭代对象（例如list或者tuple）\n",
    "- 返回值：然后将这个函数依次作用在可迭代对象的每个元素上，最后返回一个新的可迭代对象。"
   ]
  },
  {
   "cell_type": "code",
   "execution_count": null,
   "metadata": {},
   "outputs": [],
   "source": [
    "nums = (1, 2, 3, 4)\n",
    "mapped = map(lambda x: x+x, nums)\n",
    "print(list(mapped))"
   ]
  },
  {
   "cell_type": "code",
   "execution_count": null,
   "metadata": {},
   "outputs": [],
   "source": [
    "msg = 'Hello'\n",
    "mapped = map(lambda x: x+x, msg)\n",
    "print(list(mapped))"
   ]
  },
  {
   "cell_type": "code",
   "execution_count": null,
   "metadata": {},
   "outputs": [],
   "source": [
    "odds = [1, 3, 5]\n",
    "evens = [2, 4, 6]\n",
    "mapped = map(lambda a,b:a*b, odds, evens)\n",
    "print(list(mapped))"
   ]
  },
  {
   "cell_type": "markdown",
   "metadata": {},
   "source": [
    "### 练习： "
   ]
  },
  {
   "cell_type": "markdown",
   "metadata": {},
   "source": [
    "- 判断列表中函数是否包含`anonymous`字符串,\n",
    "-  如果包含，返回`(True,s)`，\n",
    "-  否则返回`(False,s)`. \n",
    "-  其中`s`是列表中的字符串。"
   ]
  },
  {
   "cell_type": "code",
   "execution_count": null,
   "metadata": {},
   "outputs": [],
   "source": [
    "txt = ['lambda functions are anonymous functions.',\n",
    "    'anonymous functions dont have a name.',\n",
    "    'functions are objects in Python.']\n",
    "\n"
   ]
  },
  {
   "cell_type": "code",
   "execution_count": null,
   "metadata": {},
   "outputs": [],
   "source": []
  },
  {
   "cell_type": "code",
   "execution_count": null,
   "metadata": {},
   "outputs": [],
   "source": []
  },
  {
   "cell_type": "markdown",
   "metadata": {},
   "source": [
    "## max, min函数"
   ]
  },
  {
   "cell_type": "markdown",
   "metadata": {},
   "source": [
    "max, min函数的key参数，可以 接收一个函数作为参数，这个函数的返回值将作为排序的依据。"
   ]
  },
  {
   "cell_type": "code",
   "execution_count": 51,
   "metadata": {},
   "outputs": [
    {
     "name": "stdout",
     "output_type": "stream",
     "text": [
      "(422, 88)\n",
      "(130, 398)\n",
      "(201, 85)\n"
     ]
    }
   ],
   "source": [
    "# 找出总分最高的和总分最低的\n",
    "scores = [(201, 85), (302, 92), (130, 398), (422, 88)]\n",
    "\n",
    "print(max(scores))\n",
    "\n",
    "highest_score = max(scores)\n",
    "lowest_score = min(scores)\n",
    "\n",
    "print(highest_score)\n",
    "print(lowest_score)"
   ]
  },
  {
   "cell_type": "markdown",
   "metadata": {},
   "source": [
    "## filter函数"
   ]
  },
  {
   "cell_type": "markdown",
   "metadata": {},
   "source": [
    "filter高阶函数：\n",
    "\n",
    "- 函数原型：`filter(function, iterable)`\n",
    "- 第1个参数：一个函数（通常是lambda函数）\n",
    "- 第2个参数：一个可迭代对象（例如list或者tuple）\n",
    "- 返回值：将这个函数依次作用在可迭代对象的每个元素上，最后返回一个新的可迭代对象，其中包含了所有返回值为`True`的元素。"
   ]
  },
  {
   "cell_type": "code",
   "execution_count": null,
   "metadata": {},
   "outputs": [],
   "source": [
    "# 列表中长度大于3的字符串\n",
    "def filter_long_strings(string):\n",
    "    return len(string) >= 3\n",
    "\n",
    "words = [\"apple\", \"banana\", \"be\", \"a\", \"cat\", \"to\", \"elephant\"]\n",
    "\n",
    "long_words = list(filter(filter_long_strings, words))\n",
    "print(long_words)"
   ]
  },
  {
   "cell_type": "code",
   "execution_count": null,
   "metadata": {},
   "outputs": [],
   "source": [
    "# 从字符串中筛选出元音字母\n",
    "word = \"apple\"\n",
    "\n",
    "def vowel(c):\n",
    "    return c.lower() in 'aeiou'\n",
    "\n",
    "vowel = lambda c: c.lower() in 'aeiou'\n",
    "\n",
    "filtered = filter(vowel, word)\n",
    "print(filtered)\n",
    "print(list(filtered))  # filtered 只能生成一次序列数据\n",
    "print(list(filtered))  # 第二次产生的数据为空"
   ]
  },
  {
   "cell_type": "markdown",
   "metadata": {},
   "source": [
    "## 编码聚会7"
   ]
  },
  {
   "cell_type": "markdown",
   "metadata": {},
   "source": [
    "难度： 6kyu\n",
    "\n",
    "您将获得一个对象序列，表示已注册参加您组织的下一个编程聚会的开发人员的数据。\n",
    "\n",
    "您的任务是返回一个序列，其中包括最年长的开发人员。如果有多个开发人员年龄相同，则将他们按照在原始输入数组中出现的顺序列出。\n",
    "\n",
    "例如，给定以下输入数组：\n",
    "\n",
    "```python\n",
    "list1 = [\n",
    "  { 'firstName': 'Gabriel', 'lastName': 'X.', 'country': 'Monaco', \n",
    "  'continent': 'Europe', 'age': 49, 'language': 'PHP' },\n",
    "\n",
    "  { 'firstName': 'Odval', 'lastName': 'F.', 'country': 'Mongolia', \n",
    "  'continent': 'Asia', 'age': 38, 'language': 'Python' },\n",
    "\n",
    "  { 'firstName': 'Emilija', 'lastName': 'S.', 'country': 'Lithuania', \n",
    "  'continent': 'Europe', 'age': 19, 'language': 'Python' },\n",
    "  \n",
    "  { 'firstName': 'Sou', 'lastName': 'B.', 'country': 'Japan', \n",
    "  'continent': 'Asia', 'age': 49, 'language': 'PHP' },\n",
    "]\n",
    "```\n",
    "\n",
    "您的程序应该返回如下结果：\n",
    "\n",
    "```python\n",
    "[\n",
    "  { 'firstName': 'Gabriel', 'lastName': 'X.', 'country': 'Monaco', 'continent': 'Europe', 'age': 49, 'language': 'PHP' },\n",
    "  \n",
    "  { 'firstName': 'Sou', 'lastName': 'B.', 'country': 'Japan', 'continent': 'Asia', 'age': 49, 'language': 'PHP' },\n",
    "]\n",
    "```\n",
    "\n",
    "注意：\n",
    "\n",
    "- 输入的列表永远都包含像示例中一样有效的正确格式的数据，而且永远不会为空。\n",
    "\n",
    "代码提交地址：\n",
    "<https://www.codewars.com/kata/582887f7d04efdaae3000090>"
   ]
  },
  {
   "cell_type": "code",
   "execution_count": null,
   "metadata": {},
   "outputs": [],
   "source": [
    "lst = [\n",
    "  { 'firstName': 'Gabriel', 'lastName': 'X.', 'country': 'Monaco', 'continent': 'Europe', 'age': 49, 'language': 'PHP' },\n",
    "  { 'firstName': 'Odval', 'lastName': 'F.', 'country': 'Mongolia', 'continent': 'Asia', 'age': 38, 'language': 'Python' },\n",
    "  { 'firstName': 'Emilija', 'lastName': 'S.', 'country': 'Lithuania', 'continent': 'Europe', 'age': 19, 'language': 'Python' },\n",
    "  { 'firstName': 'Sou', 'lastName': 'B.', 'country': 'Japan', 'continent': 'Asia', 'age': 49, 'language': 'PHP' },\n",
    "]\n",
    "\n",
    "# 使用max函数的key参数可以找到年龄最大的程序员\n",
    "max(lst, key=lambda d:d['age'])"
   ]
  },
  {
   "cell_type": "code",
   "execution_count": null,
   "metadata": {},
   "outputs": [],
   "source": [
    "# 找到年龄最大的程序员\n",
    "mage = max(lst, key=lambda d:d['age'])\n",
    "\n",
    "# 打印他的年龄\n",
    "mage_age = mage['age']\n",
    "print(mage_age)\n",
    "\n",
    "# 根据年龄过滤列表\n",
    "list(filter(lambda d:d['age'] == mage_age, lst))"
   ]
  },
  {
   "cell_type": "code",
   "execution_count": null,
   "metadata": {},
   "outputs": [],
   "source": [
    "# best solution：\n",
    "def find_senior(lst): \n",
    "    \n",
    "    # 利用生成器作为max函数的参数,找到最大的年龄 \n",
    "    mage = max(a['age'] for a in lst)\n",
    "    \n",
    "    # 利用列表推导返回结果\n",
    "    return [a for a in lst if a['age']==mage]"
   ]
  },
  {
   "cell_type": "markdown",
   "metadata": {},
   "source": [
    "## functools模块"
   ]
  },
  {
   "cell_type": "markdown",
   "metadata": {},
   "source": [
    "partial(func, *args, **kwargs)：创建一个带有预设参数的新函数。"
   ]
  },
  {
   "cell_type": "code",
   "execution_count": null,
   "metadata": {},
   "outputs": [],
   "source": [
    "from functools import partial\n",
    "\n",
    "def divide(x, y):\n",
    "    return x / y\n",
    "\n",
    "# Create a new function, first argument is 2\n",
    "two_divide = partial(divide, 2)\n",
    "print(two_divide(5))  # Output: 0.4"
   ]
  },
  {
   "cell_type": "markdown",
   "metadata": {},
   "source": [
    "lru_cache(maxsize=None)：用于函数结果的记忆/缓存的装饰器。它会缓存最近的函数调用及其结果。"
   ]
  },
  {
   "cell_type": "code",
   "execution_count": null,
   "metadata": {},
   "outputs": [],
   "source": [
    "def fibonacci(n):\n",
    "    if n < 2:\n",
    "        return n\n",
    "    return fibonacci(n-1) + fibonacci(n-2)\n",
    "\n",
    "# 统计运行时间\n",
    "%timeit fibonacci(25)"
   ]
  },
  {
   "cell_type": "code",
   "execution_count": null,
   "metadata": {},
   "outputs": [],
   "source": [
    "from functools import lru_cache\n",
    "\n",
    "@lru_cache(maxsize=3)\n",
    "def fibonacci(n):\n",
    "    if n < 2:\n",
    "        return n\n",
    "    return fibonacci(n-1) + fibonacci(n-2)\n",
    "\n",
    "print(fibonacci(5))  # Output: 5\n",
    "print(fibonacci.cache_info())  # Output: CacheInfo(hits=4, misses=6, maxsize=3, currsize=3)\n",
    "\n",
    "%timeit fibonacci(25)"
   ]
  },
  {
   "cell_type": "code",
   "execution_count": null,
   "metadata": {},
   "outputs": [],
   "source": [
    "%timeit fibonacci(25)"
   ]
  },
  {
   "cell_type": "markdown",
   "metadata": {},
   "source": [
    "## 生成器（Generator）"
   ]
  },
  {
   "cell_type": "markdown",
   "metadata": {},
   "source": [
    "生成器使用简明地方式，懒惰地（lazily）返回序列数据，每次请求数据后会暂停，当有新请求时再次启动。"
   ]
  },
  {
   "cell_type": "code",
   "execution_count": 1,
   "metadata": {},
   "outputs": [
    {
     "name": "stdout",
     "output_type": "stream",
     "text": [
      "1\n",
      "2\n",
      "3\n"
     ]
    }
   ],
   "source": [
    "def gen_nums():\n",
    "    yield 1\n",
    "    yield 2\n",
    "    yield 3\n",
    "\n",
    "for x in gen_nums():\n",
    "    print(x)"
   ]
  },
  {
   "cell_type": "markdown",
   "metadata": {},
   "source": [
    "这段代码会输出什么？"
   ]
  },
  {
   "cell_type": "code",
   "execution_count": 3,
   "metadata": {},
   "outputs": [
    {
     "data": {
      "text/plain": [
       "<generator object squares at 0x000002A36AE8D000>"
      ]
     },
     "execution_count": 3,
     "metadata": {},
     "output_type": "execute_result"
    }
   ],
   "source": [
    "def squares(n=10):\n",
    "    print(f'Generating squares from 1 to {n}')\n",
    "    for i in range(1, n+1):\n",
    "        yield i**2\n",
    "\n",
    "gen = squares()   \n",
    "gen"
   ]
  },
  {
   "cell_type": "code",
   "execution_count": 4,
   "metadata": {},
   "outputs": [
    {
     "name": "stdout",
     "output_type": "stream",
     "text": [
      "Generating squares from 1 to 10\n",
      "1\n",
      "4\n",
      "9\n",
      "16\n",
      "25\n"
     ]
    }
   ],
   "source": [
    "# next()函数可以获取生成器的下一个值\n",
    "print(next(gen))\n",
    "print(next(gen))\n",
    "print(next(gen))\n",
    "print(next(gen))\n",
    "print(next(gen))"
   ]
  },
  {
   "cell_type": "code",
   "execution_count": 5,
   "metadata": {},
   "outputs": [
    {
     "name": "stdout",
     "output_type": "stream",
     "text": [
      "[36, 49, 64, 81, 100]\n"
     ]
    }
   ],
   "source": [
    "# 将生成器中的数据转换成列表\n",
    "print(list(gen))"
   ]
  },
  {
   "cell_type": "code",
   "execution_count": 6,
   "metadata": {},
   "outputs": [],
   "source": [
    "# 遍历生成器生成的数据，但是生成器已经没有数据了\n",
    "for square in gen:\n",
    "    print(square)"
   ]
  },
  {
   "cell_type": "markdown",
   "metadata": {},
   "source": [
    "生成器表达式"
   ]
  },
  {
   "cell_type": "code",
   "execution_count": null,
   "metadata": {},
   "outputs": [],
   "source": [
    "# 和用def和yield关键字定义生成器函数的效果是一样的\n",
    "squares = (x**2 for x in range(1, 10))"
   ]
  },
  {
   "cell_type": "code",
   "execution_count": null,
   "metadata": {},
   "outputs": [],
   "source": [
    "def squares():\n",
    "    for i in range(1, 10):\n",
    "        yield i**2"
   ]
  },
  {
   "cell_type": "markdown",
   "metadata": {},
   "source": [
    "生成器表达式用作函数参数，例如：\n",
    "- sum\n",
    "- all\n",
    "- any\n",
    "- 等可以接收可迭代的数据作为参数的函数"
   ]
  },
  {
   "cell_type": "code",
   "execution_count": 7,
   "metadata": {},
   "outputs": [
    {
     "name": "stdout",
     "output_type": "stream",
     "text": [
      "285\n",
      "True\n"
     ]
    }
   ],
   "source": [
    "my_sum = sum( (x**2 for x in range(1, 10)) )\n",
    "\n",
    "# 生成器表达式作为唯一的函数参数，可以省略括号\n",
    "my_sum = sum( x**2 for x in range(1, 10)) \n",
    "\n",
    "print(my_sum)\n",
    "\n",
    "# x是不是全部是偶数，用all函数\n",
    "print( all( x%2==0  for x in [2, 4, 6, 8, 10])) "
   ]
  },
  {
   "cell_type": "markdown",
   "metadata": {},
   "source": [
    "内置的序列生成器\n",
    "- enumerate：枚举出序列的索引和值\n",
    "- zip：拉链，把数据按照它们的索引组合到一起"
   ]
  },
  {
   "cell_type": "code",
   "execution_count": 8,
   "metadata": {},
   "outputs": [
    {
     "name": "stdout",
     "output_type": "stream",
     "text": [
      "[('a', 1), ('b', 2), ('c', 3)]\n",
      "[]\n"
     ]
    }
   ],
   "source": [
    "# zip对象只能生成一次数据\n",
    "zipped = zip(['a', 'b', 'c'], [1, 2, 3])\n",
    "print(list(zipped))\n",
    "print(list(zipped))"
   ]
  },
  {
   "cell_type": "markdown",
   "metadata": {},
   "source": [
    "## 练习"
   ]
  },
  {
   "cell_type": "markdown",
   "metadata": {},
   "source": [
    "搜索违法的公司，找到所有违反最低收入法律（最低收入为9）的所有公司放入列表。\n",
    "\n",
    "提示：  \n",
    "- 使用列表推导\n",
    "- 使用any函数"
   ]
  },
  {
   "cell_type": "code",
   "execution_count": 12,
   "metadata": {},
   "outputs": [],
   "source": [
    "companies = {'CoolCompany' : {'Alice' : 33, 'Bob' : 28, 'Frank' : 29}, \n",
    "            'CheapCompany' : {'Ann' : 4, 'Lee' : 9, 'Chris' : 7}, \n",
    "            'SosoCompany' : {'Esther' : 38, 'Cole' : 8, 'Paris' : 18}}"
   ]
  },
  {
   "cell_type": "code",
   "execution_count": 13,
   "metadata": {},
   "outputs": [
    {
     "data": {
      "text/plain": [
       "[False, False, False]"
      ]
     },
     "execution_count": 13,
     "metadata": {},
     "output_type": "execute_result"
    }
   ],
   "source": [
    "[ s<9  for s in companies['CoolCompany'].values()]"
   ]
  },
  {
   "cell_type": "code",
   "execution_count": 16,
   "metadata": {},
   "outputs": [
    {
     "data": {
      "text/plain": [
       "False"
      ]
     },
     "execution_count": 16,
     "metadata": {},
     "output_type": "execute_result"
    }
   ],
   "source": [
    "# any用来判断至少存在一个True \n",
    "any(s<9  for s in companies['CoolCompany'].values())"
   ]
  },
  {
   "cell_type": "code",
   "execution_count": 14,
   "metadata": {},
   "outputs": [
    {
     "data": {
      "text/plain": [
       "[True, False, True]"
      ]
     },
     "execution_count": 14,
     "metadata": {},
     "output_type": "execute_result"
    }
   ],
   "source": [
    "[ s<9  for s in companies['CheapCompany'].values()]"
   ]
  },
  {
   "cell_type": "code",
   "execution_count": 17,
   "metadata": {},
   "outputs": [
    {
     "data": {
      "text/plain": [
       "True"
      ]
     },
     "execution_count": 17,
     "metadata": {},
     "output_type": "execute_result"
    }
   ],
   "source": [
    "# any用来判断至少存在一个True \n",
    "any(s<9  for s in companies['CheapCompany'].values())"
   ]
  },
  {
   "cell_type": "code",
   "execution_count": 15,
   "metadata": {},
   "outputs": [
    {
     "data": {
      "text/plain": [
       "[False, True, False]"
      ]
     },
     "execution_count": 15,
     "metadata": {},
     "output_type": "execute_result"
    }
   ],
   "source": [
    "[ s<9  for s in companies['SosoCompany'].values()]"
   ]
  },
  {
   "cell_type": "code",
   "execution_count": 18,
   "metadata": {},
   "outputs": [
    {
     "data": {
      "text/plain": [
       "True"
      ]
     },
     "execution_count": 18,
     "metadata": {},
     "output_type": "execute_result"
    }
   ],
   "source": [
    "# any用来判断至少存在一个True \n",
    "any( s<9  for s in companies['SosoCompany'].values())"
   ]
  },
  {
   "cell_type": "markdown",
   "metadata": {},
   "source": [
    "代码的逻辑结构：\n",
    "```python\n",
    "违法公司 = [   company  for company in companies   if 公司是否违法  ]\n",
    "公司是否违法 = any(  employee的salary < 9  for employee in company)\n",
    "```\n"
   ]
  },
  {
   "cell_type": "code",
   "execution_count": null,
   "metadata": {},
   "outputs": [],
   "source": [
    "# companies[c].values() 是公司c的所有员工的薪水\n",
    "illegals = [c  for c in companies \n",
    "            if any(  s<9  for s in companies[c].values())]\n",
    "print(illegals)"
   ]
  },
  {
   "cell_type": "markdown",
   "metadata": {},
   "source": [
    "使用函数来表示数字0至9和进行四则运算\n",
    "\n",
    "<https://www.codewars.com/kata/525f3eda17c7cd9f9e000b39/train/python>\n",
    "\n",
    "```python\n",
    "five() # must return 5\n",
    "six() # must return 6\n",
    "\n",
    "five(times(five())) # 5 * 5 return 25\n",
    "four(plus(nine())) # 4 + 9 return 13\n",
    "eight(minus(three())) # 8 - 3 return 5\n",
    "six(divided_by(two())) # 6 // 2 return 3\n",
    "```"
   ]
  },
  {
   "cell_type": "code",
   "execution_count": 19,
   "metadata": {},
   "outputs": [],
   "source": [
    "# 数字函数的参数为空，或者是一个函数\n",
    "def one(op=None):\n",
    "    return 1 if op==None else op(1)\n",
    "\n",
    "def zero(op=None):\n",
    "    return 0 if op==None else op(0)\n",
    "\n",
    "# 操作函数的返回值必须是一个函数\n",
    "def plus(x):\n",
    "    # x是里面的操作数(函数)，y是外面的操作数\n",
    "    return lambda y: y + x"
   ]
  },
  {
   "cell_type": "code",
   "execution_count": 20,
   "metadata": {},
   "outputs": [
    {
     "name": "stdout",
     "output_type": "stream",
     "text": [
      "1\n",
      "0\n"
     ]
    }
   ],
   "source": [
    "# 测试没有参数的函数\n",
    "print(one())\n",
    "print(zero())"
   ]
  },
  {
   "cell_type": "code",
   "execution_count": 21,
   "metadata": {},
   "outputs": [
    {
     "data": {
      "text/plain": [
       "1"
      ]
     },
     "execution_count": 21,
     "metadata": {},
     "output_type": "execute_result"
    }
   ],
   "source": [
    "# one(plus(zero())) -> one(plus(0)) -> one(lambda y:y + 0) \n",
    "# -> op(1) = lambda 1:1 + 0 -> 1\n",
    "one(plus(zero()))"
   ]
  }
 ],
 "metadata": {
  "kernelspec": {
   "display_name": "Python 3",
   "language": "python",
   "name": "python3"
  },
  "language_info": {
   "codemirror_mode": {
    "name": "ipython",
    "version": 3
   },
   "file_extension": ".py",
   "mimetype": "text/x-python",
   "name": "python",
   "nbconvert_exporter": "python",
   "pygments_lexer": "ipython3",
   "version": "3.10.6"
  },
  "orig_nbformat": 4
 },
 "nbformat": 4,
 "nbformat_minor": 2
}
