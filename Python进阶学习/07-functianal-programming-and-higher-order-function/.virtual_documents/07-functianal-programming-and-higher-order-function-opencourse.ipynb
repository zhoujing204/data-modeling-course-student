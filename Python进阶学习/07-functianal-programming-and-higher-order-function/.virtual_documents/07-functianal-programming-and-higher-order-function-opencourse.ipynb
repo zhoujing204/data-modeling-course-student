
































def double(value):
    return value * 2

my_fun = double
my_fun(10)


# 定义一个等价的匿名函数，然后赋值给一个变量
my_fun2 = lambda x: x * 2
my_fun2(10)








cars = ['Ford', 'Volvo', 'BMW', 'Honda', 'Tesla']

# 默认按照字母顺序排序
cars.sort()
cars





# 根据元素的长度来排序
cars.sort(key=lambda x: len(x))
cars





scores = [('English', 88), ('Science', 97), ('Maths', 97), ('Social sciences', 82)]
scores.sort(      )
scores





scores = [('English', 88), ('Science', 97), ('Maths', 97), ('Social sciences', 82)]
scores.sort(     )
scores








nums = (1, 2, 3, 4)
mapped = map(lambda x: x+x, nums)
print(list(mapped))


msg = 'Hello'
mapped = map(lambda x: x+x, msg)
print(list(mapped))


odds = [1, 3, 5]
evens = [2, 4, 6]
mapped = map(lambda a,b:a*b, odds, evens)
print(list(mapped))








txt = ['lambda functions are anonymous functions.',
    'anonymous functions dont have a name.',
    'functions are objects in Python.']
















# 找出总分最高的和总分最低的
scores = [(201, 85), (302, 92), (130, 398), (422, 88)]

print(max(scores))

highest_score = max(scores)
lowest_score = min(scores)

print(highest_score)
print(lowest_score)








# 列表中长度大于3的字符串
def filter_long_strings(string):
    return len(string) >= 3

words = ["apple", "banana", "be", "a", "cat", "to", "elephant"]

long_words = list(filter(filter_long_strings, words))
print(long_words)


# 从字符串中筛选出元音字母
word = "apple"

def vowel(c):
    return c.lower() in 'aeiou'

vowel = lambda c: c.lower() in 'aeiou'

filtered = filter(vowel, word)
print(filtered)
print(list(filtered))  # filtered 只能生成一次序列数据
print(list(filtered))  # 第二次产生的数据为空








lst = [
  { 'firstName': 'Gabriel', 'lastName': 'X.', 'country': 'Monaco', 'continent': 'Europe', 'age': 49, 'language': 'PHP' },
  { 'firstName': 'Odval', 'lastName': 'F.', 'country': 'Mongolia', 'continent': 'Asia', 'age': 38, 'language': 'Python' },
  { 'firstName': 'Emilija', 'lastName': 'S.', 'country': 'Lithuania', 'continent': 'Europe', 'age': 19, 'language': 'Python' },
  { 'firstName': 'Sou', 'lastName': 'B.', 'country': 'Japan', 'continent': 'Asia', 'age': 49, 'language': 'PHP' },
]

# 使用max函数的key参数可以找到年龄最大的程序员
max(lst, key=lambda d:d['age'])


# 找到年龄最大的程序员
mage = max(lst, key=lambda d:d['age'])

# 打印他的年龄
mage_age = mage['age']
print(mage_age)

# 根据年龄过滤列表
list(filter(lambda d:d['age'] == mage_age, lst))


# best solution：
def find_senior(lst): 
    
    # 利用生成器作为max函数的参数,找到最大的年龄 
    mage = max(a['age'] for a in lst)
    
    # 利用列表推导返回结果
    return [a for a in lst if a['age']==mage]








from functools import partial

def divide(x, y):
    return x / y

# Create a new function, first argument is 2
two_divide = partial(divide, 2)
print(two_divide(5))  # Output: 0.4





def fibonacci(n):
    if n < 2:
        return n
    return fibonacci(n-1) + fibonacci(n-2)

# 统计运行时间
%timeit fibonacci(25)


from functools import lru_cache

@lru_cache(maxsize=3)
def fibonacci(n):
    if n < 2:
        return n
    return fibonacci(n-1) + fibonacci(n-2)

print(fibonacci(5))  # Output: 5
print(fibonacci.cache_info())  # Output: CacheInfo(hits=4, misses=6, maxsize=3, currsize=3)

%timeit fibonacci(25)


%timeit fibonacci(25)








def gen_nums():
    yield 1
    yield 2
    yield 3

for x in gen_nums():
    print(x)





def squares(n=10):
    print(f'Generating squares from 1 to {n}')
    for i in range(1, n+1):
        yield i**2

gen = squares()   


# next()函数可以获取生成器的下一个值
print(next(gen))
print(next(gen))
print(next(gen))
print(next(gen))
print(next(gen))


# 将生成器中的数据转换成列表
print(list(gen))


# 遍历生成器生成的数据，但是生成器已经没有数据了
for square in gen:
    print(square)





# 和用def和yield关键字定义生成器函数的效果是一样的
squares = (x**2 for x in range(1, 10))


def squares():
    for i in range(1, 10):
        yield i**2





my_sum = sum(x**2 for x in range(1, 10))
print(my_sum)

print(all( x%2==0  for x in [2, 4, 6, 8, 10])) 





# zip对象只能生成一次数据
zipped = zip(['a', 'b', 'c'], [1, 2, 3])
print(list(zipped))
print(list(zipped))








companies = {'CoolCompany' : {'Alice' : 33, 'Bob' : 28, 'Frank' : 29}, 
            'CheapCompany' : {'Ann' : 4, 'Lee' : 9, 'Chris' : 7}, 
            'SosoCompany' : {'Esther' : 38, 'Cole' : 8, 'Paris' : 18}}





# companies[c].values() 是公司c的所有员工的薪水
illegals = [c  for c in companies 
            if any(  s<9  for s in companies[c].values())]
print(illegals)





# 数字函数的参数为空，或者是一个函数
def one(op=None):
    return 1 if op==None else op(1)

def zero(op=None):
    return 0 if op==None else op(0)

# 操作函数的返回值必须是一个函数
def plus(x):
    return lambda y: y + x


# 测试没有参数的函数
print(one())
print(zero())


# one(plus(zero())) -> one(plus(0)) -> one(lambda y:y + 0) 
# -> op(1) = lambda 1:1 + 0 -> 1
one(plus(zero()))
