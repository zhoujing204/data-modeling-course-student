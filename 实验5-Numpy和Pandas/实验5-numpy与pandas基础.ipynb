{
 "cells": [
  {
   "cell_type": "markdown",
   "metadata": {},
   "source": [
    "# 实验5-Numpy和Pandas基础🐿️"
   ]
  },
  {
   "cell_type": "markdown",
   "metadata": {},
   "source": [
    "<table style=\"margin: 0 auto; width: 30%; border-collapse: collapse; border: 1px solid black;\" data-id=\"student-info\">  \n",
    "    <colgroup>  \n",
    "        <col style=\"width: 35%;\">  \n",
    "        <col style=\"width: 65%;\">  \n",
    "    </colgroup>  \n",
    "    <tr>  \n",
    "        <td style=\"border: 1px solid black;\">班级</td> <td style=\"border: 1px solid black;\">未填写</td>  \n",
    "    </tr>  \n",
    "    <tr>  \n",
    "        <td style=\"border: 1px solid black;\">学号</td> <td style=\"border: 1px solid black;\">未填写</td>  \n",
    "    </tr>  \n",
    "    <tr>  \n",
    "        <td style=\"border: 1px solid black;\">姓名</td> <td style=\"border: 1px solid black;\">未填写</td>  \n",
    "    </tr>  \n",
    "    <tr>  \n",
    "        <td style=\"border: 1px solid black;\">Email</td> <td style=\"border: 1px solid black;\">未填写</td>  \n",
    "    </tr>  \n",
    "</table>"
   ]
  },
  {
   "cell_type": "markdown",
   "metadata": {},
   "source": [
    "- 向量化\n",
    "- Numpy\n",
    "- Pandas"
   ]
  },
  {
   "cell_type": "markdown",
   "metadata": {},
   "source": [
    "## 实验注意事项"
   ]
  },
  {
   "cell_type": "markdown",
   "metadata": {},
   "source": [
    "1. 请在指定的地方按照实验指导要求来编写代码。\n",
    "2. 请按照实验指导要求使用指定的变量名或函数名，不要使用其他的名字。\n",
    "3. 不要添加任何额外的语句。\n",
    "4. 不要添加任何额外的代码单元格。\n",
    "5. 不要在不需要的地方修改作业代码，比如创建额外的变量，修改测试文件中的代码。\n",
    "6. 实验指导中的`...`表示需要你补充代码的部分，其他部分的代码不用修改。\n",
    "7. 代码提示中会给出估计的代码行数，例如大约1行代码，估计的代码行数只是一个参考值，实际编写时可能会有出入，请根据实际情况来编写。\n",
    "8. 请独立完成作业，禁止抄袭，发现抄袭行为成绩记零分"
   ]
  },
  {
   "cell_type": "markdown",
   "metadata": {},
   "source": [
    "## 实验步骤"
   ]
  },
  {
   "cell_type": "markdown",
   "metadata": {},
   "source": [
    "1. 打开Vscode,选择\"实验一-Python变量.ipynb\",在Vscode右上角点击Select Kernel, 然后选择base(Python 3.x.x)。\n",
    "2. 从上至下按照顺序执行该文件中的Python代码。\n",
    "3. 阅读实验给出的实验指导和代码范例。\n",
    "4. 按照实验指导完成实验习题。\n",
    "5. 在习题后面的单元格执行测试代码，对代码进行测试。\n",
    "6. 在实验总结部分，使用自己语言完成主观题目1和2的填写。\n",
    "7. 生成实验报告，并通过腾讯在线收集表提交。(注意所有的习题和习题的测试代码必须要运行一次, 否则无法生成实验报告)"
   ]
  },
  {
   "cell_type": "markdown",
   "metadata": {},
   "source": [
    "## 向量化（Vectorization）"
   ]
  },
  {
   "cell_type": "markdown",
   "metadata": {},
   "source": [
    "`Numpy`和`Pandas`在数据分析和机器学习中都被大量地使用，通常逆需要处理非常大的数据集。因此，一个非计算高效的函数可能会成为算法中的巨大瓶颈，为了确保代码具有计算效率，你需要使用向量化操作。\n",
    "\n",
    "- 利用`numpy`和`pandas`的函数或操作对整个数组或数组的子集进行操作\n",
    "- 尽可能避免使用`for`循环和`while`循环逐个处理数据集中的元素\n",
    "- 向量化操作的编程范式在数据分析、机器学习领域被大量地使用，例如下面这些最流行的深度学习框架\n",
    "  - `pytorch`\n",
    "  - `tensorflow`\n",
    "  - ...  "
   ]
  },
  {
   "cell_type": "markdown",
   "metadata": {},
   "source": [
    "## Numpy🐍"
   ]
  },
  {
   "cell_type": "markdown",
   "metadata": {},
   "source": [
    "### 为什么需要Numpy❓"
   ]
  },
  {
   "cell_type": "markdown",
   "metadata": {},
   "source": [
    "- 运行速度：NumPy提供了高效的数组操作功能(向量化操作)，可以对大规模的数据进行快速的计算和处理\n",
    "- 方便使用: 处理数据的过程更加简洁和高效\n",
    "- 功能丰富：提供了丰富的函数库，可以方便地进行数值计算和统计分析。"
   ]
  },
  {
   "cell_type": "code",
   "execution_count": null,
   "metadata": {},
   "outputs": [],
   "source": [
    "# 导入numpy\n",
    "import numpy as np\n",
    "np.random.seed(12345)"
   ]
  },
  {
   "cell_type": "code",
   "execution_count": null,
   "metadata": {},
   "outputs": [],
   "source": [
    "# 长度100万的numpy格式的数组\n",
    "my_arr = np.arange(1_000_000)\n",
    "\n",
    "# 长度100万的list\n",
    "my_list = list(range(1_000_000))"
   ]
  },
  {
   "cell_type": "markdown",
   "metadata": {},
   "source": [
    "- 计算数组中一百万个数的平方，使用`timeit`测试两种方法的运行时间\n",
    "- 结论：因为`numpy`的向量化操作，所以运行速度远远快过使用for循环的list。"
   ]
  },
  {
   "cell_type": "code",
   "execution_count": null,
   "metadata": {},
   "outputs": [],
   "source": [
    "# print('numpy running time:')\n",
    "# %timeit my_arr2 = my_arr ** 2\n",
    "\n",
    "# print('\\npython list running time:')\n",
    "# %timeit my_list2 = [x ** 2 for x in my_list]"
   ]
  },
  {
   "cell_type": "markdown",
   "metadata": {},
   "source": [
    "### Numpy ndarray数据结构"
   ]
  },
  {
   "cell_type": "markdown",
   "metadata": {},
   "source": [
    "numpy只有一种数据结构：ndarray，它是一个多维数组，每个元素都是相同类型的。"
   ]
  },
  {
   "cell_type": "markdown",
   "metadata": {},
   "source": [
    "![ndarray](./img/2023-10-27-11-02-03.png)"
   ]
  },
  {
   "cell_type": "code",
   "execution_count": null,
   "metadata": {},
   "outputs": [],
   "source": [
    "import numpy as np\n",
    "\n",
    "data = np.array([1, 2, 3])\n",
    "data"
   ]
  },
  {
   "cell_type": "code",
   "execution_count": null,
   "metadata": {},
   "outputs": [],
   "source": [
    "# ndarray的数据类型,数组只能包含相同类型的数据\n",
    "data.dtype"
   ]
  },
  {
   "cell_type": "markdown",
   "metadata": {},
   "source": [
    "### 创建ndarray"
   ]
  },
  {
   "cell_type": "markdown",
   "metadata": {},
   "source": [
    "![create ndarray](./img/2023-10-27-11-06-02.png)"
   ]
  },
  {
   "cell_type": "code",
   "execution_count": null,
   "metadata": {},
   "outputs": [],
   "source": [
    "np.ones(3)"
   ]
  },
  {
   "cell_type": "code",
   "execution_count": null,
   "metadata": {},
   "outputs": [],
   "source": [
    "np.zeros(3)"
   ]
  },
  {
   "cell_type": "code",
   "execution_count": null,
   "metadata": {},
   "outputs": [],
   "source": [
    "np.random.random(3)"
   ]
  },
  {
   "cell_type": "code",
   "execution_count": null,
   "metadata": {},
   "outputs": [],
   "source": [
    "# 类似Python中的range函数\n",
    "np.arange(10)"
   ]
  },
  {
   "cell_type": "markdown",
   "metadata": {},
   "source": [
    "### 算术运算"
   ]
  },
  {
   "cell_type": "markdown",
   "metadata": {},
   "source": [
    "![加法运算](./img/2023-10-27-11-16-15.png)"
   ]
  },
  {
   "cell_type": "code",
   "execution_count": null,
   "metadata": {},
   "outputs": [],
   "source": [
    "import numpy as np\n",
    "data = np.array([1, 2, 3])\n",
    "ones = np.array([1, 1, 100])\n",
    "data + ones"
   ]
  },
  {
   "cell_type": "markdown",
   "metadata": {},
   "source": [
    "![其他运算](./img/2023-10-27-11-18-34.png)"
   ]
  },
  {
   "cell_type": "code",
   "execution_count": null,
   "metadata": {},
   "outputs": [],
   "source": [
    "data - ones"
   ]
  },
  {
   "cell_type": "code",
   "execution_count": null,
   "metadata": {},
   "outputs": [],
   "source": [
    "data * data"
   ]
  },
  {
   "cell_type": "code",
   "execution_count": null,
   "metadata": {},
   "outputs": [],
   "source": [
    "data / data"
   ]
  },
  {
   "cell_type": "code",
   "execution_count": null,
   "metadata": {},
   "outputs": [],
   "source": [
    "data = np.array([2, 3])\n",
    "print(data)\n",
    "data ** data"
   ]
  },
  {
   "cell_type": "markdown",
   "metadata": {},
   "source": [
    "![乘以一个数](./img/2023-10-27-11-20-07.png)"
   ]
  },
  {
   "cell_type": "code",
   "execution_count": null,
   "metadata": {},
   "outputs": [],
   "source": [
    "data * 1.6"
   ]
  },
  {
   "cell_type": "markdown",
   "metadata": {},
   "source": [
    "### 习题一"
   ]
  },
  {
   "cell_type": "markdown",
   "metadata": {},
   "source": [
    "完成下面的函数代码，在函数中创建一个长度为4的三个一维numpy数列A, B，C. A的元素为1,2,3,4，B的元素为5,6,7,8，C的元素为0,0,0,0。最后返回数列A，B，C以及他们的和。请注意不要使用循环语句遍历数列。"
   ]
  },
  {
   "cell_type": "code",
   "execution_count": null,
   "metadata": {},
   "outputs": [],
   "source": [
    "def create_and_add_arrays():\n",
    "    \"\"\"创建numpy数组并相加\"\"\"\n",
    "    # A = ... # 创建数列A，包含1, 2, 3, 4\n",
    "    # B = ... # 创建数列B，包含5, 6, 7, 8\n",
    "    # C = ... # 创建数列C，包含4个0\n",
    "    # D = ... # 创建数列D，等于前面3个数列的和\n",
    "    # 大约需要4行代码，注意不要使用循环\n",
    "\n",
    "    # 你编写的代码从这里开始\n",
    "\n",
    "\n",
    "    # 你编写的代码到这里结束\n",
    "    return A, B, C, D"
   ]
  },
  {
   "cell_type": "code",
   "execution_count": null,
   "metadata": {},
   "outputs": [],
   "source": [
    "from testset5 import *\n",
    "test_create_and_add_arrays(create_and_add_arrays)"
   ]
  },
  {
   "cell_type": "markdown",
   "metadata": {},
   "source": [
    "### 索引和切片"
   ]
  },
  {
   "cell_type": "markdown",
   "metadata": {},
   "source": [
    "numpy数组的索引和切片和Python的列表类似，但是有一些特殊的地方。"
   ]
  },
  {
   "cell_type": "markdown",
   "metadata": {},
   "source": [
    "![索引和切片](./img/2023-10-27-11-35-38.png)"
   ]
  },
  {
   "cell_type": "code",
   "execution_count": null,
   "metadata": {},
   "outputs": [],
   "source": [
    "data = np.array([1, 2, 3])\n",
    "print(data[0])\n",
    "print(data[-1])\n",
    "print(data[0:2])\n",
    "print(data[1:])\n",
    "print(data[::-1])"
   ]
  },
  {
   "cell_type": "markdown",
   "metadata": {},
   "source": [
    "### 一维数据的聚合"
   ]
  },
  {
   "cell_type": "markdown",
   "metadata": {},
   "source": [
    "![数据的聚合](./img/2023-10-27-11-40-03.png)"
   ]
  },
  {
   "cell_type": "code",
   "execution_count": null,
   "metadata": {},
   "outputs": [],
   "source": [
    "data = np.array([1, 2, 3])\n",
    "print(data)\n",
    "\n",
    "# 求最大值、最小值、求和\n",
    "print(data.max())\n",
    "print(data.min())\n",
    "print(data.sum())\n",
    "\n",
    "# 求均值、标准差\n",
    "print(data.mean())\n",
    "print(data.std())\n",
    "\n",
    "# 求最大值、最小值的索引\n",
    "print(data.argmax())   # 返回2，即最大值3的索引\n",
    "print(data.argmin())   # 返回0，即最小值1的索引"
   ]
  },
  {
   "cell_type": "markdown",
   "metadata": {},
   "source": [
    "### 习题二"
   ]
  },
  {
   "cell_type": "markdown",
   "metadata": {},
   "source": [
    "函数的输入是两个一维numpy数列A和B(数列都不为空)，返回数列A中的最大值与和数列B的最小值的乘积。请注意不要使用循环语句遍历数列。"
   ]
  },
  {
   "cell_type": "code",
   "execution_count": null,
   "metadata": {},
   "outputs": [],
   "source": [
    "def multiply_max_min(A, B):\n",
    "    \"\"\"返回数列A最大值和数列B最小值的乘积\"\"\"\n",
    "    # 只需要1行代码\n",
    "    # 你编写的代码从这里开始\n",
    "\n",
    "\n",
    "    # 你编写的代码到这里结束\n",
    "    return result"
   ]
  },
  {
   "cell_type": "code",
   "execution_count": null,
   "metadata": {},
   "outputs": [],
   "source": [
    "test_multiply_max_min(multiply_max_min)"
   ]
  },
  {
   "cell_type": "markdown",
   "metadata": {},
   "source": [
    "### 二维矩阵"
   ]
  },
  {
   "cell_type": "markdown",
   "metadata": {},
   "source": [
    "![创建二维矩阵](./img/2023-10-27-11-52-59.png)"
   ]
  },
  {
   "cell_type": "code",
   "execution_count": null,
   "metadata": {},
   "outputs": [],
   "source": [
    "data = np.array([[1, 2], [3, 4]])\n",
    "data"
   ]
  },
  {
   "cell_type": "markdown",
   "metadata": {},
   "source": [
    "![创建多维数据](./img/2023-10-27-11-54-20.png)"
   ]
  },
  {
   "cell_type": "code",
   "execution_count": null,
   "metadata": {},
   "outputs": [],
   "source": [
    "print(np.ones((3,2)))"
   ]
  },
  {
   "cell_type": "code",
   "execution_count": null,
   "metadata": {},
   "outputs": [],
   "source": [
    "print(np.zeros((3,2)))"
   ]
  },
  {
   "cell_type": "code",
   "execution_count": null,
   "metadata": {},
   "outputs": [],
   "source": [
    "print(np.random.random((3,2)))"
   ]
  },
  {
   "cell_type": "code",
   "execution_count": null,
   "metadata": {},
   "outputs": [],
   "source": [
    "np.diag([1, 2, 3])"
   ]
  },
  {
   "cell_type": "code",
   "execution_count": null,
   "metadata": {},
   "outputs": [],
   "source": [
    "# 单元矩阵\n",
    "np.eye(3)"
   ]
  },
  {
   "cell_type": "markdown",
   "metadata": {},
   "source": [
    "### 二维矩阵的索引和切片"
   ]
  },
  {
   "cell_type": "markdown",
   "metadata": {},
   "source": [
    "![](./img/2023-10-27-12-08-39.png)"
   ]
  },
  {
   "cell_type": "code",
   "execution_count": null,
   "metadata": {},
   "outputs": [],
   "source": [
    "data = np.array([[1, 2, 3], [3, 4, 7], [5, 6, 9]])\n",
    "print(data)\n",
    "\n",
    "# 使用行索引和列索引选择到一个元素\n",
    "print(data[0, 1])\n",
    "\n",
    "# 使用行索引的切片\n",
    "print(data[1:3,:])\n",
    "\n",
    "# 行索引和列索引同时使用切片\n",
    "print(data[0:2, ::2])"
   ]
  },
  {
   "cell_type": "markdown",
   "metadata": {},
   "source": [
    "### 习题三"
   ]
  },
  {
   "cell_type": "markdown",
   "metadata": {},
   "source": [
    "已知一个二维的numpy矩阵stocks，其中每一行代表若干只股票某天的收盘价格，每一列代表某只股票连续若干天的价格。请完成函数代码，获取每只股票从第一天开始每三天的价格。请注意不要使用循环语句遍历矩阵。\n",
    "\n",
    "例如：\n",
    "```\n",
    "stocks = np.array([[1,2,3,4,5,6,7,8,9,10],\n",
    "                    [11,12,13,14,15,16,17,18,19,20],\n",
    "                    [21,22,23,24,25,26,27,28,29,30],\n",
    "                    [31,32,33,34,35,36,37,38,39,40]])       \n",
    "``` \n",
    "返回结果为：\n",
    "```\n",
    "np.array([[1,2,3,4,5,6,7,8,9,10],\n",
    "            [31,32,33,34,35,36,37,38,39,40]]) \n",
    "```"
   ]
  },
  {
   "cell_type": "code",
   "execution_count": null,
   "metadata": {},
   "outputs": [],
   "source": [
    "def get_stocks_price(data):\n",
    "    \"\"\"获取股票的收盘价\"\"\"\n",
    "    # 只需要1行代码\n",
    "    # 你编写的代码从这里开始\n",
    "\n",
    "    # 你编写的代码到这里结束\n",
    "\n",
    "    return result"
   ]
  },
  {
   "cell_type": "code",
   "execution_count": null,
   "metadata": {},
   "outputs": [],
   "source": [
    "from testset5 import test_get_stocks_price\n",
    "test_get_stocks_price(get_stocks_price)"
   ]
  },
  {
   "cell_type": "markdown",
   "metadata": {},
   "source": [
    "### 矩阵运算🧮"
   ]
  },
  {
   "cell_type": "markdown",
   "metadata": {},
   "source": [
    "![矩阵加法](./img/2023-10-27-12-03-47.png)"
   ]
  },
  {
   "cell_type": "code",
   "execution_count": null,
   "metadata": {},
   "outputs": [],
   "source": [
    "data = np.array([[1, 2], [3, 4]])\n",
    "ones = np.ones([2, 2])\n",
    "data + ones"
   ]
  },
  {
   "cell_type": "markdown",
   "metadata": {},
   "source": [
    "![按行相加](./img/2023-10-27-12-04-55.png)"
   ]
  },
  {
   "cell_type": "code",
   "execution_count": null,
   "metadata": {},
   "outputs": [],
   "source": [
    "data = np.array([[1, 2], [3, 4], [5, 6]])\n",
    "# 按行相加\n",
    "ones_row = np.ones([1, 1])\n",
    "data + ones_row"
   ]
  },
  {
   "cell_type": "code",
   "execution_count": null,
   "metadata": {},
   "outputs": [],
   "source": [
    "# 按列相加\n",
    "column_data = np.array([10, 20, 30])\n",
    "\n",
    "# 转换为列向量\n",
    "print(column_data[:, np.newaxis])\n",
    "\n",
    "data + column_data[:, np.newaxis]"
   ]
  },
  {
   "cell_type": "markdown",
   "metadata": {},
   "source": [
    "### 矩阵的转置和变形"
   ]
  },
  {
   "cell_type": "markdown",
   "metadata": {},
   "source": [
    "![矩阵装置](./img/2023-10-27-13-40-49.png)"
   ]
  },
  {
   "cell_type": "code",
   "execution_count": null,
   "metadata": {},
   "outputs": [],
   "source": [
    "# 矩阵转置\n",
    "data = np.array([[1, 2],\n",
    "                    [3, 4],\n",
    "                    [5, 6]])\n",
    "data.T"
   ]
  },
  {
   "cell_type": "markdown",
   "metadata": {},
   "source": [
    "![reshape matrix](./img/2023-10-27-13-42-39.png)"
   ]
  },
  {
   "cell_type": "code",
   "execution_count": null,
   "metadata": {},
   "outputs": [],
   "source": [
    "data = np.arange(1, 7)\n",
    "print(data)\n",
    "print(data.reshape(2, 3))  # 转换成2 * 3的矩阵\n",
    "print(data.reshape(3, 2))\n",
    "print(data.reshape(6, 1))  # 转换成6 * 1的矩阵\n",
    "print(data.reshape(6,))    # 转换成一维的 1 * 6 的数列"
   ]
  },
  {
   "cell_type": "code",
   "execution_count": null,
   "metadata": {},
   "outputs": [],
   "source": [
    "data = np.arange(1, 7)\n",
    "print(data)\n",
    "\n",
    "# 在reshape函数中，如果指定一个维度为-1，那么reshape函数会自动计算这个维度的大小\n",
    "print(data.reshape(2, -1))  # 推算出第二个维度应该为3，转换成2 * 3的矩阵\n",
    "print(data.reshape(-1, 2))  # 推算出第一个维度应该为3，转换成3 * 2的矩阵\n",
    "print(data.reshape(-1,))    # 推算出第一个维度应该为6，转换成一维的 1 * 6 的数列"
   ]
  },
  {
   "cell_type": "markdown",
   "metadata": {},
   "source": [
    "### 习题四"
   ]
  },
  {
   "cell_type": "markdown",
   "metadata": {},
   "source": [
    "下面的函数输入是二维矩阵`A`, 要求函数获取到`A`的形状`shape`，根据形状计算矩阵A元素个数，并将`A`转换成一维数列B，最后将数列B中的元素逆序排列后,函数返回`shape`和逆序后的数列`B`。请注意不要使用循环语句遍历矩阵。\n",
    "\n",
    "例如：\n",
    "```python\n",
    "A = np.array([\n",
    "    [1, 2, 3],\n",
    "    [4, 5, 6],\n",
    "    [7, 8, 9],\n",
    "])\n",
    "```\n",
    "\n",
    "返回值应该如下：\n",
    "```python\n",
    "((3, 3), array([9, 8, 7, 6, 5, 4, 3, 2, 1]))\n",
    "```"
   ]
  },
  {
   "cell_type": "code",
   "execution_count": null,
   "metadata": {},
   "outputs": [],
   "source": [
    "def reshape_and_reverse(A):\n",
    "    \"\"\"获取矩阵形状，变形矩阵，逆序数列\"\"\"\n",
    "    # shape = ...    # 获取矩阵A的形状\n",
    "    # B = ...        # 将矩阵A转换成数列B\n",
    "    # B = ...        # 将数列B逆序\n",
    "    # 大约需要3行代码\n",
    "    # 你编写的代码从这里开始\n",
    "\n",
    "    # 你编写的代码到这里结束\n",
    "\n",
    "    return shape, B[::-1]"
   ]
  },
  {
   "cell_type": "code",
   "execution_count": null,
   "metadata": {},
   "outputs": [],
   "source": [
    "M = np.arange(1, 10)\n",
    "reshape_and_reverse(M.reshape(3,3))\n",
    "# 输出的结果应该是： ((3, 3), array([9, 8, 7, 6, 5, 4, 3, 2, 1]))"
   ]
  },
  {
   "cell_type": "code",
   "execution_count": null,
   "metadata": {},
   "outputs": [],
   "source": [
    "# 测试你的程序\n",
    "from testset5 import test_reshape_and_reverse\n",
    "test_reshape_and_reverse(reshape_and_reverse)"
   ]
  },
  {
   "cell_type": "markdown",
   "metadata": {},
   "source": [
    "### 线性代数"
   ]
  },
  {
   "cell_type": "markdown",
   "metadata": {},
   "source": [
    "![dot product](./img/2023-10-27-13-11-55.png)"
   ]
  },
  {
   "cell_type": "code",
   "execution_count": null,
   "metadata": {},
   "outputs": [],
   "source": [
    "# 点乘\n",
    "data = np.array([1, 2, 3])\n",
    "power_of_tens = np.array([[1, 10],\n",
    "                        [100, 1000],\n",
    "                        [10000, 100000]])\n",
    "data.dot(power_of_tens)"
   ]
  },
  {
   "cell_type": "code",
   "execution_count": null,
   "metadata": {},
   "outputs": [],
   "source": [
    "# @符号表示点乘，也就是矩阵乘法\n",
    "data @ power_of_tens"
   ]
  },
  {
   "cell_type": "code",
   "execution_count": null,
   "metadata": {},
   "outputs": [],
   "source": [
    "# 矩阵求逆\n",
    "data = np.array([[1, 2], [3, 4]])\n",
    "np.linalg.inv(data)"
   ]
  },
  {
   "cell_type": "code",
   "execution_count": null,
   "metadata": {},
   "outputs": [],
   "source": [
    "# 矩阵行列式\n",
    "np.linalg.det(data)"
   ]
  },
  {
   "cell_type": "markdown",
   "metadata": {},
   "source": [
    "### 习题五"
   ]
  },
  {
   "cell_type": "markdown",
   "metadata": {},
   "source": [
    "下面的函数输入参数是两个二维矩阵`A`和`B`，要求函数计算`A`和`B`的矩阵乘积，将乘积结果的矩阵(乘积结果不是奇异矩阵并且可逆)求逆后返回结果。请注意不要使用循环语句遍历矩阵。\n",
    "\n",
    "例如：\n",
    "```python\n",
    "A = np.array([\n",
    "    [1, 2],\n",
    "    [3, 4]\n",
    "])\n",
    "\n",
    "B = np.array([\n",
    "    [1, 0],\n",
    "    [0, 1],\n",
    "])\n",
    "```\n",
    "\n",
    "返回值应该如下：\n",
    "```python\n",
    "array([[-2. ,  1. ],\n",
    "       [ 1.5, -0.5]])\n",
    "```"
   ]
  },
  {
   "cell_type": "code",
   "execution_count": null,
   "metadata": {},
   "outputs": [],
   "source": [
    "def matrix_product_and_inverse(A, B):\n",
    "    \"\"\"\n",
    "    计算矩阵A和B的乘积,然后求逆\n",
    "    \"\"\"\n",
    "    # product = ...    # 计算矩阵A和B的乘积\n",
    "    # inverse = ...    # 矩阵求逆\n",
    "    # 大约需要2行代码\n",
    "    # 你编写的代码从这里开始\n",
    "\n",
    "    # 你编写的代码到这里结束\n",
    "\n",
    "    return inverse"
   ]
  },
  {
   "cell_type": "code",
   "execution_count": null,
   "metadata": {},
   "outputs": [],
   "source": [
    "m1 = np.array([\n",
    "    [1, 2],\n",
    "    [3, 4]\n",
    "])\n",
    "m2 = np.eye(2)\n",
    "matrix_product_and_inverse(m1, m2)\n",
    "# 输出结果应该是： array([[-2. ,  1. ],  [ 1.5, -0.5]])"
   ]
  },
  {
   "cell_type": "code",
   "execution_count": null,
   "metadata": {},
   "outputs": [],
   "source": [
    "from testset5 import test_matrix_product_and_inverse\n",
    "test_matrix_product_and_inverse(matrix_product_and_inverse)"
   ]
  },
  {
   "cell_type": "markdown",
   "metadata": {},
   "source": [
    "### 矩阵的聚合"
   ]
  },
  {
   "cell_type": "markdown",
   "metadata": {},
   "source": [
    "![矩阵聚合一](./img/2023-10-27-13-33-54.png)"
   ]
  },
  {
   "cell_type": "code",
   "execution_count": null,
   "metadata": {},
   "outputs": [],
   "source": [
    "data = np.array([[1, 2],[5, 3], [4, 6]])\n",
    "print(data.max())\n",
    "print(data.min())\n",
    "print(data.sum())"
   ]
  },
  {
   "cell_type": "markdown",
   "metadata": {},
   "source": [
    "![矩阵聚合二](./img/2023-10-27-13-34-55.png)"
   ]
  },
  {
   "cell_type": "code",
   "execution_count": null,
   "metadata": {},
   "outputs": [],
   "source": [
    "print(data)\n",
    "print('求每列最大值:',data.max(axis=0))\n",
    "\n",
    "print('求每行最大值:',data.max(axis=1))\n",
    "\n",
    "print('计算每列的和:',data.sum(axis=0))\n",
    "\n",
    "print('计算每行的和:',data.sum(axis=1))\n",
    "\n",
    "print('计算每列的平均值:', data.mean(axis=0))"
   ]
  },
  {
   "cell_type": "markdown",
   "metadata": {},
   "source": [
    "### 习题六"
   ]
  },
  {
   "cell_type": "markdown",
   "metadata": {},
   "source": [
    "下面函数的输入参数是二维矩阵，存储了某班级学生的各科的成绩，每一行代表一个学生的各科成绩，每一列代表一门课程的所有学生的成绩。要求函数计算每门课程的平均成绩和每个学生的总成绩。请注意不要使用循环语句遍历矩阵。\n",
    "\n",
    "例如：\n",
    "```python\n",
    "scores = np.array([\n",
    "    [80, 90, 85],\n",
    "    [70, 60, 65],\n",
    "    [90, 80, 85],\n",
    "    [85, 75, 80],\n",
    "    [60, 70, 75],\n",
    "])\n",
    "```\n",
    "\n",
    "返回值应该如下：\n",
    "```python\n",
    "(array([77., 75., 78.]), array([255., 195., 255., 240., 205.]))\n",
    "```"
   ]
  },
  {
   "cell_type": "code",
   "execution_count": null,
   "metadata": {},
   "outputs": [],
   "source": [
    "def compute_scores(scores):\n",
    "    \"\"\"\n",
    "    计算每个学生的总分和每门科目的平均分\n",
    "    \"\"\"\n",
    "    # mean = ...     # 计算每个科目的平均分\n",
    "    # total = ...    # 计算每个学生的总分\n",
    "    # 大约需要2行代码\n",
    "    # 你编写的代码从这里开始\n",
    "\n",
    "\n",
    "    # 你编写的代码到这里结束\n",
    "\n",
    "    return  mean, total"
   ]
  },
  {
   "cell_type": "code",
   "execution_count": null,
   "metadata": {},
   "outputs": [],
   "source": [
    "scores = np.array([\n",
    "    [80, 90, 85],\n",
    "    [70, 60, 65],\n",
    "    [90, 80, 85],\n",
    "    [85, 75, 80],\n",
    "    [60, 70, 75],\n",
    "])\n",
    "compute_scores(scores)\n",
    "# 输出结果应该是： (array([77. , 75. , 78.]), array([255, 195, 255, 240, 205]))"
   ]
  },
  {
   "cell_type": "code",
   "execution_count": null,
   "metadata": {},
   "outputs": [],
   "source": [
    "# 测试你的程序\n",
    "from testset5 import test_compute_scores\n",
    "test_compute_scores(compute_scores)"
   ]
  },
  {
   "cell_type": "markdown",
   "metadata": {},
   "source": [
    "### 更高维的数组（tensor--张量）"
   ]
  },
  {
   "cell_type": "markdown",
   "metadata": {},
   "source": [
    "![](./img/2023-10-27-14-11-21.png)"
   ]
  },
  {
   "cell_type": "code",
   "execution_count": null,
   "metadata": {},
   "outputs": [],
   "source": [
    "np.arange(1,9).reshape(2, 2, 2)"
   ]
  },
  {
   "cell_type": "code",
   "execution_count": null,
   "metadata": {},
   "outputs": [],
   "source": [
    "print(np.ones((4, 3, 2)))\n",
    "print(np.zeros((4, 3, 2)))\n",
    "print(np.random.random((4, 3, 2)))"
   ]
  },
  {
   "cell_type": "markdown",
   "metadata": {},
   "source": [
    "### Numpy的应用"
   ]
  },
  {
   "cell_type": "markdown",
   "metadata": {},
   "source": [
    "- 线性代数，统计学方面的运算\n",
    "- 表示各种类型的数据：图像，音频，文本\n",
    "- 用于机器学习和深度学习的算法"
   ]
  },
  {
   "cell_type": "markdown",
   "metadata": {},
   "source": [
    "![表示音频数据](./img/2023-10-27-14-19-04.png)"
   ]
  },
  {
   "cell_type": "markdown",
   "metadata": {},
   "source": [
    "![image data](./img/2023-10-27-14-20-34.png)"
   ]
  },
  {
   "cell_type": "markdown",
   "metadata": {},
   "source": [
    "![colorful image](./img/2023-10-27-14-21-52.png)"
   ]
  },
  {
   "cell_type": "markdown",
   "metadata": {},
   "source": [
    "## Pandas🐼"
   ]
  },
  {
   "cell_type": "markdown",
   "metadata": {},
   "source": [
    "### `Pandas`数据结构"
   ]
  },
  {
   "cell_type": "markdown",
   "metadata": {},
   "source": [
    "`Pandas`是基于`Numpy`的一个数据处理库，提供了两种数据结构：`Series`和`DataFrame`。\n",
    "\n",
    "- `Series`是一个一维的数据结构，类似于`Numpy`中的一维数组，不同的是`Series`可以有非整数的索引（被称作标签），可以通过标签来访问数据。\n",
    "- `DataFrame`是一个二维的数据结构，类似于电子表格或者SQL表，可以存储多种类型的数据，可以通过行和列的索引(可以不是整数)来访问数据, `DataFrame`可以看作是由多个`Series`组成的。"
   ]
  },
  {
   "cell_type": "markdown",
   "metadata": {},
   "source": [
    "### 加载数据"
   ]
  },
  {
   "cell_type": "markdown",
   "metadata": {},
   "source": [
    "![加载数据](./img/2023-10-31-07-58-44.png)"
   ]
  },
  {
   "cell_type": "code",
   "execution_count": null,
   "metadata": {},
   "outputs": [],
   "source": [
    "import pandas as pd\n",
    "\n",
    "# 读取csv文件,得到二维结构的数据： DataFrame\n",
    "df = pd.read_csv('./data/music.csv')\n",
    "df"
   ]
  },
  {
   "cell_type": "markdown",
   "metadata": {},
   "source": [
    "pandas可以从下面这些来源加载数据：\n",
    "\n",
    "- CSV\n",
    "- Excel\n",
    "- HTML\n",
    "- JSON\n",
    "- SQL\n",
    "- API\n",
    "- 等等其他"
   ]
  },
  {
   "cell_type": "markdown",
   "metadata": {},
   "source": [
    "### 选择数据"
   ]
  },
  {
   "cell_type": "code",
   "execution_count": null,
   "metadata": {},
   "outputs": [],
   "source": [
    "# 按照列名选择数据\n",
    "df['Artist']"
   ]
  },
  {
   "cell_type": "code",
   "execution_count": null,
   "metadata": {},
   "outputs": [],
   "source": [
    "# 选择多列数据\n",
    "df[['Artist', 'Plays']]"
   ]
  },
  {
   "cell_type": "code",
   "execution_count": null,
   "metadata": {},
   "outputs": [],
   "source": [
    "# 按照行索引选择数据\n",
    "df[1:3]"
   ]
  },
  {
   "cell_type": "code",
   "execution_count": null,
   "metadata": {},
   "outputs": [],
   "source": [
    "# 按照行索引和列索引选择数据\n",
    "df.loc[1:3, ['Artist', 'Plays']]"
   ]
  },
  {
   "cell_type": "markdown",
   "metadata": {},
   "source": [
    "### 过滤数据"
   ]
  },
  {
   "cell_type": "code",
   "execution_count": null,
   "metadata": {},
   "outputs": [],
   "source": [
    "df[df['Genre']=='Jazz']"
   ]
  },
  {
   "cell_type": "code",
   "execution_count": null,
   "metadata": {},
   "outputs": [],
   "source": [
    "df[df['Listeners'] > 1800000]"
   ]
  },
  {
   "cell_type": "markdown",
   "metadata": {},
   "source": [
    "如果要同时使用多个条件，可以在条件之间使用`|` 操作符表示或，使用`&`操作符表示与"
   ]
  },
  {
   "cell_type": "code",
   "execution_count": null,
   "metadata": {},
   "outputs": [],
   "source": [
    "# 条件或， 注意每个条件都要用圆括号包围\n",
    "df[(df['Genre']=='Jazz') | (df['Listeners'] > 1800000)]"
   ]
  },
  {
   "cell_type": "code",
   "execution_count": null,
   "metadata": {},
   "outputs": [],
   "source": [
    "# 条件与\n",
    "df[(df['Genre']=='Jazz') & (df['Listeners'] > 1400000)]"
   ]
  },
  {
   "cell_type": "markdown",
   "metadata": {},
   "source": [
    "### 处理数据缺失的情况"
   ]
  },
  {
   "cell_type": "markdown",
   "metadata": {},
   "source": [
    "![dropna](./img/2023-10-31-08-20-30.png)"
   ]
  },
  {
   "cell_type": "code",
   "execution_count": null,
   "metadata": {},
   "outputs": [],
   "source": [
    "df2 = pd.read_csv('./data/music copy.csv')\n",
    "df2"
   ]
  },
  {
   "cell_type": "code",
   "execution_count": null,
   "metadata": {},
   "outputs": [],
   "source": [
    "df2.dropna()"
   ]
  },
  {
   "cell_type": "code",
   "execution_count": null,
   "metadata": {},
   "outputs": [],
   "source": [
    "df2.fillna(method='ffill')"
   ]
  },
  {
   "cell_type": "markdown",
   "metadata": {},
   "source": [
    "### Grouping"
   ]
  },
  {
   "cell_type": "code",
   "execution_count": null,
   "metadata": {},
   "outputs": [],
   "source": [
    "df.groupby('Genre').sum()"
   ]
  },
  {
   "cell_type": "markdown",
   "metadata": {},
   "source": [
    "### 创建新的列"
   ]
  },
  {
   "cell_type": "code",
   "execution_count": null,
   "metadata": {},
   "outputs": [],
   "source": [
    "# 计算每个歌手的平均播放量\n",
    "df['Avg Plays'] = df['Plays'] / df['Listeners']\n",
    "df"
   ]
  },
  {
   "cell_type": "markdown",
   "metadata": {},
   "source": [
    "### 习题七"
   ]
  },
  {
   "cell_type": "markdown",
   "metadata": {},
   "source": [
    "函数输入的DataFrame数据格式如下：\n",
    "\n",
    "| 列名         | 类型    |  \n",
    "|--------------|---------|  \n",
    "| name         | varchar |  \n",
    "| continent    | varchar |  \n",
    "| area         | int     |  \n",
    "| population   | int     |  \n",
    "| gdp          | bigint  |\n",
    "\n",
    "**`name` 是表的主键（具有唯一值的列）。**  \n",
    "表中的每一行提供了一个国家的信息，包括国家名称、所属大陆、国土面积、人口数量以及 GDP 值。\n",
    "\n",
    "---\n",
    "\n",
    "**一个国家被认为是“大国”如果：**  \n",
    "- 它的国土面积至少为 3,000,000 平方千米（即 3000000 km²）；或  \n",
    "- 它的人口数量至少为 25,000,000（即 25000000）。  \n",
    "\n",
    "请编写一个函数，查询“大国”的名称、人口和国土面积，返回结果表的顺序可以任意。请注意不要使用循环语句遍历数据。\n",
    "\n",
    "---\n",
    "\n",
    "例如：\n",
    "\n",
    "**输入：**  \n",
    "World 表：  \n",
    "| name        | continent | area    | population | gdp          |  \n",
    "|-------------|-----------|---------|------------|--------------|  \n",
    "| Afghanistan | Asia      | 652230  | 25500100   | 20343000000  |  \n",
    "| Albania     | Europe    | 28748   | 2831741    | 12960000000  |  \n",
    "| Algeria     | Africa    | 2381741 | 37100000   | 188681000000 |  \n",
    "| Andorra     | Europe    | 468     | 78115      | 3712000000   |  \n",
    "| Angola      | Africa    | 1246700 | 20609294   | 100990000000 |  \n",
    "\n",
    "**输出：**  \n",
    "| name        | population | area    |  \n",
    "|-------------|------------|---------|  \n",
    "| Afghanistan | 25500100   | 652230  |  \n",
    "| Algeria     | 37100000   | 2381741 |\n"
   ]
  },
  {
   "cell_type": "code",
   "execution_count": null,
   "metadata": {},
   "outputs": [],
   "source": [
    "def big_countries(df):\n",
    "    \"\"\"\n",
    "    获取“大国”的国家名称、人口和面积。\n",
    "    一个国家被认为是“大国”如果：\n",
    "    - 面积至少为 3,000,000 平方千米 (3000000) 或\n",
    "    - 人口至少为 25,000,000 (25000000)\n",
    "    \"\"\"\n",
    "\n",
    "    # big_countries = ...    # 过滤获取人口至少为25000000或者（连个条件之间使用“|”操作符）面积至少为3000000的国家\n",
    "    # result = ...            # 查询“大国”的名称、人口和国土面积这三列的数据\n",
    "    # 大约需要2行代码\n",
    "    # 你编写的代码从这里开始\n",
    "\n",
    "\n",
    "    # 你编写的代码到这里结束\n",
    "    return result"
   ]
  },
  {
   "cell_type": "code",
   "execution_count": null,
   "metadata": {},
   "outputs": [],
   "source": [
    "data = {\n",
    "    \"name\": [\"Afghanistan\", \"Albania\", \"Algeria\", \"Andorra\", \"Angola\"],\n",
    "    \"continent\": [\"Asia\", \"Europe\", \"Africa\", \"Europe\", \"Africa\"],\n",
    "    \"area\": [652230, 28748, 2381741, 468, 1246700],\n",
    "    \"population\": [25500100, 2831741, 37100000, 78115, 20609294],\n",
    "    \"gdp\": [20343000000, 12960000000, 188681000000, 3712000000, 100990000000]\n",
    "}\n",
    "df = pd.DataFrame(data)\n",
    "print(big_countries(df))\n",
    "# 输出结果应该是：\n",
    "#           name  population     area\n",
    "# 0  Afghanistan    25500100   652230\n",
    "# 2      Algeria    37100000  2381741"
   ]
  },
  {
   "cell_type": "code",
   "execution_count": null,
   "metadata": {},
   "outputs": [],
   "source": [
    "# 测试你的程序\n",
    "from testset5 import test_big_countries\n",
    "test_big_countries(big_countries)"
   ]
  },
  {
   "cell_type": "markdown",
   "metadata": {},
   "source": [
    "## 扩展阅读📖"
   ]
  },
  {
   "cell_type": "markdown",
   "metadata": {},
   "source": [
    "- Numpy文章：[A Visual Intro to NumPy and Data Representation](https://jalammar.github.io/visual-numpy/)\n",
    "\n",
    "- Numpy文章的中文版：[Numpy和数据展示的可视化介绍](http://www.junphy.com/wordpress/index.php/2019/10/24/visual-numpy)\n",
    "\n",
    "- Pandas文章:[A Gentle Visual Intro to Data Analysis in Python Using Pandas](https://jalammar.github.io/gentle-visual-intro-to-data-analysis-python-pandas)"
   ]
  },
  {
   "cell_type": "markdown",
   "metadata": {},
   "source": [
    "参考书：[利用Python进行数据分析（原书第3版)](https://m.douban.com/book/subject/36632126/)\n",
    "\n",
    "github地址：[利用Python进行数据分析（原书第3版)源代码](https://github.com/wesm/pydata-book)"
   ]
  },
  {
   "cell_type": "markdown",
   "metadata": {},
   "source": [
    "## 实验自动评分"
   ]
  },
  {
   "cell_type": "markdown",
   "metadata": {},
   "source": [
    "请运行下面的代码进行实验自动评分"
   ]
  },
  {
   "cell_type": "code",
   "execution_count": null,
   "metadata": {},
   "outputs": [],
   "source": [
    "grade_all_tests([create_and_add_arrays,\n",
    "    multiply_max_min,\n",
    "    get_stocks_price,\n",
    "    reshape_and_reverse,\n",
    "    matrix_product_and_inverse,\n",
    "    compute_scores,\n",
    "    big_countries,])"
   ]
  },
  {
   "cell_type": "markdown",
   "metadata": {},
   "source": [
    "## 实验总结"
   ]
  },
  {
   "cell_type": "markdown",
   "metadata": {},
   "source": [
    "请尽量使用自己的语言回答下面的问题。"
   ]
  },
  {
   "cell_type": "markdown",
   "metadata": {},
   "source": [
    "问题一： 为什么在对大规模数据进行计算时，要使用numpy这样的向量化操作（尽量避免使用for循环）？"
   ]
  },
  {
   "cell_type": "markdown",
   "metadata": {},
   "source": []
  },
  {
   "cell_type": "markdown",
   "metadata": {},
   "source": [
    "问题2： 在Numpy中有哪些聚合操作，聚合操作中的axis参数是什么意思？"
   ]
  },
  {
   "cell_type": "markdown",
   "metadata": {},
   "source": []
  },
  {
   "cell_type": "markdown",
   "metadata": {},
   "source": [
    "## 生成实验报告"
   ]
  },
  {
   "cell_type": "code",
   "execution_count": null,
   "metadata": {},
   "outputs": [],
   "source": [
    "import sys\n",
    "import os\n",
    "from testset5 import grade_all_tests\n",
    "\n",
    "# Add the root directory (parent directory of `util`) to sys.path\n",
    "root_dir = os.path.abspath(\"..\")  # Adjust based on the structure\n",
    "sys.path.append(root_dir)\n",
    "\n",
    "from util import notebook2pdf, notebook_info_extractor\n",
    "\n",
    "notebook_file = \"实验5-numpy与pandas基础.ipynb\"\n",
    "stu_info  = notebook_info_extractor.extract_from_ipynb(notebook_file)\n",
    "\n",
    "html_file = \"notebook.html\"\n",
    "stu_grade = grade_all_tests([create_and_add_arrays,\n",
    "    multiply_max_min,\n",
    "    get_stocks_price,\n",
    "    reshape_and_reverse,\n",
    "    matrix_product_and_inverse,\n",
    "    compute_scores,\n",
    "    big_countries,])\n",
    "pdf_file = f\"{stu_info['class_id']}-{stu_info['student_id']}-{stu_info['name']}-实验报告5-{stu_grade}.pdf\"\n",
    "\n",
    "notebook2pdf.notebook_to_html(notebook_file, html_file)\n",
    "notebook2pdf.html_to_pdf(html_file, pdf_file)"
   ]
  }
 ],
 "metadata": {
  "kernelspec": {
   "display_name": "base",
   "language": "python",
   "name": "python3"
  },
  "language_info": {
   "codemirror_mode": {
    "name": "ipython",
    "version": 3
   },
   "file_extension": ".py",
   "mimetype": "text/x-python",
   "name": "python",
   "nbconvert_exporter": "python",
   "pygments_lexer": "ipython3",
   "version": "3.9.7"
  }
 },
 "nbformat": 4,
 "nbformat_minor": 2
}
