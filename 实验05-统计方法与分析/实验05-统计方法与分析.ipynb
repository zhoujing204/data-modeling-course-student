{
 "cells": [
  {
   "cell_type": "markdown",
   "metadata": {},
   "source": [
    "# 实验5-统计方法与分析"
   ]
  },
  {
   "cell_type": "markdown",
   "metadata": {},
   "source": [
    "<table style=\"margin: 0 auto; width: 30%; border-collapse: collapse; border: 1px solid black;\" data-id=\"student-info\">  \n",
    "    <colgroup>  \n",
    "        <col style=\"width: 35%;\">  \n",
    "        <col style=\"width: 65%;\">  \n",
    "    </colgroup>  \n",
    "    <tr>  \n",
    "        <td style=\"border: 1px solid black;\">班级</td> <td style=\"border: 1px solid black;\">24智能</td>  \n",
    "    </tr>  \n",
    "    <tr>  \n",
    "        <td style=\"border: 1px solid black;\">学号</td> <td style=\"border: 1px solid black;\">未填写</td>  \n",
    "    </tr>  \n",
    "    <tr>  \n",
    "        <td style=\"border: 1px solid black;\">姓名</td> <td style=\"border: 1px solid black;\">未填写</td>  \n",
    "    </tr>  \n",
    "    <tr>  \n",
    "        <td style=\"border: 1px solid black;\">Email</td> <td style=\"border: 1px solid black;\">未填写</td>  \n",
    "    </tr>  \n",
    "</table>"
   ]
  },
  {
   "cell_type": "markdown",
   "metadata": {},
   "source": [
    "## 实验目的"
   ]
  },
  {
   "cell_type": "markdown",
   "metadata": {},
   "source": [
    "学习掌握并理解下面的这些实验内容:\n",
    "\n",
    "- 统计学的定义和重要性\n",
    "- 数据类型\n",
    "- 正态分布\n",
    "- 单变量分析\n",
    "- 置信区间\n",
    "- t-test\n",
    "- 讨论分析与总结"
   ]
  },
  {
   "cell_type": "markdown",
   "metadata": {},
   "source": [
    "## Jupyter Notebook使用指导 "
   ]
  },
  {
   "cell_type": "markdown",
   "metadata": {},
   "source": [
    "1. 首先选择Python内核：在右上角点击Kernel，选择venv(...)。\n",
    "2. 在编辑后首先要保存，使用Ctrl+S保存。\n",
    "3. 实验运行出现问题，并且代码正确，一个最常见的解决方法在最上方点击重启(Restart), 然后点击运行所有（Run All）。\n",
    "4. 如果仍然出现问题，请保存后关闭notebook，然后重复步骤3。"
   ]
  },
  {
   "cell_type": "markdown",
   "metadata": {},
   "source": [
    "## 实验步骤"
   ]
  },
  {
   "cell_type": "markdown",
   "metadata": {},
   "source": [
    "1. 打开Vscode,选择实验五的文件夹和文件,在Vscode右上角点击Select Kernel, 然后选择base(Python 3.x.x)。\n",
    "2. 从上至下按照顺序执行该文件中的Python代码。\n",
    "3. 阅读实验给出的实验指导和代码范例，记下手写笔记方便后续进行小组讨论。\n",
    "4. 按照实验指导完成实验习题。\n",
    "5. 在习题后面的单元格执行测试代码，对代码进行测试。\n",
    "6. 实验给出了两个讨论主题，进行小组实验讨论，并写下讨论内容。\n",
    "7. 生成实验报告，并通过腾讯在线收集表提交实验报告(注意所有的习题和习题的测试代码必须要运行一次, 否则无法生成实验报告)、手写笔记以及小组讨论内容。"
   ]
  },
  {
   "cell_type": "markdown",
   "metadata": {},
   "source": [
    "## 实验准备"
   ]
  },
  {
   "cell_type": "markdown",
   "metadata": {},
   "source": [
    "开始实验前，请先运行下面的代码"
   ]
  },
  {
   "cell_type": "code",
   "execution_count": null,
   "metadata": {},
   "outputs": [],
   "source": [
    "# 导入需要的Python包\n",
    "%matplotlib inline\n",
    "\n",
    "from pathlib import Path\n",
    "import pandas as pd\n",
    "import numpy as np\n",
    "from scipy import stats\n",
    "import matplotlib.pylab as plt\n",
    "import os\n",
    "import sys\n",
    "\n",
    "# 获取项目根目录\n",
    "project_root = Path().resolve().parent\n",
    "\n",
    "sys.path.append(str(project_root / 'tests'))\n",
    "sys.path.append(str(project_root / 'util'))\n",
    "\n",
    "# 导入测试套件\n",
    "from test_suite5 import TestSuite5 # type: ignore\n",
    "from notebook2pdf import convert_notebook_to_webpdf\n",
    "from notebook_info_extractor import extract_from_ipynb\n",
    "from IPython import get_ipython\n",
    "\n",
    "testsuite5 = TestSuite5()\n",
    "\n",
    "ip = get_ipython()\n",
    "notebook_file = None\n",
    "if '__vsc_ipynb_file__' in ip.user_ns:\n",
    "    notebook_file = ip.user_ns['__vsc_ipynb_file__']\n",
    "\n",
    "stu_info = extract_from_ipynb(notebook_file)\n",
    "\n",
    "print(f\"stu_info: {stu_info}\")"
   ]
  },
  {
   "cell_type": "code",
   "execution_count": null,
   "metadata": {},
   "outputs": [],
   "source": [
    "# 导入CSV文件数据\n",
    "DATA = Path().resolve() / 'data'\n",
    "NAP_NO_NAP_CSV = DATA / \"nap_no_nap.csv\"\n",
    "WEB_PAGE_DATA_CSV = DATA / 'web_page_data.csv'\n",
    "FOUR_SESSIONS_CSV = DATA / 'four_sessions.csv'\n",
    "CLICK_RATE_CSV = DATA / 'click_rates.csv'\n",
    "IMANISHI_CSV = DATA / 'imanishi_data.csv'\n",
    "NHANES_CSV = DATA/ 'nhanes_2015_2016.csv'\n",
    "HOUSE_SALES_CSV = DATA / 'house_sales.csv'\n",
    "STATE_CSV = DATA / 'state.csv'\n",
    "CARTWHEEL_CSV = DATA / 'Cartwheeldata.csv'\n",
    "LUNGDISEASE_CSV = DATA / 'lungdisease.csv'"
   ]
  },
  {
   "cell_type": "markdown",
   "metadata": {},
   "source": [
    "## 统计学的定义及其重要性"
   ]
  },
  {
   "cell_type": "markdown",
   "metadata": {},
   "source": [
    "统计学是一门通过方法和工具从数据中学习和分析的学科。  \n",
    "- 主要任务：数据总结、变异性分析、预测与决策、测量与评估、资源优化。  \n",
    "- 历史发展：起源于古代，18世纪概率论发展，19世纪现代统计兴起，现今融入大数据与机器学习等领域。  \n",
    "- 跨学科联系：  \n",
    "  1. **计算机科学**：算法与数据处理工具。  \n",
    "  2. **数学**：概率论与统计方法基础。  \n",
    "  3. **数据科学**：数据库与机器学习技术支持。  \n",
    "- 应用领域：自动驾驶、精准医疗、推荐系统等，为科研与工业提供支撑。\n"
   ]
  },
  {
   "cell_type": "markdown",
   "metadata": {},
   "source": [
    "## 变量（数据）类型"
   ]
  },
  {
   "cell_type": "markdown",
   "metadata": {},
   "source": [
    "我们可以将变量分为两大类：**定量变量**和**分类变量**。\n",
    "\n",
    "1. 定量变量（Quantitative Variable）\n",
    "定量变量是数值化、可测量的，通常可以进行算术操作。它又分为两种类型：\n",
    "- **连续型变量（Continuous Variable）**：可以在某个区间内取任意值。例如：身体质量指数、身高、体重、时间等。\n",
    "- **离散型变量（Discrete Variable）**：是一个有限的、可数的数值。例如：家庭中的儿童数量，你可以有1个、2个或10个孩子，但不会有2.3个孩子。\n",
    "\n",
    "2. 分类变量（Categorical Variable）\n",
    "分类变量用于将个体或物品分组。它也分为两种类型：\n",
    "- **有序变量（Ordinal Variable）**：具有某种排序或等级。例如：高中或大学的年级（大一、大二、大三、大四）。\n",
    "- **无序变量（Nominal Variable）**：没有固定的排序或等级。例如：种族、婚姻状况等，不同类别之间调换顺序不会改变意义。"
   ]
  },
  {
   "cell_type": "code",
   "execution_count": null,
   "metadata": {},
   "outputs": [],
   "source": [
    "# 读取健康与营养检查调查文件的数据\n",
    "df = pd.read_csv(NHANES_CSV)\n",
    "\n",
    "# 选中BMI, 种族（RIDRETH1）, 年龄3列数据\n",
    "df = df[['BMXBMI', 'RIDRETH1', 'RIDAGEYR']]\n",
    "\n",
    "# 重命名列名\n",
    "df = df.rename(columns={\n",
    "    'BMXBMI': 'BMI',        # 将 BMXBMI 重命名为 BMI\n",
    "    'RIDRETH1': 'Race',     # 将 RIDRETH1 重命名为 Race\n",
    "    'RIDAGEYR': 'Age',      # 将 RIDAGEYR 重命名为 Age\n",
    "})\n",
    "\n",
    "# 增加 Adult 列，年龄大于 18 为 1，否则为 0\n",
    "df['Adult'] = (df['Age'] > 18).astype(int)\n",
    "\n",
    "# 打印df数据\n",
    "df"
   ]
  },
  {
   "cell_type": "markdown",
   "metadata": {},
   "source": [
    "NHANES是美国国家健康与营养检查调查，旨在评估美国儿童和成年人的健康与营养状况。表格中列出四列变量：\n",
    "\n",
    "1. **BMI（身体质量指数）**：身高体重比的衡量值，这是一个连续型定量变量。  \n",
    "2. **种族（Race）**：根据底部的编码定义，1代表墨西哥裔美国人，2代表其他西班牙裔，3代表非西班牙裔白人，4代表非西班牙裔黑人，5代表其他。这是一个无序分类变量。\n",
    "3. **年龄（Age）**：调查时个体的年龄。这是一个连续型定了变量，因为年龄也可以有小数（例如8.5岁）。  \n",
    "4. **成年人指示变量（Adult Indicator）**：如果个体年龄为18岁及以上，则编码为1；如果未满18岁，则为0。  是一个无序分类变量，因为我们可以将1和0替换为“A”（成年人）和“M”（未成年人）。"
   ]
  },
  {
   "cell_type": "markdown",
   "metadata": {},
   "source": [
    "## 习题1"
   ]
  },
  {
   "cell_type": "markdown",
   "metadata": {},
   "source": [
    "在下面的代码中，从`HOUSE_SALES_CSV`文件中读取房屋销售数据，从读取结果(`DataFrame`)中选择四列数据：\n",
    "\n",
    "- SalePrice: 房产的销售价格\t\n",
    "- PropertyType: 房产类型（如独栋、联排、公寓等）\n",
    "- Bedrooms: 房产中的卧室数量\n",
    "- BldgGrade: 建筑等级（房屋质量评级）"
   ]
  },
  {
   "cell_type": "markdown",
   "metadata": {},
   "source": [
    "判断`'SalePrice','PropertyType','Bedrooms','BldgGrade'`这四列数据分别是什么类型的变量，完成下面的函数返回一个列表(`list`)，列表(`list`)按照按照下面的顺序包含四列序列数据(`Series`)：\n",
    "\n",
    "- 连续型定量变量（Continuous Quantitative Variable）\n",
    "- 离散型定量变量（Discrete Quantitative Variable）\n",
    "- 有序分类变量（Ordinal Categorical Variable）\n",
    "- 无序分类变量（Nominal Categorical Variable）"
   ]
  },
  {
   "cell_type": "code",
   "execution_count": null,
   "metadata": {},
   "outputs": [],
   "source": [
    "# UNQ_C1 (UNIQUE CELL IDENTIFIER, DO NOT EDIT)\n",
    "# GRADED FUNCTION: get_columns_by_types\n",
    "\n",
    "def get_columns_by_types(HOUSE_SALES_CSV):\n",
    "    \"\"\"按照类型顺序返回四列数据\"\"\"\n",
    "    ## 读取csv文件\n",
    "    # house_sales_df = ...\n",
    "\n",
    "    ## 选取'SalePrice','PropertyType','Bedrooms','BldgGrade'四列数据\n",
    "    # house_sales_df = ...\n",
    "\n",
    "    ## 判断`'SalePrice','PropertyType','Bedrooms','BldgGrade'`这四列数据分别是什么类型的变量，并赋值给相应的数据\n",
    "    # 注意一定要使用下面的变量名来赋值\n",
    "    # continuous_variable = ...\n",
    "    # discrete_variable = ...\n",
    "    # ordinal_variable = ...\n",
    "    # nominal_variable = ...\n",
    "\n",
    "    ## 大约6行代码\n",
    "    ## 你编写的代码从这里开始\n",
    "    house_sales_df = None  # 请将None替换为正确的代码\n",
    "    house_sales_df = None  # 请将None替换为正确的代码\n",
    "    continuous_variable = None  # 请将None替换为正确的代码\n",
    "    discrete_variable = None  # 请将None替换为正确的代码\n",
    "    ordinal_variable = None  # 请将None替换为正确的代码\n",
    "    nominal_variable = None  # 请将None替换为正确的代码\n",
    "\n",
    "    ## 你编写的代码到这里结束\n",
    "\n",
    "    ## 返回结果\n",
    "    result = [continuous_variable, discrete_variable, ordinal_variable, nominal_variable,]\n",
    "    return result"
   ]
  },
  {
   "cell_type": "code",
   "execution_count": null,
   "metadata": {},
   "outputs": [],
   "source": [
    "# 测试习题1\n",
    "testsuite5.test_get_columns_by_types(get_columns_by_types)"
   ]
  },
  {
   "cell_type": "markdown",
   "metadata": {},
   "source": [
    "## 正态分布（Normal Distributions）"
   ]
  },
  {
   "cell_type": "markdown",
   "metadata": {},
   "source": [
    "正态分布（Normal Distributions）在分析真实世界的数据时是非常普遍的，注意：只有连续型定量变量（Continuous Quantitative Variable）才可以具备正态分布。"
   ]
  },
  {
   "cell_type": "markdown",
   "metadata": {},
   "source": [
    "### 计算标准差（Standard Deviation）"
   ]
  },
  {
   "cell_type": "markdown",
   "metadata": {},
   "source": [
    "数学公式：\n",
    "\n",
    "- 对于**总体**（Population）：  \n",
    "$ \\sigma = \\sqrt{\\frac{\\sum (x_i - \\mu)^2}{N}} $ \n",
    "- 对于**样本**（Sample）：  \n",
    "$ s = \\sqrt{\\frac{\\sum (x_i - \\bar{x})^2}{n-1}} $\n",
    "\n",
    "其中：  \n",
    "\n",
    "- $ \\sigma $: 总体标准差（Population Standard Deviation）  \n",
    "- $ s $: 样本标准差（Sample Standard Deviation）  \n",
    "- $ x_i $: 每个数据点（Data Point）  \n",
    "- $ \\mu $: 总体均值（Population Mean）  \n",
    "- $ \\bar{x} $: 样本均值（Sample Mean）  \n",
    "- $ N $: 总体中数据点的总数（Total Number of Data Points in Population）  \n",
    "- $ n $: 样本中数据点的总数（Total Number of Data Points in Sample）  \n",
    "\n",
    "---\n",
    "**逐步计算方法（以样本标准差为例）：**\n",
    "\n",
    "1. **计算均值 ($ \\bar{x} $)：**\n",
    "   - 将所有数据点相加。  \n",
    "   - 用数据点总数 \\( n \\) 去除。  \n",
    "   例如：数据为 \\( 4, 6, 8, 10 \\)：  \n",
    "   $$ \\bar{x} = \\frac{4 + 6 + 8 + 10}{4} = \\frac{28}{4} = 7 $$\n",
    "\n",
    "2. **计算偏差 ($ x_i - \\bar{x} $)：**\n",
    "   - 用每个数据点减去均值。  \n",
    "   例如：  \n",
    "   $$ 4 - 7 = -3, \\; 6 - 7 = -1, \\; 8 - 7 = 1, \\; 10 - 7 = 3 $$\n",
    "\n",
    "3. **将偏差平方 ($(x_i - \\bar{x})^2$)：**\n",
    "   - 对每个偏差值进行平方。  \n",
    "   例如：  \n",
    "   $$ (-3)^2 = 9, \\; (-1)^2 = 1, \\; (1)^2 = 1, \\; (3)^2 = 9 $$\n",
    "\n",
    "4. **计算平方偏差的平均值：**  \n",
    "   - 将所有平方偏差值相加，然后用 $ n - 1 $ 去除（适用于样本），或用 $ N $ 去除（适用于总体）。  \n",
    "   示例：对于样本：  \n",
    "   $$ \\text{平方偏差平均值} = \\frac{9 + 1 + 1 + 9}{4} = \\frac{20}{4} = 5 $$\n",
    "\n",
    "5. **开平方：**  \n",
    "   - 对上述结果开平方。  \n",
    "   例如：  \n",
    "   $ s = \\sqrt{5} \\approx 2.23 $ \n",
    "\n",
    "   因此，标准差 $ s \\approx 2.23 $。\n",
    "\n",
    "---\n",
    "\n",
    "**关键点总结：**\n",
    "- **自由度**(Degree of Freedom): 如果在分析样本，分母用 \\( n-1 \\)；如果分析的是总体，则分母用 \\( N \\)。  \n",
    "- **标准差**（Standard Deviation）衡量数据点相对于均值的离散程度。标准差越小，数据点越接近均值；而标准差越大，数据分布越分散。\n"
   ]
  },
  {
   "cell_type": "code",
   "execution_count": null,
   "metadata": {},
   "outputs": [],
   "source": [
    "import numpy as np\n",
    "\n",
    "# Data\n",
    "data = np.array([4, 6, 8, 10])\n",
    "\n",
    "# Mean\n",
    "data_mean = data.mean()\n",
    "\n",
    "# 整体标准差 (ddof=0)\n",
    "data_sd_population = data.std(ddof=0)\n",
    "\n",
    "# 样本标准差 (ddof=1)\n",
    "data_sd_sample = data.std(ddof=1)\n",
    "\n",
    "print('平均值:', data_mean)\n",
    "print('总体标准差 (n):', data_sd_population)  # Default std with n in denominator\n",
    "print('样本标准差 (n-1):', data_sd_sample)   # Std with n-1 in denominator"
   ]
  },
  {
   "cell_type": "markdown",
   "metadata": {},
   "source": [
    "### 经验法则"
   ]
  },
  {
   "cell_type": "markdown",
   "metadata": {},
   "source": [
    "1. 钟形分布也被称作正态分布（$Bell$-$Shaped\\ Distributions$）:\n",
    "   - 许多变量遵循钟形分布或正态分布。\n",
    "   - 这类分布以均值（平均值）为中心呈对称形状。\n",
    "   - 示例：大学生在工作日晚上睡眠的小时数。\n",
    "\n",
    "2. 均值（$Mean$）和标准差（$Standard\\ Deviation$）:\n",
    "   - 均值（$\\mu$，$mean$）是指数据的平均值。本例中，大学生的平均睡眠时间为7小时。\n",
    "   - 标准差（$\\sigma$，$standard\\ deviation$）衡量数据围绕均值的分散程度，表示数据平均偏离均值的程度。本例中，标准差为1.7小时。\n",
    "\n",
    "3. 经验法则（$Empirical\\ Rule$，68-95-99.7法则）:\n",
    "   - 对于正态分布：\n",
    "     - $68\\%$ 的数据位于1个标准差范围内（均值 $\\pm 1\\sigma$）：即5.3到8.7小时之间。\n",
    "     - $95\\%$ 的数据位于2个标准差范围内（均值 $\\pm 2\\sigma$）：即3.6到10.4小时之间。\n",
    "     - $99.7\\%$ 的数据位于3个标准差范围内（均值 $\\pm 3\\sigma$）：即1.9到12小时之间。\n",
    "   - 这可以帮助判断一个值是“典型”还是“异常”。"
   ]
  },
  {
   "cell_type": "code",
   "execution_count": null,
   "metadata": {},
   "outputs": [],
   "source": [
    "from IPython.display import Image, display\n",
    "display(Image('./img/2025-02-09-10-58-05.png', width=800, height=400))"
   ]
  },
  {
   "cell_type": "markdown",
   "metadata": {},
   "source": [
    "4. 标准分数（$Z$-$Scores$，$Standard\\ Scores$）:\n",
    "   - 标准分数用来衡量某个值与均值的远近程度，用标准差（$\\sigma$）来表示。\n",
    "   - 计算公式：\n",
    "     $$\n",
    "     Z = \\frac{\\text{观察值（Observation）} - \\text{均值（Mean）}}{\\text{标准差（Standard\\ Deviation）}}\n",
    "     $$\n",
    "\n",
    "   - 示例：\n",
    "     - Reed的睡眠时间为10小时，其标准分数为：\n",
    "       $$\n",
    "       Z = \\frac{10 - 7}{1.7} = 1.76\n",
    "       $$\n",
    "       他比均值高出1.76个标准差，算是比较不常见，但仍在95%的数据范围内。\n",
    "     - Reed的室友通常睡6小时：\n",
    "       $$\n",
    "       Z = \\frac{6 - 7}{1.7} = -0.59\n",
    "       $$\n",
    "       他比均值低0.59个标准差，这是相对常见且接近均值的情况。\n",
    "     - Mark的标准分数是$-2.7$，表明他的睡眠时间比均值低了2.7个标准差。通过计算，得出Mark的平均睡眠时间为2.41小时，这是极为异常的，远远超出了典型范围。\n",
    "\n",
    "5. 关键总结：\n",
    "   - 经验法则（$Empirical\\ Rule$）可以帮助我们判定数据在钟形分布中落在特定范围内的比例。\n",
    "   - 标准分数（$Z$-$Score$）可以量化某个数值的“异常程度”。\n",
    "   - 结合这些工具，我们可以为符合正态分布的数据提供参考框架。\n",
    "\n",
    "**Numpy生成正态分布的随机数据**"
   ]
  },
  {
   "cell_type": "code",
   "execution_count": null,
   "metadata": {},
   "outputs": [],
   "source": [
    "# 生成50000个正态分布数据，平均值0，标准差1\n",
    "normal_data = np.random.normal(0, 1, 50000)\n",
    "\n",
    "# 绘制正态分布的直方图\n",
    "plt.figure(figsize=(10, 6))\n",
    "plt.hist(normal_data, bins=150, density=True, alpha=0.6, color='b')\n",
    "plt.title('Normal Distribution')\n",
    "plt.show()"
   ]
  },
  {
   "cell_type": "markdown",
   "metadata": {},
   "source": [
    "## 习题2"
   ]
  },
  {
   "cell_type": "markdown",
   "metadata": {},
   "source": [
    "完成下面的函数，函数将接收一个`numpy`一维数列的数据集，要求函数返回每个数据样本的标准分数（自由度为`n`），使用`numpy`的一维数列保存所有的标准分数（标准分数的索引与数据样本的索引已知）。\n",
    "\n",
    "注意：需要使用向量化编程，不能使用循环语句。"
   ]
  },
  {
   "cell_type": "code",
   "execution_count": null,
   "metadata": {},
   "outputs": [],
   "source": [
    "# UNQ_C2 (UNIQUE CELL IDENTIFIER, DO NOT EDIT)\n",
    "# GRADED FUNCTION: calculate_z_scores\n",
    "\n",
    "import numpy as np\n",
    "\n",
    "def calculate_z_scores(data):\n",
    "    \"\"\"\n",
    "    计算一维数组中每个数据样本的标准分数(Z-scores)。\n",
    "\n",
    "    参数:\n",
    "        data (numpy.ndarray): 一维数列，表示数据集。\n",
    "\n",
    "    返回:\n",
    "        numpy.ndarray: 一维数组，包含每个数据样本的标准分数。\n",
    "    \"\"\"\n",
    "    ## 大约需要5-6行代码\n",
    "    ## 你编写的代码从这里开始, 将...替换为正确的代码\n",
    "    ## 计算平均值\n",
    "    data_mean = ...\n",
    "\n",
    "    ## 计算标准差\n",
    "    std_dev = ...\n",
    "\n",
    "    # 计算标准分数， 如果标准差为 0，则所有 Z-scores 都为 0\n",
    "    if ... :\n",
    "        z_scores = ...\n",
    "    else:\n",
    "        z_scores = ...\n",
    "\n",
    "    ## 你编写的代码到这里结束\n",
    "\n",
    "    return z_scores"
   ]
  },
  {
   "cell_type": "code",
   "execution_count": null,
   "metadata": {},
   "outputs": [],
   "source": [
    "# 测试习题2\n",
    "testsuite5.test_calculate_z_scores(calculate_z_scores)"
   ]
  },
  {
   "cell_type": "markdown",
   "metadata": {},
   "source": [
    "## 单变量分析"
   ]
  },
  {
   "cell_type": "markdown",
   "metadata": {},
   "source": [
    "### 变异性度量的关键术语（Key Terms for Variability Metrics）"
   ]
  },
  {
   "cell_type": "markdown",
   "metadata": {},
   "source": [
    "1. **偏差（Deviations）**  \n",
    "   - **定义**：观察值与位置估计值之间的差异。  \n",
    "   - **同义词**：errors（误差），residuals（残差）  \n",
    "   - **示例**：一个学生的数学考试分数是90分，而班级平均分是80分，则该学生的偏差为 \\( 90 - 80 = 10 \\)。\n",
    "\n",
    "2. **方差（Variance）**  \n",
    "   - **定义**：观测值与均值的偏差平方和，除以 $ n-1 $（其中 $ n $ 是数据值的数量）。  \n",
    "   - **同义词**：mean-squared-error（均方误差）  \n",
    "   - **示例**：假设有数据值 [2, 4, 4, 6]。均值为 $ (2+4+4+6)/4 = 4 $。每个数据的偏差平方和为 $ (2-4)^2 + (4-4)^2 + (4-4)^2 + (6-4)^2 = 4 + 0 + 0 + 4 = 8 $，方差为 $ 8/(4-1) = 2.67 $。\n",
    "\n",
    "3. **标准差（Standard deviation）**  \n",
    "   - **定义**：方差的平方根。  \n",
    "   - **示例**：根据上例，方差为2.67，则标准差为 $ \\sqrt{2.67} \\approx 1.63 $。\n",
    "\n",
    "4. **中位数（Median）**  \n",
    "   - **定义**：中位数是排序后的数据中位于中间的数值。如果数据个数是奇数，中位数为第 $ \\frac{n+1}{2} $ 个值；如果数据个数是偶数，中位数是中间两个数的平均值。  \n",
    "   - **示例**：  \n",
    "      - 假设数据值为 [1, 3, 3, 6, 7, 8]，中位数是 $ (3 + 6)/2 = 4.5 $。  \n",
    "      - 如果数据为 [1, 3, 6, 9, 12]（奇数个数），中位数为6。\n",
    "\n",
    "5. **极差（Range）**  \n",
    "   - **定义**：数据集中最大值与最小值之间的差值。  \n",
    "   - **示例**：假设数据值为 [10, 20, 30, 40]，最大值为40，最小值为10，极差为 \\( 40 - 10 = 30 \\)。\n",
    "\n",
    "6. **顺序统计量（Order statistics）**  \n",
    "   - **定义**：基于从小到大排序的数据值计算的度量值。  \n",
    "   - **同义词**：ranks（秩）  \n",
    "   - **示例**：假设数据值为 [5, 1, 3, 8]，排序后为 [1, 3, 5, 8]，这些排序后的值可以用来计算其他统计量，例如第一个值（最小值）为1，第n值为8。\n",
    "\n",
    "7. **百分位数（Percentile）**  \n",
    "   - **定义**：有 \\( P\\% \\) 的数据小于或等于该值，并且有 $ (100-P)\\% $ 的数据大于或等于该值。  \n",
    "   - **同义词**：quantile（分位数）  \n",
    "   - **示例**：假设数据值为 [1, 3, 5, 7, 9]，第25百分位数为数据中第25%的位置，对应的值是3，第75百分位数对应的值是7。\n",
    "\n",
    "8. **四分位距（Interquartile range）**  \n",
    "    - **定义**：第75百分位数（上四分位数）与第25百分位数（下四分位数）之间的差值。  \n",
    "    - **同义词**：IQR  \n",
    "    - **示例**：假设数据值为 [2, 4, 6, 8, 10]，第75百分位数为8，第25百分位数为4，四分位距为 \\( 8 - 4 = 4 \\)。\n",
    "\n",
    "11. **异常值（Outliers）**  \n",
    "    - **定义**：与数据整体分布相比，距离中心位置过远的值。通常异常值通过四分位距（IQR）规则确定：低于下届（lower bound: $ Q1 - 1.5 \\times IQR $) 或高于上界(upper bound: $Q3 + 1.5 \\times IQR$) 的数据点被认为是异常值。  \n",
    "    - **同义词**：extreme values（极端值）  \n",
    "    - **示例**：假设数据值为 [2, 3, 4, 5, 98]，五个值中，绝大部分数据都集中在低值范围，而98显著高于其他值，因此被视为异常值。\n"
   ]
  },
  {
   "cell_type": "markdown",
   "metadata": {},
   "source": [
    "### 数据可视化"
   ]
  },
  {
   "cell_type": "markdown",
   "metadata": {},
   "source": [
    "一图胜千言，数据可视化在统计分析以及数据分析中有着非常重要的作用：\n",
    "\n",
    "- **快速传递信息**：复杂数据转化为易于理解的图形，图形传递的信息量更大，便于快速掌握关键信息。  \n",
    "- **揭示模式与趋势**：帮助发现数据中的隐藏规律、异常点和趋势。  \n",
    "- **提高说服力**：直观展示数据，提高分析结果的可信度和影响力。  \n",
    "- **便于比较和分类**：清晰展示不同维度及类别之间的关系或差异。  \n",
    "- **支持决策**：为数据驱动决策提供直观依据。"
   ]
  },
  {
   "cell_type": "markdown",
   "metadata": {},
   "source": [
    "对于数值型数据（Quantitative Data）通常可以使用下面的图形：\n",
    "\n",
    "- 直方图（Histograms）：显示数据分布，例如显示某班学生的数学成绩分布，观察成绩数据分布的情况。\n",
    "- 箱线图（Boxplots）：例如比较不同地区的房租水平，突出中位数和异常值。\n",
    "- 折线图（Line Charts）：显示随时间或顺序测量的趋势，例如展示某公司过去12个月的月度销售额变化趋势。\n",
    "\n",
    "对于分类数据（Categorical Data）通常可以使用下面的图形：\n",
    "\n",
    "- 条形图（Bar Charts）：比较各类别的计数或比例，比较不同电商平台（如淘宝、京东、拼多多）的用户数量。\n",
    "- 饼图（Pie Charts）：将类别表示为整体的一部分，显示某公司员工学历分布（本科、硕士、博士所占比例）。"
   ]
  },
  {
   "cell_type": "markdown",
   "metadata": {},
   "source": [
    "### BoxPlots"
   ]
  },
  {
   "cell_type": "code",
   "execution_count": null,
   "metadata": {},
   "outputs": [],
   "source": [
    "# 读取美国各州的数据\n",
    "state = pd.read_csv(STATE_CSV)\n",
    "print(state.head(8))"
   ]
  },
  {
   "cell_type": "code",
   "execution_count": null,
   "metadata": {},
   "outputs": [],
   "source": [
    "# 计算各州人口的百分位数\n",
    "print(state['Population'].quantile([0.05, 0.25, 0.5, 0.75, 0.95]))"
   ]
  },
  {
   "cell_type": "code",
   "execution_count": null,
   "metadata": {},
   "outputs": [],
   "source": [
    "# 计算IQR，也就是第75百分位数（上四分位数）与第25百分位数（下四分位数）之间的差值。\n",
    "print(state['Population'].quantile(0.75) - state['Population'].quantile(0.25))"
   ]
  },
  {
   "cell_type": "code",
   "execution_count": null,
   "metadata": {},
   "outputs": [],
   "source": [
    "# 将谋杀率的百分位数据转换成表格展示\n",
    "percentages = [0.05, 0.25, 0.5, 0.75, 0.95]\n",
    "\n",
    "# 获取数据并转换成DataFrame\n",
    "df = pd.DataFrame(state['Murder.Rate'].quantile(percentages))\n",
    "\n",
    "# 添加索引\n",
    "df.index = [f'{p * 100}%' for p in percentages]\n",
    "\n",
    "# 矩阵转置并打印数据\n",
    "print(df.transpose())"
   ]
  },
  {
   "cell_type": "code",
   "execution_count": null,
   "metadata": {},
   "outputs": [],
   "source": [
    "data = state['Population']/1_000_000\n",
    "fig, ax = plt.subplots()\n",
    "box = ax.boxplot(data, showmeans=True, meanline=True, vert=True)\n",
    "ax.set_ylabel('Population (millions)')\n",
    "ax.set_xlabel('Population')\n",
    "\n",
    "# 计算 Mean 和 Median\n",
    "mean_value = np.mean(data)\n",
    "median_value = np.median(data)\n",
    "\n",
    "# 标注平均值\n",
    "plt.annotate(f'Mean: {mean_value:.2f}', xy=(1.1, mean_value), color='blue')\n",
    "\n",
    "# 标注中位数\n",
    "plt.annotate(f'Median: {median_value:.2f}', xy=(1.1, median_value), color='red')\n",
    "plt.show()"
   ]
  },
  {
   "cell_type": "code",
   "execution_count": null,
   "metadata": {},
   "outputs": [],
   "source": [
    "# 通常我们会更简单的绘制BoxPlot，不会添加标注\n",
    "ax = (state['Population']/1_000_000).plot.box(figsize=(3, 4))\n",
    "ax.set_ylabel('Population (millions)')\n",
    "plt.tight_layout()\n",
    "plt.show()"
   ]
  },
  {
   "cell_type": "markdown",
   "metadata": {},
   "source": [
    "数据分析：\n",
    "\n",
    "1. **箱体（Box）**\n",
    "- 箱体的上下边界代表 **第一四分位数(Q1)** 和 **第三四分位数(Q3)**，即将数据按大小分为四等分后，25% 和 75% 位置的数据值。\n",
    "- 中间的橙色线是 **中位数(Median)**，即数据的中间值（图中标记为 4.44 百万人）。\n",
    "\n",
    "2. **须线（Whiskers）**\n",
    "- 箱体上下延伸的线段（须线）表示数据的范围，但是不包括离群值（outliers）。\n",
    "- 上下须线的末端分别代表 **最低非异常值** 和 **最高非异常值**。\n",
    "\n",
    "3. **离群值（Outliers）**\n",
    "- 离群值是那些显著高于或低于整体分布的数据点，用图中的小圆圈表示。\n",
    "- 例如，图中有几个高值离群点，最大离群点接近 35 百万人。\n",
    "\n",
    "4. **平均值（Mean）**\n",
    "- 图中标注了虚线，表示数据的均值(Mean)，为 **6.16 百万人**。均值稍高于中位数，说明整体分布右偏，有极端高值拉高了平均值。\n",
    "\n",
    "5. **总体分布特性**\n",
    "- 数据的中位数 4.44 百万人靠近箱体的下方，表明数据集中分布在较低的范围。\n",
    "- 数据的上侧尾巴较长，离群值较多，说明数据分布有一定的右偏（高值较多）。"
   ]
  },
  {
   "cell_type": "markdown",
   "metadata": {},
   "source": [
    "## 习题3"
   ]
  },
  {
   "cell_type": "markdown",
   "metadata": {},
   "source": [
    "编写下面的函数，读取`HOUSE_SALES_CSV`文件中的`SalePrice`列的数据（价格单位要换算成千美元），计算房屋价格的百分位数（Percentile）, 四分位距（IQR）, 计算箱线图中最低非异常值和最高非异常值，也就是箱线图的上下须线的位置，最后创建箱线图（不要绘制）并从函数中返回计算的值和创建的箱线图。"
   ]
  },
  {
   "cell_type": "code",
   "execution_count": null,
   "metadata": {},
   "outputs": [],
   "source": [
    "# UNQ_C3 (UNIQUE CELL IDENTIFIER, DO NOT EDIT)\n",
    "# GRADED FUNCTION: analyze_house_prices\n",
    "\n",
    "import pandas as pd\n",
    "\n",
    "def analyze_house_prices(HOUSE_SALES_CSV):\n",
    "    \"\"\"\n",
    "    读取CSV文件中的房屋售价数据计算统计值, 并返回箱线图绘制所需信息。\n",
    "\n",
    "    参数:\n",
    "        HOUSE_SALES_CSV: CSV文件的路径。\n",
    "\n",
    "    返回:\n",
    "        dict: 包含计算的统计数据，包括百分位数、四分位距、上下须的位置等。\n",
    "        键包括：\n",
    "        - \"Q1 (25th Percentile)\":百分位数25\n",
    "        - \"Q3 (75th Percentile)\":百分位数75\n",
    "        - \"IQR\"：四分位距\n",
    "        - \"Lower Whisker\"：箱线图下须的位置\n",
    "        - \"Upper Whisker\"：箱线图上须的位置\n",
    "    \"\"\"\n",
    "    # 大约7行代码\n",
    "    ## 你编写的代码从这里开始\n",
    "\n",
    "    # 读取CSV文件中的数据\n",
    "    data =  ...\n",
    "\n",
    "    ## 提取 SalePrice 列并转换为千元单位\n",
    "    sales_prices = ...\n",
    "\n",
    "    ## 计算统计值q1, q3, iqr\n",
    "    q1 = ...\n",
    "    q3 = ...\n",
    "    iqr = ...\n",
    "\n",
    "    # 计算最低非异常值和最高非异常值\n",
    "    lower_whisker = ...\n",
    "    upper_whisker = ...\n",
    "\n",
    "    ## 你编写的代码到这里结束\n",
    "\n",
    "\n",
    "    # 返回计算出的统计数据和箱线图对象\n",
    "    return {\n",
    "        \"Q1 (25th Percentile)\": q1,\n",
    "        \"Q3 (75th Percentile)\": q3,\n",
    "        \"IQR\": iqr,\n",
    "        \"Lower Whisker\": lower_whisker,\n",
    "        \"Upper Whisker\": upper_whisker\n",
    "    }"
   ]
  },
  {
   "cell_type": "code",
   "execution_count": null,
   "metadata": {},
   "outputs": [],
   "source": [
    "# 调用函数\n",
    "result = analyze_house_prices(HOUSE_SALES_CSV)\n",
    "print(result)\n",
    "# 输出结果应该为：\n",
    "# {'Q1 (25th Percentile)': 325.0, 'Q3 (75th Percentile)': 585.0, 'IQR': 260.0,\n",
    "#  'Lower Whisker': -65.0, 'Upper Whisker': 975.0}"
   ]
  },
  {
   "cell_type": "code",
   "execution_count": null,
   "metadata": {},
   "outputs": [],
   "source": [
    "# 测试习题3\n",
    "testsuite5.test_analyze_house_prices(analyze_house_prices)"
   ]
  },
  {
   "cell_type": "markdown",
   "metadata": {},
   "source": [
    "## 置信区间(Confidence Intervals)"
   ]
  },
  {
   "cell_type": "markdown",
   "metadata": {},
   "source": [
    "### 核心概念"
   ]
  },
  {
   "cell_type": "markdown",
   "metadata": {},
   "source": [
    "总体比例的置信区间 (Confidence Intervals for Population Proportions)\n",
    "\n",
    "-   **目标：** 根据样本 (sample) 估算具有某种特征的总体 (population) 的真实比例 (true proportion)（百分比）。例如你需要猜测*所有*总是使用汽车座椅的父母的百分比，但你只能询问一部分父母（样本）。\n",
    "\n",
    "-   **置信区间 (Confidence Interval)：** 我们认为真实总体比例 (true population proportion) 可能落入其中的一个数值范围。 这不是保证，而是概率的陈述。\n",
    "\n",
    "-   **关键术语 (Key Terms)**\n",
    "    *   p：要检验的总体比例 (population proportion)。\n",
    "    *   p̂ (p-hat)：（阳性回复的数量）/（样本数量）number of positive response / number of sample。\n",
    "    *   误差范围 (Margin of error)：估计可能出现的偏差。\n",
    "    *   标准误差 (Standard error)：抽样分布的标准差 (standard deviation of a sampling distribution)。\n",
    "\n",
    "**如何计算比例的置信区间 (How to Calculate a Confidence Interval (for a Proportion)):**\n",
    "\n",
    "1.  **最佳估计 (Best Estimate) (p̂):**\n",
    "    *   这是你的样本比例 (sample proportion)。 计算公式为：$$p̂ = (样本中的“成功”数) / (总样本量)$$  $$p̂ = (Number of \"successes\" in the sample) / (Total sample size)$$\n",
    "    *   在示例中，659 位家长中有 540 位表示总是使用汽车座椅。 因此，p̂ = 540/659 = 0.82（大约）。\n",
    "\n",
    "2.  **误差范围 (Margin of Error):**\n",
    "    *   这解释了使用样本来代表整个总体的不确定性。\n",
    "    *   计算公式为：`误差范围 (Margin of Error) = (临界值 (Critical Value)) * (估计标准误差 (Estimated Standard Error))`\n",
    "\n",
    "    *   **临界值 (Critical Value) (z-star):** 这取决于你期望的置信水平 (confidence level)。 对于 95% 的置信水平，临界值约为 1.96（或通常四舍五入为 2）。 该值来自标准正态分布 (standard normal distribution)（Z 分布）。 较高的置信水平需要较大的临界值。\n",
    "\n",
    "    *   **估计标准误差 (Estimated Standard Error):** 这衡量了样本比例的变异性。 计算公式为：\n",
    "        $$\\sqrt ( [p̂ * (1 - p̂)] / n ) $$\n",
    "        其中 'n' 是样本量 (sample size)。\n",
    "\n",
    "3.  **置信区间计算 (Confidence Interval Calculation):**\n",
    "    *   `置信区间 (Confidence Interval) = 最佳估计 (Best Estimate) ± 误差范围 (Margin of Error)`\n",
    "    *   `置信区间 (Confidence Interval) = p̂ ± (临界值 (Critical Value) * 估计标准误差 (Estimated Standard Error))`\n",
    "\n",
    "**示例演练（汽车座椅使用）(Example Walkthrough (Car Seat Usage)):**\n",
    "\n",
    "1.  **总体 (Population)：** 有幼儿的父母。\n",
    "2.  **感兴趣的参数 (Parameter of Interest) (p)：** *所有*有幼儿的父母总是使用汽车座椅的真实比例。\n",
    "3.  **样本量 (Sample Size) (n)：** 659\n",
    "4.  **“成功”数 (\"Successes\") (x)：** 540（表示“是”的父母）\n",
    "5.  **最佳估计 (Best Estimate) (p̂)：** 540/659 ≈ 0.82\n",
    "6.  **置信水平 (Confidence Level)：** 95%\n",
    "7.  **临界值 (Critical Value) (z-star)：** \n",
    "    - 置信区间95%时，z-star=1.96\n",
    "    - 置信区间99%时，z-star=2.576\n",
    "    - 置信区间90%时，z-star=1.645\n",
    "8.  **估计标准误差 (Estimated Standard Error)：** √( [0.82 * (1 - 0.82)] / 659 ) ≈ 0.0146\n",
    "9.  **误差范围 (Margin of error):** 1.96 * 0.0146 ≈ 0.0286\n",
    "10. **置信区间 (Confidence Interval)：** 0.82 ± 0.0286，得出范围 (0.7914, 0.8474)。 转换为百分比：79.14% 到 84.74%。\n",
    "\n",
    "**解释 (Interpretation):**\n",
    "\n",
    "*   简单的(但是不准确的)解释:“我们有 95% 的信心，总是使用汽车座椅的有幼儿父母的真实比例在 79.14% 到 84.74% 之间。”\n",
    "\n",
    "*   **重要提示 (更准确的解释):** 这*并不*意味着真实比例*正好*在该范围内有 95% 的可能性。 应该是如果我们**多次重复**此抽样过程，我们计算出的置信区间有95%的概率将包含真实总体比例。"
   ]
  },
  {
   "cell_type": "code",
   "execution_count": null,
   "metadata": {},
   "outputs": [],
   "source": [
    "from IPython.display import display, Image\n",
    "display(Image('./img/2025-02-12-07-38-48.png', width=500, height=375))"
   ]
  },
  {
   "cell_type": "markdown",
   "metadata": {},
   "source": [
    "**置信区间可视化的解释：**\n",
    "- 网站链接： [Seeing Theory App](https://seeing-theory.brown.edu/frequentist-inference/index.html#section2) \n",
    "- 使用方法： 选择 “Start” --> \"frequentist-inference\" --> \"Confidence Interval\"\n",
    "\n",
    "\n",
    "**主要收获 (Key Takeaways):**\n",
    "\n",
    "*   置信区间 (Confidence intervals) 为总体比例 (population proportion) 提供了一系列合理的数值。\n",
    "*   置信区间 (confidence interval) 的中心是样本比例 (sample proportion) (p̂)。\n",
    "*   区间的宽度由误差范围 (margin of error) 决定，误差范围取决于置信水平 (confidence level) 和样本量 (sample size)。 较大的样本量会导致较窄的区间（更高的精度）。\n",
    "*   置信区间 (confidence interval) 的解释至关重要。 这是关于该方法长期性能的陈述，而不是关于任何单个区间的保证。"
   ]
  },
  {
   "cell_type": "markdown",
   "metadata": {},
   "source": [
    "### 使用Python计算置信区间"
   ]
  },
  {
   "cell_type": "markdown",
   "metadata": {},
   "source": [
    "置信区间可以按以下方式计算：\n",
    "\n",
    "$${\\rm 最佳估计值} \\pm {\\rm 误差范围}$$\n",
    "\n",
    "其中*最佳估计值*可以是\n",
    "- 观察到的总体比例\n",
    "- 观察到的均值\n",
    "\n",
    "而*误差范围*是**临界值**乘以**标准误差**。\n",
    "\n",
    "临界值是根据自由度和所需的置信水平计算的。对于样本量超过30个观测值且置信水平为95%的情况，我们可以使用z乘数1.96来代替临界值。z乘数的优点是不依赖于任何\"自由度\"。\n",
    "\n",
    "创建95%置信区间的公式也可以表示为：\n",
    "\n",
    "$${\\rm 总体比例或均值} \\pm ({\\rm 临界值} \\cdot {\\rm 标准误差})$$\n",
    "\n",
    "最后，总体比例和均值的标准误差计算方法不同：\n",
    "\n",
    "$${\\rm 比例的标准误差} = \\sqrt{\\frac{{\\rm 总体比例} \\cdot (1 - {\\rm 总体比例})}{{\\rm 观测数量}}}$$\n",
    "\n",
    "$${\\rm 均值的标准误差} = \\frac{{\\rm 标准差}}{\\sqrt{{\\rm 观测数量}}}$$\n"
   ]
  },
  {
   "cell_type": "markdown",
   "metadata": {},
   "source": [
    "#### 案例1（总体比例）"
   ]
  },
  {
   "cell_type": "markdown",
   "metadata": {},
   "source": [
    "我们有一个由659名有幼儿的人组成的样本，其中85%的父母始终使用儿童安全座椅。这个点估计值（85%）并不完全等于使用儿童安全座椅的父母的总体比例。标准误差（SE）表示点估计值相对于总体值可能存在的误差。接下来，我们将使用计算比例标准误差的程序来计算这个标准误差。"
   ]
  },
  {
   "cell_type": "code",
   "execution_count": null,
   "metadata": {},
   "outputs": [],
   "source": [
    "import numpy as np\n",
    "import pandas as pd\n",
    "\n",
    "# 临界值\n",
    "tstar = 1.96\n",
    "\n",
    "# 最佳估计值\n",
    "p = .85\n",
    "\n",
    "# 样本数\n",
    "n = 659\n",
    "\n",
    "# 比例的标准误差\n",
    "se = np.sqrt((p * (1 - p))/n)\n",
    "se"
   ]
  },
  {
   "cell_type": "markdown",
   "metadata": {},
   "source": [
    "标准误差是0.014，即1.4个百分点。因此，我们的点估计值（85%）可能与真实值相差约1.4个百分点。接下来，我们要为始终使用儿童安全座椅的幼儿父母的比例计算置信区间。置信区间由其\"置信下限\"（lcb）和\"置信上限\"（ucb）来定义。"
   ]
  },
  {
   "cell_type": "code",
   "execution_count": null,
   "metadata": {},
   "outputs": [],
   "source": [
    "lcb = p - tstar * se\n",
    "ucb = p + tstar * se\n",
    "(lcb, ucb)"
   ]
  },
  {
   "cell_type": "markdown",
   "metadata": {},
   "source": [
    "#### 案例2(平均值)"
   ]
  },
  {
   "cell_type": "markdown",
   "metadata": {},
   "source": [
    "现在，让我们使用侧手翻数据集，为侧手翻平均距离计算置信区间:"
   ]
  },
  {
   "cell_type": "code",
   "execution_count": null,
   "metadata": {},
   "outputs": [],
   "source": [
    "df = pd.read_csv(CARTWHEEL_CSV)\n",
    "df"
   ]
  },
  {
   "cell_type": "code",
   "execution_count": null,
   "metadata": {},
   "outputs": [],
   "source": [
    "# 计算均值，标准差和样本数\n",
    "mean = df[\"CWDistance\"].mean()\n",
    "sd = df[\"CWDistance\"].std()\n",
    "n = len(df)\n",
    "\n",
    "# 计算均值的标准误差\n",
    "tstar = 2.064   # 95%的置信区间, 因为样本数不到30，使用t分布的乘数更大\n",
    "se = sd/np.sqrt(n)\n",
    "se"
   ]
  },
  {
   "cell_type": "markdown",
   "metadata": {},
   "source": [
    "计算均值的置信区间"
   ]
  },
  {
   "cell_type": "code",
   "execution_count": null,
   "metadata": {},
   "outputs": [],
   "source": [
    "lcb = mean - tstar * se\n",
    "ucb = mean + tstar * se\n",
    "(lcb, ucb)"
   ]
  },
  {
   "cell_type": "markdown",
   "metadata": {},
   "source": [
    "## 习题4"
   ]
  },
  {
   "cell_type": "markdown",
   "metadata": {},
   "source": [
    "编写函数，读取肺部疾病研究数据集(LUNGDISEASE_CSV)中的数据PEFR (Peak Expiratory Flow Rate): 呼气峰流速, 这是一个衡量肺功能的指标, 单位通常是升/分钟(L/min), 数值范围从110到610不等。根据文件中给出的PEFR样本数据均值，计算95%（`t_star`为1.96）的置信区间。\n",
    "\n",
    "要求函数最后返回：\n",
    "- 'PEFR'序列的全部数据\n",
    "- 均值的标准误差\n",
    "- 置信区间的置信下限和置信上限"
   ]
  },
  {
   "cell_type": "code",
   "execution_count": null,
   "metadata": {},
   "outputs": [],
   "source": [
    "# UNQ_C4 (UNIQUE CELL IDENTIFIER, DO NOT EDIT)\n",
    "# GRADED FUNCTION: calculate_pefr_confidence_interval\n",
    "\n",
    "def calculate_pefr_confidence_interval(LUNGDISEASE_CSV):\n",
    "    # 大约共9行代码\n",
    "\n",
    "    ## 你编写的代码从这里开始, 将... 替换为正确的代码\n",
    "    ## 读取肺部疾病数据文件\n",
    "    df = ...\n",
    "\n",
    "    ## 获取'PEFR'列的数据\n",
    "    pefr_values = ...\n",
    "\n",
    "    # 计算样本的均值，标准差，样本数\n",
    "    mean = ...\n",
    "    sd = ...\n",
    "    n = ...\n",
    "\n",
    "    # 计算均值的标准误差\n",
    "    se = ...\n",
    "\n",
    "    # 设置临界值\n",
    "    t_star =  ...\n",
    "\n",
    "    # 计算置信区间的置信下限和置信上限\n",
    "    lcb = ...\n",
    "    ucb = ...\n",
    "\n",
    "    ## 你编写的代码到这里结束\n",
    "\n",
    "    return pefr_values, se, lcb, ucb"
   ]
  },
  {
   "cell_type": "code",
   "execution_count": null,
   "metadata": {},
   "outputs": [],
   "source": [
    "# 测试习题4\n",
    "testsuite5.test_calculate_pefr_confidence_interval(calculate_pefr_confidence_interval)"
   ]
  },
  {
   "cell_type": "markdown",
   "metadata": {},
   "source": [
    "## 统计学假设检验与推理"
   ]
  },
  {
   "cell_type": "markdown",
   "metadata": {},
   "source": [
    "### 假设检验"
   ]
  },
  {
   "cell_type": "markdown",
   "metadata": {},
   "source": [
    "1. **零假设（Null Hypothesis）**\n",
    "- **定义**：零假设是一个基线假设，通常认为两组之间没有差异，所有的观察结果都可以用“随机性”来解释。\n",
    "  - 例如，“组A与组B之间没有区别”，“所有治疗组的效果是一样的”。\n",
    "- **逻辑**：\n",
    "  - 假设数据中的差异只是随机产生的，而非因为实验处理的不同所引起。\n",
    "  - 通过数据分析，我们试图证明这种想法是错误的（即“推翻零假设”）。\n",
    "\n",
    "2. **备择假设（Alternative Hypothesis）**\n",
    "- **定义**：备择假设与零假设相对立，代表我们想要证明的假设。它通常表明实验处理产生了某种显著效果。\n",
    "- **举例**：\n",
    "  - **零假设**: “组A和组B的均值相等”；**备择假设**：组A和组B的均值不同。\n",
    "  - **零假设**: “组A的结果小于或等于组B”；**备择假设**：组A的结果大于组B。\n",
    "  - **零假设**: “B比A的结果增加不足X%”；**备择假设**：B比A增加了X%以上。\n",
    "- **特点**：\n",
    "  - 零假设和备择假设必须涵盖所有可能性（即它们是互补的）。\n",
    "  - 根据零假设中的设定，决定使用哪种具体假设检验方法。\n",
    "\n",
    "3. **假设检验的核心思想**：基于零假设的前提，检验数据中的差异是否极端到足以排除“随机性”的解释。如果可以排除，就接受备择假设，认为实验处理或分组差异导致了观察到的显著不同。这种方法在决策中非常重要，因为人类容易将随机产生的现象误认为是有意义的。因此，通过统计假设检验，我们能更科学地判断实验结果是否有显著性。"
   ]
  },
  {
   "cell_type": "markdown",
   "metadata": {},
   "source": [
    "### 统计显著性"
   ]
  },
  {
   "cell_type": "markdown",
   "metadata": {},
   "source": [
    "**1. 统计显著性（Statistical Significance）**\n",
    "- **定义**：统计显著性是用来衡量实验结果是否超出了随机性所能解释的范围。如果实验结果超出了随机变化的可能性范围，就称为统计显著。\n",
    "- **目的**：通过统计显著性判断实验结果是否足够“极端”，从而推翻零假设。\n",
    "\n",
    "---\n",
    "\n",
    "**2. 关键术语**\n",
    "1. **p值（p-value）**：\n",
    "   - **定义**：在零假设成立的前提下，得到像观察结果一样极端或更极端结果的概率。\n",
    "   - **意义**：p值越小，说明观察结果越不可能是随机性造成的，从而越有可能推翻零假设。\n",
    "   \n",
    "2. **α值（Alpha）**：\n",
    "   - **定义**：判断结果是否显著的概率阈值，通常设定为5%（0.05）或1%（0.01）。如果p值小于α值，则结果被认为是统计显著的。\n",
    "   - **注意**：α值是人为设定的，并不能保证一定得出正确的结论。\n",
    "---\n",
    "\n",
    "**3. 案例解释**\n",
    "**电商实验结果（A/B测试）**：\n",
    "- **实验数据**：\n",
    "  - 价格A：200次转化，23539次未转化。\n",
    "  - 价格B：182次转化，22406次未转化。\n",
    "- **转化率**：\n",
    "  - 价格A的转化率为0.8425%（$200 / (23539 + 200)$）。\n",
    "  - 价格B的转化率为0.8057%（$182 / (22406 + 182)$）。\n",
    "  - 差异为0.0368个百分点。\n",
    "- **问题**：\n",
    "  - 尽管价格A的转化率比价格B高，但转化率本身较低（不到1%），实际的转化次数（成功样本数）只有几百次。因此，我们可以通过一些检验方法，例如**z检验或t检验**判断这一差异是否可能由随机性造成。\n",
    "\n",
    "**4. 计算P值并解释结果**\n",
    "\n",
    "使用Python软件计算得到P值（具体计算方法在下一小节）：$p \\approx 0.6619$  \n",
    "\n",
    "结果解释\n",
    "- 由于p值（0.497）远大于显著性水平α = 0.05，我们无法拒绝零假设。\n",
    "- 不拒绝零假设并不意味着接受零假设，这是一种保守的表述，存在不确定性，意思是当前的数据不足以推翻零假设。\n",
    "- 价格A与价格B的转化率差异可能是由随机性造成的。\n",
    "\n"
   ]
  },
  {
   "cell_type": "markdown",
   "metadata": {},
   "source": [
    "### t检验"
   ]
  },
  {
   "cell_type": "markdown",
   "metadata": {},
   "source": [
    "接下来我们将学习假设检验的方法t-test，检验用户在网页A和网页B的会话时间是否存在显著差异。\n",
    "\n",
    "1. **假设 (Hypotheses)**:\n",
    "   - **零假设 ($H_0$)**: 用户在网页A和网页B的平均会话时间没有显著差异 ($\\mu_1 - \\mu_2 = 0$)。\n",
    "   - **备择假设 ($H_a$)**: 用户在网页A和网页B的平均会话时间存在显著差异 ($\\mu_1 - \\mu_2 \\neq 0$)。\n",
    "\n",
    "2. **显著性水平 (Significance Level)**: 使用5%的显著性水平 ($\\alpha = 0.05$)。\n",
    "\n",
    "3. **t检验(t-test)的假设**\n",
    "\n",
    "当样本量不大时，可以使用t检验，在使用 t 检验时，需要满足以下假设：\n",
    "- 独立性：两个样本是相互独立的。\n",
    "- 正态性：两个样本的分布接近正态分布。如果样本量较大（如 n > 30），根据中心极限定理，可以放宽正态性假设。"
   ]
  },
  {
   "cell_type": "code",
   "execution_count": null,
   "metadata": {},
   "outputs": [],
   "source": [
    "from scipy import stats\n",
    "\n",
    "# 从CSV文件中读取网页会话时间顺序\n",
    "session_times = pd.read_csv(WEB_PAGE_DATA_CSV)\n",
    "\n",
    "# 乘以100将时间单位转换为毫秒\n",
    "session_times.Time = 100 * session_times.Time\n",
    "\n",
    "# 打印数据\n",
    "session_times"
   ]
  },
  {
   "cell_type": "code",
   "execution_count": null,
   "metadata": {},
   "outputs": [],
   "source": [
    "# 提取网页 A 和网页 B 的会话时间\n",
    "time_a = session_times[session_times.Page == 'Page A'].Time\n",
    "time_b = session_times[session_times.Page == 'Page B'].Time\n",
    "\n",
    "# 计算网页A和网页B会话时间的均值以及均值差\n",
    "mean_a = time_a.mean()\n",
    "mean_b = time_b.mean()\n",
    "print(mean_b - mean_a)\n",
    "\n",
    "# 计算网页A和网页B会话时间的标准差的差值\n",
    "sd_a = time_a.std()\n",
    "sd_b = time_b.std()\n",
    "print(sd_b - sd_a)\n",
    "\n",
    "# 计算自由度\n",
    "df = len(time_a) + len(time_b) - 2\n",
    "print(\"自由度为：\", df)\n",
    "\n",
    "# 计算t值和p值\n",
    "tstat, pvalue = stats.ttest_ind(\n",
    "    session_times[session_times.Page == 'Page A'].Time,\n",
    "    session_times[session_times.Page == 'Page B'].Time,\n",
    "    equal_var=True)  # equal_var=True 表示两组数据的方差没有区别\n",
    "\n",
    "print(f'tstat: {tstat:.4f}')\n",
    "print(f'p-value: {pvalue:.4f}')\n",
    "\n",
    "# **结果的解释**\n",
    "# 因为p值为0.2690，大于显著性水平0.05，所以无法拒绝零假设，\n",
    "# 说明数据不足以证明网页A和网页B的会话时间均值有显著差异。"
   ]
  },
  {
   "cell_type": "markdown",
   "metadata": {},
   "source": [
    "## 习题5"
   ]
  },
  {
   "cell_type": "markdown",
   "metadata": {},
   "source": [
    "在下面的函数中，我们将要分析一项研究的数据`NAP_NO_NAP_CSV`，该研究考察了有小憩和无小憩习惯的幼儿在多个睡眠变量上的差异，假设检验，有小憩习惯（nap）的幼儿与无小憩习惯（no nap）的幼儿在24小时睡眠时长（列名为：\"24 h sleep duration\"，以分钟计）上存在差异。\n",
    "\n",
    "$$H_0: \\mu_{nap}=\\mu_{no\\ nap}, \\ H_a:\\mu_{nap}\\neq\\mu_{no\\ nap}$$\n",
    "\n",
    "或者等价于:\n",
    "\n",
    "$$H_0: \\mu_{nap}-\\mu_{no\\ nap}=0, \\ H_a:\\mu_{nap}-\\mu_{no\\ nap} \\neq 0$$\n",
    "\n",
    "使用下面的条件可以过滤获取到有小憩习惯（nap）的幼儿与无小憩习惯（no nap）的幼儿数据：\n",
    "\n",
    "- 有小憩习惯（no nap）的幼儿数据: `df['napping'] == 1`\n",
    "- 无小憩习惯（no nap）的幼儿数据: `df['napping'] == 0`\n",
    "\n",
    "在函数中使用t检验方法来检验是否要拒绝零假设，最后的函数要求返回下列数据：\n",
    "\n",
    "- 有小憩习惯（nap）的幼儿与无小憩习惯（no nap）的幼儿在24小时睡眠时长均值的差\n",
    "- 有小憩习惯（nap）的幼儿与无小憩习惯（no nap）的幼儿24小时睡眠时长均值的标准差的差值\n",
    "- t检验自由度\n",
    "- t_stat\n",
    "- p值\n",
    "- 布尔变量（`True`表示有显著差异，拒绝零假设；`False`表示没有显著差异，不拒绝零假设）"
   ]
  },
  {
   "cell_type": "code",
   "execution_count": null,
   "metadata": {},
   "outputs": [],
   "source": [
    "# UNQ_C5 (UNIQUE CELL IDENTIFIER, DO NOT EDIT)\n",
    "# GRADED FUNCTION: analyze_nap_sleep_duration\n",
    "\n",
    "def analyze_nap_sleep_duration(NAP_NO_NAP_CSV, alpha=0.05):\n",
    "    \"\"\"\n",
    "    分析有小憩/无小憩幼儿的24小时睡眠时长差异\n",
    "\n",
    "    参数:\n",
    "    data_path: 数据文件路径\n",
    "    alpha: 显著性水平, 默认0.05\n",
    "\n",
    "    返回:\n",
    "    tuple: (均值差, 标准差的差, 自由度, t统计量, p值, 是否显著)\n",
    "    \"\"\"\n",
    "    ## 大约11行代码\n",
    "    ## 你编写的代码从这里开始\n",
    "    # 读取数据\n",
    "    df = ...\n",
    "\n",
    "    # 过滤数据，过滤条件：\n",
    "    # - 有小憩习惯（no nap）的幼儿数据: `df['napping'] == 1`\n",
    "    # - 无小憩习惯（no nap）的幼儿数据: `df['napping'] == 0`\n",
    "    nap_sleep = ...\n",
    "    no_nap_sleep = ...\n",
    "\n",
    "    # 获取24小时睡眠时长数据, 列名为：'24 h sleep duration'\n",
    "    nap_sleep_24h = ...\n",
    "    no_nap_sleep_24h = ...\n",
    "\n",
    "    # 计算均值差\n",
    "    mean_diff = ...\n",
    "\n",
    "    # 计算标准差的差值\n",
    "    sd_diff = ...\n",
    "\n",
    "    # 使用函数stats.ttest_ind执行独立样本t检验，equal_var参数为True\n",
    "    t_stat, p_value = ...\n",
    "\n",
    "    # 计算自由度\n",
    "    n1, n2 = ...\n",
    "    df_tt = ...\n",
    "\n",
    "    # 判断是否显著\n",
    "    is_significant = ...\n",
    "\n",
    "    ## 你编写的代码到这里结束\n",
    "\n",
    "    return (mean_diff, sd_diff, df_tt, t_stat, p_value, is_significant)"
   ]
  },
  {
   "cell_type": "code",
   "execution_count": null,
   "metadata": {},
   "outputs": [],
   "source": [
    "analyze_nap_sleep_duration(NAP_NO_NAP_CSV)\n",
    "# 期望返回的数据应该为\n",
    "# (33.82533333333333,\n",
    "#  -16.00487687572963,\n",
    "#  18,\n",
    "#  1.4811248223284985,\n",
    "#  0.1558664953018476,\n",
    "#  False)"
   ]
  },
  {
   "cell_type": "code",
   "execution_count": null,
   "metadata": {},
   "outputs": [],
   "source": [
    "# 测试习题5\n",
    "testsuite5.test_analyze_nap_sleep_duration(analyze_nap_sleep_duration)"
   ]
  },
  {
   "cell_type": "markdown",
   "metadata": {},
   "source": [
    "## 分类检测结果评估"
   ]
  },
  {
   "cell_type": "markdown",
   "metadata": {},
   "source": [
    "### 准确率（Accuracy）"
   ]
  },
  {
   "cell_type": "markdown",
   "metadata": {},
   "source": [
    "对于分类检测的统计结果进行评估，例如：\n",
    "- 使用核酸检测是否有病毒感染，\n",
    "- 医学上使用各种手段检测新生婴儿是否有遗传疾病。\n",
    "- 使用AI模型检测垃圾邮件。\n",
    "\n",
    "最简单的评估方法就是使用准确率（Accuracy），例如：使用核酸检测的共有1000个样本，其中正确的检测结果有950个（包括阳性和阴性），错误的结果有50个（包括阳性和阴性）。那么准确率就是950/1000=0.95。\n",
    "\n",
    "但是使用准确率作为评估方法有时会存在问题，假设病毒在人群中的比例非常低：0.1%，这时使用一种无效的检测剂，检测结果全部都是阴性，那么这种无效的检测剂的准确率可以达到99.9%，但是这种无效的检测剂不能检测出任何病毒。"
   ]
  },
  {
   "cell_type": "markdown",
   "metadata": {},
   "source": [
    "### 混淆矩阵（Confusion Matrix）"
   ]
  },
  {
   "cell_type": "markdown",
   "metadata": {},
   "source": [
    "这时我们需要使用其他的方法和工具来分析和评估分类检测的结果，首先要使用的一个工具是混淆矩阵（Confusion Matrix）。\n",
    "\n",
    "我们来看一个案例：使用模型检测垃圾邮件，最后的检测结果如下：\n",
    "\n",
    "- 真正的垃圾邮件正确地被模型检测为垃圾邮件：828份，记为TP（True Positive），真阳性\n",
    "- 真正的垃圾邮件错误地被模型检测为非垃圾邮件：52份，记为FN（False Negative），假阴性\n",
    "- 非垃圾邮件正确地被模型检测为非垃圾邮件：1027份，记为TN（True Negative），真阴性\n",
    "- 非垃圾邮件错误地被模型检测为垃圾邮件：33份，记为FP（False Positive），假阳性\n",
    "\n",
    "根据上面的数据，我们可以绘制出下面的混淆矩阵：\n",
    "\n",
    "| 实际类别\\预测类别 | 预测为垃圾邮件 | 预测为非垃圾邮件 |\n",
    "|------------------|----------------|------------------|\n",
    "| 实际为垃圾邮件   | TP = 828       | FN = 52          |\n",
    "| 实际为非垃圾邮件 | FP = 33        | TN = 1027        |"
   ]
  },
  {
   "cell_type": "code",
   "execution_count": null,
   "metadata": {},
   "outputs": [],
   "source": [
    "import numpy as np\n",
    "import matplotlib.pyplot as plt\n",
    "import seaborn as sns\n",
    "\n",
    "# 数据与标签合并定义\n",
    "cm = np.array([[828, 52], [33, 1027]])\n",
    "labels = [['TP=828', 'FN=52'], ['FP=33', 'TN=1027']]\n",
    "\n",
    "# 一行代码完成绘图核心配置\n",
    "sns.heatmap(cm, annot=labels, fmt='', cmap='Blues',\n",
    "            xticklabels=['Spam', 'Not Spam'],\n",
    "            yticklabels=['Spam', 'Not Spam']).set(\n",
    "                xlabel='Predicted', ylabel='Actual', title='Confusion Matrix'\n",
    "            )\n",
    "\n",
    "plt.tight_layout()\n",
    "plt.show()"
   ]
  },
  {
   "cell_type": "markdown",
   "metadata": {},
   "source": [
    "### 召回率（Recall）和精准率（Precision）"
   ]
  },
  {
   "cell_type": "markdown",
   "metadata": {},
   "source": [
    "召回率（Recall）也被称为灵敏度”（Sensitivity），它的计算公式是：\n",
    "\n",
    "$$\n",
    "Recall = \\frac{TP}{TP + FN}\n",
    "$$\n",
    "\n",
    "追求高召回率意味着检测方法对阳性更敏感，倾向于不要错过任何阳性的样本（降低假阴性），哪怕可能会有较多的假阳性。你可以把这样的模型想象成重机枪，不放过任何可能造成威胁的阳性样本，即使有可能误伤到无辜（阴性）。\n",
    "\n",
    "当漏检（False Negative）的代价远高于误检（False Positive） 时，召回率是首要关注的指标。例如对高危人群的恶性疾病的检测的时候更应该使用召回率（Recall）作为评估指标。"
   ]
  },
  {
   "cell_type": "markdown",
   "metadata": {},
   "source": [
    "精准率（Precision）的计算公式为：\n",
    "\n",
    "$$\n",
    "Precision = \\frac{TP}{TP + FP}\n",
    "$$\n",
    "\n",
    "追求高的精准率意味着检测方法对阳性更严格，倾向于减少假阳性。你可以把这样的模型想象成狙击手，只有当非常确定目标是阳性时才开火，即使有可能错过一些真正的阳性样本（假阴性）。\n",
    "\n",
    "例如在用户在进行网络搜索的时候，精准率是搜索引擎首要关注的指标，因为搜索结果需要精准地呈现用户感兴趣的页面（阳性），如果搜索结果中出现很多用户不感兴趣的内容（假阳性），会非常影响用户体验。"
   ]
  },
  {
   "cell_type": "markdown",
   "metadata": {},
   "source": [
    "根据下面混淆矩阵给出的数据计算召回率和精准率：\n",
    "\n",
    "| 实际类别\\预测类别 | 预测为垃圾邮件 | 预测为非垃圾邮件 |\n",
    "|------------------|----------------|------------------|\n",
    "| 实际为垃圾邮件   | TP = 828       | FN = 52          |\n",
    "| 实际为非垃圾邮件 | FP = 33        | TN = 1027        |"
   ]
  },
  {
   "cell_type": "code",
   "execution_count": null,
   "metadata": {},
   "outputs": [],
   "source": [
    "recall = 828 / (828 + 52)\n",
    "precision = 828 / (828 + 33)\n",
    "print(f\"召回率 (Recall): {recall:.4f}\")\n",
    "print(f\"精确率 (Precision): {precision:.4f}\")"
   ]
  },
  {
   "cell_type": "markdown",
   "metadata": {},
   "source": [
    "### F1分数（F1 Score）"
   ]
  },
  {
   "cell_type": "markdown",
   "metadata": {},
   "source": [
    "在某些情况下，检测方法即需要减少误报（假阳性），又要减少漏检（假阴性）。 例如地震预报的系统，如果一个地震发生，但是系统没有及时发出警报，漏报会导致重大的人员损失。如果一个地震没有发生，但是被系统误报，则会造成恐慌。\n",
    "\n",
    "这时我们可以使用F1分数（F1 Score）来综合考虑召回率和精准率。F1分数是召回率和精准率的调和平均数，计算公式为：\n",
    "$$\n",
    "F1 = 2 \\cdot \\frac{Precision \\cdot Recall}{Precision + Recall}\n",
    "    = \\frac{2 \\cdot TP}{2 \\cdot TP + FP + FN}\n",
    "$$\n",
    "\n",
    "利用上面案例的数据来计算F1分数："
   ]
  },
  {
   "cell_type": "code",
   "execution_count": null,
   "metadata": {},
   "outputs": [],
   "source": [
    "f1_score = 2 * (precision * recall) / (precision + recall)\n",
    "print(f\"F1 Score: {f1_score:.4f}\")"
   ]
  },
  {
   "cell_type": "markdown",
   "metadata": {},
   "source": [
    "## 习题6"
   ]
  },
  {
   "cell_type": "markdown",
   "metadata": {},
   "source": [
    "完成分类检测结果评估的函数，函数接收一个参数混淆矩阵，要求计算准确率，召回，精准率和F1分数。"
   ]
  },
  {
   "cell_type": "code",
   "execution_count": null,
   "metadata": {},
   "outputs": [],
   "source": [
    "# UNQ_C9 (UNIQUE CELL IDENTIFIER, DO NOT EDIT)\n",
    "# GRADED FUNCTION: compute_metrics\n",
    "\n",
    "def compute_metrics(cm):\n",
    "    \"\"\"\n",
    "    根据混淆矩阵计算分类指标\n",
    "\n",
    "    参数：\n",
    "    cm -- 混淆矩阵, 2x2的numpy数组\n",
    "          格式为: [[TN, FP],\n",
    "                  [FN, TP]]\n",
    "          其中 TN=真阴性, FP=假阳性, FN=假阴性, TP=真阳性\n",
    "\n",
    "    返回值：\n",
    "    metrics -- 包含各种指标的字典:\n",
    "               - accuracy: 准确率\n",
    "               - recall: 召回率（敏感性）\n",
    "               - precision: 精确率\n",
    "               - f1_score: F1分数\n",
    "    \"\"\"\n",
    "\n",
    "\n",
    "    # 你的代码从这里开始\n",
    "    # 从混淆矩阵中提取各个值\n",
    "    # (≈ 4行代码)\n",
    "    TN = ...  # 真阴性\n",
    "    FP = ...  # 假阳性\n",
    "    FN = ...  # 假阴性\n",
    "    TP = ...  # 真阳性\n",
    "    # 你的代码到这里结束\n",
    "\n",
    "\n",
    "    # 你的代码从这里开始\n",
    "    # 计算各种指标\n",
    "    # (≈ 4行代码)\n",
    "    accuracy = ...\n",
    "    recall = ...\n",
    "    precision = ...\n",
    "    f1_score = ...\n",
    "    # 你的代码到这里结束\n",
    "\n",
    "    metrics = {\n",
    "        \"accuracy\": accuracy,\n",
    "        \"recall\": recall,\n",
    "        \"precision\": precision,\n",
    "        \"f1_score\": f1_score\n",
    "    }\n",
    "\n",
    "    return metrics"
   ]
  },
  {
   "cell_type": "code",
   "execution_count": null,
   "metadata": {},
   "outputs": [],
   "source": [
    "# 测试习题6\n",
    "testsuite5.test_compute_metrics(compute_metrics)"
   ]
  },
  {
   "cell_type": "markdown",
   "metadata": {},
   "source": [
    "## 实验讨论"
   ]
  },
  {
   "cell_type": "markdown",
   "metadata": {},
   "source": [
    "请就下面的问题进行小组讨论，将讨论的内容记录下来。"
   ]
  },
  {
   "cell_type": "markdown",
   "metadata": {},
   "source": [
    "问题一： 请在现实生活中找一个使用置信区间来评估的例子。你的例子使用的是总体比例还是均值，应该怎样去计算95%置信区间？其中95%到底意味着什么？"
   ]
  },
  {
   "cell_type": "markdown",
   "metadata": {},
   "source": [
    "问题二： 请在现实生活中找一个可以使用假设检验和推理的例子。论述一下你的例子中零假设是什么，备择假设应该是什么，应该怎样去检验你的假设？应该如何解释你的假设结果？"
   ]
  },
  {
   "cell_type": "markdown",
   "metadata": {},
   "source": [
    "问题三：阅读文章[P-Hacking in Startups](./P-Hacking%20in%20Startups.pdf),讨论p值到底意味着什么？你学习到了哪些方法来避免p-hacking：为了找“看起来有效的结果”，在统计上不规范地设计、读取或讲述实验，最终把随机波动当成有效的结果？"
   ]
  },
  {
   "cell_type": "markdown",
   "metadata": {},
   "source": [
    "## 生成实验报告"
   ]
  },
  {
   "cell_type": "markdown",
   "metadata": {},
   "source": [
    "将实验报告pdf文件提交到对应的班级和实验的腾讯文档收集表:[文档汇总地址](https://docs.qq.com/doc/DWUxJanVwYXFpZmF2)"
   ]
  },
  {
   "cell_type": "code",
   "execution_count": null,
   "metadata": {},
   "outputs": [],
   "source": [
    "stu_grade = testsuite5.grade_all_tests(notebook_file)\n",
    "pdf_file = f\"{stu_info['class_id']}-{stu_info['student_id']}-{stu_info['name']}-实验报告5-{stu_grade}.pdf\"\n",
    "convert_notebook_to_webpdf(notebook_file, pdf_file)"
   ]
  }
 ],
 "metadata": {
  "kernelspec": {
   "display_name": "Python 3",
   "language": "python",
   "name": "python3"
  },
  "language_info": {
   "codemirror_mode": {
    "name": "ipython",
    "version": 3
   },
   "file_extension": ".py",
   "mimetype": "text/x-python",
   "name": "python",
   "nbconvert_exporter": "python",
   "pygments_lexer": "ipython3",
   "version": "3.13.4"
  }
 },
 "nbformat": 4,
 "nbformat_minor": 2
}
